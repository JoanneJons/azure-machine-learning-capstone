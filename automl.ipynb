{
  "cells": [
    {
      "cell_type": "markdown",
      "source": [
        "# Automated ML\n",
        "\n",
        "TODO: Import Dependencies. In the cell below, import all the dependencies that you will need to complete the project."
      ],
      "metadata": {}
    },
    {
      "cell_type": "code",
      "source": [
        "from azureml.core import Workspace, Experiment\n",
        "from azureml.widgets import RunDetails\n",
        "from azureml.train.sklearn import SKLearn\n",
        "from azureml.data.dataset_factory import TabularDatasetFactory\n",
        "from train import split_data\n",
        "from sklearn.model_selection import train_test_split\n",
        "from azureml.core import ScriptRunConfig \n",
        "import os"
      ],
      "outputs": [],
      "execution_count": 2,
      "metadata": {
        "gather": {
          "logged": 1611646481794
        },
        "jupyter": {
          "outputs_hidden": false,
          "source_hidden": false
        },
        "nteract": {
          "transient": {
            "deleting": false
          }
        }
      }
    },
    {
      "cell_type": "markdown",
      "source": [
        "## Dataset\n",
        "\n",
        "### Overview\n",
        "TODO: In this markdown cell, give an overview of the dataset you are using. Also mention the task you will be performing.\n",
        "\n",
        "\n",
        "TODO: Get data. In the cell below, write code to access the data you will be using in this project. Remember that the dataset needs to be external."
      ],
      "metadata": {}
    },
    {
      "cell_type": "code",
      "source": [
        "ws = Workspace.from_config()\n",
        "\n",
        "# choose a name for experiment\n",
        "experiment_name = 'capstone-project-automl'\n",
        "\n",
        "experiment=Experiment(ws, experiment_name)\n",
        "\n",
        "print('Workspace name: ' + ws.name, \n",
        "      'Azure region: ' + ws.location, \n",
        "      'Subscription id: ' + ws.subscription_id, \n",
        "      'Resource group: ' + ws.resource_group, sep = '\\n')\n",
        "\n",
        "web_path = \"https://raw.githubusercontent.com/JoanneJons/azure-machine-learning-capstone/main/breast-cancer-dataset.csv?token=AJ5V2OGXYLJ22BGYXN4EUODAC6P4K\"\n",
        "dataset = TabularDatasetFactory.from_delimited_files(path=web_path)"
      ],
      "outputs": [
        {
          "output_type": "stream",
          "name": "stdout",
          "text": [
            "Performing interactive authentication. Please follow the instructions on the terminal.\n",
            "To sign in, use a web browser to open the page https://microsoft.com/devicelogin and enter the code RTAEEBNB3 to authenticate.\n",
            "You have logged in. Now let us find all the subscriptions to which you have access...\n",
            "Interactive authentication successfully completed.\n",
            "Workspace name: quick-starts-ws-136084\n",
            "Azure region: southcentralus\n",
            "Subscription id: 9b72f9e6-56c5-4c16-991b-19c652994860\n",
            "Resource group: aml-quickstarts-136084\n"
          ]
        }
      ],
      "execution_count": 3,
      "metadata": {
        "gather": {
          "logged": 1611646516117
        },
        "jupyter": {
          "outputs_hidden": false,
          "source_hidden": false
        },
        "nteract": {
          "transient": {
            "deleting": false
          }
        }
      }
    },
    {
      "cell_type": "code",
      "source": [
        "from azureml.core.compute import ComputeTarget, AmlCompute\n",
        "from azureml.core.compute_target import ComputeTargetException\n",
        "\n",
        "cpu_cluster_name = \"cpucluster\"\n",
        "try:\n",
        "    cpu_cluster = ComputeTarget(workspace=ws, name=cpu_cluster_name)\n",
        "except ComputeTargetException:\n",
        "    compute_config = AmlCompute.provisioning_configuration(vm_size='STANDARD_D2_V2', max_nodes=4)\n",
        "    cpu_cluster = ComputeTarget.create(ws, cpu_cluster_name, compute_config)\n",
        "cpu_cluster.wait_for_completion(show_output=True)"
      ],
      "outputs": [
        {
          "output_type": "stream",
          "name": "stdout",
          "text": [
            "Succeeded\n",
            "AmlCompute wait for completion finished\n",
            "\n",
            "Minimum number of nodes requested have been provisioned\n"
          ]
        }
      ],
      "execution_count": 4,
      "metadata": {
        "collapsed": true,
        "jupyter": {
          "source_hidden": false,
          "outputs_hidden": false
        },
        "nteract": {
          "transient": {
            "deleting": false
          }
        },
        "gather": {
          "logged": 1611646524193
        }
      }
    },
    {
      "cell_type": "code",
      "source": [
        "import pandas as pd\n",
        "x, y = split_data(dataset)\n",
        "\n",
        "X_train, X_test, y_train, y_test = train_test_split(x, y, test_size=0.1, random_state=42)\n",
        "\n",
        "try:\n",
        "    os.makedirs('./data', exist_ok=True)\n",
        "except OSError as error:\n",
        "    print('New directory cannot be created')\n",
        "\n",
        "train_df = X_train\n",
        "train_df['diagnosis'] = y_train\n",
        "\n",
        "train_path = 'data/train-data.csv'\n",
        "train_df.to_csv(train_path)\n",
        "\n",
        "test_df = X_test\n",
        "test_df['diagnosis'] = y_test\n",
        "\n",
        "test_path = 'data/test-data.csv'\n",
        "test_df.to_csv(test_path)\n",
        "\n",
        "datastore = ws.get_default_datastore()\n",
        "datastore.upload(src_dir='data', target_path='data')"
      ],
      "outputs": [
        {
          "output_type": "stream",
          "name": "stderr",
          "text": [
            "/anaconda/envs/azureml_py36/lib/python3.6/site-packages/ipykernel_launcher.py:12: SettingWithCopyWarning: \n",
            "A value is trying to be set on a copy of a slice from a DataFrame.\n",
            "Try using .loc[row_indexer,col_indexer] = value instead\n",
            "\n",
            "See the caveats in the documentation: http://pandas.pydata.org/pandas-docs/stable/user_guide/indexing.html#returning-a-view-versus-a-copy\n",
            "  if sys.path[0] == '':\n",
            "/anaconda/envs/azureml_py36/lib/python3.6/site-packages/ipykernel_launcher.py:18: SettingWithCopyWarning: \n",
            "A value is trying to be set on a copy of a slice from a DataFrame.\n",
            "Try using .loc[row_indexer,col_indexer] = value instead\n",
            "\n",
            "See the caveats in the documentation: http://pandas.pydata.org/pandas-docs/stable/user_guide/indexing.html#returning-a-view-versus-a-copy\n"
          ]
        },
        {
          "output_type": "stream",
          "name": "stdout",
          "text": [
            "Uploading an estimated of 2 files\n",
            "Uploading data/test-data.csv\n",
            "Uploaded data/test-data.csv, 1 files out of an estimated total of 2\n",
            "Uploading data/train-data.csv\n",
            "Uploaded data/train-data.csv, 2 files out of an estimated total of 2\n",
            "Uploaded 2 files\n"
          ]
        },
        {
          "output_type": "execute_result",
          "execution_count": 7,
          "data": {
            "text/plain": "$AZUREML_DATAREFERENCE_29f4bddbc56b42ea86d0054a08febd25"
          },
          "metadata": {}
        }
      ],
      "execution_count": 7,
      "metadata": {
        "collapsed": true,
        "jupyter": {
          "source_hidden": false,
          "outputs_hidden": false
        },
        "nteract": {
          "transient": {
            "deleting": false
          }
        },
        "gather": {
          "logged": 1611646556938
        }
      }
    },
    {
      "cell_type": "code",
      "source": [
        "train_data = TabularDatasetFactory.from_delimited_files(path=[(datastore, ('data/train-data.csv'))])\n",
        "test_data = TabularDatasetFactory.from_delimited_files(path=[(datastore, ('data/test-data.csv'))])"
      ],
      "outputs": [],
      "execution_count": 8,
      "metadata": {
        "collapsed": true,
        "jupyter": {
          "source_hidden": false,
          "outputs_hidden": false
        },
        "nteract": {
          "transient": {
            "deleting": false
          }
        },
        "gather": {
          "logged": 1611646572156
        }
      }
    },
    {
      "cell_type": "code",
      "source": [
        "train_data"
      ],
      "outputs": [
        {
          "output_type": "execute_result",
          "execution_count": 10,
          "data": {
            "text/plain": "{\n  \"source\": [\n    \"('workspaceblobstore', 'data/train-data.csv')\"\n  ],\n  \"definition\": [\n    \"GetDatastoreFiles\",\n    \"ParseDelimited\",\n    \"DropColumns\",\n    \"SetColumnTypes\"\n  ]\n}"
          },
          "metadata": {}
        }
      ],
      "execution_count": 10,
      "metadata": {
        "collapsed": true,
        "jupyter": {
          "source_hidden": false,
          "outputs_hidden": false
        },
        "nteract": {
          "transient": {
            "deleting": false
          }
        },
        "gather": {
          "logged": 1611646603072
        }
      }
    },
    {
      "cell_type": "markdown",
      "source": [
        "## AutoML Configuration\n",
        "\n",
        "TODO: Explain why you chose the automl settings and cofiguration you used below."
      ],
      "metadata": {}
    },
    {
      "cell_type": "code",
      "source": [
        "from azureml.train.automl import AutoMLConfig\n",
        "\n",
        "# TODO: Put your automl settings here\n",
        "# automl_settings = {}\n",
        "\n",
        "# TODO: Put your automl config here\n",
        "automl_config = AutoMLConfig(\n",
        "    experiment_timeout_minutes=30,\n",
        "    task='classification',\n",
        "    primary_metric='accuracy',\n",
        "    training_data=train_data,\n",
        "    label_column_name='diagnosis',\n",
        "    n_cross_validations=5,\n",
        "    compute_target=cpu_cluster\n",
        ")"
      ],
      "outputs": [],
      "execution_count": 11,
      "metadata": {
        "gather": {
          "logged": 1611646654119
        },
        "jupyter": {
          "outputs_hidden": false,
          "source_hidden": false
        },
        "nteract": {
          "transient": {
            "deleting": false
          }
        }
      }
    },
    {
      "cell_type": "code",
      "source": [
        "# TODO: Submit your experiment\n",
        "remote_run = experiment.submit(automl_config, show_output=True)\n",
        "RunDetails(remote_run).show()\n",
        "remote_run.wait_for_completion(show_output=True)"
      ],
      "outputs": [
        {
          "output_type": "stream",
          "name": "stdout",
          "text": [
            "Running on remote.\n",
            "No run_configuration provided, running on cpucluster with default configuration\n",
            "Running on remote compute: cpucluster\n",
            "Parent Run ID: AutoML_7ce25c35-2267-43dc-b6c4-ffa20042674a\n",
            "\n",
            "Current status: FeaturesGeneration. Generating features for the dataset.\n",
            "Current status: ModelSelection. Beginning model selection.\n",
            "\n",
            "****************************************************************************************************\n",
            "DATA GUARDRAILS: \n",
            "\n",
            "TYPE:         Class balancing detection\n",
            "STATUS:       PASSED\n",
            "DESCRIPTION:  Your inputs were analyzed, and all classes are balanced in your training data.\n",
            "              Learn more about imbalanced data: https://aka.ms/AutomatedMLImbalancedData\n",
            "\n",
            "****************************************************************************************************\n",
            "\n",
            "TYPE:         Missing feature values imputation\n",
            "STATUS:       PASSED\n",
            "DESCRIPTION:  No feature missing values were detected in the training data.\n",
            "              Learn more about missing value imputation: https://aka.ms/AutomatedMLFeaturization\n",
            "\n",
            "****************************************************************************************************\n",
            "\n",
            "TYPE:         High cardinality feature detection\n",
            "STATUS:       PASSED\n",
            "DESCRIPTION:  Your inputs were analyzed, and no high cardinality features were detected.\n",
            "              Learn more about high cardinality feature handling: https://aka.ms/AutomatedMLFeaturization\n",
            "\n",
            "****************************************************************************************************\n",
            "\n",
            "****************************************************************************************************\n",
            "ITERATION: The iteration being evaluated.\n",
            "PIPELINE: A summary description of the pipeline being evaluated.\n",
            "DURATION: Time taken for the current iteration.\n",
            "METRIC: The result of computing score on the fitted pipeline.\n",
            "BEST: The best observed score thus far.\n",
            "****************************************************************************************************\n",
            "\n",
            " ITERATION   PIPELINE                                       DURATION      METRIC      BEST\n",
            "         0   MaxAbsScaler LightGBM                          0:00:49       0.9609    0.9609\n",
            "         1   MaxAbsScaler XGBoostClassifier                 0:00:48       0.9570    0.9609\n",
            "         2   MinMaxScaler RandomForest                      0:00:47       0.9394    0.9609\n",
            "         3   MinMaxScaler RandomForest                      0:00:45       0.9414    0.9609\n",
            "         4   MinMaxScaler RandomForest                      0:00:43       0.9511    0.9609\n",
            "         5   MinMaxScaler SVM                               0:00:46       0.9629    0.9629\n",
            "         6   MaxAbsScaler GradientBoosting                  0:00:55       0.9531    0.9629\n",
            "         7   StandardScalerWrapper RandomForest             0:00:50       0.9433    0.9629\n",
            "         8   SparseNormalizer LightGBM                      0:01:16       0.9493    0.9629\n",
            "         9   SparseNormalizer XGBoostClassifier             0:00:45       0.9434    0.9629\n",
            "        10   RobustScaler RandomForest                      0:00:45       0.9277    0.9629\n",
            "        11   MaxAbsScaler LightGBM                          0:00:52       0.9453    0.9629\n",
            "        12   SparseNormalizer XGBoostClassifier             0:00:39       0.9356    0.9629\n",
            "        13   RobustScaler ExtremeRandomTrees                0:00:55       0.9395    0.9629\n",
            "        14   StandardScalerWrapper GradientBoosting         0:05:18       0.9668    0.9668\n",
            "        15   StandardScalerWrapper XGBoostClassifier        0:00:52       0.9434    0.9668\n",
            "        16   StandardScalerWrapper ExtremeRandomTrees       0:00:49       0.9375    0.9668\n",
            "        17   StandardScalerWrapper ExtremeRandomTrees       0:00:50       0.9492    0.9668\n",
            "        18   RobustScaler ExtremeRandomTrees                0:00:49       0.9473    0.9668\n",
            "        19   StandardScalerWrapper LogisticRegression       0:00:51       0.9727    0.9727\n",
            "        20   StandardScalerWrapper RandomForest             0:00:46       0.9336    0.9727\n",
            "        21   MaxAbsScaler LightGBM                          0:00:59       0.9570    0.9727\n",
            "        22   StandardScalerWrapper LightGBM                 0:00:46       0.9472    0.9727\n",
            "        23    VotingEnsemble                                0:01:11       0.9746    0.9746\n",
            "        24    StackEnsemble                                 0:01:14       0.9668    0.9746\n"
          ]
        },
        {
          "output_type": "display_data",
          "data": {
            "text/plain": "_AutoMLWidget(widget_settings={'childWidgetDisplay': 'popup', 'send_telemetry': False, 'log_level': 'INFO', 's…",
            "application/vnd.jupyter.widget-view+json": {
              "version_major": 2,
              "version_minor": 0,
              "model_id": "b23efae040174ae092593028dd8e324a"
            }
          },
          "metadata": {}
        },
        {
          "output_type": "display_data",
          "data": {
            "application/aml.mini.widget.v1": "{\"status\": \"Completed\", \"workbench_run_details_uri\": \"https://ml.azure.com/experiments/capstone-project-automl/runs/AutoML_7ce25c35-2267-43dc-b6c4-ffa20042674a?wsid=/subscriptions/9b72f9e6-56c5-4c16-991b-19c652994860/resourcegroups/aml-quickstarts-136084/workspaces/quick-starts-ws-136084\", \"run_id\": \"AutoML_7ce25c35-2267-43dc-b6c4-ffa20042674a\", \"run_properties\": {\"run_id\": \"AutoML_7ce25c35-2267-43dc-b6c4-ffa20042674a\", \"created_utc\": \"2021-01-26T07:37:45.484273Z\", \"properties\": {\"num_iterations\": \"1000\", \"training_type\": \"TrainFull\", \"acquisition_function\": \"EI\", \"primary_metric\": \"accuracy\", \"train_split\": \"0\", \"acquisition_parameter\": \"0\", \"num_cross_validation\": \"5\", \"target\": \"cpucluster\", \"AMLSettingsJsonString\": \"{\\\"path\\\":null,\\\"name\\\":\\\"capstone-project-automl\\\",\\\"subscription_id\\\":\\\"9b72f9e6-56c5-4c16-991b-19c652994860\\\",\\\"resource_group\\\":\\\"aml-quickstarts-136084\\\",\\\"workspace_name\\\":\\\"quick-starts-ws-136084\\\",\\\"region\\\":\\\"southcentralus\\\",\\\"compute_target\\\":\\\"cpucluster\\\",\\\"spark_service\\\":null,\\\"azure_service\\\":\\\"remote\\\",\\\"many_models\\\":false,\\\"pipeline_fetch_max_batch_size\\\":1,\\\"iterations\\\":1000,\\\"primary_metric\\\":\\\"accuracy\\\",\\\"task_type\\\":\\\"classification\\\",\\\"data_script\\\":null,\\\"validation_size\\\":0.0,\\\"n_cross_validations\\\":5,\\\"y_min\\\":null,\\\"y_max\\\":null,\\\"num_classes\\\":null,\\\"featurization\\\":\\\"auto\\\",\\\"_ignore_package_version_incompatibilities\\\":false,\\\"is_timeseries\\\":false,\\\"max_cores_per_iteration\\\":1,\\\"max_concurrent_iterations\\\":1,\\\"iteration_timeout_minutes\\\":null,\\\"mem_in_mb\\\":null,\\\"enforce_time_on_windows\\\":false,\\\"experiment_timeout_minutes\\\":30,\\\"experiment_exit_score\\\":null,\\\"whitelist_models\\\":null,\\\"blacklist_algos\\\":[\\\"TensorFlowLinearClassifier\\\",\\\"TensorFlowDNN\\\"],\\\"supported_models\\\":[\\\"RandomForest\\\",\\\"TensorFlowDNN\\\",\\\"AveragedPerceptronClassifier\\\",\\\"BernoulliNaiveBayes\\\",\\\"SGD\\\",\\\"DecisionTree\\\",\\\"MultinomialNaiveBayes\\\",\\\"KNN\\\",\\\"TensorFlowLinearClassifier\\\",\\\"XGBoostClassifier\\\",\\\"LinearSVM\\\",\\\"GradientBoosting\\\",\\\"ExtremeRandomTrees\\\",\\\"LightGBM\\\",\\\"SVM\\\",\\\"LogisticRegression\\\"],\\\"auto_blacklist\\\":true,\\\"blacklist_samples_reached\\\":false,\\\"exclude_nan_labels\\\":true,\\\"verbosity\\\":20,\\\"_debug_log\\\":\\\"azureml_automl.log\\\",\\\"show_warnings\\\":false,\\\"model_explainability\\\":true,\\\"service_url\\\":null,\\\"sdk_url\\\":null,\\\"sdk_packages\\\":null,\\\"enable_onnx_compatible_models\\\":false,\\\"enable_split_onnx_featurizer_estimator_models\\\":false,\\\"vm_type\\\":\\\"STANDARD_D2_V2\\\",\\\"telemetry_verbosity\\\":20,\\\"send_telemetry\\\":true,\\\"enable_dnn\\\":false,\\\"scenario\\\":\\\"SDK-1.13.0\\\",\\\"environment_label\\\":null,\\\"force_text_dnn\\\":false,\\\"enable_feature_sweeping\\\":true,\\\"enable_early_stopping\\\":false,\\\"early_stopping_n_iters\\\":10,\\\"metrics\\\":null,\\\"enable_ensembling\\\":true,\\\"enable_stack_ensembling\\\":true,\\\"ensemble_iterations\\\":15,\\\"enable_tf\\\":false,\\\"enable_subsampling\\\":null,\\\"subsample_seed\\\":null,\\\"enable_nimbusml\\\":false,\\\"enable_streaming\\\":false,\\\"force_streaming\\\":false,\\\"track_child_runs\\\":true,\\\"allowed_private_models\\\":[],\\\"label_column_name\\\":\\\"diagnosis\\\",\\\"weight_column_name\\\":null,\\\"cv_split_column_names\\\":null,\\\"enable_local_managed\\\":false,\\\"_local_managed_run_id\\\":null,\\\"cost_mode\\\":1,\\\"lag_length\\\":0,\\\"metric_operation\\\":\\\"maximize\\\",\\\"preprocess\\\":true}\", \"DataPrepJsonString\": \"{\\\\\\\"training_data\\\\\\\": \\\\\\\"{\\\\\\\\\\\\\\\"blocks\\\\\\\\\\\\\\\": [{\\\\\\\\\\\\\\\"id\\\\\\\\\\\\\\\": \\\\\\\\\\\\\\\"7b4b1e16-260e-4691-a2f1-88048a5d50dd\\\\\\\\\\\\\\\", \\\\\\\\\\\\\\\"type\\\\\\\\\\\\\\\": \\\\\\\\\\\\\\\"Microsoft.DPrep.GetDatastoreFilesBlock\\\\\\\\\\\\\\\", \\\\\\\\\\\\\\\"arguments\\\\\\\\\\\\\\\": {\\\\\\\\\\\\\\\"datastores\\\\\\\\\\\\\\\": [{\\\\\\\\\\\\\\\"datastoreName\\\\\\\\\\\\\\\": \\\\\\\\\\\\\\\"workspaceblobstore\\\\\\\\\\\\\\\", \\\\\\\\\\\\\\\"path\\\\\\\\\\\\\\\": \\\\\\\\\\\\\\\"data/train-data.csv\\\\\\\\\\\\\\\", \\\\\\\\\\\\\\\"resourceGroup\\\\\\\\\\\\\\\": \\\\\\\\\\\\\\\"aml-quickstarts-136084\\\\\\\\\\\\\\\", \\\\\\\\\\\\\\\"subscription\\\\\\\\\\\\\\\": \\\\\\\\\\\\\\\"9b72f9e6-56c5-4c16-991b-19c652994860\\\\\\\\\\\\\\\", \\\\\\\\\\\\\\\"workspaceName\\\\\\\\\\\\\\\": \\\\\\\\\\\\\\\"quick-starts-ws-136084\\\\\\\\\\\\\\\"}]}, \\\\\\\\\\\\\\\"localData\\\\\\\\\\\\\\\": {}, \\\\\\\\\\\\\\\"isEnabled\\\\\\\\\\\\\\\": true, \\\\\\\\\\\\\\\"name\\\\\\\\\\\\\\\": null, \\\\\\\\\\\\\\\"annotation\\\\\\\\\\\\\\\": null}, {\\\\\\\\\\\\\\\"id\\\\\\\\\\\\\\\": \\\\\\\\\\\\\\\"daddbab6-4771-4f97-a927-daf748908c6e\\\\\\\\\\\\\\\", \\\\\\\\\\\\\\\"type\\\\\\\\\\\\\\\": \\\\\\\\\\\\\\\"Microsoft.DPrep.ParseDelimitedBlock\\\\\\\\\\\\\\\", \\\\\\\\\\\\\\\"arguments\\\\\\\\\\\\\\\": {\\\\\\\\\\\\\\\"columnHeadersMode\\\\\\\\\\\\\\\": 3, \\\\\\\\\\\\\\\"fileEncoding\\\\\\\\\\\\\\\": 0, \\\\\\\\\\\\\\\"handleQuotedLineBreaks\\\\\\\\\\\\\\\": false, \\\\\\\\\\\\\\\"preview\\\\\\\\\\\\\\\": false, \\\\\\\\\\\\\\\"separator\\\\\\\\\\\\\\\": \\\\\\\\\\\\\\\",\\\\\\\\\\\\\\\", \\\\\\\\\\\\\\\"skipRows\\\\\\\\\\\\\\\": 0, \\\\\\\\\\\\\\\"skipRowsMode\\\\\\\\\\\\\\\": 0}, \\\\\\\\\\\\\\\"localData\\\\\\\\\\\\\\\": {}, \\\\\\\\\\\\\\\"isEnabled\\\\\\\\\\\\\\\": true, \\\\\\\\\\\\\\\"name\\\\\\\\\\\\\\\": null, \\\\\\\\\\\\\\\"annotation\\\\\\\\\\\\\\\": null}, {\\\\\\\\\\\\\\\"id\\\\\\\\\\\\\\\": \\\\\\\\\\\\\\\"4018b898-8bbc-4322-9d5a-f07040e3110a\\\\\\\\\\\\\\\", \\\\\\\\\\\\\\\"type\\\\\\\\\\\\\\\": \\\\\\\\\\\\\\\"Microsoft.DPrep.DropColumnsBlock\\\\\\\\\\\\\\\", \\\\\\\\\\\\\\\"arguments\\\\\\\\\\\\\\\": {\\\\\\\\\\\\\\\"columns\\\\\\\\\\\\\\\": {\\\\\\\\\\\\\\\"type\\\\\\\\\\\\\\\": 0, \\\\\\\\\\\\\\\"details\\\\\\\\\\\\\\\": {\\\\\\\\\\\\\\\"selectedColumns\\\\\\\\\\\\\\\": [\\\\\\\\\\\\\\\"Path\\\\\\\\\\\\\\\"]}}}, \\\\\\\\\\\\\\\"localData\\\\\\\\\\\\\\\": {}, \\\\\\\\\\\\\\\"isEnabled\\\\\\\\\\\\\\\": true, \\\\\\\\\\\\\\\"name\\\\\\\\\\\\\\\": null, \\\\\\\\\\\\\\\"annotation\\\\\\\\\\\\\\\": null}, {\\\\\\\\\\\\\\\"id\\\\\\\\\\\\\\\": \\\\\\\\\\\\\\\"1ed2cf06-1460-4843-a7fe-46a147c9763e\\\\\\\\\\\\\\\", \\\\\\\\\\\\\\\"type\\\\\\\\\\\\\\\": \\\\\\\\\\\\\\\"Microsoft.DPrep.SetColumnTypesBlock\\\\\\\\\\\\\\\", \\\\\\\\\\\\\\\"arguments\\\\\\\\\\\\\\\": {\\\\\\\\\\\\\\\"columnConversion\\\\\\\\\\\\\\\": [{\\\\\\\\\\\\\\\"column\\\\\\\\\\\\\\\": {\\\\\\\\\\\\\\\"type\\\\\\\\\\\\\\\": 2, \\\\\\\\\\\\\\\"details\\\\\\\\\\\\\\\": {\\\\\\\\\\\\\\\"selectedColumn\\\\\\\\\\\\\\\": \\\\\\\\\\\\\\\"Column1\\\\\\\\\\\\\\\"}}, \\\\\\\\\\\\\\\"typeProperty\\\\\\\\\\\\\\\": 2}, {\\\\\\\\\\\\\\\"column\\\\\\\\\\\\\\\": {\\\\\\\\\\\\\\\"type\\\\\\\\\\\\\\\": 2, \\\\\\\\\\\\\\\"details\\\\\\\\\\\\\\\": {\\\\\\\\\\\\\\\"selectedColumn\\\\\\\\\\\\\\\": \\\\\\\\\\\\\\\"Column1_1\\\\\\\\\\\\\\\"}}, \\\\\\\\\\\\\\\"typeProperty\\\\\\\\\\\\\\\": 2}, {\\\\\\\\\\\\\\\"column\\\\\\\\\\\\\\\": {\\\\\\\\\\\\\\\"type\\\\\\\\\\\\\\\": 2, \\\\\\\\\\\\\\\"details\\\\\\\\\\\\\\\": {\\\\\\\\\\\\\\\"selectedColumn\\\\\\\\\\\\\\\": \\\\\\\\\\\\\\\"radius_mean\\\\\\\\\\\\\\\"}}, \\\\\\\\\\\\\\\"typeProperty\\\\\\\\\\\\\\\": 3}, {\\\\\\\\\\\\\\\"column\\\\\\\\\\\\\\\": {\\\\\\\\\\\\\\\"type\\\\\\\\\\\\\\\": 2, \\\\\\\\\\\\\\\"details\\\\\\\\\\\\\\\": {\\\\\\\\\\\\\\\"selectedColumn\\\\\\\\\\\\\\\": \\\\\\\\\\\\\\\"texture_mean\\\\\\\\\\\\\\\"}}, \\\\\\\\\\\\\\\"typeProperty\\\\\\\\\\\\\\\": 3}, {\\\\\\\\\\\\\\\"column\\\\\\\\\\\\\\\": {\\\\\\\\\\\\\\\"type\\\\\\\\\\\\\\\": 2, \\\\\\\\\\\\\\\"details\\\\\\\\\\\\\\\": {\\\\\\\\\\\\\\\"selectedColumn\\\\\\\\\\\\\\\": \\\\\\\\\\\\\\\"perimeter_mean\\\\\\\\\\\\\\\"}}, \\\\\\\\\\\\\\\"typeProperty\\\\\\\\\\\\\\\": 3}, {\\\\\\\\\\\\\\\"column\\\\\\\\\\\\\\\": {\\\\\\\\\\\\\\\"type\\\\\\\\\\\\\\\": 2, \\\\\\\\\\\\\\\"details\\\\\\\\\\\\\\\": {\\\\\\\\\\\\\\\"selectedColumn\\\\\\\\\\\\\\\": \\\\\\\\\\\\\\\"area_mean\\\\\\\\\\\\\\\"}}, \\\\\\\\\\\\\\\"typeProperty\\\\\\\\\\\\\\\": 3}, {\\\\\\\\\\\\\\\"column\\\\\\\\\\\\\\\": {\\\\\\\\\\\\\\\"type\\\\\\\\\\\\\\\": 2, \\\\\\\\\\\\\\\"details\\\\\\\\\\\\\\\": {\\\\\\\\\\\\\\\"selectedColumn\\\\\\\\\\\\\\\": \\\\\\\\\\\\\\\"smoothness_mean\\\\\\\\\\\\\\\"}}, \\\\\\\\\\\\\\\"typeProperty\\\\\\\\\\\\\\\": 3}, {\\\\\\\\\\\\\\\"column\\\\\\\\\\\\\\\": {\\\\\\\\\\\\\\\"type\\\\\\\\\\\\\\\": 2, \\\\\\\\\\\\\\\"details\\\\\\\\\\\\\\\": {\\\\\\\\\\\\\\\"selectedColumn\\\\\\\\\\\\\\\": \\\\\\\\\\\\\\\"compactness_mean\\\\\\\\\\\\\\\"}}, \\\\\\\\\\\\\\\"typeProperty\\\\\\\\\\\\\\\": 3}, {\\\\\\\\\\\\\\\"column\\\\\\\\\\\\\\\": {\\\\\\\\\\\\\\\"type\\\\\\\\\\\\\\\": 2, \\\\\\\\\\\\\\\"details\\\\\\\\\\\\\\\": {\\\\\\\\\\\\\\\"selectedColumn\\\\\\\\\\\\\\\": \\\\\\\\\\\\\\\"concavity_mean\\\\\\\\\\\\\\\"}}, \\\\\\\\\\\\\\\"typeProperty\\\\\\\\\\\\\\\": 3}, {\\\\\\\\\\\\\\\"column\\\\\\\\\\\\\\\": {\\\\\\\\\\\\\\\"type\\\\\\\\\\\\\\\": 2, \\\\\\\\\\\\\\\"details\\\\\\\\\\\\\\\": {\\\\\\\\\\\\\\\"selectedColumn\\\\\\\\\\\\\\\": \\\\\\\\\\\\\\\"concave points_mean\\\\\\\\\\\\\\\"}}, \\\\\\\\\\\\\\\"typeProperty\\\\\\\\\\\\\\\": 3}, {\\\\\\\\\\\\\\\"column\\\\\\\\\\\\\\\": {\\\\\\\\\\\\\\\"type\\\\\\\\\\\\\\\": 2, \\\\\\\\\\\\\\\"details\\\\\\\\\\\\\\\": {\\\\\\\\\\\\\\\"selectedColumn\\\\\\\\\\\\\\\": \\\\\\\\\\\\\\\"symmetry_mean\\\\\\\\\\\\\\\"}}, \\\\\\\\\\\\\\\"typeProperty\\\\\\\\\\\\\\\": 3}, {\\\\\\\\\\\\\\\"column\\\\\\\\\\\\\\\": {\\\\\\\\\\\\\\\"type\\\\\\\\\\\\\\\": 2, \\\\\\\\\\\\\\\"details\\\\\\\\\\\\\\\": {\\\\\\\\\\\\\\\"selectedColumn\\\\\\\\\\\\\\\": \\\\\\\\\\\\\\\"fractal_dimension_mean\\\\\\\\\\\\\\\"}}, \\\\\\\\\\\\\\\"typeProperty\\\\\\\\\\\\\\\": 3}, {\\\\\\\\\\\\\\\"column\\\\\\\\\\\\\\\": {\\\\\\\\\\\\\\\"type\\\\\\\\\\\\\\\": 2, \\\\\\\\\\\\\\\"details\\\\\\\\\\\\\\\": {\\\\\\\\\\\\\\\"selectedColumn\\\\\\\\\\\\\\\": \\\\\\\\\\\\\\\"radius_se\\\\\\\\\\\\\\\"}}, \\\\\\\\\\\\\\\"typeProperty\\\\\\\\\\\\\\\": 3}, {\\\\\\\\\\\\\\\"column\\\\\\\\\\\\\\\": {\\\\\\\\\\\\\\\"type\\\\\\\\\\\\\\\": 2, \\\\\\\\\\\\\\\"details\\\\\\\\\\\\\\\": {\\\\\\\\\\\\\\\"selectedColumn\\\\\\\\\\\\\\\": \\\\\\\\\\\\\\\"texture_se\\\\\\\\\\\\\\\"}}, \\\\\\\\\\\\\\\"typeProperty\\\\\\\\\\\\\\\": 3}, {\\\\\\\\\\\\\\\"column\\\\\\\\\\\\\\\": {\\\\\\\\\\\\\\\"type\\\\\\\\\\\\\\\": 2, \\\\\\\\\\\\\\\"details\\\\\\\\\\\\\\\": {\\\\\\\\\\\\\\\"selectedColumn\\\\\\\\\\\\\\\": \\\\\\\\\\\\\\\"perimeter_se\\\\\\\\\\\\\\\"}}, \\\\\\\\\\\\\\\"typeProperty\\\\\\\\\\\\\\\": 3}, {\\\\\\\\\\\\\\\"column\\\\\\\\\\\\\\\": {\\\\\\\\\\\\\\\"type\\\\\\\\\\\\\\\": 2, \\\\\\\\\\\\\\\"details\\\\\\\\\\\\\\\": {\\\\\\\\\\\\\\\"selectedColumn\\\\\\\\\\\\\\\": \\\\\\\\\\\\\\\"area_se\\\\\\\\\\\\\\\"}}, \\\\\\\\\\\\\\\"typeProperty\\\\\\\\\\\\\\\": 3}, {\\\\\\\\\\\\\\\"column\\\\\\\\\\\\\\\": {\\\\\\\\\\\\\\\"type\\\\\\\\\\\\\\\": 2, \\\\\\\\\\\\\\\"details\\\\\\\\\\\\\\\": {\\\\\\\\\\\\\\\"selectedColumn\\\\\\\\\\\\\\\": \\\\\\\\\\\\\\\"smoothness_se\\\\\\\\\\\\\\\"}}, \\\\\\\\\\\\\\\"typeProperty\\\\\\\\\\\\\\\": 3}, {\\\\\\\\\\\\\\\"column\\\\\\\\\\\\\\\": {\\\\\\\\\\\\\\\"type\\\\\\\\\\\\\\\": 2, \\\\\\\\\\\\\\\"details\\\\\\\\\\\\\\\": {\\\\\\\\\\\\\\\"selectedColumn\\\\\\\\\\\\\\\": \\\\\\\\\\\\\\\"compactness_se\\\\\\\\\\\\\\\"}}, \\\\\\\\\\\\\\\"typeProperty\\\\\\\\\\\\\\\": 3}, {\\\\\\\\\\\\\\\"column\\\\\\\\\\\\\\\": {\\\\\\\\\\\\\\\"type\\\\\\\\\\\\\\\": 2, \\\\\\\\\\\\\\\"details\\\\\\\\\\\\\\\": {\\\\\\\\\\\\\\\"selectedColumn\\\\\\\\\\\\\\\": \\\\\\\\\\\\\\\"concavity_se\\\\\\\\\\\\\\\"}}, \\\\\\\\\\\\\\\"typeProperty\\\\\\\\\\\\\\\": 3}, {\\\\\\\\\\\\\\\"column\\\\\\\\\\\\\\\": {\\\\\\\\\\\\\\\"type\\\\\\\\\\\\\\\": 2, \\\\\\\\\\\\\\\"details\\\\\\\\\\\\\\\": {\\\\\\\\\\\\\\\"selectedColumn\\\\\\\\\\\\\\\": \\\\\\\\\\\\\\\"concave points_se\\\\\\\\\\\\\\\"}}, \\\\\\\\\\\\\\\"typeProperty\\\\\\\\\\\\\\\": 3}, {\\\\\\\\\\\\\\\"column\\\\\\\\\\\\\\\": {\\\\\\\\\\\\\\\"type\\\\\\\\\\\\\\\": 2, \\\\\\\\\\\\\\\"details\\\\\\\\\\\\\\\": {\\\\\\\\\\\\\\\"selectedColumn\\\\\\\\\\\\\\\": \\\\\\\\\\\\\\\"symmetry_se\\\\\\\\\\\\\\\"}}, \\\\\\\\\\\\\\\"typeProperty\\\\\\\\\\\\\\\": 3}, {\\\\\\\\\\\\\\\"column\\\\\\\\\\\\\\\": {\\\\\\\\\\\\\\\"type\\\\\\\\\\\\\\\": 2, \\\\\\\\\\\\\\\"details\\\\\\\\\\\\\\\": {\\\\\\\\\\\\\\\"selectedColumn\\\\\\\\\\\\\\\": \\\\\\\\\\\\\\\"fractal_dimension_se\\\\\\\\\\\\\\\"}}, \\\\\\\\\\\\\\\"typeProperty\\\\\\\\\\\\\\\": 3}, {\\\\\\\\\\\\\\\"column\\\\\\\\\\\\\\\": {\\\\\\\\\\\\\\\"type\\\\\\\\\\\\\\\": 2, \\\\\\\\\\\\\\\"details\\\\\\\\\\\\\\\": {\\\\\\\\\\\\\\\"selectedColumn\\\\\\\\\\\\\\\": \\\\\\\\\\\\\\\"radius_worst\\\\\\\\\\\\\\\"}}, \\\\\\\\\\\\\\\"typeProperty\\\\\\\\\\\\\\\": 3}, {\\\\\\\\\\\\\\\"column\\\\\\\\\\\\\\\": {\\\\\\\\\\\\\\\"type\\\\\\\\\\\\\\\": 2, \\\\\\\\\\\\\\\"details\\\\\\\\\\\\\\\": {\\\\\\\\\\\\\\\"selectedColumn\\\\\\\\\\\\\\\": \\\\\\\\\\\\\\\"texture_worst\\\\\\\\\\\\\\\"}}, \\\\\\\\\\\\\\\"typeProperty\\\\\\\\\\\\\\\": 3}, {\\\\\\\\\\\\\\\"column\\\\\\\\\\\\\\\": {\\\\\\\\\\\\\\\"type\\\\\\\\\\\\\\\": 2, \\\\\\\\\\\\\\\"details\\\\\\\\\\\\\\\": {\\\\\\\\\\\\\\\"selectedColumn\\\\\\\\\\\\\\\": \\\\\\\\\\\\\\\"perimeter_worst\\\\\\\\\\\\\\\"}}, \\\\\\\\\\\\\\\"typeProperty\\\\\\\\\\\\\\\": 3}, {\\\\\\\\\\\\\\\"column\\\\\\\\\\\\\\\": {\\\\\\\\\\\\\\\"type\\\\\\\\\\\\\\\": 2, \\\\\\\\\\\\\\\"details\\\\\\\\\\\\\\\": {\\\\\\\\\\\\\\\"selectedColumn\\\\\\\\\\\\\\\": \\\\\\\\\\\\\\\"area_worst\\\\\\\\\\\\\\\"}}, \\\\\\\\\\\\\\\"typeProperty\\\\\\\\\\\\\\\": 3}, {\\\\\\\\\\\\\\\"column\\\\\\\\\\\\\\\": {\\\\\\\\\\\\\\\"type\\\\\\\\\\\\\\\": 2, \\\\\\\\\\\\\\\"details\\\\\\\\\\\\\\\": {\\\\\\\\\\\\\\\"selectedColumn\\\\\\\\\\\\\\\": \\\\\\\\\\\\\\\"smoothness_worst\\\\\\\\\\\\\\\"}}, \\\\\\\\\\\\\\\"typeProperty\\\\\\\\\\\\\\\": 3}, {\\\\\\\\\\\\\\\"column\\\\\\\\\\\\\\\": {\\\\\\\\\\\\\\\"type\\\\\\\\\\\\\\\": 2, \\\\\\\\\\\\\\\"details\\\\\\\\\\\\\\\": {\\\\\\\\\\\\\\\"selectedColumn\\\\\\\\\\\\\\\": \\\\\\\\\\\\\\\"compactness_worst\\\\\\\\\\\\\\\"}}, \\\\\\\\\\\\\\\"typeProperty\\\\\\\\\\\\\\\": 3}, {\\\\\\\\\\\\\\\"column\\\\\\\\\\\\\\\": {\\\\\\\\\\\\\\\"type\\\\\\\\\\\\\\\": 2, \\\\\\\\\\\\\\\"details\\\\\\\\\\\\\\\": {\\\\\\\\\\\\\\\"selectedColumn\\\\\\\\\\\\\\\": \\\\\\\\\\\\\\\"concavity_worst\\\\\\\\\\\\\\\"}}, \\\\\\\\\\\\\\\"typeProperty\\\\\\\\\\\\\\\": 3}, {\\\\\\\\\\\\\\\"column\\\\\\\\\\\\\\\": {\\\\\\\\\\\\\\\"type\\\\\\\\\\\\\\\": 2, \\\\\\\\\\\\\\\"details\\\\\\\\\\\\\\\": {\\\\\\\\\\\\\\\"selectedColumn\\\\\\\\\\\\\\\": \\\\\\\\\\\\\\\"concave points_worst\\\\\\\\\\\\\\\"}}, \\\\\\\\\\\\\\\"typeProperty\\\\\\\\\\\\\\\": 3}, {\\\\\\\\\\\\\\\"column\\\\\\\\\\\\\\\": {\\\\\\\\\\\\\\\"type\\\\\\\\\\\\\\\": 2, \\\\\\\\\\\\\\\"details\\\\\\\\\\\\\\\": {\\\\\\\\\\\\\\\"selectedColumn\\\\\\\\\\\\\\\": \\\\\\\\\\\\\\\"symmetry_worst\\\\\\\\\\\\\\\"}}, \\\\\\\\\\\\\\\"typeProperty\\\\\\\\\\\\\\\": 3}, {\\\\\\\\\\\\\\\"column\\\\\\\\\\\\\\\": {\\\\\\\\\\\\\\\"type\\\\\\\\\\\\\\\": 2, \\\\\\\\\\\\\\\"details\\\\\\\\\\\\\\\": {\\\\\\\\\\\\\\\"selectedColumn\\\\\\\\\\\\\\\": \\\\\\\\\\\\\\\"fractal_dimension_worst\\\\\\\\\\\\\\\"}}, \\\\\\\\\\\\\\\"typeProperty\\\\\\\\\\\\\\\": 3}, {\\\\\\\\\\\\\\\"column\\\\\\\\\\\\\\\": {\\\\\\\\\\\\\\\"type\\\\\\\\\\\\\\\": 2, \\\\\\\\\\\\\\\"details\\\\\\\\\\\\\\\": {\\\\\\\\\\\\\\\"selectedColumn\\\\\\\\\\\\\\\": \\\\\\\\\\\\\\\"diagnosis\\\\\\\\\\\\\\\"}}, \\\\\\\\\\\\\\\"typeProperty\\\\\\\\\\\\\\\": 2}]}, \\\\\\\\\\\\\\\"localData\\\\\\\\\\\\\\\": {}, \\\\\\\\\\\\\\\"isEnabled\\\\\\\\\\\\\\\": true, \\\\\\\\\\\\\\\"name\\\\\\\\\\\\\\\": null, \\\\\\\\\\\\\\\"annotation\\\\\\\\\\\\\\\": null}], \\\\\\\\\\\\\\\"inspectors\\\\\\\\\\\\\\\": [], \\\\\\\\\\\\\\\"meta\\\\\\\\\\\\\\\": {\\\\\\\\\\\\\\\"savedDatasetId\\\\\\\\\\\\\\\": \\\\\\\\\\\\\\\"b7f72f9d-1df6-4cee-bb3f-7eccd17db628\\\\\\\\\\\\\\\", \\\\\\\\\\\\\\\"datasetType\\\\\\\\\\\\\\\": \\\\\\\\\\\\\\\"tabular\\\\\\\\\\\\\\\", \\\\\\\\\\\\\\\"subscriptionId\\\\\\\\\\\\\\\": \\\\\\\\\\\\\\\"9b72f9e6-56c5-4c16-991b-19c652994860\\\\\\\\\\\\\\\", \\\\\\\\\\\\\\\"workspaceId\\\\\\\\\\\\\\\": \\\\\\\\\\\\\\\"cb54681e-2c6a-4072-b10a-cb20ec252b2f\\\\\\\\\\\\\\\", \\\\\\\\\\\\\\\"workspaceLocation\\\\\\\\\\\\\\\": \\\\\\\\\\\\\\\"southcentralus\\\\\\\\\\\\\\\"}}\\\\\\\", \\\\\\\"activities\\\\\\\": 0}\", \"EnableSubsampling\": null, \"runTemplate\": \"AutoML\", \"azureml.runsource\": \"automl\", \"display_task_type\": \"classification\", \"dependencies_versions\": \"{\\\"azureml-widgets\\\": \\\"1.20.0\\\", \\\"azureml-train\\\": \\\"1.20.0\\\", \\\"azureml-train-restclients-hyperdrive\\\": \\\"1.20.0\\\", \\\"azureml-train-core\\\": \\\"1.20.0\\\", \\\"azureml-train-automl\\\": \\\"1.20.0\\\", \\\"azureml-train-automl-runtime\\\": \\\"1.20.0\\\", \\\"azureml-train-automl-client\\\": \\\"1.20.0\\\", \\\"azureml-tensorboard\\\": \\\"1.20.0\\\", \\\"azureml-telemetry\\\": \\\"1.20.0\\\", \\\"azureml-sdk\\\": \\\"1.20.0\\\", \\\"azureml-samples\\\": \\\"0+unknown\\\", \\\"azureml-pipeline\\\": \\\"1.20.0\\\", \\\"azureml-pipeline-steps\\\": \\\"1.20.0\\\", \\\"azureml-pipeline-core\\\": \\\"1.20.0\\\", \\\"azureml-opendatasets\\\": \\\"1.20.0\\\", \\\"azureml-model-management-sdk\\\": \\\"1.0.1b6.post1\\\", \\\"azureml-mlflow\\\": \\\"1.20.0.post1\\\", \\\"azureml-interpret\\\": \\\"1.20.0\\\", \\\"azureml-explain-model\\\": \\\"1.20.0\\\", \\\"azureml-defaults\\\": \\\"1.20.0\\\", \\\"azureml-dataset-runtime\\\": \\\"1.20.0\\\", \\\"azureml-dataprep\\\": \\\"2.7.3\\\", \\\"azureml-dataprep-rslex\\\": \\\"1.5.0\\\", \\\"azureml-dataprep-native\\\": \\\"27.0.0\\\", \\\"azureml-datadrift\\\": \\\"1.20.0\\\", \\\"azureml-core\\\": \\\"1.20.0\\\", \\\"azureml-contrib-services\\\": \\\"1.20.0\\\", \\\"azureml-contrib-server\\\": \\\"1.20.0\\\", \\\"azureml-contrib-reinforcementlearning\\\": \\\"1.20.0\\\", \\\"azureml-contrib-pipeline-steps\\\": \\\"1.20.0\\\", \\\"azureml-contrib-notebook\\\": \\\"1.20.0\\\", \\\"azureml-contrib-interpret\\\": \\\"1.20.0\\\", \\\"azureml-contrib-gbdt\\\": \\\"1.20.0\\\", \\\"azureml-contrib-fairness\\\": \\\"1.20.0\\\", \\\"azureml-contrib-dataset\\\": \\\"1.20.0\\\", \\\"azureml-cli-common\\\": \\\"1.20.0\\\", \\\"azureml-automl-runtime\\\": \\\"1.20.0\\\", \\\"azureml-automl-core\\\": \\\"1.20.0\\\", \\\"azureml-accel-models\\\": \\\"1.20.0\\\"}\", \"_aml_system_scenario_identification\": \"Remote.Parent\", \"ClientType\": \"SDK\", \"environment_cpu_name\": \"AzureML-AutoML\", \"environment_cpu_label\": \"prod\", \"environment_gpu_name\": \"AzureML-AutoML-GPU\", \"environment_gpu_label\": \"prod\", \"root_attribution\": \"automl\", \"attribution\": \"AutoML\", \"Orchestrator\": \"AutoML\", \"CancelUri\": \"https://southcentralus.experiments.azureml.net/jasmine/v1.0/subscriptions/9b72f9e6-56c5-4c16-991b-19c652994860/resourceGroups/aml-quickstarts-136084/providers/Microsoft.MachineLearningServices/workspaces/quick-starts-ws-136084/experimentids/16f7f849-bffb-4dce-9a43-9ab1cbbcb5cc/cancel/AutoML_7ce25c35-2267-43dc-b6c4-ffa20042674a\", \"ClientSdkVersion\": \"1.20.0.post1\", \"snapshotId\": \"00000000-0000-0000-0000-000000000000\", \"SetupRunId\": \"AutoML_7ce25c35-2267-43dc-b6c4-ffa20042674a_setup\", \"SetupRunContainerId\": \"dcid.AutoML_7ce25c35-2267-43dc-b6c4-ffa20042674a_setup\", \"FeaturizationRunJsonPath\": \"featurizer_container.json\", \"FeaturizationRunId\": \"AutoML_7ce25c35-2267-43dc-b6c4-ffa20042674a_featurize\", \"ProblemInfoJsonString\": \"{\\\"dataset_num_categorical\\\": 0, \\\"is_sparse\\\": false, \\\"subsampling\\\": false, \\\"dataset_classes\\\": 2, \\\"dataset_features\\\": 32, \\\"dataset_samples\\\": 512, \\\"single_frequency_class_detected\\\": false}\", \"ModelExplainRunId\": \"AutoML_7ce25c35-2267-43dc-b6c4-ffa20042674a_ModelExplain\"}, \"tags\": {\"model_explain_run\": \"best_run\", \"_aml_system_azureml.automlComponent\": \"AutoML\", \"pipeline_id\": \"\", \"score\": \"\", \"predicted_cost\": \"\", \"fit_time\": \"\", \"training_percent\": \"\", \"iteration\": \"\", \"run_preprocessor\": \"\", \"run_algorithm\": \"\", \"automl_best_child_run_id\": \"AutoML_7ce25c35-2267-43dc-b6c4-ffa20042674a_23\", \"model_explain_best_run_child_id\": \"AutoML_7ce25c35-2267-43dc-b6c4-ffa20042674a_23\"}, \"end_time_utc\": \"2021-01-26T08:19:58.551299Z\", \"status\": \"Completed\", \"log_files\": {}, \"log_groups\": [], \"run_duration\": \"0:42:13\"}, \"child_runs\": [{\"run_id\": \"AutoML_7ce25c35-2267-43dc-b6c4-ffa20042674a_0\", \"run_number\": 36, \"metric\": null, \"status\": \"Completed\", \"run_type\": \"azureml.scriptrun\", \"training_percent\": \"100\", \"start_time\": \"2021-01-26T07:46:49.111193Z\", \"end_time\": \"2021-01-26T07:47:38.411956Z\", \"created_time\": \"2021-01-26T07:46:38.334965Z\", \"created_time_dt\": \"2021-01-26T07:46:38.334965Z\", \"duration\": \"0:01:00\", \"iteration\": \"0\", \"goal\": \"accuracy_max\", \"run_name\": \"MaxAbsScaler, LightGBM\", \"run_properties\": \"copy=True\", \"primary_metric\": 0.96093661, \"best_metric\": 0.96093661}, {\"run_id\": \"AutoML_7ce25c35-2267-43dc-b6c4-ffa20042674a_1\", \"run_number\": 37, \"metric\": null, \"status\": \"Completed\", \"run_type\": \"azureml.scriptrun\", \"training_percent\": \"100\", \"start_time\": \"2021-01-26T07:48:11.730395Z\", \"end_time\": \"2021-01-26T07:48:59.967679Z\", \"created_time\": \"2021-01-26T07:47:39.26558Z\", \"created_time_dt\": \"2021-01-26T07:47:39.26558Z\", \"duration\": \"0:01:20\", \"iteration\": \"1\", \"goal\": \"accuracy_max\", \"run_name\": \"MaxAbsScaler, XGBoostClassifier\", \"run_properties\": \"copy=True\", \"primary_metric\": 0.956996, \"best_metric\": 0.96093661}, {\"run_id\": \"AutoML_7ce25c35-2267-43dc-b6c4-ffa20042674a_2\", \"run_number\": 39, \"metric\": null, \"status\": \"Completed\", \"run_type\": \"azureml.scriptrun\", \"training_percent\": \"100\", \"start_time\": \"2021-01-26T07:49:18.354226Z\", \"end_time\": \"2021-01-26T07:50:05.473053Z\", \"created_time\": \"2021-01-26T07:49:01.168936Z\", \"created_time_dt\": \"2021-01-26T07:49:01.168936Z\", \"duration\": \"0:01:04\", \"iteration\": \"2\", \"goal\": \"accuracy_max\", \"run_name\": \"MinMaxScaler, RandomForest\", \"run_properties\": \"copy=True, feature_range=(0, 1\", \"primary_metric\": 0.93944413, \"best_metric\": 0.96093661}, {\"run_id\": \"AutoML_7ce25c35-2267-43dc-b6c4-ffa20042674a_3\", \"run_number\": 40, \"metric\": null, \"status\": \"Completed\", \"run_type\": \"azureml.scriptrun\", \"training_percent\": \"100\", \"start_time\": \"2021-01-26T07:50:20.518449Z\", \"end_time\": \"2021-01-26T07:51:05.228472Z\", \"created_time\": \"2021-01-26T07:50:08.08967Z\", \"created_time_dt\": \"2021-01-26T07:50:08.08967Z\", \"duration\": \"0:00:57\", \"iteration\": \"3\", \"goal\": \"accuracy_max\", \"run_name\": \"MinMaxScaler, RandomForest\", \"run_properties\": \"copy=True, feature_range=(0, 1\", \"primary_metric\": 0.94138587, \"best_metric\": 0.96093661}, {\"run_id\": \"AutoML_7ce25c35-2267-43dc-b6c4-ffa20042674a_4\", \"run_number\": 41, \"metric\": null, \"status\": \"Completed\", \"run_type\": \"azureml.scriptrun\", \"training_percent\": \"100\", \"start_time\": \"2021-01-26T07:51:20.445745Z\", \"end_time\": \"2021-01-26T07:52:03.878397Z\", \"created_time\": \"2021-01-26T07:51:07.533287Z\", \"created_time_dt\": \"2021-01-26T07:51:07.533287Z\", \"duration\": \"0:00:56\", \"iteration\": \"4\", \"goal\": \"accuracy_max\", \"run_name\": \"MinMaxScaler, RandomForest\", \"run_properties\": \"copy=True, feature_range=(0, 1\", \"primary_metric\": 0.95109461, \"best_metric\": 0.96093661}, {\"run_id\": \"AutoML_7ce25c35-2267-43dc-b6c4-ffa20042674a_5\", \"run_number\": 42, \"metric\": null, \"status\": \"Completed\", \"run_type\": \"azureml.scriptrun\", \"training_percent\": \"100\", \"start_time\": \"2021-01-26T07:52:18.352723Z\", \"end_time\": \"2021-01-26T07:53:04.01687Z\", \"created_time\": \"2021-01-26T07:52:06.0356Z\", \"created_time_dt\": \"2021-01-26T07:52:06.0356Z\", \"duration\": \"0:00:57\", \"iteration\": \"5\", \"goal\": \"accuracy_max\", \"run_name\": \"MinMaxScaler, SVM\", \"run_properties\": \"copy=True, feature_range=(0, 1\", \"primary_metric\": 0.96293547, \"best_metric\": 0.96293547}, {\"run_id\": \"AutoML_7ce25c35-2267-43dc-b6c4-ffa20042674a_6\", \"run_number\": 43, \"metric\": null, \"status\": \"Completed\", \"run_type\": \"azureml.scriptrun\", \"training_percent\": \"100\", \"start_time\": \"2021-01-26T07:53:20.400301Z\", \"end_time\": \"2021-01-26T07:54:15.080895Z\", \"created_time\": \"2021-01-26T07:53:06.100475Z\", \"created_time_dt\": \"2021-01-26T07:53:06.100475Z\", \"duration\": \"0:01:08\", \"iteration\": \"6\", \"goal\": \"accuracy_max\", \"run_name\": \"MaxAbsScaler, GradientBoosting\", \"run_properties\": \"copy=True\", \"primary_metric\": 0.9530554, \"best_metric\": 0.96293547}, {\"run_id\": \"AutoML_7ce25c35-2267-43dc-b6c4-ffa20042674a_7\", \"run_number\": 44, \"metric\": null, \"status\": \"Completed\", \"run_type\": \"azureml.scriptrun\", \"training_percent\": \"100\", \"start_time\": \"2021-01-26T07:54:27.346772Z\", \"end_time\": \"2021-01-26T07:55:17.698192Z\", \"created_time\": \"2021-01-26T07:54:16.890631Z\", \"created_time_dt\": \"2021-01-26T07:54:16.890631Z\", \"duration\": \"0:01:00\", \"iteration\": \"7\", \"goal\": \"accuracy_max\", \"run_name\": \"StandardScalerWrapper, RandomForest\", \"run_properties\": \"<azureml.automl.runtime.shared.model_wrappers.StandardScalerWrapper object at 0x7f8f82306cf8\", \"primary_metric\": 0.94334666, \"best_metric\": 0.96293547}, {\"run_id\": \"AutoML_7ce25c35-2267-43dc-b6c4-ffa20042674a_8\", \"run_number\": 45, \"metric\": null, \"status\": \"Completed\", \"run_type\": \"azureml.scriptrun\", \"training_percent\": \"100\", \"start_time\": \"2021-01-26T07:55:31.549823Z\", \"end_time\": \"2021-01-26T07:56:47.15721Z\", \"created_time\": \"2021-01-26T07:55:19.32408Z\", \"created_time_dt\": \"2021-01-26T07:55:19.32408Z\", \"duration\": \"0:01:27\", \"iteration\": \"8\", \"goal\": \"accuracy_max\", \"run_name\": \"SparseNormalizer, LightGBM\", \"run_properties\": \"<azureml.automl.runtime.shared.model_wrappers.SparseNormalizer object at 0x7f6bb9cf6f98\", \"primary_metric\": 0.94928612, \"best_metric\": 0.96293547}, {\"run_id\": \"AutoML_7ce25c35-2267-43dc-b6c4-ffa20042674a_9\", \"run_number\": 46, \"metric\": null, \"status\": \"Completed\", \"run_type\": \"azureml.scriptrun\", \"training_percent\": \"100\", \"start_time\": \"2021-01-26T07:57:08.988527Z\", \"end_time\": \"2021-01-26T07:57:53.721229Z\", \"created_time\": \"2021-01-26T07:56:49.974263Z\", \"created_time_dt\": \"2021-01-26T07:56:49.974263Z\", \"duration\": \"0:01:03\", \"iteration\": \"9\", \"goal\": \"accuracy_max\", \"run_name\": \"SparseNormalizer, XGBoostClassifier\", \"run_properties\": \"<azureml.automl.runtime.shared.model_wrappers.SparseNormalizer object at 0x7f517f4f2908\", \"primary_metric\": 0.9433657, \"best_metric\": 0.96293547}, {\"run_id\": \"AutoML_7ce25c35-2267-43dc-b6c4-ffa20042674a_10\", \"run_number\": 47, \"metric\": null, \"status\": \"Completed\", \"run_type\": \"azureml.scriptrun\", \"training_percent\": \"100\", \"start_time\": \"2021-01-26T07:58:06.942835Z\", \"end_time\": \"2021-01-26T07:58:51.535772Z\", \"created_time\": \"2021-01-26T07:57:55.86763Z\", \"created_time_dt\": \"2021-01-26T07:57:55.86763Z\", \"duration\": \"0:00:55\", \"iteration\": \"10\", \"goal\": \"accuracy_max\", \"run_name\": \"RobustScaler, RandomForest\", \"run_properties\": \"copy=True, quantile_range=[10, 90], with_centering=True,\\n             with_scaling=True\", \"primary_metric\": 0.92767942, \"best_metric\": 0.96293547}, {\"run_id\": \"AutoML_7ce25c35-2267-43dc-b6c4-ffa20042674a_11\", \"run_number\": 48, \"metric\": null, \"status\": \"Completed\", \"run_type\": \"azureml.scriptrun\", \"training_percent\": \"100\", \"start_time\": \"2021-01-26T07:59:05.81704Z\", \"end_time\": \"2021-01-26T07:59:57.330889Z\", \"created_time\": \"2021-01-26T07:58:54.182751Z\", \"created_time_dt\": \"2021-01-26T07:58:54.182751Z\", \"duration\": \"0:01:03\", \"iteration\": \"11\", \"goal\": \"accuracy_max\", \"run_name\": \"MaxAbsScaler, LightGBM\", \"run_properties\": \"copy=True\", \"primary_metric\": 0.94530744, \"best_metric\": 0.96293547}, {\"run_id\": \"AutoML_7ce25c35-2267-43dc-b6c4-ffa20042674a_12\", \"run_number\": 49, \"metric\": null, \"status\": \"Completed\", \"run_type\": \"azureml.scriptrun\", \"training_percent\": \"100\", \"start_time\": \"2021-01-26T08:00:12.434882Z\", \"end_time\": \"2021-01-26T08:00:51.470609Z\", \"created_time\": \"2021-01-26T07:59:59.14786Z\", \"created_time_dt\": \"2021-01-26T07:59:59.14786Z\", \"duration\": \"0:00:52\", \"iteration\": \"12\", \"goal\": \"accuracy_max\", \"run_name\": \"SparseNormalizer, XGBoostClassifier\", \"run_properties\": \"<azureml.automl.runtime.shared.model_wrappers.SparseNormalizer object at 0x7f0eb7411b70\", \"primary_metric\": 0.93561774, \"best_metric\": 0.96293547}, {\"run_id\": \"AutoML_7ce25c35-2267-43dc-b6c4-ffa20042674a_13\", \"run_number\": 50, \"metric\": null, \"status\": \"Completed\", \"run_type\": \"azureml.scriptrun\", \"training_percent\": \"100\", \"start_time\": \"2021-01-26T08:01:04.424636Z\", \"end_time\": \"2021-01-26T08:01:59.130708Z\", \"created_time\": \"2021-01-26T08:00:53.278522Z\", \"created_time_dt\": \"2021-01-26T08:00:53.278522Z\", \"duration\": \"0:01:05\", \"iteration\": \"13\", \"goal\": \"accuracy_max\", \"run_name\": \"RobustScaler, ExtremeRandomTrees\", \"run_properties\": \"copy=True, quantile_range=[25, 75], with_centering=True,\\n             with_scaling=False\", \"primary_metric\": 0.93946316, \"best_metric\": 0.96293547}, {\"run_id\": \"AutoML_7ce25c35-2267-43dc-b6c4-ffa20042674a_14\", \"run_number\": 51, \"metric\": null, \"status\": \"Completed\", \"run_type\": \"azureml.scriptrun\", \"training_percent\": \"100\", \"start_time\": \"2021-01-26T08:02:49.916899Z\", \"end_time\": \"2021-01-26T08:08:07.929554Z\", \"created_time\": \"2021-01-26T08:02:02.028061Z\", \"created_time_dt\": \"2021-01-26T08:02:02.028061Z\", \"duration\": \"0:06:05\", \"iteration\": \"14\", \"goal\": \"accuracy_max\", \"run_name\": \"StandardScalerWrapper, GradientBoosting\", \"run_properties\": \"<azureml.automl.runtime.shared.model_wrappers.StandardScalerWrapper object at 0x7fdf9e800c88\", \"primary_metric\": 0.96678089, \"best_metric\": 0.96678089}, {\"run_id\": \"AutoML_7ce25c35-2267-43dc-b6c4-ffa20042674a_15\", \"run_number\": 52, \"metric\": null, \"status\": \"Completed\", \"run_type\": \"azureml.scriptrun\", \"training_percent\": \"100\", \"start_time\": \"2021-01-26T08:08:21.731106Z\", \"end_time\": \"2021-01-26T08:09:13.263115Z\", \"created_time\": \"2021-01-26T08:08:10.406002Z\", \"created_time_dt\": \"2021-01-26T08:08:10.406002Z\", \"duration\": \"0:01:02\", \"iteration\": \"15\", \"goal\": \"accuracy_max\", \"run_name\": \"StandardScalerWrapper, XGBoostClassifier\", \"run_properties\": \"<azureml.automl.runtime.shared.model_wrappers.StandardScalerWrapper object at 0x7f1f14155240\", \"primary_metric\": 0.9433657, \"best_metric\": 0.96678089}, {\"run_id\": \"AutoML_7ce25c35-2267-43dc-b6c4-ffa20042674a_16\", \"run_number\": 53, \"metric\": null, \"status\": \"Completed\", \"run_type\": \"azureml.scriptrun\", \"training_percent\": \"100\", \"start_time\": \"2021-01-26T08:09:30.505143Z\", \"end_time\": \"2021-01-26T08:10:19.57815Z\", \"created_time\": \"2021-01-26T08:09:16.432789Z\", \"created_time_dt\": \"2021-01-26T08:09:16.432789Z\", \"duration\": \"0:01:03\", \"iteration\": \"16\", \"goal\": \"accuracy_max\", \"run_name\": \"StandardScalerWrapper, ExtremeRandomTrees\", \"run_properties\": \"<azureml.automl.runtime.shared.model_wrappers.StandardScalerWrapper object at 0x7f8dc6e03080\", \"primary_metric\": 0.93750238, \"best_metric\": 0.96678089}, {\"run_id\": \"AutoML_7ce25c35-2267-43dc-b6c4-ffa20042674a_17\", \"run_number\": 54, \"metric\": null, \"status\": \"Completed\", \"run_type\": \"azureml.scriptrun\", \"training_percent\": \"100\", \"start_time\": \"2021-01-26T08:10:34.638822Z\", \"end_time\": \"2021-01-26T08:11:24.52693Z\", \"created_time\": \"2021-01-26T08:10:21.986338Z\", \"created_time_dt\": \"2021-01-26T08:10:21.986338Z\", \"duration\": \"0:01:02\", \"iteration\": \"17\", \"goal\": \"accuracy_max\", \"run_name\": \"StandardScalerWrapper, ExtremeRandomTrees\", \"run_properties\": \"<azureml.automl.runtime.shared.model_wrappers.StandardScalerWrapper object at 0x7f00c039bcf8\", \"primary_metric\": 0.94922901, \"best_metric\": 0.96678089}, {\"run_id\": \"AutoML_7ce25c35-2267-43dc-b6c4-ffa20042674a_18\", \"run_number\": 55, \"metric\": null, \"status\": \"Completed\", \"run_type\": \"azureml.scriptrun\", \"training_percent\": \"100\", \"start_time\": \"2021-01-26T08:11:42.446359Z\", \"end_time\": \"2021-01-26T08:12:31.549057Z\", \"created_time\": \"2021-01-26T08:11:28.570576Z\", \"created_time_dt\": \"2021-01-26T08:11:28.570576Z\", \"duration\": \"0:01:02\", \"iteration\": \"18\", \"goal\": \"accuracy_max\", \"run_name\": \"RobustScaler, ExtremeRandomTrees\", \"run_properties\": \"copy=True, quantile_range=[25, 75], with_centering=True,\\n             with_scaling=True\", \"primary_metric\": 0.94726823, \"best_metric\": 0.96678089}, {\"run_id\": \"AutoML_7ce25c35-2267-43dc-b6c4-ffa20042674a_19\", \"run_number\": 56, \"metric\": null, \"status\": \"Completed\", \"run_type\": \"azureml.scriptrun\", \"training_percent\": \"100\", \"start_time\": \"2021-01-26T08:12:47.116573Z\", \"end_time\": \"2021-01-26T08:13:38.577797Z\", \"created_time\": \"2021-01-26T08:12:33.504714Z\", \"created_time_dt\": \"2021-01-26T08:12:33.504714Z\", \"duration\": \"0:01:05\", \"iteration\": \"19\", \"goal\": \"accuracy_max\", \"run_name\": \"StandardScalerWrapper, LogisticRegression\", \"run_properties\": \"<azureml.automl.runtime.shared.model_wrappers.StandardScalerWrapper object at 0x7fd0029fae48\", \"primary_metric\": 0.97268228, \"best_metric\": 0.97268228}, {\"run_id\": \"AutoML_7ce25c35-2267-43dc-b6c4-ffa20042674a_20\", \"run_number\": 57, \"metric\": null, \"status\": \"Completed\", \"run_type\": \"azureml.scriptrun\", \"training_percent\": \"100\", \"start_time\": \"2021-01-26T08:13:52.265678Z\", \"end_time\": \"2021-01-26T08:14:37.999358Z\", \"created_time\": \"2021-01-26T08:13:40.270234Z\", \"created_time_dt\": \"2021-01-26T08:13:40.270234Z\", \"duration\": \"0:00:57\", \"iteration\": \"20\", \"goal\": \"accuracy_max\", \"run_name\": \"StandardScalerWrapper, RandomForest\", \"run_properties\": \"<azureml.automl.runtime.shared.model_wrappers.StandardScalerWrapper object at 0x7fcc6f483550\", \"primary_metric\": 0.93358081, \"best_metric\": 0.97268228}, {\"run_id\": \"AutoML_7ce25c35-2267-43dc-b6c4-ffa20042674a_21\", \"run_number\": 58, \"metric\": null, \"status\": \"Completed\", \"run_type\": \"azureml.scriptrun\", \"training_percent\": \"100\", \"start_time\": \"2021-01-26T08:14:52.724163Z\", \"end_time\": \"2021-01-26T08:15:51.56139Z\", \"created_time\": \"2021-01-26T08:14:39.767062Z\", \"created_time_dt\": \"2021-01-26T08:14:39.767062Z\", \"duration\": \"0:01:11\", \"iteration\": \"21\", \"goal\": \"accuracy_max\", \"run_name\": \"MaxAbsScaler, LightGBM\", \"run_properties\": \"copy=True\", \"primary_metric\": 0.956996, \"best_metric\": 0.97268228}, {\"run_id\": \"AutoML_7ce25c35-2267-43dc-b6c4-ffa20042674a_22\", \"run_number\": 59, \"metric\": null, \"status\": \"Completed\", \"run_type\": \"azureml.scriptrun\", \"training_percent\": \"100\", \"start_time\": \"2021-01-26T08:16:08.327655Z\", \"end_time\": \"2021-01-26T08:16:53.957861Z\", \"created_time\": \"2021-01-26T08:15:54.442675Z\", \"created_time_dt\": \"2021-01-26T08:15:54.442675Z\", \"duration\": \"0:00:59\", \"iteration\": \"22\", \"goal\": \"accuracy_max\", \"run_name\": \"StandardScalerWrapper, LightGBM\", \"run_properties\": \"<azureml.automl.runtime.shared.model_wrappers.StandardScalerWrapper object at 0x7fcf6611ce48\", \"primary_metric\": 0.94717304, \"best_metric\": 0.97268228}, {\"run_id\": \"AutoML_7ce25c35-2267-43dc-b6c4-ffa20042674a_23\", \"run_number\": 60, \"metric\": null, \"status\": \"Completed\", \"run_type\": \"azureml.scriptrun\", \"training_percent\": \"100\", \"start_time\": \"2021-01-26T08:17:07.405441Z\", \"end_time\": \"2021-01-26T08:18:18.48304Z\", \"created_time\": \"2021-01-26T08:16:55.185262Z\", \"created_time_dt\": \"2021-01-26T08:16:55.185262Z\", \"duration\": \"0:01:23\", \"iteration\": \"23\", \"goal\": \"accuracy_max\", \"run_name\": \"VotingEnsemble\", \"run_properties\": \"classification_labels=None,\\n                              estimators=[('19',\\n                                           Pipeline(memory=None,\\n                                                    steps=[('standardscalerwrapper',\\n                                                            <azureml.automl.runtime.shared.model_wrappers.StandardScalerWrapper object at 0x7faf845de240>\", \"primary_metric\": 0.97462402, \"best_metric\": 0.97462402}, {\"run_id\": \"AutoML_7ce25c35-2267-43dc-b6c4-ffa20042674a_24\", \"run_number\": 61, \"metric\": null, \"status\": \"Completed\", \"run_type\": \"azureml.scriptrun\", \"training_percent\": \"100\", \"start_time\": \"2021-01-26T08:18:32.395755Z\", \"end_time\": \"2021-01-26T08:19:46.27094Z\", \"created_time\": \"2021-01-26T08:18:19.623618Z\", \"created_time_dt\": \"2021-01-26T08:18:19.623618Z\", \"duration\": \"0:01:26\", \"iteration\": \"24\", \"goal\": \"accuracy_max\", \"run_name\": \"StackEnsemble\", \"run_properties\": \"base_learners=[('19',\\n                                        Pipeline(memory=None,\\n                                                 steps=[('standardscalerwrapper',\\n                                                         <azureml.automl.runtime.shared.model_wrappers.StandardScalerWrapper object at 0x7f96f86e46a0>\", \"primary_metric\": 0.96681896, \"best_metric\": 0.97462402}], \"children_metrics\": {\"categories\": [0], \"series\": {\"recall_score_macro\": [{\"categories\": [\"0\", \"1\", \"2\", \"3\", \"4\", \"5\", \"6\", \"7\", \"8\", \"9\", \"10\", \"11\", \"12\", \"13\", \"14\", \"15\", \"16\", \"17\", \"18\", \"19\", \"20\", \"21\", \"22\", \"23\", \"24\"], \"mode\": \"markers\", \"name\": \"recall_score_macro\", \"stepped\": false, \"type\": \"scatter\", \"data\": [0.9552273987654436, 0.9511759794172165, 0.9343123431487635, 0.9345628157982407, 0.9468215541871752, 0.960278135083632, 0.9490498496149771, 0.9403821313199296, 0.9424025876556886, 0.937188556065888, 0.9240921356468637, 0.9377593842722707, 0.9313096643890335, 0.9345071094419847, 0.9637965016202609, 0.9385349646642194, 0.9287018620037436, 0.9421268304072938, 0.9403263260175038, 0.9690199222589065, 0.9360045999885696, 0.9515299185656343, 0.9427432294059178, 0.9706799704549491, 0.962778292775965]}, {\"categories\": [\"0\", \"1\", \"2\", \"3\", \"4\", \"5\", \"6\", \"7\", \"8\", \"9\", \"10\", \"11\", \"12\", \"13\", \"14\", \"15\", \"16\", \"17\", \"18\", \"19\", \"20\", \"21\", \"22\", \"23\", \"24\"], \"mode\": \"lines\", \"name\": \"recall_score_macro_max\", \"stepped\": true, \"type\": \"scatter\", \"data\": [0.9552273987654436, 0.9552273987654436, 0.9552273987654436, 0.9552273987654436, 0.9552273987654436, 0.960278135083632, 0.960278135083632, 0.960278135083632, 0.960278135083632, 0.960278135083632, 0.960278135083632, 0.960278135083632, 0.960278135083632, 0.960278135083632, 0.9637965016202609, 0.9637965016202609, 0.9637965016202609, 0.9637965016202609, 0.9637965016202609, 0.9690199222589065, 0.9690199222589065, 0.9690199222589065, 0.9690199222589065, 0.9706799704549491, 0.9706799704549491]}], \"f1_score_micro\": [{\"categories\": [\"0\", \"1\", \"2\", \"3\", \"4\", \"5\", \"6\", \"7\", \"8\", \"9\", \"10\", \"11\", \"12\", \"13\", \"14\", \"15\", \"16\", \"17\", \"18\", \"19\", \"20\", \"21\", \"22\", \"23\", \"24\"], \"mode\": \"markers\", \"name\": \"f1_score_micro\", \"stepped\": false, \"type\": \"scatter\", \"data\": [0.9609366076527699, 0.956996002284409, 0.9394441271654295, 0.9413858747382449, 0.9510946126023224, 0.9629354654483153, 0.9530553969160481, 0.9433466590519703, 0.9492861222158767, 0.9433656957928802, 0.9276794212830761, 0.9453074433656958, 0.9356177422425281, 0.9394631639063393, 0.9667808871121265, 0.9433656957928804, 0.9375023795926138, 0.9492290119931468, 0.9472682276794213, 0.9726822767942128, 0.9335808109651629, 0.956996002284409, 0.9471730439748717, 0.9746240243670284, 0.9668189605939463]}, {\"categories\": [\"0\", \"1\", \"2\", \"3\", \"4\", \"5\", \"6\", \"7\", \"8\", \"9\", \"10\", \"11\", \"12\", \"13\", \"14\", \"15\", \"16\", \"17\", \"18\", \"19\", \"20\", \"21\", \"22\", \"23\", \"24\"], \"mode\": \"lines\", \"name\": \"f1_score_micro_max\", \"stepped\": true, \"type\": \"scatter\", \"data\": [0.9609366076527699, 0.9609366076527699, 0.9609366076527699, 0.9609366076527699, 0.9609366076527699, 0.9629354654483153, 0.9629354654483153, 0.9629354654483153, 0.9629354654483153, 0.9629354654483153, 0.9629354654483153, 0.9629354654483153, 0.9629354654483153, 0.9629354654483153, 0.9667808871121265, 0.9667808871121265, 0.9667808871121265, 0.9667808871121265, 0.9667808871121265, 0.9726822767942128, 0.9726822767942128, 0.9726822767942128, 0.9726822767942128, 0.9746240243670284, 0.9746240243670284]}], \"balanced_accuracy\": [{\"categories\": [\"0\", \"1\", \"2\", \"3\", \"4\", \"5\", \"6\", \"7\", \"8\", \"9\", \"10\", \"11\", \"12\", \"13\", \"14\", \"15\", \"16\", \"17\", \"18\", \"19\", \"20\", \"21\", \"22\", \"23\", \"24\"], \"mode\": \"markers\", \"name\": \"balanced_accuracy\", \"stepped\": false, \"type\": \"scatter\", \"data\": [0.9552273987654436, 0.9511759794172165, 0.9343123431487635, 0.9345628157982407, 0.9468215541871752, 0.960278135083632, 0.9490498496149771, 0.9403821313199296, 0.9424025876556886, 0.937188556065888, 0.9240921356468637, 0.9377593842722707, 0.9313096643890335, 0.9345071094419847, 0.9637965016202609, 0.9385349646642194, 0.9287018620037436, 0.9421268304072938, 0.9403263260175038, 0.9690199222589065, 0.9360045999885696, 0.9515299185656343, 0.9427432294059178, 0.9706799704549491, 0.962778292775965]}, {\"categories\": [\"0\", \"1\", \"2\", \"3\", \"4\", \"5\", \"6\", \"7\", \"8\", \"9\", \"10\", \"11\", \"12\", \"13\", \"14\", \"15\", \"16\", \"17\", \"18\", \"19\", \"20\", \"21\", \"22\", \"23\", \"24\"], \"mode\": \"lines\", \"name\": \"balanced_accuracy_max\", \"stepped\": true, \"type\": \"scatter\", \"data\": [0.9552273987654436, 0.9552273987654436, 0.9552273987654436, 0.9552273987654436, 0.9552273987654436, 0.960278135083632, 0.960278135083632, 0.960278135083632, 0.960278135083632, 0.960278135083632, 0.960278135083632, 0.960278135083632, 0.960278135083632, 0.960278135083632, 0.9637965016202609, 0.9637965016202609, 0.9637965016202609, 0.9637965016202609, 0.9637965016202609, 0.9690199222589065, 0.9690199222589065, 0.9690199222589065, 0.9690199222589065, 0.9706799704549491, 0.9706799704549491]}], \"log_loss\": [{\"categories\": [\"0\", \"1\", \"2\", \"3\", \"4\", \"5\", \"6\", \"7\", \"8\", \"9\", \"10\", \"11\", \"12\", \"13\", \"14\", \"15\", \"16\", \"17\", \"18\", \"19\", \"20\", \"21\", \"22\", \"23\", \"24\"], \"mode\": \"markers\", \"name\": \"log_loss\", \"stepped\": false, \"type\": \"scatter\", \"data\": [0.11545582367750254, 0.10819314486342432, 0.2259849977244114, 0.16552015372586493, 0.1953123122406261, 0.10634313165324419, 0.12221066035744559, 0.1536800161290624, 0.15764306623185975, 0.16431235589750395, 0.2356366966237146, 0.2190338280387784, 0.30069425330274707, 0.180304658459792, 0.09541499378156619, 0.29480577486173276, 0.1801288364759676, 0.16939229857194743, 0.1679217206814863, 0.08888004353342546, 0.18487855699468858, 0.1154953652237819, 0.12767828489141492, 0.08765950355357438, 0.12182772743919927]}, {\"categories\": [\"0\", \"1\", \"2\", \"3\", \"4\", \"5\", \"6\", \"7\", \"8\", \"9\", \"10\", \"11\", \"12\", \"13\", \"14\", \"15\", \"16\", \"17\", \"18\", \"19\", \"20\", \"21\", \"22\", \"23\", \"24\"], \"mode\": \"lines\", \"name\": \"log_loss_min\", \"stepped\": true, \"type\": \"scatter\", \"data\": [0.11545582367750254, 0.10819314486342432, 0.10819314486342432, 0.10819314486342432, 0.10819314486342432, 0.10634313165324419, 0.10634313165324419, 0.10634313165324419, 0.10634313165324419, 0.10634313165324419, 0.10634313165324419, 0.10634313165324419, 0.10634313165324419, 0.10634313165324419, 0.09541499378156619, 0.09541499378156619, 0.09541499378156619, 0.09541499378156619, 0.09541499378156619, 0.08888004353342546, 0.08888004353342546, 0.08888004353342546, 0.08888004353342546, 0.08765950355357438, 0.08765950355357438]}], \"average_precision_score_weighted\": [{\"categories\": [\"0\", \"1\", \"2\", \"3\", \"4\", \"5\", \"6\", \"7\", \"8\", \"9\", \"10\", \"11\", \"12\", \"13\", \"14\", \"15\", \"16\", \"17\", \"18\", \"19\", \"20\", \"21\", \"22\", \"23\", \"24\"], \"mode\": \"markers\", \"name\": \"average_precision_score_weighted\", \"stepped\": false, \"type\": \"scatter\", \"data\": [0.9935355693911253, 0.9913205972464152, 0.9819328915202069, 0.9890080334057008, 0.9880194261821483, 0.992139391797475, 0.9904738346633201, 0.9877684031384792, 0.9858673203471875, 0.9845121908689233, 0.977009166734911, 0.986069617265283, 0.9843139272065897, 0.9865181808264669, 0.9923764609640819, 0.9789828430139398, 0.9882230612379157, 0.9917293384920336, 0.989781549120476, 0.9943974039330976, 0.9882215352010275, 0.9913099748362859, 0.9903494953769674, 0.993835369892097, 0.9937579995058666]}, {\"categories\": [\"0\", \"1\", \"2\", \"3\", \"4\", \"5\", \"6\", \"7\", \"8\", \"9\", \"10\", \"11\", \"12\", \"13\", \"14\", \"15\", \"16\", \"17\", \"18\", \"19\", \"20\", \"21\", \"22\", \"23\", \"24\"], \"mode\": \"lines\", \"name\": \"average_precision_score_weighted_max\", \"stepped\": true, \"type\": \"scatter\", \"data\": [0.9935355693911253, 0.9935355693911253, 0.9935355693911253, 0.9935355693911253, 0.9935355693911253, 0.9935355693911253, 0.9935355693911253, 0.9935355693911253, 0.9935355693911253, 0.9935355693911253, 0.9935355693911253, 0.9935355693911253, 0.9935355693911253, 0.9935355693911253, 0.9935355693911253, 0.9935355693911253, 0.9935355693911253, 0.9935355693911253, 0.9935355693911253, 0.9943974039330976, 0.9943974039330976, 0.9943974039330976, 0.9943974039330976, 0.9943974039330976, 0.9943974039330976]}], \"f1_score_weighted\": [{\"categories\": [\"0\", \"1\", \"2\", \"3\", \"4\", \"5\", \"6\", \"7\", \"8\", \"9\", \"10\", \"11\", \"12\", \"13\", \"14\", \"15\", \"16\", \"17\", \"18\", \"19\", \"20\", \"21\", \"22\", \"23\", \"24\"], \"mode\": \"markers\", \"name\": \"f1_score_weighted\", \"stepped\": false, \"type\": \"scatter\", \"data\": [0.9607777793808723, 0.956845311729008, 0.9394394951127364, 0.9412734020964649, 0.9511201585647301, 0.962929103672306, 0.9530282118194744, 0.9433757775258089, 0.9490330181753974, 0.9431903976817276, 0.9277637298940707, 0.94515165613118, 0.9356022458473878, 0.9394346429887401, 0.9667645630606024, 0.943417305679221, 0.9371648252850525, 0.9489393000714781, 0.947097883631351, 0.97263812639584, 0.9339614171769345, 0.956884330415287, 0.9471442913852652, 0.9745613511827587, 0.9667507747096016]}, {\"categories\": [\"0\", \"1\", \"2\", \"3\", \"4\", \"5\", \"6\", \"7\", \"8\", \"9\", \"10\", \"11\", \"12\", \"13\", \"14\", \"15\", \"16\", \"17\", \"18\", \"19\", \"20\", \"21\", \"22\", \"23\", \"24\"], \"mode\": \"lines\", \"name\": \"f1_score_weighted_max\", \"stepped\": true, \"type\": \"scatter\", \"data\": [0.9607777793808723, 0.9607777793808723, 0.9607777793808723, 0.9607777793808723, 0.9607777793808723, 0.962929103672306, 0.962929103672306, 0.962929103672306, 0.962929103672306, 0.962929103672306, 0.962929103672306, 0.962929103672306, 0.962929103672306, 0.962929103672306, 0.9667645630606024, 0.9667645630606024, 0.9667645630606024, 0.9667645630606024, 0.9667645630606024, 0.97263812639584, 0.97263812639584, 0.97263812639584, 0.97263812639584, 0.9745613511827587, 0.9745613511827587]}], \"norm_macro_recall\": [{\"categories\": [\"0\", \"1\", \"2\", \"3\", \"4\", \"5\", \"6\", \"7\", \"8\", \"9\", \"10\", \"11\", \"12\", \"13\", \"14\", \"15\", \"16\", \"17\", \"18\", \"19\", \"20\", \"21\", \"22\", \"23\", \"24\"], \"mode\": \"markers\", \"name\": \"norm_macro_recall\", \"stepped\": false, \"type\": \"scatter\", \"data\": [0.9104547975308872, 0.9023519588344332, 0.8686246862975271, 0.8691256315964816, 0.8936431083743503, 0.9205562701672643, 0.8980996992299541, 0.8807642626398591, 0.8848051753113773, 0.874377112131776, 0.8481842712937272, 0.8755187685445416, 0.8626193287780669, 0.8690142188839696, 0.9275930032405215, 0.8770699293284387, 0.8574037240074869, 0.8842536608145879, 0.8806526520350078, 0.9380398445178132, 0.8720091999771391, 0.9030598371312685, 0.8854864588118356, 0.9413599409098982, 0.9255565855519301]}, {\"categories\": [\"0\", \"1\", \"2\", \"3\", \"4\", \"5\", \"6\", \"7\", \"8\", \"9\", \"10\", \"11\", \"12\", \"13\", \"14\", \"15\", \"16\", \"17\", \"18\", \"19\", \"20\", \"21\", \"22\", \"23\", \"24\"], \"mode\": \"lines\", \"name\": \"norm_macro_recall_max\", \"stepped\": true, \"type\": \"scatter\", \"data\": [0.9104547975308872, 0.9104547975308872, 0.9104547975308872, 0.9104547975308872, 0.9104547975308872, 0.9205562701672643, 0.9205562701672643, 0.9205562701672643, 0.9205562701672643, 0.9205562701672643, 0.9205562701672643, 0.9205562701672643, 0.9205562701672643, 0.9205562701672643, 0.9275930032405215, 0.9275930032405215, 0.9275930032405215, 0.9275930032405215, 0.9275930032405215, 0.9380398445178132, 0.9380398445178132, 0.9380398445178132, 0.9380398445178132, 0.9413599409098982, 0.9413599409098982]}], \"precision_score_macro\": [{\"categories\": [\"0\", \"1\", \"2\", \"3\", \"4\", \"5\", \"6\", \"7\", \"8\", \"9\", \"10\", \"11\", \"12\", \"13\", \"14\", \"15\", \"16\", \"17\", \"18\", \"19\", \"20\", \"21\", \"22\", \"23\", \"24\"], \"mode\": \"markers\", \"name\": \"precision_score_macro\", \"stepped\": false, \"type\": \"scatter\", \"data\": [0.963021446360079, 0.9582914961473442, 0.937218348342199, 0.9400581057042292, 0.9494413772291572, 0.9609319873144816, 0.9512836684286488, 0.9398126456982556, 0.9495344266013582, 0.9417748269729336, 0.9232135115638952, 0.946081195009584, 0.9336109004863093, 0.9369328428181646, 0.966002315391529, 0.9412176143124332, 0.9383978081195485, 0.9507659812440463, 0.9469927502466925, 0.9737688612080003, 0.9264740536244144, 0.9565494490570663, 0.9456205394269415, 0.9760137381337619, 0.966853340427134]}, {\"categories\": [\"0\", \"1\", \"2\", \"3\", \"4\", \"5\", \"6\", \"7\", \"8\", \"9\", \"10\", \"11\", \"12\", \"13\", \"14\", \"15\", \"16\", \"17\", \"18\", \"19\", \"20\", \"21\", \"22\", \"23\", \"24\"], \"mode\": \"lines\", \"name\": \"precision_score_macro_max\", \"stepped\": true, \"type\": \"scatter\", \"data\": [0.963021446360079, 0.963021446360079, 0.963021446360079, 0.963021446360079, 0.963021446360079, 0.963021446360079, 0.963021446360079, 0.963021446360079, 0.963021446360079, 0.963021446360079, 0.963021446360079, 0.963021446360079, 0.963021446360079, 0.963021446360079, 0.966002315391529, 0.966002315391529, 0.966002315391529, 0.966002315391529, 0.966002315391529, 0.9737688612080003, 0.9737688612080003, 0.9737688612080003, 0.9737688612080003, 0.9760137381337619, 0.9760137381337619]}], \"precision_score_weighted\": [{\"categories\": [\"0\", \"1\", \"2\", \"3\", \"4\", \"5\", \"6\", \"7\", \"8\", \"9\", \"10\", \"11\", \"12\", \"13\", \"14\", \"15\", \"16\", \"17\", \"18\", \"19\", \"20\", \"21\", \"22\", \"23\", \"24\"], \"mode\": \"markers\", \"name\": \"precision_score_weighted\", \"stepped\": false, \"type\": \"scatter\", \"data\": [0.962098472920465, 0.9581582580723678, 0.9413849279770117, 0.9424690454988902, 0.9521251465229958, 0.9643944368421076, 0.9546138514874045, 0.9446085480346127, 0.9500174903616572, 0.9436139574659119, 0.9296729677883304, 0.9468650416021387, 0.9362655011334399, 0.9404301039090404, 0.9677111239234533, 0.9447572424978696, 0.9392288249596812, 0.9511761812704098, 0.9484368753157131, 0.9733475194442608, 0.9373251788138036, 0.9578396582359947, 0.9492893976091159, 0.9752997103542305, 0.9674721161915227]}, {\"categories\": [\"0\", \"1\", \"2\", \"3\", \"4\", \"5\", \"6\", \"7\", \"8\", \"9\", \"10\", \"11\", \"12\", \"13\", \"14\", \"15\", \"16\", \"17\", \"18\", \"19\", \"20\", \"21\", \"22\", \"23\", \"24\"], \"mode\": \"lines\", \"name\": \"precision_score_weighted_max\", \"stepped\": true, \"type\": \"scatter\", \"data\": [0.962098472920465, 0.962098472920465, 0.962098472920465, 0.962098472920465, 0.962098472920465, 0.9643944368421076, 0.9643944368421076, 0.9643944368421076, 0.9643944368421076, 0.9643944368421076, 0.9643944368421076, 0.9643944368421076, 0.9643944368421076, 0.9643944368421076, 0.9677111239234533, 0.9677111239234533, 0.9677111239234533, 0.9677111239234533, 0.9677111239234533, 0.9733475194442608, 0.9733475194442608, 0.9733475194442608, 0.9733475194442608, 0.9752997103542305, 0.9752997103542305]}], \"recall_score_micro\": [{\"categories\": [\"0\", \"1\", \"2\", \"3\", \"4\", \"5\", \"6\", \"7\", \"8\", \"9\", \"10\", \"11\", \"12\", \"13\", \"14\", \"15\", \"16\", \"17\", \"18\", \"19\", \"20\", \"21\", \"22\", \"23\", \"24\"], \"mode\": \"markers\", \"name\": \"recall_score_micro\", \"stepped\": false, \"type\": \"scatter\", \"data\": [0.9609366076527699, 0.956996002284409, 0.9394441271654295, 0.9413858747382449, 0.9510946126023224, 0.9629354654483153, 0.9530553969160481, 0.9433466590519703, 0.9492861222158767, 0.9433656957928802, 0.9276794212830763, 0.9453074433656958, 0.9356177422425281, 0.9394631639063393, 0.9667808871121265, 0.9433656957928804, 0.9375023795926138, 0.9492290119931468, 0.9472682276794213, 0.9726822767942128, 0.9335808109651629, 0.956996002284409, 0.9471730439748717, 0.9746240243670284, 0.9668189605939463]}, {\"categories\": [\"0\", \"1\", \"2\", \"3\", \"4\", \"5\", \"6\", \"7\", \"8\", \"9\", \"10\", \"11\", \"12\", \"13\", \"14\", \"15\", \"16\", \"17\", \"18\", \"19\", \"20\", \"21\", \"22\", \"23\", \"24\"], \"mode\": \"lines\", \"name\": \"recall_score_micro_max\", \"stepped\": true, \"type\": \"scatter\", \"data\": [0.9609366076527699, 0.9609366076527699, 0.9609366076527699, 0.9609366076527699, 0.9609366076527699, 0.9629354654483153, 0.9629354654483153, 0.9629354654483153, 0.9629354654483153, 0.9629354654483153, 0.9629354654483153, 0.9629354654483153, 0.9629354654483153, 0.9629354654483153, 0.9667808871121265, 0.9667808871121265, 0.9667808871121265, 0.9667808871121265, 0.9667808871121265, 0.9726822767942128, 0.9726822767942128, 0.9726822767942128, 0.9726822767942128, 0.9746240243670284, 0.9746240243670284]}], \"accuracy\": [{\"categories\": [\"0\", \"1\", \"2\", \"3\", \"4\", \"5\", \"6\", \"7\", \"8\", \"9\", \"10\", \"11\", \"12\", \"13\", \"14\", \"15\", \"16\", \"17\", \"18\", \"19\", \"20\", \"21\", \"22\", \"23\", \"24\"], \"mode\": \"markers\", \"name\": \"accuracy\", \"stepped\": false, \"type\": \"scatter\", \"data\": [0.9609366076527699, 0.956996002284409, 0.9394441271654295, 0.9413858747382449, 0.9510946126023224, 0.9629354654483153, 0.9530553969160481, 0.9433466590519703, 0.9492861222158767, 0.9433656957928802, 0.9276794212830763, 0.9453074433656958, 0.9356177422425281, 0.9394631639063393, 0.9667808871121265, 0.9433656957928804, 0.9375023795926138, 0.9492290119931468, 0.9472682276794213, 0.9726822767942128, 0.9335808109651629, 0.956996002284409, 0.9471730439748717, 0.9746240243670284, 0.9668189605939463]}, {\"categories\": [\"0\", \"1\", \"2\", \"3\", \"4\", \"5\", \"6\", \"7\", \"8\", \"9\", \"10\", \"11\", \"12\", \"13\", \"14\", \"15\", \"16\", \"17\", \"18\", \"19\", \"20\", \"21\", \"22\", \"23\", \"24\"], \"mode\": \"lines\", \"name\": \"accuracy_max\", \"stepped\": true, \"type\": \"scatter\", \"data\": [0.9609366076527699, 0.9609366076527699, 0.9609366076527699, 0.9609366076527699, 0.9609366076527699, 0.9629354654483153, 0.9629354654483153, 0.9629354654483153, 0.9629354654483153, 0.9629354654483153, 0.9629354654483153, 0.9629354654483153, 0.9629354654483153, 0.9629354654483153, 0.9667808871121265, 0.9667808871121265, 0.9667808871121265, 0.9667808871121265, 0.9667808871121265, 0.9726822767942128, 0.9726822767942128, 0.9726822767942128, 0.9726822767942128, 0.9746240243670284, 0.9746240243670284]}], \"recall_score_weighted\": [{\"categories\": [\"0\", \"1\", \"2\", \"3\", \"4\", \"5\", \"6\", \"7\", \"8\", \"9\", \"10\", \"11\", \"12\", \"13\", \"14\", \"15\", \"16\", \"17\", \"18\", \"19\", \"20\", \"21\", \"22\", \"23\", \"24\"], \"mode\": \"markers\", \"name\": \"recall_score_weighted\", \"stepped\": false, \"type\": \"scatter\", \"data\": [0.9609366076527699, 0.956996002284409, 0.9394441271654295, 0.9413858747382449, 0.9510946126023224, 0.9629354654483153, 0.9530553969160481, 0.9433466590519703, 0.9492861222158767, 0.9433656957928802, 0.9276794212830763, 0.9453074433656958, 0.9356177422425281, 0.9394631639063393, 0.9667808871121265, 0.9433656957928804, 0.9375023795926138, 0.9492290119931468, 0.9472682276794213, 0.9726822767942128, 0.9335808109651629, 0.956996002284409, 0.9471730439748717, 0.9746240243670284, 0.9668189605939463]}, {\"categories\": [\"0\", \"1\", \"2\", \"3\", \"4\", \"5\", \"6\", \"7\", \"8\", \"9\", \"10\", \"11\", \"12\", \"13\", \"14\", \"15\", \"16\", \"17\", \"18\", \"19\", \"20\", \"21\", \"22\", \"23\", \"24\"], \"mode\": \"lines\", \"name\": \"recall_score_weighted_max\", \"stepped\": true, \"type\": \"scatter\", \"data\": [0.9609366076527699, 0.9609366076527699, 0.9609366076527699, 0.9609366076527699, 0.9609366076527699, 0.9629354654483153, 0.9629354654483153, 0.9629354654483153, 0.9629354654483153, 0.9629354654483153, 0.9629354654483153, 0.9629354654483153, 0.9629354654483153, 0.9629354654483153, 0.9667808871121265, 0.9667808871121265, 0.9667808871121265, 0.9667808871121265, 0.9667808871121265, 0.9726822767942128, 0.9726822767942128, 0.9726822767942128, 0.9726822767942128, 0.9746240243670284, 0.9746240243670284]}], \"average_precision_score_macro\": [{\"categories\": [\"0\", \"1\", \"2\", \"3\", \"4\", \"5\", \"6\", \"7\", \"8\", \"9\", \"10\", \"11\", \"12\", \"13\", \"14\", \"15\", \"16\", \"17\", \"18\", \"19\", \"20\", \"21\", \"22\", \"23\", \"24\"], \"mode\": \"markers\", \"name\": \"average_precision_score_macro\", \"stepped\": false, \"type\": \"scatter\", \"data\": [0.9931680896958175, 0.9909567459320673, 0.9809278194512411, 0.9877424069521702, 0.9876318396888676, 0.9918266864563101, 0.9898780542145561, 0.9868214049271392, 0.9849529914646744, 0.9836274067031991, 0.9769190004077067, 0.9856580713476045, 0.9833078718167718, 0.9853860075162973, 0.9921026696822043, 0.9784344486299256, 0.9871464493340794, 0.9911258348002262, 0.9890057445402818, 0.9942993273240258, 0.9868863529794953, 0.9909137355664559, 0.9897682548884322, 0.9937137369738321, 0.9935797248259368]}, {\"categories\": [\"0\", \"1\", \"2\", \"3\", \"4\", \"5\", \"6\", \"7\", \"8\", \"9\", \"10\", \"11\", \"12\", \"13\", \"14\", \"15\", \"16\", \"17\", \"18\", \"19\", \"20\", \"21\", \"22\", \"23\", \"24\"], \"mode\": \"lines\", \"name\": \"average_precision_score_macro_max\", \"stepped\": true, \"type\": \"scatter\", \"data\": [0.9931680896958175, 0.9931680896958175, 0.9931680896958175, 0.9931680896958175, 0.9931680896958175, 0.9931680896958175, 0.9931680896958175, 0.9931680896958175, 0.9931680896958175, 0.9931680896958175, 0.9931680896958175, 0.9931680896958175, 0.9931680896958175, 0.9931680896958175, 0.9931680896958175, 0.9931680896958175, 0.9931680896958175, 0.9931680896958175, 0.9931680896958175, 0.9942993273240258, 0.9942993273240258, 0.9942993273240258, 0.9942993273240258, 0.9942993273240258, 0.9942993273240258]}], \"weighted_accuracy\": [{\"categories\": [\"0\", \"1\", \"2\", \"3\", \"4\", \"5\", \"6\", \"7\", \"8\", \"9\", \"10\", \"11\", \"12\", \"13\", \"14\", \"15\", \"16\", \"17\", \"18\", \"19\", \"20\", \"21\", \"22\", \"23\", \"24\"], \"mode\": \"markers\", \"name\": \"weighted_accuracy\", \"stepped\": false, \"type\": \"scatter\", \"data\": [0.9658939322784346, 0.9620815878189631, 0.9439759228825404, 0.9471581350293189, 0.9547029839146264, 0.9653263427115413, 0.9566992632851224, 0.9460540418788144, 0.9548680501703366, 0.9484967900413894, 0.9310342418534793, 0.9517485941354942, 0.9391846882434549, 0.9437465331865116, 0.969372242574627, 0.9475918385457062, 0.9449717182374574, 0.9553721681749, 0.9531612380432932, 0.975684399263209, 0.9318421659624654, 0.9616973334074475, 0.9513000825980485, 0.9779118169785572, 0.9703085696965577]}, {\"categories\": [\"0\", \"1\", \"2\", \"3\", \"4\", \"5\", \"6\", \"7\", \"8\", \"9\", \"10\", \"11\", \"12\", \"13\", \"14\", \"15\", \"16\", \"17\", \"18\", \"19\", \"20\", \"21\", \"22\", \"23\", \"24\"], \"mode\": \"lines\", \"name\": \"weighted_accuracy_max\", \"stepped\": true, \"type\": \"scatter\", \"data\": [0.9658939322784346, 0.9658939322784346, 0.9658939322784346, 0.9658939322784346, 0.9658939322784346, 0.9658939322784346, 0.9658939322784346, 0.9658939322784346, 0.9658939322784346, 0.9658939322784346, 0.9658939322784346, 0.9658939322784346, 0.9658939322784346, 0.9658939322784346, 0.969372242574627, 0.969372242574627, 0.969372242574627, 0.969372242574627, 0.969372242574627, 0.975684399263209, 0.975684399263209, 0.975684399263209, 0.975684399263209, 0.9779118169785572, 0.9779118169785572]}], \"matthews_correlation\": [{\"categories\": [\"0\", \"1\", \"2\", \"3\", \"4\", \"5\", \"6\", \"7\", \"8\", \"9\", \"10\", \"11\", \"12\", \"13\", \"14\", \"15\", \"16\", \"17\", \"18\", \"19\", \"20\", \"21\", \"22\", \"23\", \"24\"], \"mode\": \"markers\", \"name\": \"matthews_correlation\", \"stepped\": false, \"type\": \"scatter\", \"data\": [0.9181622831293854, 0.9093946164452806, 0.8713881608609126, 0.874555805118359, 0.8961865667988815, 0.921142575884847, 0.9002354946501377, 0.8800961446102618, 0.8918303116374483, 0.878895856725217, 0.8471618630968246, 0.8836330321332951, 0.8648403784988984, 0.8713588065847052, 0.9297455155141137, 0.8796249026245228, 0.8669181604947738, 0.8927513562482645, 0.8872112580462531, 0.9427674770650857, 0.8623000618057144, 0.9080367101700938, 0.8882231391347377, 0.9466622472412295, 0.9296147294749169]}, {\"categories\": [\"0\", \"1\", \"2\", \"3\", \"4\", \"5\", \"6\", \"7\", \"8\", \"9\", \"10\", \"11\", \"12\", \"13\", \"14\", \"15\", \"16\", \"17\", \"18\", \"19\", \"20\", \"21\", \"22\", \"23\", \"24\"], \"mode\": \"lines\", \"name\": \"matthews_correlation_max\", \"stepped\": true, \"type\": \"scatter\", \"data\": [0.9181622831293854, 0.9181622831293854, 0.9181622831293854, 0.9181622831293854, 0.9181622831293854, 0.921142575884847, 0.921142575884847, 0.921142575884847, 0.921142575884847, 0.921142575884847, 0.921142575884847, 0.921142575884847, 0.921142575884847, 0.921142575884847, 0.9297455155141137, 0.9297455155141137, 0.9297455155141137, 0.9297455155141137, 0.9297455155141137, 0.9427674770650857, 0.9427674770650857, 0.9427674770650857, 0.9427674770650857, 0.9466622472412295, 0.9466622472412295]}], \"AUC_macro\": [{\"categories\": [\"0\", \"1\", \"2\", \"3\", \"4\", \"5\", \"6\", \"7\", \"8\", \"9\", \"10\", \"11\", \"12\", \"13\", \"14\", \"15\", \"16\", \"17\", \"18\", \"19\", \"20\", \"21\", \"22\", \"23\", \"24\"], \"mode\": \"markers\", \"name\": \"AUC_macro\", \"stepped\": false, \"type\": \"scatter\", \"data\": [0.9926974127750643, 0.9906537586866527, 0.9816584694004721, 0.9877663117197187, 0.9873486997016929, 0.9921369601568895, 0.9894103040493871, 0.9861817361280039, 0.9847514016615249, 0.9841157470132945, 0.9774835300239347, 0.9861350604027542, 0.9838972017217686, 0.9851545795144391, 0.9919399046465424, 0.9801584407923146, 0.9869785277632758, 0.9907772079500315, 0.9886506994447213, 0.9940314775199155, 0.9868041511020792, 0.9905380211154032, 0.9892547726899423, 0.9935999981296227, 0.9934824113103258]}, {\"categories\": [\"0\", \"1\", \"2\", \"3\", \"4\", \"5\", \"6\", \"7\", \"8\", \"9\", \"10\", \"11\", \"12\", \"13\", \"14\", \"15\", \"16\", \"17\", \"18\", \"19\", \"20\", \"21\", \"22\", \"23\", \"24\"], \"mode\": \"lines\", \"name\": \"AUC_macro_max\", \"stepped\": true, \"type\": \"scatter\", \"data\": [0.9926974127750643, 0.9926974127750643, 0.9926974127750643, 0.9926974127750643, 0.9926974127750643, 0.9926974127750643, 0.9926974127750643, 0.9926974127750643, 0.9926974127750643, 0.9926974127750643, 0.9926974127750643, 0.9926974127750643, 0.9926974127750643, 0.9926974127750643, 0.9926974127750643, 0.9926974127750643, 0.9926974127750643, 0.9926974127750643, 0.9926974127750643, 0.9940314775199155, 0.9940314775199155, 0.9940314775199155, 0.9940314775199155, 0.9940314775199155, 0.9940314775199155]}], \"AUC_weighted\": [{\"categories\": [\"0\", \"1\", \"2\", \"3\", \"4\", \"5\", \"6\", \"7\", \"8\", \"9\", \"10\", \"11\", \"12\", \"13\", \"14\", \"15\", \"16\", \"17\", \"18\", \"19\", \"20\", \"21\", \"22\", \"23\", \"24\"], \"mode\": \"markers\", \"name\": \"AUC_weighted\", \"stepped\": false, \"type\": \"scatter\", \"data\": [0.9926974127750643, 0.9906537586866527, 0.9816584694004721, 0.9877663117197187, 0.9873486997016931, 0.9921369601568895, 0.9894103040493869, 0.9861817361280039, 0.984751401661525, 0.9841157470132946, 0.9774835300239347, 0.9861350604027542, 0.9838972017217686, 0.9851545795144391, 0.9919399046465424, 0.9801584407923144, 0.9869785277632758, 0.9907772079500315, 0.9886506994447213, 0.9940314775199155, 0.9868041511020793, 0.9905380211154033, 0.9892547726899423, 0.9935999981296227, 0.9934824113103259]}, {\"categories\": [\"0\", \"1\", \"2\", \"3\", \"4\", \"5\", \"6\", \"7\", \"8\", \"9\", \"10\", \"11\", \"12\", \"13\", \"14\", \"15\", \"16\", \"17\", \"18\", \"19\", \"20\", \"21\", \"22\", \"23\", \"24\"], \"mode\": \"lines\", \"name\": \"AUC_weighted_max\", \"stepped\": true, \"type\": \"scatter\", \"data\": [0.9926974127750643, 0.9926974127750643, 0.9926974127750643, 0.9926974127750643, 0.9926974127750643, 0.9926974127750643, 0.9926974127750643, 0.9926974127750643, 0.9926974127750643, 0.9926974127750643, 0.9926974127750643, 0.9926974127750643, 0.9926974127750643, 0.9926974127750643, 0.9926974127750643, 0.9926974127750643, 0.9926974127750643, 0.9926974127750643, 0.9926974127750643, 0.9940314775199155, 0.9940314775199155, 0.9940314775199155, 0.9940314775199155, 0.9940314775199155, 0.9940314775199155]}], \"average_precision_score_micro\": [{\"categories\": [\"0\", \"1\", \"2\", \"3\", \"4\", \"5\", \"6\", \"7\", \"8\", \"9\", \"10\", \"11\", \"12\", \"13\", \"14\", \"15\", \"16\", \"17\", \"18\", \"19\", \"20\", \"21\", \"22\", \"23\", \"24\"], \"mode\": \"markers\", \"name\": \"average_precision_score_micro\", \"stepped\": false, \"type\": \"scatter\", \"data\": [0.9935588817841822, 0.9909562288831083, 0.982316321156194, 0.9888616872277843, 0.988160953183387, 0.992649445230071, 0.9895423926775401, 0.9868112828558845, 0.9851140367398129, 0.985009554677785, 0.977209556972922, 0.9817135883185415, 0.9831872626147854, 0.986427982228548, 0.9926535850295555, 0.9783064448007245, 0.9871920555456108, 0.9901537676359394, 0.988991311071754, 0.994656266224235, 0.98698936891054, 0.9904503948713664, 0.9889949739916686, 0.9934461142689122, 0.9947695922759442]}, {\"categories\": [\"0\", \"1\", \"2\", \"3\", \"4\", \"5\", \"6\", \"7\", \"8\", \"9\", \"10\", \"11\", \"12\", \"13\", \"14\", \"15\", \"16\", \"17\", \"18\", \"19\", \"20\", \"21\", \"22\", \"23\", \"24\"], \"mode\": \"lines\", \"name\": \"average_precision_score_micro_max\", \"stepped\": true, \"type\": \"scatter\", \"data\": [0.9935588817841822, 0.9935588817841822, 0.9935588817841822, 0.9935588817841822, 0.9935588817841822, 0.9935588817841822, 0.9935588817841822, 0.9935588817841822, 0.9935588817841822, 0.9935588817841822, 0.9935588817841822, 0.9935588817841822, 0.9935588817841822, 0.9935588817841822, 0.9935588817841822, 0.9935588817841822, 0.9935588817841822, 0.9935588817841822, 0.9935588817841822, 0.994656266224235, 0.994656266224235, 0.994656266224235, 0.994656266224235, 0.994656266224235, 0.9947695922759442]}], \"precision_score_micro\": [{\"categories\": [\"0\", \"1\", \"2\", \"3\", \"4\", \"5\", \"6\", \"7\", \"8\", \"9\", \"10\", \"11\", \"12\", \"13\", \"14\", \"15\", \"16\", \"17\", \"18\", \"19\", \"20\", \"21\", \"22\", \"23\", \"24\"], \"mode\": \"markers\", \"name\": \"precision_score_micro\", \"stepped\": false, \"type\": \"scatter\", \"data\": [0.9609366076527699, 0.956996002284409, 0.9394441271654295, 0.9413858747382449, 0.9510946126023224, 0.9629354654483153, 0.9530553969160481, 0.9433466590519703, 0.9492861222158767, 0.9433656957928802, 0.9276794212830763, 0.9453074433656958, 0.9356177422425281, 0.9394631639063393, 0.9667808871121265, 0.9433656957928804, 0.9375023795926138, 0.9492290119931468, 0.9472682276794213, 0.9726822767942128, 0.9335808109651629, 0.956996002284409, 0.9471730439748717, 0.9746240243670284, 0.9668189605939463]}, {\"categories\": [\"0\", \"1\", \"2\", \"3\", \"4\", \"5\", \"6\", \"7\", \"8\", \"9\", \"10\", \"11\", \"12\", \"13\", \"14\", \"15\", \"16\", \"17\", \"18\", \"19\", \"20\", \"21\", \"22\", \"23\", \"24\"], \"mode\": \"lines\", \"name\": \"precision_score_micro_max\", \"stepped\": true, \"type\": \"scatter\", \"data\": [0.9609366076527699, 0.9609366076527699, 0.9609366076527699, 0.9609366076527699, 0.9609366076527699, 0.9629354654483153, 0.9629354654483153, 0.9629354654483153, 0.9629354654483153, 0.9629354654483153, 0.9629354654483153, 0.9629354654483153, 0.9629354654483153, 0.9629354654483153, 0.9667808871121265, 0.9667808871121265, 0.9667808871121265, 0.9667808871121265, 0.9667808871121265, 0.9726822767942128, 0.9726822767942128, 0.9726822767942128, 0.9726822767942128, 0.9746240243670284, 0.9746240243670284]}], \"AUC_micro\": [{\"categories\": [\"0\", \"1\", \"2\", \"3\", \"4\", \"5\", \"6\", \"7\", \"8\", \"9\", \"10\", \"11\", \"12\", \"13\", \"14\", \"15\", \"16\", \"17\", \"18\", \"19\", \"20\", \"21\", \"22\", \"23\", \"24\"], \"mode\": \"markers\", \"name\": \"AUC_micro\", \"stepped\": false, \"type\": \"scatter\", \"data\": [0.9936016799878555, 0.9914919376158788, 0.983541537947603, 0.9885332084221614, 0.9893215534574915, 0.99278686815678, 0.9901784332968797, 0.9867728299284094, 0.9856760755568356, 0.9862459981802573, 0.9801856192769961, 0.9842576317924662, 0.9842924563806585, 0.9864127861957283, 0.9931106947888579, 0.9821415746439743, 0.9870737177044479, 0.9901797324919333, 0.9888925092399585, 0.9947606543869721, 0.9864431532946154, 0.9911474026844015, 0.989617240829341, 0.9941554433065525, 0.9947743059009657]}, {\"categories\": [\"0\", \"1\", \"2\", \"3\", \"4\", \"5\", \"6\", \"7\", \"8\", \"9\", \"10\", \"11\", \"12\", \"13\", \"14\", \"15\", \"16\", \"17\", \"18\", \"19\", \"20\", \"21\", \"22\", \"23\", \"24\"], \"mode\": \"lines\", \"name\": \"AUC_micro_max\", \"stepped\": true, \"type\": \"scatter\", \"data\": [0.9936016799878555, 0.9936016799878555, 0.9936016799878555, 0.9936016799878555, 0.9936016799878555, 0.9936016799878555, 0.9936016799878555, 0.9936016799878555, 0.9936016799878555, 0.9936016799878555, 0.9936016799878555, 0.9936016799878555, 0.9936016799878555, 0.9936016799878555, 0.9936016799878555, 0.9936016799878555, 0.9936016799878555, 0.9936016799878555, 0.9936016799878555, 0.9947606543869721, 0.9947606543869721, 0.9947606543869721, 0.9947606543869721, 0.9947606543869721, 0.9947743059009657]}], \"f1_score_macro\": [{\"categories\": [\"0\", \"1\", \"2\", \"3\", \"4\", \"5\", \"6\", \"7\", \"8\", \"9\", \"10\", \"11\", \"12\", \"13\", \"14\", \"15\", \"16\", \"17\", \"18\", \"19\", \"20\", \"21\", \"22\", \"23\", \"24\"], \"mode\": \"markers\", \"name\": \"f1_score_macro\", \"stepped\": false, \"type\": \"scatter\", \"data\": [0.958307137324991, 0.9539374484913745, 0.9346431659236313, 0.9365990644653938, 0.9475662482108387, 0.9598009402283207, 0.9492641773215313, 0.939396599954628, 0.9452524994804306, 0.9391177295480251, 0.9225798492002386, 0.9407880359773342, 0.9320427358101157, 0.9351230915198073, 0.9643659367275335, 0.9390960774346642, 0.9321828157808376, 0.9450561663264248, 0.9428022204430053, 0.970998414848579, 0.9295326324722335, 0.9534674211480818, 0.9429514894060352, 0.9729179662136069, 0.9644068180813019]}, {\"categories\": [\"0\", \"1\", \"2\", \"3\", \"4\", \"5\", \"6\", \"7\", \"8\", \"9\", \"10\", \"11\", \"12\", \"13\", \"14\", \"15\", \"16\", \"17\", \"18\", \"19\", \"20\", \"21\", \"22\", \"23\", \"24\"], \"mode\": \"lines\", \"name\": \"f1_score_macro_max\", \"stepped\": true, \"type\": \"scatter\", \"data\": [0.958307137324991, 0.958307137324991, 0.958307137324991, 0.958307137324991, 0.958307137324991, 0.9598009402283207, 0.9598009402283207, 0.9598009402283207, 0.9598009402283207, 0.9598009402283207, 0.9598009402283207, 0.9598009402283207, 0.9598009402283207, 0.9598009402283207, 0.9643659367275335, 0.9643659367275335, 0.9643659367275335, 0.9643659367275335, 0.9643659367275335, 0.970998414848579, 0.970998414848579, 0.970998414848579, 0.970998414848579, 0.9729179662136069, 0.9729179662136069]}]}, \"metricName\": null, \"primaryMetricName\": \"accuracy\", \"showLegend\": false}, \"run_metrics\": [{\"name\": \"experiment_status\", \"run_id\": \"AutoML_7ce25c35-2267-43dc-b6c4-ffa20042674a\", \"categories\": [0, 1, 2, 3, 4, 5, 6, 7, 8, 9, 10, 11, 12, 13], \"series\": [{\"data\": [\"DatasetEvaluation\", \"FeaturesGeneration\", \"DatasetFeaturization\", \"DatasetFeaturizationCompleted\", \"DatasetCrossValidationSplit\", \"ModelSelection\", \"BestRunExplainModel\", \"ModelExplanationDataSetSetup\", \"PickSurrogateModel\", \"EngineeredFeatureExplanations\", \"EngineeredFeatureExplanations\", \"RawFeaturesExplanations\", \"RawFeaturesExplanations\", \"BestRunExplainModel\"]}]}, {\"name\": \"experiment_status_description\", \"run_id\": \"AutoML_7ce25c35-2267-43dc-b6c4-ffa20042674a\", \"categories\": [0, 1, 2, 3, 4, 5, 6, 7, 8, 9, 10, 11, 12, 13], \"series\": [{\"data\": [\"Gathering dataset statistics.\", \"Generating features for the dataset.\", \"Beginning to fit featurizers and featurize the dataset.\", \"Completed fit featurizers and featurizing the dataset.\", \"Generating individually featurized CV splits.\", \"Beginning model selection.\", \"Best run model explanations started\", \"Model explanations data setup completed\", \"Choosing LightGBM as the surrogate model for explanations\", \"Computation of engineered features started\", \"Computation of engineered features completed\", \"Computation of raw features started\", \"Computation of raw features completed\", \"Best run model explanations completed\"]}]}, {\"name\": \"norm_macro_recall\", \"run_id\": \"AutoML_7ce25c35-2267-43dc-b6c4-ffa20042674a\", \"categories\": [0], \"series\": [{\"data\": [0.9413599409098982]}]}, {\"name\": \"f1_score_macro\", \"run_id\": \"AutoML_7ce25c35-2267-43dc-b6c4-ffa20042674a\", \"categories\": [0], \"series\": [{\"data\": [0.9729179662136069]}]}, {\"name\": \"weighted_accuracy\", \"run_id\": \"AutoML_7ce25c35-2267-43dc-b6c4-ffa20042674a\", \"categories\": [0], \"series\": [{\"data\": [0.9779118169785572]}]}, {\"name\": \"f1_score_micro\", \"run_id\": \"AutoML_7ce25c35-2267-43dc-b6c4-ffa20042674a\", \"categories\": [0], \"series\": [{\"data\": [0.9746240243670284]}]}, {\"name\": \"recall_score_micro\", \"run_id\": \"AutoML_7ce25c35-2267-43dc-b6c4-ffa20042674a\", \"categories\": [0], \"series\": [{\"data\": [0.9746240243670284]}]}, {\"name\": \"average_precision_score_macro\", \"run_id\": \"AutoML_7ce25c35-2267-43dc-b6c4-ffa20042674a\", \"categories\": [0], \"series\": [{\"data\": [0.9937137369738321]}]}, {\"name\": \"precision_score_micro\", \"run_id\": \"AutoML_7ce25c35-2267-43dc-b6c4-ffa20042674a\", \"categories\": [0], \"series\": [{\"data\": [0.9746240243670284]}]}, {\"name\": \"f1_score_weighted\", \"run_id\": \"AutoML_7ce25c35-2267-43dc-b6c4-ffa20042674a\", \"categories\": [0], \"series\": [{\"data\": [0.9745613511827587]}]}, {\"name\": \"AUC_weighted\", \"run_id\": \"AutoML_7ce25c35-2267-43dc-b6c4-ffa20042674a\", \"categories\": [0], \"series\": [{\"data\": [0.9935999981296227]}]}, {\"name\": \"precision_score_weighted\", \"run_id\": \"AutoML_7ce25c35-2267-43dc-b6c4-ffa20042674a\", \"categories\": [0], \"series\": [{\"data\": [0.9752997103542305]}]}, {\"name\": \"precision_score_macro\", \"run_id\": \"AutoML_7ce25c35-2267-43dc-b6c4-ffa20042674a\", \"categories\": [0], \"series\": [{\"data\": [0.9760137381337619]}]}, {\"name\": \"recall_score_macro\", \"run_id\": \"AutoML_7ce25c35-2267-43dc-b6c4-ffa20042674a\", \"categories\": [0], \"series\": [{\"data\": [0.9706799704549491]}]}, {\"name\": \"average_precision_score_weighted\", \"run_id\": \"AutoML_7ce25c35-2267-43dc-b6c4-ffa20042674a\", \"categories\": [0], \"series\": [{\"data\": [0.993835369892097]}]}, {\"name\": \"matthews_correlation\", \"run_id\": \"AutoML_7ce25c35-2267-43dc-b6c4-ffa20042674a\", \"categories\": [0], \"series\": [{\"data\": [0.9466622472412295]}]}, {\"name\": \"accuracy\", \"run_id\": \"AutoML_7ce25c35-2267-43dc-b6c4-ffa20042674a\", \"categories\": [0], \"series\": [{\"data\": [0.9746240243670284]}]}, {\"name\": \"recall_score_weighted\", \"run_id\": \"AutoML_7ce25c35-2267-43dc-b6c4-ffa20042674a\", \"categories\": [0], \"series\": [{\"data\": [0.9746240243670284]}]}, {\"name\": \"average_precision_score_micro\", \"run_id\": \"AutoML_7ce25c35-2267-43dc-b6c4-ffa20042674a\", \"categories\": [0], \"series\": [{\"data\": [0.9934461142689122]}]}, {\"name\": \"AUC_macro\", \"run_id\": \"AutoML_7ce25c35-2267-43dc-b6c4-ffa20042674a\", \"categories\": [0], \"series\": [{\"data\": [0.9935999981296227]}]}, {\"name\": \"log_loss\", \"run_id\": \"AutoML_7ce25c35-2267-43dc-b6c4-ffa20042674a\", \"categories\": [0], \"series\": [{\"data\": [0.08765950355357438]}]}, {\"name\": \"AUC_micro\", \"run_id\": \"AutoML_7ce25c35-2267-43dc-b6c4-ffa20042674a\", \"categories\": [0], \"series\": [{\"data\": [0.9941554433065525]}]}, {\"name\": \"balanced_accuracy\", \"run_id\": \"AutoML_7ce25c35-2267-43dc-b6c4-ffa20042674a\", \"categories\": [0], \"series\": [{\"data\": [0.9706799704549491]}]}], \"run_logs\": \"\\nRun is completed.\", \"graph\": {}, \"widget_settings\": {\"childWidgetDisplay\": \"popup\", \"send_telemetry\": false, \"log_level\": \"INFO\", \"sdk_version\": \"1.20.0\"}, \"loading\": false}"
          },
          "metadata": {}
        },
        {
          "output_type": "stream",
          "name": "stdout",
          "text": [
            "\n",
            "\n",
            "****************************************************************************************************\n",
            "DATA GUARDRAILS: \n",
            "\n",
            "TYPE:         Class balancing detection\n",
            "STATUS:       PASSED\n",
            "DESCRIPTION:  Your inputs were analyzed, and all classes are balanced in your training data.\n",
            "              Learn more about imbalanced data: https://aka.ms/AutomatedMLImbalancedData\n",
            "\n",
            "****************************************************************************************************\n",
            "\n",
            "TYPE:         Missing feature values imputation\n",
            "STATUS:       PASSED\n",
            "DESCRIPTION:  No feature missing values were detected in the training data.\n",
            "              Learn more about missing value imputation: https://aka.ms/AutomatedMLFeaturization\n",
            "\n",
            "****************************************************************************************************\n",
            "\n",
            "TYPE:         High cardinality feature detection\n",
            "STATUS:       PASSED\n",
            "DESCRIPTION:  Your inputs were analyzed, and no high cardinality features were detected.\n",
            "              Learn more about high cardinality feature handling: https://aka.ms/AutomatedMLFeaturization\n",
            "\n",
            "****************************************************************************************************\n",
            "\n",
            "****************************************************************************************************\n",
            "ITERATION: The iteration being evaluated.\n",
            "PIPELINE: A summary description of the pipeline being evaluated.\n",
            "DURATION: Time taken for the current iteration.\n",
            "METRIC: The result of computing score on the fitted pipeline.\n",
            "BEST: The best observed score thus far.\n",
            "****************************************************************************************************\n",
            "\n",
            " ITERATION   PIPELINE                                       DURATION      METRIC      BEST\n",
            "         0   MaxAbsScaler LightGBM                          0:00:49       0.9609    0.9609\n",
            "         1   MaxAbsScaler XGBoostClassifier                 0:00:48       0.9570    0.9609\n",
            "         2   MinMaxScaler RandomForest                      0:00:47       0.9394    0.9609\n",
            "         3   MinMaxScaler RandomForest                      0:00:45       0.9414    0.9609\n",
            "         4   MinMaxScaler RandomForest                      0:00:43       0.9511    0.9609\n",
            "         5   MinMaxScaler SVM                               0:00:46       0.9629    0.9629\n",
            "         6   MaxAbsScaler GradientBoosting                  0:00:55       0.9531    0.9629\n",
            "         7   StandardScalerWrapper RandomForest             0:00:50       0.9433    0.9629\n",
            "         8   SparseNormalizer LightGBM                      0:01:16       0.9493    0.9629\n",
            "         9   SparseNormalizer XGBoostClassifier             0:00:45       0.9434    0.9629\n",
            "        10   RobustScaler RandomForest                      0:00:45       0.9277    0.9629\n",
            "        11   MaxAbsScaler LightGBM                          0:00:52       0.9453    0.9629\n",
            "        12   SparseNormalizer XGBoostClassifier             0:00:39       0.9356    0.9629\n",
            "        13   RobustScaler ExtremeRandomTrees                0:00:55       0.9395    0.9629\n",
            "        14   StandardScalerWrapper GradientBoosting         0:05:18       0.9668    0.9668\n",
            "        15   StandardScalerWrapper XGBoostClassifier        0:00:52       0.9434    0.9668\n",
            "        16   StandardScalerWrapper ExtremeRandomTrees       0:00:49       0.9375    0.9668\n",
            "        17   StandardScalerWrapper ExtremeRandomTrees       0:00:50       0.9492    0.9668\n",
            "        18   RobustScaler ExtremeRandomTrees                0:00:49       0.9473    0.9668\n",
            "        19   StandardScalerWrapper LogisticRegression       0:00:51       0.9727    0.9727\n",
            "        20   StandardScalerWrapper RandomForest             0:00:46       0.9336    0.9727\n",
            "        21   MaxAbsScaler LightGBM                          0:00:59       0.9570    0.9727\n",
            "        22   StandardScalerWrapper LightGBM                 0:00:46       0.9472    0.9727\n",
            "        23    VotingEnsemble                                0:01:11       0.9746    0.9746\n",
            "        24    StackEnsemble                                 0:01:14       0.9668    0.9746\n"
          ]
        },
        {
          "output_type": "execute_result",
          "execution_count": 12,
          "data": {
            "text/plain": "{'runId': 'AutoML_7ce25c35-2267-43dc-b6c4-ffa20042674a',\n 'target': 'cpucluster',\n 'status': 'Completed',\n 'startTimeUtc': '2021-01-26T07:38:00.954055Z',\n 'endTimeUtc': '2021-01-26T08:19:58.551299Z',\n 'properties': {'num_iterations': '1000',\n  'training_type': 'TrainFull',\n  'acquisition_function': 'EI',\n  'primary_metric': 'accuracy',\n  'train_split': '0',\n  'acquisition_parameter': '0',\n  'num_cross_validation': '5',\n  'target': 'cpucluster',\n  'AMLSettingsJsonString': '{\"path\":null,\"name\":\"capstone-project-automl\",\"subscription_id\":\"9b72f9e6-56c5-4c16-991b-19c652994860\",\"resource_group\":\"aml-quickstarts-136084\",\"workspace_name\":\"quick-starts-ws-136084\",\"region\":\"southcentralus\",\"compute_target\":\"cpucluster\",\"spark_service\":null,\"azure_service\":\"remote\",\"many_models\":false,\"pipeline_fetch_max_batch_size\":1,\"iterations\":1000,\"primary_metric\":\"accuracy\",\"task_type\":\"classification\",\"data_script\":null,\"validation_size\":0.0,\"n_cross_validations\":5,\"y_min\":null,\"y_max\":null,\"num_classes\":null,\"featurization\":\"auto\",\"_ignore_package_version_incompatibilities\":false,\"is_timeseries\":false,\"max_cores_per_iteration\":1,\"max_concurrent_iterations\":1,\"iteration_timeout_minutes\":null,\"mem_in_mb\":null,\"enforce_time_on_windows\":false,\"experiment_timeout_minutes\":30,\"experiment_exit_score\":null,\"whitelist_models\":null,\"blacklist_algos\":[\"TensorFlowLinearClassifier\",\"TensorFlowDNN\"],\"supported_models\":[\"RandomForest\",\"TensorFlowDNN\",\"AveragedPerceptronClassifier\",\"BernoulliNaiveBayes\",\"SGD\",\"DecisionTree\",\"MultinomialNaiveBayes\",\"KNN\",\"TensorFlowLinearClassifier\",\"XGBoostClassifier\",\"LinearSVM\",\"GradientBoosting\",\"ExtremeRandomTrees\",\"LightGBM\",\"SVM\",\"LogisticRegression\"],\"auto_blacklist\":true,\"blacklist_samples_reached\":false,\"exclude_nan_labels\":true,\"verbosity\":20,\"_debug_log\":\"azureml_automl.log\",\"show_warnings\":false,\"model_explainability\":true,\"service_url\":null,\"sdk_url\":null,\"sdk_packages\":null,\"enable_onnx_compatible_models\":false,\"enable_split_onnx_featurizer_estimator_models\":false,\"vm_type\":\"STANDARD_D2_V2\",\"telemetry_verbosity\":20,\"send_telemetry\":true,\"enable_dnn\":false,\"scenario\":\"SDK-1.13.0\",\"environment_label\":null,\"force_text_dnn\":false,\"enable_feature_sweeping\":true,\"enable_early_stopping\":false,\"early_stopping_n_iters\":10,\"metrics\":null,\"enable_ensembling\":true,\"enable_stack_ensembling\":true,\"ensemble_iterations\":15,\"enable_tf\":false,\"enable_subsampling\":null,\"subsample_seed\":null,\"enable_nimbusml\":false,\"enable_streaming\":false,\"force_streaming\":false,\"track_child_runs\":true,\"allowed_private_models\":[],\"label_column_name\":\"diagnosis\",\"weight_column_name\":null,\"cv_split_column_names\":null,\"enable_local_managed\":false,\"_local_managed_run_id\":null,\"cost_mode\":1,\"lag_length\":0,\"metric_operation\":\"maximize\",\"preprocess\":true}',\n  'DataPrepJsonString': '{\\\\\"training_data\\\\\": \\\\\"{\\\\\\\\\\\\\"blocks\\\\\\\\\\\\\": [{\\\\\\\\\\\\\"id\\\\\\\\\\\\\": \\\\\\\\\\\\\"7b4b1e16-260e-4691-a2f1-88048a5d50dd\\\\\\\\\\\\\", \\\\\\\\\\\\\"type\\\\\\\\\\\\\": \\\\\\\\\\\\\"Microsoft.DPrep.GetDatastoreFilesBlock\\\\\\\\\\\\\", \\\\\\\\\\\\\"arguments\\\\\\\\\\\\\": {\\\\\\\\\\\\\"datastores\\\\\\\\\\\\\": [{\\\\\\\\\\\\\"datastoreName\\\\\\\\\\\\\": \\\\\\\\\\\\\"workspaceblobstore\\\\\\\\\\\\\", \\\\\\\\\\\\\"path\\\\\\\\\\\\\": \\\\\\\\\\\\\"data/train-data.csv\\\\\\\\\\\\\", \\\\\\\\\\\\\"resourceGroup\\\\\\\\\\\\\": \\\\\\\\\\\\\"aml-quickstarts-136084\\\\\\\\\\\\\", \\\\\\\\\\\\\"subscription\\\\\\\\\\\\\": \\\\\\\\\\\\\"9b72f9e6-56c5-4c16-991b-19c652994860\\\\\\\\\\\\\", \\\\\\\\\\\\\"workspaceName\\\\\\\\\\\\\": \\\\\\\\\\\\\"quick-starts-ws-136084\\\\\\\\\\\\\"}]}, \\\\\\\\\\\\\"localData\\\\\\\\\\\\\": {}, \\\\\\\\\\\\\"isEnabled\\\\\\\\\\\\\": true, \\\\\\\\\\\\\"name\\\\\\\\\\\\\": null, \\\\\\\\\\\\\"annotation\\\\\\\\\\\\\": null}, {\\\\\\\\\\\\\"id\\\\\\\\\\\\\": \\\\\\\\\\\\\"daddbab6-4771-4f97-a927-daf748908c6e\\\\\\\\\\\\\", \\\\\\\\\\\\\"type\\\\\\\\\\\\\": \\\\\\\\\\\\\"Microsoft.DPrep.ParseDelimitedBlock\\\\\\\\\\\\\", \\\\\\\\\\\\\"arguments\\\\\\\\\\\\\": {\\\\\\\\\\\\\"columnHeadersMode\\\\\\\\\\\\\": 3, \\\\\\\\\\\\\"fileEncoding\\\\\\\\\\\\\": 0, \\\\\\\\\\\\\"handleQuotedLineBreaks\\\\\\\\\\\\\": false, \\\\\\\\\\\\\"preview\\\\\\\\\\\\\": false, \\\\\\\\\\\\\"separator\\\\\\\\\\\\\": \\\\\\\\\\\\\",\\\\\\\\\\\\\", \\\\\\\\\\\\\"skipRows\\\\\\\\\\\\\": 0, \\\\\\\\\\\\\"skipRowsMode\\\\\\\\\\\\\": 0}, \\\\\\\\\\\\\"localData\\\\\\\\\\\\\": {}, \\\\\\\\\\\\\"isEnabled\\\\\\\\\\\\\": true, \\\\\\\\\\\\\"name\\\\\\\\\\\\\": null, \\\\\\\\\\\\\"annotation\\\\\\\\\\\\\": null}, {\\\\\\\\\\\\\"id\\\\\\\\\\\\\": \\\\\\\\\\\\\"4018b898-8bbc-4322-9d5a-f07040e3110a\\\\\\\\\\\\\", \\\\\\\\\\\\\"type\\\\\\\\\\\\\": \\\\\\\\\\\\\"Microsoft.DPrep.DropColumnsBlock\\\\\\\\\\\\\", \\\\\\\\\\\\\"arguments\\\\\\\\\\\\\": {\\\\\\\\\\\\\"columns\\\\\\\\\\\\\": {\\\\\\\\\\\\\"type\\\\\\\\\\\\\": 0, \\\\\\\\\\\\\"details\\\\\\\\\\\\\": {\\\\\\\\\\\\\"selectedColumns\\\\\\\\\\\\\": [\\\\\\\\\\\\\"Path\\\\\\\\\\\\\"]}}}, \\\\\\\\\\\\\"localData\\\\\\\\\\\\\": {}, \\\\\\\\\\\\\"isEnabled\\\\\\\\\\\\\": true, \\\\\\\\\\\\\"name\\\\\\\\\\\\\": null, \\\\\\\\\\\\\"annotation\\\\\\\\\\\\\": null}, {\\\\\\\\\\\\\"id\\\\\\\\\\\\\": \\\\\\\\\\\\\"1ed2cf06-1460-4843-a7fe-46a147c9763e\\\\\\\\\\\\\", \\\\\\\\\\\\\"type\\\\\\\\\\\\\": \\\\\\\\\\\\\"Microsoft.DPrep.SetColumnTypesBlock\\\\\\\\\\\\\", \\\\\\\\\\\\\"arguments\\\\\\\\\\\\\": {\\\\\\\\\\\\\"columnConversion\\\\\\\\\\\\\": [{\\\\\\\\\\\\\"column\\\\\\\\\\\\\": {\\\\\\\\\\\\\"type\\\\\\\\\\\\\": 2, \\\\\\\\\\\\\"details\\\\\\\\\\\\\": {\\\\\\\\\\\\\"selectedColumn\\\\\\\\\\\\\": \\\\\\\\\\\\\"Column1\\\\\\\\\\\\\"}}, \\\\\\\\\\\\\"typeProperty\\\\\\\\\\\\\": 2}, {\\\\\\\\\\\\\"column\\\\\\\\\\\\\": {\\\\\\\\\\\\\"type\\\\\\\\\\\\\": 2, \\\\\\\\\\\\\"details\\\\\\\\\\\\\": {\\\\\\\\\\\\\"selectedColumn\\\\\\\\\\\\\": \\\\\\\\\\\\\"Column1_1\\\\\\\\\\\\\"}}, \\\\\\\\\\\\\"typeProperty\\\\\\\\\\\\\": 2}, {\\\\\\\\\\\\\"column\\\\\\\\\\\\\": {\\\\\\\\\\\\\"type\\\\\\\\\\\\\": 2, \\\\\\\\\\\\\"details\\\\\\\\\\\\\": {\\\\\\\\\\\\\"selectedColumn\\\\\\\\\\\\\": \\\\\\\\\\\\\"radius_mean\\\\\\\\\\\\\"}}, \\\\\\\\\\\\\"typeProperty\\\\\\\\\\\\\": 3}, {\\\\\\\\\\\\\"column\\\\\\\\\\\\\": {\\\\\\\\\\\\\"type\\\\\\\\\\\\\": 2, \\\\\\\\\\\\\"details\\\\\\\\\\\\\": {\\\\\\\\\\\\\"selectedColumn\\\\\\\\\\\\\": \\\\\\\\\\\\\"texture_mean\\\\\\\\\\\\\"}}, \\\\\\\\\\\\\"typeProperty\\\\\\\\\\\\\": 3}, {\\\\\\\\\\\\\"column\\\\\\\\\\\\\": {\\\\\\\\\\\\\"type\\\\\\\\\\\\\": 2, \\\\\\\\\\\\\"details\\\\\\\\\\\\\": {\\\\\\\\\\\\\"selectedColumn\\\\\\\\\\\\\": \\\\\\\\\\\\\"perimeter_mean\\\\\\\\\\\\\"}}, \\\\\\\\\\\\\"typeProperty\\\\\\\\\\\\\": 3}, {\\\\\\\\\\\\\"column\\\\\\\\\\\\\": {\\\\\\\\\\\\\"type\\\\\\\\\\\\\": 2, \\\\\\\\\\\\\"details\\\\\\\\\\\\\": {\\\\\\\\\\\\\"selectedColumn\\\\\\\\\\\\\": \\\\\\\\\\\\\"area_mean\\\\\\\\\\\\\"}}, \\\\\\\\\\\\\"typeProperty\\\\\\\\\\\\\": 3}, {\\\\\\\\\\\\\"column\\\\\\\\\\\\\": {\\\\\\\\\\\\\"type\\\\\\\\\\\\\": 2, \\\\\\\\\\\\\"details\\\\\\\\\\\\\": {\\\\\\\\\\\\\"selectedColumn\\\\\\\\\\\\\": \\\\\\\\\\\\\"smoothness_mean\\\\\\\\\\\\\"}}, \\\\\\\\\\\\\"typeProperty\\\\\\\\\\\\\": 3}, {\\\\\\\\\\\\\"column\\\\\\\\\\\\\": {\\\\\\\\\\\\\"type\\\\\\\\\\\\\": 2, \\\\\\\\\\\\\"details\\\\\\\\\\\\\": {\\\\\\\\\\\\\"selectedColumn\\\\\\\\\\\\\": \\\\\\\\\\\\\"compactness_mean\\\\\\\\\\\\\"}}, \\\\\\\\\\\\\"typeProperty\\\\\\\\\\\\\": 3}, {\\\\\\\\\\\\\"column\\\\\\\\\\\\\": {\\\\\\\\\\\\\"type\\\\\\\\\\\\\": 2, \\\\\\\\\\\\\"details\\\\\\\\\\\\\": {\\\\\\\\\\\\\"selectedColumn\\\\\\\\\\\\\": \\\\\\\\\\\\\"concavity_mean\\\\\\\\\\\\\"}}, \\\\\\\\\\\\\"typeProperty\\\\\\\\\\\\\": 3}, {\\\\\\\\\\\\\"column\\\\\\\\\\\\\": {\\\\\\\\\\\\\"type\\\\\\\\\\\\\": 2, \\\\\\\\\\\\\"details\\\\\\\\\\\\\": {\\\\\\\\\\\\\"selectedColumn\\\\\\\\\\\\\": \\\\\\\\\\\\\"concave points_mean\\\\\\\\\\\\\"}}, \\\\\\\\\\\\\"typeProperty\\\\\\\\\\\\\": 3}, {\\\\\\\\\\\\\"column\\\\\\\\\\\\\": {\\\\\\\\\\\\\"type\\\\\\\\\\\\\": 2, \\\\\\\\\\\\\"details\\\\\\\\\\\\\": {\\\\\\\\\\\\\"selectedColumn\\\\\\\\\\\\\": \\\\\\\\\\\\\"symmetry_mean\\\\\\\\\\\\\"}}, \\\\\\\\\\\\\"typeProperty\\\\\\\\\\\\\": 3}, {\\\\\\\\\\\\\"column\\\\\\\\\\\\\": {\\\\\\\\\\\\\"type\\\\\\\\\\\\\": 2, \\\\\\\\\\\\\"details\\\\\\\\\\\\\": {\\\\\\\\\\\\\"selectedColumn\\\\\\\\\\\\\": \\\\\\\\\\\\\"fractal_dimension_mean\\\\\\\\\\\\\"}}, \\\\\\\\\\\\\"typeProperty\\\\\\\\\\\\\": 3}, {\\\\\\\\\\\\\"column\\\\\\\\\\\\\": {\\\\\\\\\\\\\"type\\\\\\\\\\\\\": 2, \\\\\\\\\\\\\"details\\\\\\\\\\\\\": {\\\\\\\\\\\\\"selectedColumn\\\\\\\\\\\\\": \\\\\\\\\\\\\"radius_se\\\\\\\\\\\\\"}}, \\\\\\\\\\\\\"typeProperty\\\\\\\\\\\\\": 3}, {\\\\\\\\\\\\\"column\\\\\\\\\\\\\": {\\\\\\\\\\\\\"type\\\\\\\\\\\\\": 2, \\\\\\\\\\\\\"details\\\\\\\\\\\\\": {\\\\\\\\\\\\\"selectedColumn\\\\\\\\\\\\\": \\\\\\\\\\\\\"texture_se\\\\\\\\\\\\\"}}, \\\\\\\\\\\\\"typeProperty\\\\\\\\\\\\\": 3}, {\\\\\\\\\\\\\"column\\\\\\\\\\\\\": {\\\\\\\\\\\\\"type\\\\\\\\\\\\\": 2, \\\\\\\\\\\\\"details\\\\\\\\\\\\\": {\\\\\\\\\\\\\"selectedColumn\\\\\\\\\\\\\": \\\\\\\\\\\\\"perimeter_se\\\\\\\\\\\\\"}}, \\\\\\\\\\\\\"typeProperty\\\\\\\\\\\\\": 3}, {\\\\\\\\\\\\\"column\\\\\\\\\\\\\": {\\\\\\\\\\\\\"type\\\\\\\\\\\\\": 2, \\\\\\\\\\\\\"details\\\\\\\\\\\\\": {\\\\\\\\\\\\\"selectedColumn\\\\\\\\\\\\\": \\\\\\\\\\\\\"area_se\\\\\\\\\\\\\"}}, \\\\\\\\\\\\\"typeProperty\\\\\\\\\\\\\": 3}, {\\\\\\\\\\\\\"column\\\\\\\\\\\\\": {\\\\\\\\\\\\\"type\\\\\\\\\\\\\": 2, \\\\\\\\\\\\\"details\\\\\\\\\\\\\": {\\\\\\\\\\\\\"selectedColumn\\\\\\\\\\\\\": \\\\\\\\\\\\\"smoothness_se\\\\\\\\\\\\\"}}, \\\\\\\\\\\\\"typeProperty\\\\\\\\\\\\\": 3}, {\\\\\\\\\\\\\"column\\\\\\\\\\\\\": {\\\\\\\\\\\\\"type\\\\\\\\\\\\\": 2, \\\\\\\\\\\\\"details\\\\\\\\\\\\\": {\\\\\\\\\\\\\"selectedColumn\\\\\\\\\\\\\": \\\\\\\\\\\\\"compactness_se\\\\\\\\\\\\\"}}, \\\\\\\\\\\\\"typeProperty\\\\\\\\\\\\\": 3}, {\\\\\\\\\\\\\"column\\\\\\\\\\\\\": {\\\\\\\\\\\\\"type\\\\\\\\\\\\\": 2, \\\\\\\\\\\\\"details\\\\\\\\\\\\\": {\\\\\\\\\\\\\"selectedColumn\\\\\\\\\\\\\": \\\\\\\\\\\\\"concavity_se\\\\\\\\\\\\\"}}, \\\\\\\\\\\\\"typeProperty\\\\\\\\\\\\\": 3}, {\\\\\\\\\\\\\"column\\\\\\\\\\\\\": {\\\\\\\\\\\\\"type\\\\\\\\\\\\\": 2, \\\\\\\\\\\\\"details\\\\\\\\\\\\\": {\\\\\\\\\\\\\"selectedColumn\\\\\\\\\\\\\": \\\\\\\\\\\\\"concave points_se\\\\\\\\\\\\\"}}, \\\\\\\\\\\\\"typeProperty\\\\\\\\\\\\\": 3}, {\\\\\\\\\\\\\"column\\\\\\\\\\\\\": {\\\\\\\\\\\\\"type\\\\\\\\\\\\\": 2, \\\\\\\\\\\\\"details\\\\\\\\\\\\\": {\\\\\\\\\\\\\"selectedColumn\\\\\\\\\\\\\": \\\\\\\\\\\\\"symmetry_se\\\\\\\\\\\\\"}}, \\\\\\\\\\\\\"typeProperty\\\\\\\\\\\\\": 3}, {\\\\\\\\\\\\\"column\\\\\\\\\\\\\": {\\\\\\\\\\\\\"type\\\\\\\\\\\\\": 2, \\\\\\\\\\\\\"details\\\\\\\\\\\\\": {\\\\\\\\\\\\\"selectedColumn\\\\\\\\\\\\\": \\\\\\\\\\\\\"fractal_dimension_se\\\\\\\\\\\\\"}}, \\\\\\\\\\\\\"typeProperty\\\\\\\\\\\\\": 3}, {\\\\\\\\\\\\\"column\\\\\\\\\\\\\": {\\\\\\\\\\\\\"type\\\\\\\\\\\\\": 2, \\\\\\\\\\\\\"details\\\\\\\\\\\\\": {\\\\\\\\\\\\\"selectedColumn\\\\\\\\\\\\\": \\\\\\\\\\\\\"radius_worst\\\\\\\\\\\\\"}}, \\\\\\\\\\\\\"typeProperty\\\\\\\\\\\\\": 3}, {\\\\\\\\\\\\\"column\\\\\\\\\\\\\": {\\\\\\\\\\\\\"type\\\\\\\\\\\\\": 2, \\\\\\\\\\\\\"details\\\\\\\\\\\\\": {\\\\\\\\\\\\\"selectedColumn\\\\\\\\\\\\\": \\\\\\\\\\\\\"texture_worst\\\\\\\\\\\\\"}}, \\\\\\\\\\\\\"typeProperty\\\\\\\\\\\\\": 3}, {\\\\\\\\\\\\\"column\\\\\\\\\\\\\": {\\\\\\\\\\\\\"type\\\\\\\\\\\\\": 2, \\\\\\\\\\\\\"details\\\\\\\\\\\\\": {\\\\\\\\\\\\\"selectedColumn\\\\\\\\\\\\\": \\\\\\\\\\\\\"perimeter_worst\\\\\\\\\\\\\"}}, \\\\\\\\\\\\\"typeProperty\\\\\\\\\\\\\": 3}, {\\\\\\\\\\\\\"column\\\\\\\\\\\\\": {\\\\\\\\\\\\\"type\\\\\\\\\\\\\": 2, \\\\\\\\\\\\\"details\\\\\\\\\\\\\": {\\\\\\\\\\\\\"selectedColumn\\\\\\\\\\\\\": \\\\\\\\\\\\\"area_worst\\\\\\\\\\\\\"}}, \\\\\\\\\\\\\"typeProperty\\\\\\\\\\\\\": 3}, {\\\\\\\\\\\\\"column\\\\\\\\\\\\\": {\\\\\\\\\\\\\"type\\\\\\\\\\\\\": 2, \\\\\\\\\\\\\"details\\\\\\\\\\\\\": {\\\\\\\\\\\\\"selectedColumn\\\\\\\\\\\\\": \\\\\\\\\\\\\"smoothness_worst\\\\\\\\\\\\\"}}, \\\\\\\\\\\\\"typeProperty\\\\\\\\\\\\\": 3}, {\\\\\\\\\\\\\"column\\\\\\\\\\\\\": {\\\\\\\\\\\\\"type\\\\\\\\\\\\\": 2, \\\\\\\\\\\\\"details\\\\\\\\\\\\\": {\\\\\\\\\\\\\"selectedColumn\\\\\\\\\\\\\": \\\\\\\\\\\\\"compactness_worst\\\\\\\\\\\\\"}}, \\\\\\\\\\\\\"typeProperty\\\\\\\\\\\\\": 3}, {\\\\\\\\\\\\\"column\\\\\\\\\\\\\": {\\\\\\\\\\\\\"type\\\\\\\\\\\\\": 2, \\\\\\\\\\\\\"details\\\\\\\\\\\\\": {\\\\\\\\\\\\\"selectedColumn\\\\\\\\\\\\\": \\\\\\\\\\\\\"concavity_worst\\\\\\\\\\\\\"}}, \\\\\\\\\\\\\"typeProperty\\\\\\\\\\\\\": 3}, {\\\\\\\\\\\\\"column\\\\\\\\\\\\\": {\\\\\\\\\\\\\"type\\\\\\\\\\\\\": 2, \\\\\\\\\\\\\"details\\\\\\\\\\\\\": {\\\\\\\\\\\\\"selectedColumn\\\\\\\\\\\\\": \\\\\\\\\\\\\"concave points_worst\\\\\\\\\\\\\"}}, \\\\\\\\\\\\\"typeProperty\\\\\\\\\\\\\": 3}, {\\\\\\\\\\\\\"column\\\\\\\\\\\\\": {\\\\\\\\\\\\\"type\\\\\\\\\\\\\": 2, \\\\\\\\\\\\\"details\\\\\\\\\\\\\": {\\\\\\\\\\\\\"selectedColumn\\\\\\\\\\\\\": \\\\\\\\\\\\\"symmetry_worst\\\\\\\\\\\\\"}}, \\\\\\\\\\\\\"typeProperty\\\\\\\\\\\\\": 3}, {\\\\\\\\\\\\\"column\\\\\\\\\\\\\": {\\\\\\\\\\\\\"type\\\\\\\\\\\\\": 2, \\\\\\\\\\\\\"details\\\\\\\\\\\\\": {\\\\\\\\\\\\\"selectedColumn\\\\\\\\\\\\\": \\\\\\\\\\\\\"fractal_dimension_worst\\\\\\\\\\\\\"}}, \\\\\\\\\\\\\"typeProperty\\\\\\\\\\\\\": 3}, {\\\\\\\\\\\\\"column\\\\\\\\\\\\\": {\\\\\\\\\\\\\"type\\\\\\\\\\\\\": 2, \\\\\\\\\\\\\"details\\\\\\\\\\\\\": {\\\\\\\\\\\\\"selectedColumn\\\\\\\\\\\\\": \\\\\\\\\\\\\"diagnosis\\\\\\\\\\\\\"}}, \\\\\\\\\\\\\"typeProperty\\\\\\\\\\\\\": 2}]}, \\\\\\\\\\\\\"localData\\\\\\\\\\\\\": {}, \\\\\\\\\\\\\"isEnabled\\\\\\\\\\\\\": true, \\\\\\\\\\\\\"name\\\\\\\\\\\\\": null, \\\\\\\\\\\\\"annotation\\\\\\\\\\\\\": null}], \\\\\\\\\\\\\"inspectors\\\\\\\\\\\\\": [], \\\\\\\\\\\\\"meta\\\\\\\\\\\\\": {\\\\\\\\\\\\\"savedDatasetId\\\\\\\\\\\\\": \\\\\\\\\\\\\"b7f72f9d-1df6-4cee-bb3f-7eccd17db628\\\\\\\\\\\\\", \\\\\\\\\\\\\"datasetType\\\\\\\\\\\\\": \\\\\\\\\\\\\"tabular\\\\\\\\\\\\\", \\\\\\\\\\\\\"subscriptionId\\\\\\\\\\\\\": \\\\\\\\\\\\\"9b72f9e6-56c5-4c16-991b-19c652994860\\\\\\\\\\\\\", \\\\\\\\\\\\\"workspaceId\\\\\\\\\\\\\": \\\\\\\\\\\\\"cb54681e-2c6a-4072-b10a-cb20ec252b2f\\\\\\\\\\\\\", \\\\\\\\\\\\\"workspaceLocation\\\\\\\\\\\\\": \\\\\\\\\\\\\"southcentralus\\\\\\\\\\\\\"}}\\\\\", \\\\\"activities\\\\\": 0}',\n  'EnableSubsampling': None,\n  'runTemplate': 'AutoML',\n  'azureml.runsource': 'automl',\n  'display_task_type': 'classification',\n  'dependencies_versions': '{\"azureml-widgets\": \"1.20.0\", \"azureml-train\": \"1.20.0\", \"azureml-train-restclients-hyperdrive\": \"1.20.0\", \"azureml-train-core\": \"1.20.0\", \"azureml-train-automl\": \"1.20.0\", \"azureml-train-automl-runtime\": \"1.20.0\", \"azureml-train-automl-client\": \"1.20.0\", \"azureml-tensorboard\": \"1.20.0\", \"azureml-telemetry\": \"1.20.0\", \"azureml-sdk\": \"1.20.0\", \"azureml-samples\": \"0+unknown\", \"azureml-pipeline\": \"1.20.0\", \"azureml-pipeline-steps\": \"1.20.0\", \"azureml-pipeline-core\": \"1.20.0\", \"azureml-opendatasets\": \"1.20.0\", \"azureml-model-management-sdk\": \"1.0.1b6.post1\", \"azureml-mlflow\": \"1.20.0.post1\", \"azureml-interpret\": \"1.20.0\", \"azureml-explain-model\": \"1.20.0\", \"azureml-defaults\": \"1.20.0\", \"azureml-dataset-runtime\": \"1.20.0\", \"azureml-dataprep\": \"2.7.3\", \"azureml-dataprep-rslex\": \"1.5.0\", \"azureml-dataprep-native\": \"27.0.0\", \"azureml-datadrift\": \"1.20.0\", \"azureml-core\": \"1.20.0\", \"azureml-contrib-services\": \"1.20.0\", \"azureml-contrib-server\": \"1.20.0\", \"azureml-contrib-reinforcementlearning\": \"1.20.0\", \"azureml-contrib-pipeline-steps\": \"1.20.0\", \"azureml-contrib-notebook\": \"1.20.0\", \"azureml-contrib-interpret\": \"1.20.0\", \"azureml-contrib-gbdt\": \"1.20.0\", \"azureml-contrib-fairness\": \"1.20.0\", \"azureml-contrib-dataset\": \"1.20.0\", \"azureml-cli-common\": \"1.20.0\", \"azureml-automl-runtime\": \"1.20.0\", \"azureml-automl-core\": \"1.20.0\", \"azureml-accel-models\": \"1.20.0\"}',\n  '_aml_system_scenario_identification': 'Remote.Parent',\n  'ClientType': 'SDK',\n  'environment_cpu_name': 'AzureML-AutoML',\n  'environment_cpu_label': 'prod',\n  'environment_gpu_name': 'AzureML-AutoML-GPU',\n  'environment_gpu_label': 'prod',\n  'root_attribution': 'automl',\n  'attribution': 'AutoML',\n  'Orchestrator': 'AutoML',\n  'CancelUri': 'https://southcentralus.experiments.azureml.net/jasmine/v1.0/subscriptions/9b72f9e6-56c5-4c16-991b-19c652994860/resourceGroups/aml-quickstarts-136084/providers/Microsoft.MachineLearningServices/workspaces/quick-starts-ws-136084/experimentids/16f7f849-bffb-4dce-9a43-9ab1cbbcb5cc/cancel/AutoML_7ce25c35-2267-43dc-b6c4-ffa20042674a',\n  'ClientSdkVersion': '1.20.0.post1',\n  'snapshotId': '00000000-0000-0000-0000-000000000000',\n  'SetupRunId': 'AutoML_7ce25c35-2267-43dc-b6c4-ffa20042674a_setup',\n  'SetupRunContainerId': 'dcid.AutoML_7ce25c35-2267-43dc-b6c4-ffa20042674a_setup',\n  'FeaturizationRunJsonPath': 'featurizer_container.json',\n  'FeaturizationRunId': 'AutoML_7ce25c35-2267-43dc-b6c4-ffa20042674a_featurize',\n  'ProblemInfoJsonString': '{\"dataset_num_categorical\": 0, \"is_sparse\": false, \"subsampling\": false, \"dataset_classes\": 2, \"dataset_features\": 32, \"dataset_samples\": 512, \"single_frequency_class_detected\": false}',\n  'ModelExplainRunId': 'AutoML_7ce25c35-2267-43dc-b6c4-ffa20042674a_ModelExplain'},\n 'inputDatasets': [{'dataset': {'id': 'b7f72f9d-1df6-4cee-bb3f-7eccd17db628'}, 'consumptionDetails': {'type': 'RunInput', 'inputName': 'training_data', 'mechanism': 'Direct'}}],\n 'outputDatasets': [],\n 'logFiles': {},\n 'submittedBy': 'ODL_User 136084'}"
          },
          "metadata": {}
        }
      ],
      "execution_count": 12,
      "metadata": {
        "gather": {
          "logged": 1611649525959
        },
        "jupyter": {
          "outputs_hidden": false,
          "source_hidden": false
        },
        "nteract": {
          "transient": {
            "deleting": false
          }
        }
      }
    },
    {
      "cell_type": "markdown",
      "source": [
        "\n",
        "\n",
        "OPTIONAL: Write about the different models trained and their performance. Why do you think some models did better than others?\n"
      ],
      "metadata": {}
    },
    {
      "cell_type": "markdown",
      "source": [
        "## Best Model\n",
        "\n",
        "TODO: In the cell below, get the best model from the automl experiments and display all the properties of the model.\n",
        "\n"
      ],
      "metadata": {}
    },
    {
      "cell_type": "code",
      "source": [
        "best_run, fitted_model = remote_run.get_output()\n",
        "\n",
        "print(best_run)"
      ],
      "outputs": [
        {
          "output_type": "stream",
          "name": "stdout",
          "text": [
            "Run(Experiment: capstone-project-automl,\n",
            "Id: AutoML_7ce25c35-2267-43dc-b6c4-ffa20042674a_23,\n",
            "Type: azureml.scriptrun,\n",
            "Status: Completed)\n"
          ]
        }
      ],
      "execution_count": 13,
      "metadata": {
        "gather": {
          "logged": 1611650145871
        },
        "jupyter": {
          "outputs_hidden": false,
          "source_hidden": false
        },
        "nteract": {
          "transient": {
            "deleting": false
          }
        }
      }
    },
    {
      "cell_type": "code",
      "source": [
        "print(fitted_model)"
      ],
      "outputs": [
        {
          "output_type": "stream",
          "name": "stdout",
          "text": [
            "Pipeline(memory=None,\n",
            "         steps=[('datatransformer',\n",
            "                 DataTransformer(enable_dnn=None, enable_feature_sweeping=None,\n",
            "                                 feature_sweeping_config=None,\n",
            "                                 feature_sweeping_timeout=None,\n",
            "                                 featurization_config=None, force_text_dnn=None,\n",
            "                                 is_cross_validation=None,\n",
            "                                 is_onnx_compatible=None, logger=None,\n",
            "                                 observer=None, task=None, working_dir=None)),\n",
            "                ('prefittedsoftvotingclassifier',...\n",
            "                                                                                                num_leaves=227,\n",
            "                                                                                                objective=None,\n",
            "                                                                                                random_state=None,\n",
            "                                                                                                reg_alpha=0.8421052631578947,\n",
            "                                                                                                reg_lambda=0.9473684210526315,\n",
            "                                                                                                silent=True,\n",
            "                                                                                                subsample=1,\n",
            "                                                                                                subsample_for_bin=200000,\n",
            "                                                                                                subsample_freq=0,\n",
            "                                                                                                verbose=-10))],\n",
            "                                                                     verbose=False))],\n",
            "                                               flatten_transform=None,\n",
            "                                               weights=[0.3333333333333333,\n",
            "                                                        0.16666666666666666,\n",
            "                                                        0.16666666666666666,\n",
            "                                                        0.16666666666666666,\n",
            "                                                        0.16666666666666666]))],\n",
            "         verbose=False)\n"
          ]
        }
      ],
      "execution_count": 14,
      "metadata": {
        "collapsed": true,
        "jupyter": {
          "source_hidden": false,
          "outputs_hidden": false
        },
        "nteract": {
          "transient": {
            "deleting": false
          }
        },
        "gather": {
          "logged": 1611650166346
        }
      }
    },
    {
      "cell_type": "code",
      "source": [
        "best_run.get_tags()"
      ],
      "outputs": [
        {
          "output_type": "execute_result",
          "execution_count": 15,
          "data": {
            "text/plain": "{'_aml_system_azureml.automlComponent': 'AutoML',\n '_aml_system_ComputeTargetStatus': '{\"AllocationState\":\"steady\",\"PreparingNodeCount\":0,\"RunningNodeCount\":0,\"CurrentNodeCount\":1}',\n 'ensembled_iterations': '[19, 14, 5, 0, 21]',\n 'ensembled_algorithms': \"['LogisticRegression', 'GradientBoosting', 'SVM', 'LightGBM', 'LightGBM']\",\n 'ensemble_weights': '[0.3333333333333333, 0.16666666666666666, 0.16666666666666666, 0.16666666666666666, 0.16666666666666666]',\n 'best_individual_pipeline_score': '0.9726822767942128',\n 'best_individual_iteration': '19',\n '_aml_system_automl_is_child_run_end_telemetry_event_logged': 'True',\n 'model_explain_run_id': 'AutoML_7ce25c35-2267-43dc-b6c4-ffa20042674a_ModelExplain',\n 'model_explanation': 'True'}"
          },
          "metadata": {}
        }
      ],
      "execution_count": 15,
      "metadata": {
        "collapsed": true,
        "jupyter": {
          "source_hidden": false,
          "outputs_hidden": false
        },
        "nteract": {
          "transient": {
            "deleting": false
          }
        },
        "gather": {
          "logged": 1611650171742
        }
      }
    },
    {
      "cell_type": "code",
      "source": [
        "metrics = best_run.get_metrics()\n",
        "metrics['accuracy']"
      ],
      "outputs": [
        {
          "output_type": "execute_result",
          "execution_count": 16,
          "data": {
            "text/plain": "0.9746240243670284"
          },
          "metadata": {}
        }
      ],
      "execution_count": 16,
      "metadata": {
        "collapsed": true,
        "jupyter": {
          "source_hidden": false,
          "outputs_hidden": false
        },
        "nteract": {
          "transient": {
            "deleting": false
          }
        },
        "gather": {
          "logged": 1611650182720
        }
      }
    },
    {
      "cell_type": "code",
      "source": [
        "#TODO: Save the best model\n",
        "import joblib\n",
        "from azureml.core.model import Model\n",
        "\n",
        "description = \"AutoML model trained on Wisoconsin Breast Cancer dataset\"\n",
        "\n",
        "os.makedirs('outputs', exist_ok=True)\n",
        "joblib.dump(fitted_model, filename=\"outputs/automl-model.pkl\")\n",
        "automl_model = remote_run.register_model(model_name='automl-breast-cancer', description=description)"
      ],
      "outputs": [],
      "execution_count": 24,
      "metadata": {
        "gather": {
          "logged": 1611650801002
        },
        "jupyter": {
          "outputs_hidden": false,
          "source_hidden": false
        },
        "nteract": {
          "transient": {
            "deleting": false
          }
        }
      }
    },
    {
      "cell_type": "markdown",
      "source": [
        "## Model Deployment\n",
        "\n",
        "Remember you have to deploy only one of the two models you trained.. Perform the steps in the rest of this notebook only if you wish to deploy this model.\n",
        "\n",
        "TODO: In the cell below, register the model, create an inference config and deploy the model as a web service."
      ],
      "metadata": {}
    },
    {
      "cell_type": "code",
      "source": [
        "from azureml.core.webservice import AciWebservice\n",
        "\n",
        "aci_config = AciWebservice.deploy_configuration(\n",
        "    cpu_cores=1,\n",
        "    memory_gb=1,\n",
        "    description='Predict tumor as Malignant(1) or Benign(0)',\n",
        "    auth_enabled=True\n",
        ")"
      ],
      "outputs": [],
      "execution_count": 38,
      "metadata": {
        "collapsed": true,
        "jupyter": {
          "source_hidden": false,
          "outputs_hidden": false
        },
        "nteract": {
          "transient": {
            "deleting": false
          }
        },
        "gather": {
          "logged": 1611654850093
        }
      }
    },
    {
      "cell_type": "code",
      "source": [
        "from azureml.core.webservice import Webservice\n",
        "from azureml.core.model import InferenceConfig\n",
        "from azureml.core.environment import Environment\n",
        "from azureml.core import Workspace\n",
        "from azureml.core.model import Model\n",
        "\n",
        "model = Model(ws, 'automl-breast-cancer')\n",
        "\n",
        "\n",
        "myenv = best_run.get_environment()\n",
        "entry_script = 'score.py'\n",
        "best_run.download_file('outputs/scoring_file_v_1_0_0.py', entry_script)\n",
        "\n",
        "inference_config = InferenceConfig(entry_script=entry_script, environment=myenv)\n",
        "\n",
        "service = Model.deploy(workspace=ws, \n",
        "                       name='automl-breast-cancer', \n",
        "                       models=[model], \n",
        "                       inference_config=inference_config, \n",
        "                       deployment_config=aci_config)\n",
        "\n",
        "service.wait_for_deployment(show_output=True)"
      ],
      "outputs": [
        {
          "output_type": "stream",
          "name": "stdout",
          "text": [
            "Tips: You can try get_logs(): https://aka.ms/debugimage#dockerlog or local deployment: https://aka.ms/debugimage#debug-locally to debug if deployment takes longer than 10 minutes.\n",
            "Running.............................................\n",
            "Succeeded\n",
            "ACI service creation operation finished, operation \"Succeeded\"\n"
          ]
        }
      ],
      "execution_count": 39,
      "metadata": {
        "collapsed": true,
        "jupyter": {
          "source_hidden": false,
          "outputs_hidden": false
        },
        "nteract": {
          "transient": {
            "deleting": false
          }
        },
        "gather": {
          "logged": 1611655085034
        }
      }
    },
    {
      "cell_type": "code",
      "source": [
        "service.update(enable_app_insights=True)"
      ],
      "outputs": [],
      "execution_count": 40,
      "metadata": {
        "gather": {
          "logged": 1611655249409
        },
        "jupyter": {
          "outputs_hidden": false,
          "source_hidden": false
        },
        "nteract": {
          "transient": {
            "deleting": false
          }
        }
      }
    },
    {
      "cell_type": "code",
      "source": [
        "print(\"State \"+ service.state)\n",
        "print(\"Key \" + service.get_keys()[0])\n",
        "print(\"Swagger URI \" + service.swagger_uri)\n",
        "print(\"Scoring URI \" + service.scoring_uri)"
      ],
      "outputs": [
        {
          "output_type": "stream",
          "name": "stdout",
          "text": [
            "State Healthy\n",
            "Key XqAtjrHlZQ6gqknuuRSvN86dRt7QQbzG\n",
            "Swagger URI http://19ac972d-b1dd-49dc-af6a-db72674ba244.southcentralus.azurecontainer.io/swagger.json\n",
            "Scoring URI http://19ac972d-b1dd-49dc-af6a-db72674ba244.southcentralus.azurecontainer.io/score\n"
          ]
        }
      ],
      "execution_count": 43,
      "metadata": {
        "collapsed": true,
        "jupyter": {
          "source_hidden": false,
          "outputs_hidden": false
        },
        "nteract": {
          "transient": {
            "deleting": false
          }
        },
        "gather": {
          "logged": 1611655494812
        }
      }
    },
    {
      "cell_type": "markdown",
      "source": [
        "TODO: In the cell below, send a request to the web service you deployed to test it."
      ],
      "metadata": {
        "collapsed": true,
        "gather": {
          "logged": 1598431657736
        },
        "jupyter": {
          "outputs_hidden": false,
          "source_hidden": false
        },
        "nteract": {
          "transient": {
            "deleting": false
          }
        }
      }
    },
    {
      "cell_type": "code",
      "source": [
        "# Model endpoint is consumed using a script which contains 2 datapoints\n",
        "# Expected result [0, 1]\n",
        "%run endpoint.py"
      ],
      "outputs": [
        {
          "output_type": "stream",
          "name": "stdout",
          "text": [
            "{\"result\": [0, 1]}\n"
          ]
        }
      ],
      "execution_count": 44,
      "metadata": {
        "gather": {
          "logged": 1611655906903
        },
        "jupyter": {
          "outputs_hidden": false,
          "source_hidden": false
        },
        "nteract": {
          "transient": {
            "deleting": false
          }
        }
      }
    },
    {
      "cell_type": "markdown",
      "source": [
        "TODO: In the cell below, print the logs of the web service and delete the service"
      ],
      "metadata": {
        "collapsed": true,
        "gather": {
          "logged": 1598432765711
        },
        "jupyter": {
          "outputs_hidden": false,
          "source_hidden": false
        },
        "nteract": {
          "transient": {
            "deleting": false
          }
        }
      }
    },
    {
      "cell_type": "code",
      "source": [
        "print(service.get_logs())\n"
      ],
      "outputs": [
        {
          "output_type": "stream",
          "name": "stdout",
          "text": [
            "2021-01-26T10:05:26,275219200+00:00 - gunicorn/run \n",
            "2021-01-26T10:05:26,276765100+00:00 - iot-server/run \n",
            "2021-01-26T10:05:26,292472100+00:00 - nginx/run \n",
            "2021-01-26T10:05:26,283410100+00:00 - rsyslog/run \n",
            "/usr/sbin/nginx: /azureml-envs/azureml_265db83b0c6014ce472c5de2f0b97e04/lib/libcrypto.so.1.0.0: no version information available (required by /usr/sbin/nginx)\n",
            "/usr/sbin/nginx: /azureml-envs/azureml_265db83b0c6014ce472c5de2f0b97e04/lib/libcrypto.so.1.0.0: no version information available (required by /usr/sbin/nginx)\n",
            "/usr/sbin/nginx: /azureml-envs/azureml_265db83b0c6014ce472c5de2f0b97e04/lib/libssl.so.1.0.0: no version information available (required by /usr/sbin/nginx)\n",
            "/usr/sbin/nginx: /azureml-envs/azureml_265db83b0c6014ce472c5de2f0b97e04/lib/libssl.so.1.0.0: no version information available (required by /usr/sbin/nginx)\n",
            "/usr/sbin/nginx: /azureml-envs/azureml_265db83b0c6014ce472c5de2f0b97e04/lib/libssl.so.1.0.0: no version information available (required by /usr/sbin/nginx)\n",
            "rsyslogd: /azureml-envs/azureml_265db83b0c6014ce472c5de2f0b97e04/lib/libuuid.so.1: no version information available (required by rsyslogd)\n",
            "EdgeHubConnectionString and IOTEDGE_IOTHUBHOSTNAME are not set. Exiting...\n",
            "2021-01-26T10:05:27,607450400+00:00 - iot-server/finish 1 0\n",
            "2021-01-26T10:05:27,631487000+00:00 - Exit code 1 is normal. Not restarting iot-server.\n",
            "Starting gunicorn 19.9.0\n",
            "Listening at: http://127.0.0.1:31311 (65)\n",
            "Using worker: sync\n",
            "worker timeout is set to 300\n",
            "Booting worker with pid: 96\n",
            "SPARK_HOME not set. Skipping PySpark Initialization.\n",
            "Generating new fontManager, this may take some time...\n",
            "Initializing logger\n",
            "2021-01-26 10:05:32,102 | root | INFO | Starting up app insights client\n",
            "2021-01-26 10:05:32,103 | root | INFO | Starting up request id generator\n",
            "2021-01-26 10:05:32,103 | root | INFO | Starting up app insight hooks\n",
            "2021-01-26 10:05:32,103 | root | INFO | Invoking user's init function\n",
            "2021-01-26 10:05:40,513 | azureml.core | WARNING | Failure while loading azureml_run_type_providers. Failed to load entrypoint automl = azureml.train.automl.run:AutoMLRun._from_run_dto with exception cannot import name 'RunType'.\n",
            "Failure while loading azureml_run_type_providers. Failed to load entrypoint automl = azureml.train.automl.run:AutoMLRun._from_run_dto with exception cannot import name 'RunType'.\n",
            "2021-01-26 10:05:40,704 | root | INFO | Users's init has completed successfully\n",
            "2021-01-26 10:05:40,717 | root | INFO | Skipping middleware: dbg_model_info as it's not enabled.\n",
            "2021-01-26 10:05:40,717 | root | INFO | Skipping middleware: dbg_resource_usage as it's not enabled.\n",
            "2021-01-26 10:05:40,778 | root | INFO | Scoring timeout is found from os.environ: 60000 ms\n",
            "2021-01-26 10:05:50,618 | root | INFO | 200\n",
            "127.0.0.1 - - [26/Jan/2021:10:05:50 +0000] \"GET /swagger.json HTTP/1.0\" 200 4550 \"-\" \"Go-http-client/1.1\"\n",
            "2021-01-26 10:06:28,707 | root | INFO | 200\n",
            "127.0.0.1 - - [26/Jan/2021:10:06:28 +0000] \"GET /swagger.json HTTP/1.0\" 200 4550 \"-\" \"Go-http-client/1.1\"\n",
            "2021-01-26 10:06:29,831 | root | INFO | 200\n",
            "127.0.0.1 - - [26/Jan/2021:10:06:29 +0000] \"GET /swagger.json HTTP/1.0\" 200 4550 \"-\" \"Go-http-client/1.1\"\n",
            "2021-01-26 10:09:50,331 | root | INFO | 200\n",
            "127.0.0.1 - - [26/Jan/2021:10:09:50 +0000] \"GET /swagger.json HTTP/1.0\" 200 4550 \"-\" \"Mozilla/5.0 (X11; Ubuntu; Linux x86_64; rv:84.0) Gecko/20100101 Firefox/84.0\"\n",
            "2021-01-26 10:11:46,372 | root | INFO | Validation Request Content-Type\n",
            "2021-01-26 10:11:46,373 | root | INFO | Scoring Timer is set to 60.0 seconds\n",
            "2021-01-26 10:11:46,575 | root | INFO | 200\n",
            "127.0.0.1 - - [26/Jan/2021:10:11:46 +0000] \"POST /score HTTP/1.0\" 200 22 \"-\" \"python-requests/2.25.1\"\n",
            "\n"
          ]
        }
      ],
      "execution_count": 45,
      "metadata": {
        "jupyter": {
          "outputs_hidden": false,
          "source_hidden": false
        },
        "nteract": {
          "transient": {
            "deleting": false
          }
        },
        "gather": {
          "logged": 1611655913497
        }
      }
    },
    {
      "cell_type": "code",
      "source": [
        "service.delete()\n",
        "cpu_cluster.delete()"
      ],
      "outputs": [
        {
          "output_type": "stream",
          "name": "stdout",
          "text": [
            "No service with name automl-breast-cancer found to delete.\n",
            "Current provisioning state of AmlCompute is \"Deleting\"\n",
            "\n"
          ]
        }
      ],
      "execution_count": 47,
      "metadata": {
        "collapsed": true,
        "jupyter": {
          "source_hidden": false,
          "outputs_hidden": false
        },
        "nteract": {
          "transient": {
            "deleting": false
          }
        },
        "gather": {
          "logged": 1611658034741
        }
      }
    },
    {
      "cell_type": "code",
      "source": [],
      "outputs": [],
      "execution_count": null,
      "metadata": {
        "collapsed": true,
        "jupyter": {
          "source_hidden": false,
          "outputs_hidden": false
        },
        "nteract": {
          "transient": {
            "deleting": false
          }
        }
      }
    }
  ],
  "metadata": {
    "kernel_info": {
      "name": "python3"
    },
    "kernelspec": {
      "name": "python3",
      "language": "python",
      "display_name": "Python 3"
    },
    "language_info": {
      "name": "python",
      "version": "3.6.9",
      "mimetype": "text/x-python",
      "codemirror_mode": {
        "name": "ipython",
        "version": 3
      },
      "pygments_lexer": "ipython3",
      "nbconvert_exporter": "python",
      "file_extension": ".py"
    },
    "nteract": {
      "version": "nteract-front-end@1.0.0"
    }
  },
  "nbformat": 4,
  "nbformat_minor": 2
}