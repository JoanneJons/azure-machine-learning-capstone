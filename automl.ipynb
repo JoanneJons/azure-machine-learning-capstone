{
  "cells": [
    {
      "cell_type": "markdown",
      "source": [
        "# Automated ML\n",
        "\n",
        "TODO: Import Dependencies. In the cell below, import all the dependencies that you will need to complete the project."
      ],
      "metadata": {}
    },
    {
      "cell_type": "code",
      "source": [
        "from azureml.core import Workspace, Experiment\n",
        "from azureml.widgets import RunDetails\n",
        "from azureml.train.sklearn import SKLearn\n",
        "from azureml.data.dataset_factory import TabularDatasetFactory\n",
        "from train import split_data\n",
        "from sklearn.model_selection import train_test_split\n",
        "from azureml.core import ScriptRunConfig \n",
        "import os"
      ],
      "outputs": [],
      "execution_count": 1,
      "metadata": {
        "gather": {
          "logged": 1611566307063
        },
        "jupyter": {
          "outputs_hidden": false,
          "source_hidden": false
        },
        "nteract": {
          "transient": {
            "deleting": false
          }
        }
      }
    },
    {
      "cell_type": "markdown",
      "source": [
        "## Dataset\n",
        "\n",
        "### Overview\n",
        "TODO: In this markdown cell, give an overview of the dataset you are using. Also mention the task you will be performing.\n",
        "\n",
        "\n",
        "TODO: Get data. In the cell below, write code to access the data you will be using in this project. Remember that the dataset needs to be external."
      ],
      "metadata": {}
    },
    {
      "cell_type": "code",
      "source": [
        "ws = Workspace.from_config()\n",
        "\n",
        "# choose a name for experiment\n",
        "experiment_name = 'capstone-project-automl'\n",
        "\n",
        "experiment=Experiment(ws, experiment_name)\n",
        "\n",
        "print('Workspace name: ' + ws.name, \n",
        "      'Azure region: ' + ws.location, \n",
        "      'Subscription id: ' + ws.subscription_id, \n",
        "      'Resource group: ' + ws.resource_group, sep = '\\n')\n",
        "\n",
        "web_path = \"https://raw.githubusercontent.com/JoanneJons/azure-machine-learning-capstone/main/breast-cancer-dataset.csv?token=AJ5V2OGXYLJ22BGYXN4EUODAC6P4K\"\n",
        "dataset = TabularDatasetFactory.from_delimited_files(path=web_path)"
      ],
      "outputs": [
        {
          "output_type": "stream",
          "name": "stdout",
          "text": [
            "Workspace name: quick-starts-ws-135975\n",
            "Azure region: southcentralus\n",
            "Subscription id: aa7cf8e8-d23f-4bce-a7b9-1f0b4e0ac8ee\n",
            "Resource group: aml-quickstarts-135975\n"
          ]
        }
      ],
      "execution_count": 3,
      "metadata": {
        "gather": {
          "logged": 1611566530909
        },
        "jupyter": {
          "outputs_hidden": false,
          "source_hidden": false
        },
        "nteract": {
          "transient": {
            "deleting": false
          }
        }
      }
    },
    {
      "cell_type": "code",
      "source": [
        "from azureml.core.compute import ComputeTarget, AmlCompute\n",
        "from azureml.core.compute_target import ComputeTargetException\n",
        "\n",
        "cpu_cluster_name = \"cpu-cluster\"\n",
        "try:\n",
        "    cpu_cluster = ComputeTarget(workspace=ws, name=cpu_cluster_name)\n",
        "except ComputeTargetException:\n",
        "    compute_config = AmlCompute.provisioning_configuration(vm_size='STANDARD_D2_V2', max_nodes=4)\n",
        "    cpu_cluster = ComputeTarget.create(ws, cpu_cluster_name, compute_config)\n",
        "cpu_cluster.wait_for_completion(show_output=True)"
      ],
      "outputs": [
        {
          "output_type": "stream",
          "name": "stdout",
          "text": [
            "Succeeded\n",
            "AmlCompute wait for completion finished\n",
            "\n",
            "Minimum number of nodes requested have been provisioned\n"
          ]
        }
      ],
      "execution_count": 6,
      "metadata": {
        "collapsed": true,
        "jupyter": {
          "source_hidden": false,
          "outputs_hidden": false
        },
        "nteract": {
          "transient": {
            "deleting": false
          }
        },
        "gather": {
          "logged": 1611566623742
        }
      }
    },
    {
      "cell_type": "markdown",
      "source": [
        "## AutoML Configuration\n",
        "\n",
        "TODO: Explain why you chose the automl settings and cofiguration you used below."
      ],
      "metadata": {}
    },
    {
      "cell_type": "code",
      "source": [
        "from azureml.train.automl import AutoMLConfig\n",
        "\n",
        "# TODO: Put your automl settings here\n",
        "# automl_settings = {}\n",
        "\n",
        "# TODO: Put your automl config here\n",
        "automl_config = AutoMLConfig(\n",
        "    experiment_timeout_minutes=30,\n",
        "    task='classification',\n",
        "    primary_metric='accuracy',\n",
        "    training_data=dataset,\n",
        "    label_column_name='diagnosis',\n",
        "    n_cross_validations=5,\n",
        "    compute_target=cpu_cluster\n",
        ")"
      ],
      "outputs": [],
      "execution_count": 7,
      "metadata": {
        "gather": {
          "logged": 1611566635974
        },
        "jupyter": {
          "outputs_hidden": false,
          "source_hidden": false
        },
        "nteract": {
          "transient": {
            "deleting": false
          }
        }
      }
    },
    {
      "cell_type": "code",
      "source": [
        "# TODO: Submit your experiment\n",
        "remote_run = experiment.submit(automl_config, show_output=True)\n",
        "RunDetails(remote_run).show()\n",
        "remote_run.wait_for_completion(show_output=True)"
      ],
      "outputs": [
        {
          "output_type": "stream",
          "name": "stdout",
          "text": [
            "Running on remote.\n",
            "No run_configuration provided, running on cpu-cluster with default configuration\n",
            "Running on remote compute: cpu-cluster\n",
            "Parent Run ID: AutoML_7206ef54-5e1d-4499-a65d-45d3400c69c3\n",
            "\n",
            "Current status: FeaturesGeneration. Generating features for the dataset.\n",
            "Current status: DatasetCrossValidationSplit. Generating individually featurized CV splits.\n",
            "Current status: ModelSelection. Beginning model selection.\n",
            "\n",
            "****************************************************************************************************\n",
            "DATA GUARDRAILS: \n",
            "\n",
            "TYPE:         Class balancing detection\n",
            "STATUS:       PASSED\n",
            "DESCRIPTION:  Your inputs were analyzed, and all classes are balanced in your training data.\n",
            "              Learn more about imbalanced data: https://aka.ms/AutomatedMLImbalancedData\n",
            "\n",
            "****************************************************************************************************\n",
            "\n",
            "TYPE:         Missing feature values imputation\n",
            "STATUS:       PASSED\n",
            "DESCRIPTION:  No feature missing values were detected in the training data.\n",
            "              Learn more about missing value imputation: https://aka.ms/AutomatedMLFeaturization\n",
            "\n",
            "****************************************************************************************************\n",
            "\n",
            "TYPE:         High cardinality feature detection\n",
            "STATUS:       PASSED\n",
            "DESCRIPTION:  Your inputs were analyzed, and no high cardinality features were detected.\n",
            "              Learn more about high cardinality feature handling: https://aka.ms/AutomatedMLFeaturization\n",
            "\n",
            "****************************************************************************************************\n",
            "\n",
            "****************************************************************************************************\n",
            "ITERATION: The iteration being evaluated.\n",
            "PIPELINE: A summary description of the pipeline being evaluated.\n",
            "DURATION: Time taken for the current iteration.\n",
            "METRIC: The result of computing score on the fitted pipeline.\n",
            "BEST: The best observed score thus far.\n",
            "****************************************************************************************************\n",
            "\n",
            " ITERATION   PIPELINE                                       DURATION      METRIC      BEST\n",
            "         0   MaxAbsScaler LightGBM                          0:00:40       0.9613    0.9613\n",
            "         1   MaxAbsScaler XGBoostClassifier                 0:00:47       0.9595    0.9613\n",
            "         2   MinMaxScaler RandomForest                      0:00:49       0.9472    0.9613\n",
            "         3   MinMaxScaler RandomForest                      0:00:53       0.9385    0.9613\n",
            "         4   MinMaxScaler RandomForest                      0:00:46       0.9472    0.9613\n",
            "         5   MinMaxScaler SVM                               0:00:55       0.9648    0.9648\n",
            "         6   MaxAbsScaler GradientBoosting                  0:01:12       0.9560    0.9648\n",
            "         7   StandardScalerWrapper RandomForest             0:00:53       0.9437    0.9648\n",
            "         8   SparseNormalizer LightGBM                      0:00:56       0.9595    0.9648\n",
            "         9   SparseNormalizer XGBoostClassifier             0:00:52       0.9542    0.9648\n",
            "        10   StandardScalerWrapper LightGBM                 0:00:51       0.9560    0.9648\n",
            "        11   SparseNormalizer XGBoostClassifier             0:00:55       0.9473    0.9648\n",
            "        12   RobustScaler ExtremeRandomTrees                0:00:46       0.9437    0.9648\n",
            "        13   SparseNormalizer XGBoostClassifier             0:00:58       0.9314    0.9648\n",
            "        14   SparseNormalizer LightGBM                      0:00:55       0.9508    0.9648\n",
            "        15   MinMaxScaler LightGBM                          0:00:45       0.9683    0.9683\n",
            "        16   MinMaxScaler ExtremeRandomTrees                0:01:31       0.9437    0.9683\n",
            "        17   RobustScaler KNN                               0:00:54       0.9279    0.9683\n",
            "        18   MaxAbsScaler LightGBM                          0:00:46       0.9525    0.9683\n",
            "        19   StandardScalerWrapper GradientBoosting         0:00:49       0.9332    0.9683\n",
            "        20   StandardScalerWrapper ExtremeRandomTrees       0:00:45       0.9508    0.9683\n",
            "        21   MaxAbsScaler LightGBM                          0:00:45       0.9560    0.9683\n",
            "        22   MinMaxScaler LightGBM                          0:00:52       0.9630    0.9683\n",
            "        23   SparseNormalizer XGBoostClassifier             0:00:51       0.9561    0.9683\n",
            "        24   StandardScalerWrapper LightGBM                 0:00:43       0.9613    0.9683\n",
            "        25   RobustScaler LightGBM                          0:00:47       0.9613    0.9683\n",
            "        26   SparseNormalizer XGBoostClassifier             0:00:50       0.9560    0.9683\n",
            "        27    VotingEnsemble                                0:01:19       0.9771    0.9771\n",
            "        28    StackEnsemble                                 0:01:25       0.9736    0.9771\n"
          ]
        },
        {
          "output_type": "display_data",
          "data": {
            "text/plain": "_AutoMLWidget(widget_settings={'childWidgetDisplay': 'popup', 'send_telemetry': False, 'log_level': 'INFO', 's…",
            "application/vnd.jupyter.widget-view+json": {
              "version_major": 2,
              "version_minor": 0,
              "model_id": "40886ec3a8f848f2be1e927f1281e885"
            }
          },
          "metadata": {}
        },
        {
          "output_type": "display_data",
          "data": {
            "application/aml.mini.widget.v1": "{\"status\": \"Completed\", \"workbench_run_details_uri\": \"https://ml.azure.com/experiments/capstone-project-automl/runs/AutoML_7206ef54-5e1d-4499-a65d-45d3400c69c3?wsid=/subscriptions/aa7cf8e8-d23f-4bce-a7b9-1f0b4e0ac8ee/resourcegroups/aml-quickstarts-135975/workspaces/quick-starts-ws-135975\", \"run_id\": \"AutoML_7206ef54-5e1d-4499-a65d-45d3400c69c3\", \"run_properties\": {\"run_id\": \"AutoML_7206ef54-5e1d-4499-a65d-45d3400c69c3\", \"created_utc\": \"2021-01-25T09:24:57.406773Z\", \"properties\": {\"num_iterations\": \"1000\", \"training_type\": \"TrainFull\", \"acquisition_function\": \"EI\", \"primary_metric\": \"accuracy\", \"train_split\": \"0\", \"acquisition_parameter\": \"0\", \"num_cross_validation\": \"5\", \"target\": \"cpu-cluster\", \"AMLSettingsJsonString\": \"{\\\"path\\\":null,\\\"name\\\":\\\"capstone-project-automl\\\",\\\"subscription_id\\\":\\\"aa7cf8e8-d23f-4bce-a7b9-1f0b4e0ac8ee\\\",\\\"resource_group\\\":\\\"aml-quickstarts-135975\\\",\\\"workspace_name\\\":\\\"quick-starts-ws-135975\\\",\\\"region\\\":\\\"southcentralus\\\",\\\"compute_target\\\":\\\"cpu-cluster\\\",\\\"spark_service\\\":null,\\\"azure_service\\\":\\\"remote\\\",\\\"many_models\\\":false,\\\"pipeline_fetch_max_batch_size\\\":1,\\\"iterations\\\":1000,\\\"primary_metric\\\":\\\"accuracy\\\",\\\"task_type\\\":\\\"classification\\\",\\\"data_script\\\":null,\\\"validation_size\\\":0.0,\\\"n_cross_validations\\\":5,\\\"y_min\\\":null,\\\"y_max\\\":null,\\\"num_classes\\\":null,\\\"featurization\\\":\\\"auto\\\",\\\"_ignore_package_version_incompatibilities\\\":false,\\\"is_timeseries\\\":false,\\\"max_cores_per_iteration\\\":1,\\\"max_concurrent_iterations\\\":1,\\\"iteration_timeout_minutes\\\":null,\\\"mem_in_mb\\\":null,\\\"enforce_time_on_windows\\\":false,\\\"experiment_timeout_minutes\\\":30,\\\"experiment_exit_score\\\":null,\\\"whitelist_models\\\":null,\\\"blacklist_algos\\\":[\\\"TensorFlowLinearClassifier\\\",\\\"TensorFlowDNN\\\"],\\\"supported_models\\\":[\\\"XGBoostClassifier\\\",\\\"TensorFlowLinearClassifier\\\",\\\"KNN\\\",\\\"SVM\\\",\\\"LinearSVM\\\",\\\"LightGBM\\\",\\\"TensorFlowDNN\\\",\\\"ExtremeRandomTrees\\\",\\\"MultinomialNaiveBayes\\\",\\\"AveragedPerceptronClassifier\\\",\\\"DecisionTree\\\",\\\"RandomForest\\\",\\\"LogisticRegression\\\",\\\"GradientBoosting\\\",\\\"BernoulliNaiveBayes\\\",\\\"SGD\\\"],\\\"auto_blacklist\\\":true,\\\"blacklist_samples_reached\\\":false,\\\"exclude_nan_labels\\\":true,\\\"verbosity\\\":20,\\\"_debug_log\\\":\\\"azureml_automl.log\\\",\\\"show_warnings\\\":false,\\\"model_explainability\\\":true,\\\"service_url\\\":null,\\\"sdk_url\\\":null,\\\"sdk_packages\\\":null,\\\"enable_onnx_compatible_models\\\":false,\\\"enable_split_onnx_featurizer_estimator_models\\\":false,\\\"vm_type\\\":\\\"STANDARD_D2_V2\\\",\\\"telemetry_verbosity\\\":20,\\\"send_telemetry\\\":true,\\\"enable_dnn\\\":false,\\\"scenario\\\":\\\"SDK-1.13.0\\\",\\\"environment_label\\\":null,\\\"force_text_dnn\\\":false,\\\"enable_feature_sweeping\\\":true,\\\"enable_early_stopping\\\":false,\\\"early_stopping_n_iters\\\":10,\\\"metrics\\\":null,\\\"enable_ensembling\\\":true,\\\"enable_stack_ensembling\\\":true,\\\"ensemble_iterations\\\":15,\\\"enable_tf\\\":false,\\\"enable_subsampling\\\":null,\\\"subsample_seed\\\":null,\\\"enable_nimbusml\\\":false,\\\"enable_streaming\\\":false,\\\"force_streaming\\\":false,\\\"track_child_runs\\\":true,\\\"allowed_private_models\\\":[],\\\"label_column_name\\\":\\\"diagnosis\\\",\\\"weight_column_name\\\":null,\\\"cv_split_column_names\\\":null,\\\"enable_local_managed\\\":false,\\\"_local_managed_run_id\\\":null,\\\"cost_mode\\\":1,\\\"lag_length\\\":0,\\\"metric_operation\\\":\\\"maximize\\\",\\\"preprocess\\\":true}\", \"DataPrepJsonString\": \"{\\\\\\\"training_data\\\\\\\": \\\\\\\"{\\\\\\\\\\\\\\\"blocks\\\\\\\\\\\\\\\": [{\\\\\\\\\\\\\\\"id\\\\\\\\\\\\\\\": \\\\\\\\\\\\\\\"6c2cb2a3-2af4-4ff2-8e59-ac926767ca77\\\\\\\\\\\\\\\", \\\\\\\\\\\\\\\"type\\\\\\\\\\\\\\\": \\\\\\\\\\\\\\\"Microsoft.DPrep.GetFilesBlock\\\\\\\\\\\\\\\", \\\\\\\\\\\\\\\"arguments\\\\\\\\\\\\\\\": {\\\\\\\\\\\\\\\"isArchive\\\\\\\\\\\\\\\": false, \\\\\\\\\\\\\\\"path\\\\\\\\\\\\\\\": {\\\\\\\\\\\\\\\"target\\\\\\\\\\\\\\\": 4, \\\\\\\\\\\\\\\"resourceDetails\\\\\\\\\\\\\\\": [{\\\\\\\\\\\\\\\"path\\\\\\\\\\\\\\\": \\\\\\\\\\\\\\\"https://raw.githubusercontent.com/JoanneJons/azure-machine-learning-capstone/main/breast-cancer-dataset.csv?token=AJ5V2OGXYLJ22BGYXN4EUODAC6P4K\\\\\\\\\\\\\\\"}]}}, \\\\\\\\\\\\\\\"localData\\\\\\\\\\\\\\\": {}, \\\\\\\\\\\\\\\"isEnabled\\\\\\\\\\\\\\\": true, \\\\\\\\\\\\\\\"name\\\\\\\\\\\\\\\": null, \\\\\\\\\\\\\\\"annotation\\\\\\\\\\\\\\\": null}, {\\\\\\\\\\\\\\\"id\\\\\\\\\\\\\\\": \\\\\\\\\\\\\\\"2db16714-d4d9-42b4-9ead-853f05021d56\\\\\\\\\\\\\\\", \\\\\\\\\\\\\\\"type\\\\\\\\\\\\\\\": \\\\\\\\\\\\\\\"Microsoft.DPrep.ParseDelimitedBlock\\\\\\\\\\\\\\\", \\\\\\\\\\\\\\\"arguments\\\\\\\\\\\\\\\": {\\\\\\\\\\\\\\\"columnHeadersMode\\\\\\\\\\\\\\\": 3, \\\\\\\\\\\\\\\"fileEncoding\\\\\\\\\\\\\\\": 0, \\\\\\\\\\\\\\\"handleQuotedLineBreaks\\\\\\\\\\\\\\\": false, \\\\\\\\\\\\\\\"preview\\\\\\\\\\\\\\\": false, \\\\\\\\\\\\\\\"separator\\\\\\\\\\\\\\\": \\\\\\\\\\\\\\\",\\\\\\\\\\\\\\\", \\\\\\\\\\\\\\\"skipRows\\\\\\\\\\\\\\\": 0, \\\\\\\\\\\\\\\"skipRowsMode\\\\\\\\\\\\\\\": 0}, \\\\\\\\\\\\\\\"localData\\\\\\\\\\\\\\\": {}, \\\\\\\\\\\\\\\"isEnabled\\\\\\\\\\\\\\\": true, \\\\\\\\\\\\\\\"name\\\\\\\\\\\\\\\": null, \\\\\\\\\\\\\\\"annotation\\\\\\\\\\\\\\\": null}, {\\\\\\\\\\\\\\\"id\\\\\\\\\\\\\\\": \\\\\\\\\\\\\\\"ab35d66d-f43f-4603-aca3-9f3ba5b1d81e\\\\\\\\\\\\\\\", \\\\\\\\\\\\\\\"type\\\\\\\\\\\\\\\": \\\\\\\\\\\\\\\"Microsoft.DPrep.DropColumnsBlock\\\\\\\\\\\\\\\", \\\\\\\\\\\\\\\"arguments\\\\\\\\\\\\\\\": {\\\\\\\\\\\\\\\"columns\\\\\\\\\\\\\\\": {\\\\\\\\\\\\\\\"type\\\\\\\\\\\\\\\": 0, \\\\\\\\\\\\\\\"details\\\\\\\\\\\\\\\": {\\\\\\\\\\\\\\\"selectedColumns\\\\\\\\\\\\\\\": [\\\\\\\\\\\\\\\"Path\\\\\\\\\\\\\\\"]}}}, \\\\\\\\\\\\\\\"localData\\\\\\\\\\\\\\\": {}, \\\\\\\\\\\\\\\"isEnabled\\\\\\\\\\\\\\\": true, \\\\\\\\\\\\\\\"name\\\\\\\\\\\\\\\": null, \\\\\\\\\\\\\\\"annotation\\\\\\\\\\\\\\\": null}, {\\\\\\\\\\\\\\\"id\\\\\\\\\\\\\\\": \\\\\\\\\\\\\\\"aef99c31-b114-4367-bc86-7f3e441b39b7\\\\\\\\\\\\\\\", \\\\\\\\\\\\\\\"type\\\\\\\\\\\\\\\": \\\\\\\\\\\\\\\"Microsoft.DPrep.SetColumnTypesBlock\\\\\\\\\\\\\\\", \\\\\\\\\\\\\\\"arguments\\\\\\\\\\\\\\\": {\\\\\\\\\\\\\\\"columnConversion\\\\\\\\\\\\\\\": [{\\\\\\\\\\\\\\\"column\\\\\\\\\\\\\\\": {\\\\\\\\\\\\\\\"type\\\\\\\\\\\\\\\": 2, \\\\\\\\\\\\\\\"details\\\\\\\\\\\\\\\": {\\\\\\\\\\\\\\\"selectedColumn\\\\\\\\\\\\\\\": \\\\\\\\\\\\\\\"Column1\\\\\\\\\\\\\\\"}}, \\\\\\\\\\\\\\\"typeProperty\\\\\\\\\\\\\\\": 2}, {\\\\\\\\\\\\\\\"column\\\\\\\\\\\\\\\": {\\\\\\\\\\\\\\\"type\\\\\\\\\\\\\\\": 2, \\\\\\\\\\\\\\\"details\\\\\\\\\\\\\\\": {\\\\\\\\\\\\\\\"selectedColumn\\\\\\\\\\\\\\\": \\\\\\\\\\\\\\\"diagnosis\\\\\\\\\\\\\\\"}}, \\\\\\\\\\\\\\\"typeProperty\\\\\\\\\\\\\\\": 2}, {\\\\\\\\\\\\\\\"column\\\\\\\\\\\\\\\": {\\\\\\\\\\\\\\\"type\\\\\\\\\\\\\\\": 2, \\\\\\\\\\\\\\\"details\\\\\\\\\\\\\\\": {\\\\\\\\\\\\\\\"selectedColumn\\\\\\\\\\\\\\\": \\\\\\\\\\\\\\\"radius_mean\\\\\\\\\\\\\\\"}}, \\\\\\\\\\\\\\\"typeProperty\\\\\\\\\\\\\\\": 3}, {\\\\\\\\\\\\\\\"column\\\\\\\\\\\\\\\": {\\\\\\\\\\\\\\\"type\\\\\\\\\\\\\\\": 2, \\\\\\\\\\\\\\\"details\\\\\\\\\\\\\\\": {\\\\\\\\\\\\\\\"selectedColumn\\\\\\\\\\\\\\\": \\\\\\\\\\\\\\\"texture_mean\\\\\\\\\\\\\\\"}}, \\\\\\\\\\\\\\\"typeProperty\\\\\\\\\\\\\\\": 3}, {\\\\\\\\\\\\\\\"column\\\\\\\\\\\\\\\": {\\\\\\\\\\\\\\\"type\\\\\\\\\\\\\\\": 2, \\\\\\\\\\\\\\\"details\\\\\\\\\\\\\\\": {\\\\\\\\\\\\\\\"selectedColumn\\\\\\\\\\\\\\\": \\\\\\\\\\\\\\\"perimeter_mean\\\\\\\\\\\\\\\"}}, \\\\\\\\\\\\\\\"typeProperty\\\\\\\\\\\\\\\": 3}, {\\\\\\\\\\\\\\\"column\\\\\\\\\\\\\\\": {\\\\\\\\\\\\\\\"type\\\\\\\\\\\\\\\": 2, \\\\\\\\\\\\\\\"details\\\\\\\\\\\\\\\": {\\\\\\\\\\\\\\\"selectedColumn\\\\\\\\\\\\\\\": \\\\\\\\\\\\\\\"area_mean\\\\\\\\\\\\\\\"}}, \\\\\\\\\\\\\\\"typeProperty\\\\\\\\\\\\\\\": 3}, {\\\\\\\\\\\\\\\"column\\\\\\\\\\\\\\\": {\\\\\\\\\\\\\\\"type\\\\\\\\\\\\\\\": 2, \\\\\\\\\\\\\\\"details\\\\\\\\\\\\\\\": {\\\\\\\\\\\\\\\"selectedColumn\\\\\\\\\\\\\\\": \\\\\\\\\\\\\\\"smoothness_mean\\\\\\\\\\\\\\\"}}, \\\\\\\\\\\\\\\"typeProperty\\\\\\\\\\\\\\\": 3}, {\\\\\\\\\\\\\\\"column\\\\\\\\\\\\\\\": {\\\\\\\\\\\\\\\"type\\\\\\\\\\\\\\\": 2, \\\\\\\\\\\\\\\"details\\\\\\\\\\\\\\\": {\\\\\\\\\\\\\\\"selectedColumn\\\\\\\\\\\\\\\": \\\\\\\\\\\\\\\"compactness_mean\\\\\\\\\\\\\\\"}}, \\\\\\\\\\\\\\\"typeProperty\\\\\\\\\\\\\\\": 3}, {\\\\\\\\\\\\\\\"column\\\\\\\\\\\\\\\": {\\\\\\\\\\\\\\\"type\\\\\\\\\\\\\\\": 2, \\\\\\\\\\\\\\\"details\\\\\\\\\\\\\\\": {\\\\\\\\\\\\\\\"selectedColumn\\\\\\\\\\\\\\\": \\\\\\\\\\\\\\\"concavity_mean\\\\\\\\\\\\\\\"}}, \\\\\\\\\\\\\\\"typeProperty\\\\\\\\\\\\\\\": 3}, {\\\\\\\\\\\\\\\"column\\\\\\\\\\\\\\\": {\\\\\\\\\\\\\\\"type\\\\\\\\\\\\\\\": 2, \\\\\\\\\\\\\\\"details\\\\\\\\\\\\\\\": {\\\\\\\\\\\\\\\"selectedColumn\\\\\\\\\\\\\\\": \\\\\\\\\\\\\\\"concave points_mean\\\\\\\\\\\\\\\"}}, \\\\\\\\\\\\\\\"typeProperty\\\\\\\\\\\\\\\": 3}, {\\\\\\\\\\\\\\\"column\\\\\\\\\\\\\\\": {\\\\\\\\\\\\\\\"type\\\\\\\\\\\\\\\": 2, \\\\\\\\\\\\\\\"details\\\\\\\\\\\\\\\": {\\\\\\\\\\\\\\\"selectedColumn\\\\\\\\\\\\\\\": \\\\\\\\\\\\\\\"symmetry_mean\\\\\\\\\\\\\\\"}}, \\\\\\\\\\\\\\\"typeProperty\\\\\\\\\\\\\\\": 3}, {\\\\\\\\\\\\\\\"column\\\\\\\\\\\\\\\": {\\\\\\\\\\\\\\\"type\\\\\\\\\\\\\\\": 2, \\\\\\\\\\\\\\\"details\\\\\\\\\\\\\\\": {\\\\\\\\\\\\\\\"selectedColumn\\\\\\\\\\\\\\\": \\\\\\\\\\\\\\\"fractal_dimension_mean\\\\\\\\\\\\\\\"}}, \\\\\\\\\\\\\\\"typeProperty\\\\\\\\\\\\\\\": 3}, {\\\\\\\\\\\\\\\"column\\\\\\\\\\\\\\\": {\\\\\\\\\\\\\\\"type\\\\\\\\\\\\\\\": 2, \\\\\\\\\\\\\\\"details\\\\\\\\\\\\\\\": {\\\\\\\\\\\\\\\"selectedColumn\\\\\\\\\\\\\\\": \\\\\\\\\\\\\\\"radius_se\\\\\\\\\\\\\\\"}}, \\\\\\\\\\\\\\\"typeProperty\\\\\\\\\\\\\\\": 3}, {\\\\\\\\\\\\\\\"column\\\\\\\\\\\\\\\": {\\\\\\\\\\\\\\\"type\\\\\\\\\\\\\\\": 2, \\\\\\\\\\\\\\\"details\\\\\\\\\\\\\\\": {\\\\\\\\\\\\\\\"selectedColumn\\\\\\\\\\\\\\\": \\\\\\\\\\\\\\\"texture_se\\\\\\\\\\\\\\\"}}, \\\\\\\\\\\\\\\"typeProperty\\\\\\\\\\\\\\\": 3}, {\\\\\\\\\\\\\\\"column\\\\\\\\\\\\\\\": {\\\\\\\\\\\\\\\"type\\\\\\\\\\\\\\\": 2, \\\\\\\\\\\\\\\"details\\\\\\\\\\\\\\\": {\\\\\\\\\\\\\\\"selectedColumn\\\\\\\\\\\\\\\": \\\\\\\\\\\\\\\"perimeter_se\\\\\\\\\\\\\\\"}}, \\\\\\\\\\\\\\\"typeProperty\\\\\\\\\\\\\\\": 3}, {\\\\\\\\\\\\\\\"column\\\\\\\\\\\\\\\": {\\\\\\\\\\\\\\\"type\\\\\\\\\\\\\\\": 2, \\\\\\\\\\\\\\\"details\\\\\\\\\\\\\\\": {\\\\\\\\\\\\\\\"selectedColumn\\\\\\\\\\\\\\\": \\\\\\\\\\\\\\\"area_se\\\\\\\\\\\\\\\"}}, \\\\\\\\\\\\\\\"typeProperty\\\\\\\\\\\\\\\": 3}, {\\\\\\\\\\\\\\\"column\\\\\\\\\\\\\\\": {\\\\\\\\\\\\\\\"type\\\\\\\\\\\\\\\": 2, \\\\\\\\\\\\\\\"details\\\\\\\\\\\\\\\": {\\\\\\\\\\\\\\\"selectedColumn\\\\\\\\\\\\\\\": \\\\\\\\\\\\\\\"smoothness_se\\\\\\\\\\\\\\\"}}, \\\\\\\\\\\\\\\"typeProperty\\\\\\\\\\\\\\\": 3}, {\\\\\\\\\\\\\\\"column\\\\\\\\\\\\\\\": {\\\\\\\\\\\\\\\"type\\\\\\\\\\\\\\\": 2, \\\\\\\\\\\\\\\"details\\\\\\\\\\\\\\\": {\\\\\\\\\\\\\\\"selectedColumn\\\\\\\\\\\\\\\": \\\\\\\\\\\\\\\"compactness_se\\\\\\\\\\\\\\\"}}, \\\\\\\\\\\\\\\"typeProperty\\\\\\\\\\\\\\\": 3}, {\\\\\\\\\\\\\\\"column\\\\\\\\\\\\\\\": {\\\\\\\\\\\\\\\"type\\\\\\\\\\\\\\\": 2, \\\\\\\\\\\\\\\"details\\\\\\\\\\\\\\\": {\\\\\\\\\\\\\\\"selectedColumn\\\\\\\\\\\\\\\": \\\\\\\\\\\\\\\"concavity_se\\\\\\\\\\\\\\\"}}, \\\\\\\\\\\\\\\"typeProperty\\\\\\\\\\\\\\\": 3}, {\\\\\\\\\\\\\\\"column\\\\\\\\\\\\\\\": {\\\\\\\\\\\\\\\"type\\\\\\\\\\\\\\\": 2, \\\\\\\\\\\\\\\"details\\\\\\\\\\\\\\\": {\\\\\\\\\\\\\\\"selectedColumn\\\\\\\\\\\\\\\": \\\\\\\\\\\\\\\"concave points_se\\\\\\\\\\\\\\\"}}, \\\\\\\\\\\\\\\"typeProperty\\\\\\\\\\\\\\\": 3}, {\\\\\\\\\\\\\\\"column\\\\\\\\\\\\\\\": {\\\\\\\\\\\\\\\"type\\\\\\\\\\\\\\\": 2, \\\\\\\\\\\\\\\"details\\\\\\\\\\\\\\\": {\\\\\\\\\\\\\\\"selectedColumn\\\\\\\\\\\\\\\": \\\\\\\\\\\\\\\"symmetry_se\\\\\\\\\\\\\\\"}}, \\\\\\\\\\\\\\\"typeProperty\\\\\\\\\\\\\\\": 3}, {\\\\\\\\\\\\\\\"column\\\\\\\\\\\\\\\": {\\\\\\\\\\\\\\\"type\\\\\\\\\\\\\\\": 2, \\\\\\\\\\\\\\\"details\\\\\\\\\\\\\\\": {\\\\\\\\\\\\\\\"selectedColumn\\\\\\\\\\\\\\\": \\\\\\\\\\\\\\\"fractal_dimension_se\\\\\\\\\\\\\\\"}}, \\\\\\\\\\\\\\\"typeProperty\\\\\\\\\\\\\\\": 3}, {\\\\\\\\\\\\\\\"column\\\\\\\\\\\\\\\": {\\\\\\\\\\\\\\\"type\\\\\\\\\\\\\\\": 2, \\\\\\\\\\\\\\\"details\\\\\\\\\\\\\\\": {\\\\\\\\\\\\\\\"selectedColumn\\\\\\\\\\\\\\\": \\\\\\\\\\\\\\\"radius_worst\\\\\\\\\\\\\\\"}}, \\\\\\\\\\\\\\\"typeProperty\\\\\\\\\\\\\\\": 3}, {\\\\\\\\\\\\\\\"column\\\\\\\\\\\\\\\": {\\\\\\\\\\\\\\\"type\\\\\\\\\\\\\\\": 2, \\\\\\\\\\\\\\\"details\\\\\\\\\\\\\\\": {\\\\\\\\\\\\\\\"selectedColumn\\\\\\\\\\\\\\\": \\\\\\\\\\\\\\\"texture_worst\\\\\\\\\\\\\\\"}}, \\\\\\\\\\\\\\\"typeProperty\\\\\\\\\\\\\\\": 3}, {\\\\\\\\\\\\\\\"column\\\\\\\\\\\\\\\": {\\\\\\\\\\\\\\\"type\\\\\\\\\\\\\\\": 2, \\\\\\\\\\\\\\\"details\\\\\\\\\\\\\\\": {\\\\\\\\\\\\\\\"selectedColumn\\\\\\\\\\\\\\\": \\\\\\\\\\\\\\\"perimeter_worst\\\\\\\\\\\\\\\"}}, \\\\\\\\\\\\\\\"typeProperty\\\\\\\\\\\\\\\": 3}, {\\\\\\\\\\\\\\\"column\\\\\\\\\\\\\\\": {\\\\\\\\\\\\\\\"type\\\\\\\\\\\\\\\": 2, \\\\\\\\\\\\\\\"details\\\\\\\\\\\\\\\": {\\\\\\\\\\\\\\\"selectedColumn\\\\\\\\\\\\\\\": \\\\\\\\\\\\\\\"area_worst\\\\\\\\\\\\\\\"}}, \\\\\\\\\\\\\\\"typeProperty\\\\\\\\\\\\\\\": 3}, {\\\\\\\\\\\\\\\"column\\\\\\\\\\\\\\\": {\\\\\\\\\\\\\\\"type\\\\\\\\\\\\\\\": 2, \\\\\\\\\\\\\\\"details\\\\\\\\\\\\\\\": {\\\\\\\\\\\\\\\"selectedColumn\\\\\\\\\\\\\\\": \\\\\\\\\\\\\\\"smoothness_worst\\\\\\\\\\\\\\\"}}, \\\\\\\\\\\\\\\"typeProperty\\\\\\\\\\\\\\\": 3}, {\\\\\\\\\\\\\\\"column\\\\\\\\\\\\\\\": {\\\\\\\\\\\\\\\"type\\\\\\\\\\\\\\\": 2, \\\\\\\\\\\\\\\"details\\\\\\\\\\\\\\\": {\\\\\\\\\\\\\\\"selectedColumn\\\\\\\\\\\\\\\": \\\\\\\\\\\\\\\"compactness_worst\\\\\\\\\\\\\\\"}}, \\\\\\\\\\\\\\\"typeProperty\\\\\\\\\\\\\\\": 3}, {\\\\\\\\\\\\\\\"column\\\\\\\\\\\\\\\": {\\\\\\\\\\\\\\\"type\\\\\\\\\\\\\\\": 2, \\\\\\\\\\\\\\\"details\\\\\\\\\\\\\\\": {\\\\\\\\\\\\\\\"selectedColumn\\\\\\\\\\\\\\\": \\\\\\\\\\\\\\\"concavity_worst\\\\\\\\\\\\\\\"}}, \\\\\\\\\\\\\\\"typeProperty\\\\\\\\\\\\\\\": 3}, {\\\\\\\\\\\\\\\"column\\\\\\\\\\\\\\\": {\\\\\\\\\\\\\\\"type\\\\\\\\\\\\\\\": 2, \\\\\\\\\\\\\\\"details\\\\\\\\\\\\\\\": {\\\\\\\\\\\\\\\"selectedColumn\\\\\\\\\\\\\\\": \\\\\\\\\\\\\\\"concave points_worst\\\\\\\\\\\\\\\"}}, \\\\\\\\\\\\\\\"typeProperty\\\\\\\\\\\\\\\": 3}, {\\\\\\\\\\\\\\\"column\\\\\\\\\\\\\\\": {\\\\\\\\\\\\\\\"type\\\\\\\\\\\\\\\": 2, \\\\\\\\\\\\\\\"details\\\\\\\\\\\\\\\": {\\\\\\\\\\\\\\\"selectedColumn\\\\\\\\\\\\\\\": \\\\\\\\\\\\\\\"symmetry_worst\\\\\\\\\\\\\\\"}}, \\\\\\\\\\\\\\\"typeProperty\\\\\\\\\\\\\\\": 3}, {\\\\\\\\\\\\\\\"column\\\\\\\\\\\\\\\": {\\\\\\\\\\\\\\\"type\\\\\\\\\\\\\\\": 2, \\\\\\\\\\\\\\\"details\\\\\\\\\\\\\\\": {\\\\\\\\\\\\\\\"selectedColumn\\\\\\\\\\\\\\\": \\\\\\\\\\\\\\\"fractal_dimension_worst\\\\\\\\\\\\\\\"}}, \\\\\\\\\\\\\\\"typeProperty\\\\\\\\\\\\\\\": 3}]}, \\\\\\\\\\\\\\\"localData\\\\\\\\\\\\\\\": {}, \\\\\\\\\\\\\\\"isEnabled\\\\\\\\\\\\\\\": true, \\\\\\\\\\\\\\\"name\\\\\\\\\\\\\\\": null, \\\\\\\\\\\\\\\"annotation\\\\\\\\\\\\\\\": null}], \\\\\\\\\\\\\\\"inspectors\\\\\\\\\\\\\\\": [], \\\\\\\\\\\\\\\"meta\\\\\\\\\\\\\\\": {\\\\\\\\\\\\\\\"savedDatasetId\\\\\\\\\\\\\\\": \\\\\\\\\\\\\\\"37a6ef3d-b0a3-46b8-93c2-e4441dfa6f06\\\\\\\\\\\\\\\", \\\\\\\\\\\\\\\"datasetType\\\\\\\\\\\\\\\": \\\\\\\\\\\\\\\"tabular\\\\\\\\\\\\\\\", \\\\\\\\\\\\\\\"subscriptionId\\\\\\\\\\\\\\\": \\\\\\\\\\\\\\\"aa7cf8e8-d23f-4bce-a7b9-1f0b4e0ac8ee\\\\\\\\\\\\\\\", \\\\\\\\\\\\\\\"workspaceId\\\\\\\\\\\\\\\": \\\\\\\\\\\\\\\"517ec88b-ae94-4957-a617-efb1f5c27bfd\\\\\\\\\\\\\\\", \\\\\\\\\\\\\\\"workspaceLocation\\\\\\\\\\\\\\\": \\\\\\\\\\\\\\\"southcentralus\\\\\\\\\\\\\\\"}}\\\\\\\", \\\\\\\"activities\\\\\\\": 0}\", \"EnableSubsampling\": null, \"runTemplate\": \"AutoML\", \"azureml.runsource\": \"automl\", \"display_task_type\": \"classification\", \"dependencies_versions\": \"{\\\"azureml-widgets\\\": \\\"1.19.0\\\", \\\"azureml-train\\\": \\\"1.19.0\\\", \\\"azureml-train-restclients-hyperdrive\\\": \\\"1.19.0\\\", \\\"azureml-train-core\\\": \\\"1.19.0\\\", \\\"azureml-train-automl\\\": \\\"1.19.0\\\", \\\"azureml-train-automl-runtime\\\": \\\"1.19.0\\\", \\\"azureml-train-automl-client\\\": \\\"1.19.0\\\", \\\"azureml-tensorboard\\\": \\\"1.19.0\\\", \\\"azureml-telemetry\\\": \\\"1.19.0\\\", \\\"azureml-sdk\\\": \\\"1.19.0\\\", \\\"azureml-samples\\\": \\\"0+unknown\\\", \\\"azureml-pipeline\\\": \\\"1.19.0\\\", \\\"azureml-pipeline-steps\\\": \\\"1.19.0\\\", \\\"azureml-pipeline-core\\\": \\\"1.19.0\\\", \\\"azureml-opendatasets\\\": \\\"1.19.0\\\", \\\"azureml-model-management-sdk\\\": \\\"1.0.1b6.post1\\\", \\\"azureml-mlflow\\\": \\\"1.19.0\\\", \\\"azureml-interpret\\\": \\\"1.19.0\\\", \\\"azureml-explain-model\\\": \\\"1.19.0\\\", \\\"azureml-defaults\\\": \\\"1.19.0\\\", \\\"azureml-dataset-runtime\\\": \\\"1.19.0.post1\\\", \\\"azureml-dataprep\\\": \\\"2.6.1\\\", \\\"azureml-dataprep-rslex\\\": \\\"1.4.0\\\", \\\"azureml-dataprep-native\\\": \\\"26.0.0\\\", \\\"azureml-datadrift\\\": \\\"1.19.0\\\", \\\"azureml-core\\\": \\\"1.19.0\\\", \\\"azureml-contrib-services\\\": \\\"1.19.0\\\", \\\"azureml-contrib-server\\\": \\\"1.19.0\\\", \\\"azureml-contrib-reinforcementlearning\\\": \\\"1.19.0\\\", \\\"azureml-contrib-pipeline-steps\\\": \\\"1.19.0\\\", \\\"azureml-contrib-notebook\\\": \\\"1.19.0\\\", \\\"azureml-contrib-interpret\\\": \\\"1.19.0\\\", \\\"azureml-contrib-gbdt\\\": \\\"1.19.0\\\", \\\"azureml-contrib-fairness\\\": \\\"1.19.0\\\", \\\"azureml-contrib-dataset\\\": \\\"1.19.0\\\", \\\"azureml-cli-common\\\": \\\"1.19.0\\\", \\\"azureml-automl-runtime\\\": \\\"1.19.0\\\", \\\"azureml-automl-core\\\": \\\"1.19.0\\\", \\\"azureml-accel-models\\\": \\\"1.19.0\\\"}\", \"_aml_system_scenario_identification\": \"Remote.Parent\", \"ClientType\": \"SDK\", \"environment_cpu_name\": \"AzureML-AutoML\", \"environment_cpu_label\": \"prod\", \"environment_gpu_name\": \"AzureML-AutoML-GPU\", \"environment_gpu_label\": \"prod\", \"root_attribution\": \"automl\", \"attribution\": \"AutoML\", \"Orchestrator\": \"AutoML\", \"CancelUri\": \"https://southcentralus.experiments.azureml.net/jasmine/v1.0/subscriptions/aa7cf8e8-d23f-4bce-a7b9-1f0b4e0ac8ee/resourceGroups/aml-quickstarts-135975/providers/Microsoft.MachineLearningServices/workspaces/quick-starts-ws-135975/experimentids/d8ff262b-b9c1-450b-88c5-445ecc1166d2/cancel/AutoML_7206ef54-5e1d-4499-a65d-45d3400c69c3\", \"ClientSdkVersion\": \"1.20.0\", \"snapshotId\": \"00000000-0000-0000-0000-000000000000\", \"SetupRunId\": \"AutoML_7206ef54-5e1d-4499-a65d-45d3400c69c3_setup\", \"SetupRunContainerId\": \"dcid.AutoML_7206ef54-5e1d-4499-a65d-45d3400c69c3_setup\", \"FeaturizationRunJsonPath\": \"featurizer_container.json\", \"FeaturizationRunId\": \"AutoML_7206ef54-5e1d-4499-a65d-45d3400c69c3_featurize\", \"ProblemInfoJsonString\": \"{\\\"dataset_num_categorical\\\": 0, \\\"is_sparse\\\": false, \\\"subsampling\\\": false, \\\"dataset_classes\\\": 2, \\\"dataset_features\\\": 31, \\\"dataset_samples\\\": 569, \\\"single_frequency_class_detected\\\": false}\", \"ModelExplainRunId\": \"AutoML_7206ef54-5e1d-4499-a65d-45d3400c69c3_ModelExplain\"}, \"tags\": {\"model_explain_run\": \"best_run\", \"_aml_system_azureml.automlComponent\": \"AutoML\", \"pipeline_id\": \"\", \"score\": \"\", \"predicted_cost\": \"\", \"fit_time\": \"\", \"training_percent\": \"\", \"iteration\": \"\", \"run_preprocessor\": \"\", \"run_algorithm\": \"\", \"dynamic_whitelisting_iterations\": \"<25>;\", \"automl_best_child_run_id\": \"AutoML_7206ef54-5e1d-4499-a65d-45d3400c69c3_27\"}, \"end_time_utc\": \"2021-01-25T10:07:52.156998Z\", \"status\": \"Completed\", \"log_files\": {}, \"log_groups\": [], \"run_duration\": \"0:42:54\"}, \"child_runs\": [{\"run_id\": \"AutoML_7206ef54-5e1d-4499-a65d-45d3400c69c3_0\", \"run_number\": 5, \"metric\": null, \"status\": \"Completed\", \"run_type\": \"azureml.scriptrun\", \"training_percent\": \"100\", \"start_time\": \"2021-01-25T09:34:43.858477Z\", \"end_time\": \"2021-01-25T09:35:24.206599Z\", \"created_time\": \"2021-01-25T09:34:31.075562Z\", \"created_time_dt\": \"2021-01-25T09:34:31.075562Z\", \"duration\": \"0:00:53\", \"iteration\": \"0\", \"goal\": \"accuracy_max\", \"run_name\": \"MaxAbsScaler, LightGBM\", \"run_properties\": \"copy=True\", \"primary_metric\": 0.96129483, \"best_metric\": 0.96129483}, {\"run_id\": \"AutoML_7206ef54-5e1d-4499-a65d-45d3400c69c3_1\", \"run_number\": 6, \"metric\": null, \"status\": \"Completed\", \"run_type\": \"azureml.scriptrun\", \"training_percent\": \"100\", \"start_time\": \"2021-01-25T09:35:36.454889Z\", \"end_time\": \"2021-01-25T09:36:23.909672Z\", \"created_time\": \"2021-01-25T09:35:26.21438Z\", \"created_time_dt\": \"2021-01-25T09:35:26.21438Z\", \"duration\": \"0:00:57\", \"iteration\": \"1\", \"goal\": \"accuracy_max\", \"run_name\": \"MaxAbsScaler, XGBoostClassifier\", \"run_properties\": \"copy=True\", \"primary_metric\": 0.95954044, \"best_metric\": 0.96129483}, {\"run_id\": \"AutoML_7206ef54-5e1d-4499-a65d-45d3400c69c3_2\", \"run_number\": 7, \"metric\": null, \"status\": \"Completed\", \"run_type\": \"azureml.scriptrun\", \"training_percent\": \"100\", \"start_time\": \"2021-01-25T09:36:38.027311Z\", \"end_time\": \"2021-01-25T09:37:26.647775Z\", \"created_time\": \"2021-01-25T09:36:25.661842Z\", \"created_time_dt\": \"2021-01-25T09:36:25.661842Z\", \"duration\": \"0:01:00\", \"iteration\": \"2\", \"goal\": \"accuracy_max\", \"run_name\": \"MinMaxScaler, RandomForest\", \"run_properties\": \"copy=True, feature_range=(0, 1\", \"primary_metric\": 0.94722869, \"best_metric\": 0.96129483}, {\"run_id\": \"AutoML_7206ef54-5e1d-4499-a65d-45d3400c69c3_3\", \"run_number\": 8, \"metric\": null, \"status\": \"Completed\", \"run_type\": \"azureml.scriptrun\", \"training_percent\": \"100\", \"start_time\": \"2021-01-25T09:37:41.238285Z\", \"end_time\": \"2021-01-25T09:38:34.534111Z\", \"created_time\": \"2021-01-25T09:37:29.578422Z\", \"created_time_dt\": \"2021-01-25T09:37:29.578422Z\", \"duration\": \"0:01:04\", \"iteration\": \"3\", \"goal\": \"accuracy_max\", \"run_name\": \"MinMaxScaler, RandomForest\", \"run_properties\": \"copy=True, feature_range=(0, 1\", \"primary_metric\": 0.93848781, \"best_metric\": 0.96129483}, {\"run_id\": \"AutoML_7206ef54-5e1d-4499-a65d-45d3400c69c3_4\", \"run_number\": 9, \"metric\": null, \"status\": \"Completed\", \"run_type\": \"azureml.scriptrun\", \"training_percent\": \"100\", \"start_time\": \"2021-01-25T09:38:49.403443Z\", \"end_time\": \"2021-01-25T09:39:35.149726Z\", \"created_time\": \"2021-01-25T09:38:36.940041Z\", \"created_time_dt\": \"2021-01-25T09:38:36.940041Z\", \"duration\": \"0:00:58\", \"iteration\": \"4\", \"goal\": \"accuracy_max\", \"run_name\": \"MinMaxScaler, RandomForest\", \"run_properties\": \"copy=True, feature_range=(0, 1\", \"primary_metric\": 0.94722869, \"best_metric\": 0.96129483}, {\"run_id\": \"AutoML_7206ef54-5e1d-4499-a65d-45d3400c69c3_5\", \"run_number\": 10, \"metric\": null, \"status\": \"Completed\", \"run_type\": \"azureml.scriptrun\", \"training_percent\": \"100\", \"start_time\": \"2021-01-25T09:39:50.622629Z\", \"end_time\": \"2021-01-25T09:40:45.15843Z\", \"created_time\": \"2021-01-25T09:39:37.149967Z\", \"created_time_dt\": \"2021-01-25T09:39:37.149967Z\", \"duration\": \"0:01:08\", \"iteration\": \"5\", \"goal\": \"accuracy_max\", \"run_name\": \"MinMaxScaler, SVM\", \"run_properties\": \"copy=True, feature_range=(0, 1\", \"primary_metric\": 0.96483465, \"best_metric\": 0.96483465}, {\"run_id\": \"AutoML_7206ef54-5e1d-4499-a65d-45d3400c69c3_6\", \"run_number\": 11, \"metric\": null, \"status\": \"Completed\", \"run_type\": \"azureml.scriptrun\", \"training_percent\": \"100\", \"start_time\": \"2021-01-25T09:40:57.220849Z\", \"end_time\": \"2021-01-25T09:42:09.26608Z\", \"created_time\": \"2021-01-25T09:40:47.127318Z\", \"created_time_dt\": \"2021-01-25T09:40:47.127318Z\", \"duration\": \"0:01:22\", \"iteration\": \"6\", \"goal\": \"accuracy_max\", \"run_name\": \"MaxAbsScaler, GradientBoosting\", \"run_properties\": \"copy=True\", \"primary_metric\": 0.95603167, \"best_metric\": 0.96483465}, {\"run_id\": \"AutoML_7206ef54-5e1d-4499-a65d-45d3400c69c3_7\", \"run_number\": 12, \"metric\": null, \"status\": \"Completed\", \"run_type\": \"azureml.scriptrun\", \"training_percent\": \"100\", \"start_time\": \"2021-01-25T09:42:22.38468Z\", \"end_time\": \"2021-01-25T09:43:15.56643Z\", \"created_time\": \"2021-01-25T09:42:11.163875Z\", \"created_time_dt\": \"2021-01-25T09:42:11.163875Z\", \"duration\": \"0:01:04\", \"iteration\": \"7\", \"goal\": \"accuracy_max\", \"run_name\": \"StandardScalerWrapper, RandomForest\", \"run_properties\": \"<azureml.automl.runtime.shared.model_wrappers.StandardScalerWrapper object at 0x7f3b36150ac8\", \"primary_metric\": 0.94373544, \"best_metric\": 0.96483465}, {\"run_id\": \"AutoML_7206ef54-5e1d-4499-a65d-45d3400c69c3_8\", \"run_number\": 13, \"metric\": null, \"status\": \"Completed\", \"run_type\": \"azureml.scriptrun\", \"training_percent\": \"100\", \"start_time\": \"2021-01-25T09:43:32.151065Z\", \"end_time\": \"2021-01-25T09:44:27.749339Z\", \"created_time\": \"2021-01-25T09:43:17.694651Z\", \"created_time_dt\": \"2021-01-25T09:43:17.694651Z\", \"duration\": \"0:01:10\", \"iteration\": \"8\", \"goal\": \"accuracy_max\", \"run_name\": \"SparseNormalizer, LightGBM\", \"run_properties\": \"<azureml.automl.runtime.shared.model_wrappers.SparseNormalizer object at 0x7f8e5b28aac8\", \"primary_metric\": 0.95954044, \"best_metric\": 0.96483465}, {\"run_id\": \"AutoML_7206ef54-5e1d-4499-a65d-45d3400c69c3_9\", \"run_number\": 14, \"metric\": null, \"status\": \"Completed\", \"run_type\": \"azureml.scriptrun\", \"training_percent\": \"100\", \"start_time\": \"2021-01-25T09:44:44.038538Z\", \"end_time\": \"2021-01-25T09:45:35.765254Z\", \"created_time\": \"2021-01-25T09:44:30.409316Z\", \"created_time_dt\": \"2021-01-25T09:44:30.409316Z\", \"duration\": \"0:01:05\", \"iteration\": \"9\", \"goal\": \"accuracy_max\", \"run_name\": \"SparseNormalizer, XGBoostClassifier\", \"run_properties\": \"<azureml.automl.runtime.shared.model_wrappers.SparseNormalizer object at 0x7f1d0ae466d8\", \"primary_metric\": 0.95423071, \"best_metric\": 0.96483465}, {\"run_id\": \"AutoML_7206ef54-5e1d-4499-a65d-45d3400c69c3_10\", \"run_number\": 15, \"metric\": null, \"status\": \"Completed\", \"run_type\": \"azureml.scriptrun\", \"training_percent\": \"100\", \"start_time\": \"2021-01-25T09:45:49.082131Z\", \"end_time\": \"2021-01-25T09:46:40.436048Z\", \"created_time\": \"2021-01-25T09:45:38.01757Z\", \"created_time_dt\": \"2021-01-25T09:45:38.01757Z\", \"duration\": \"0:01:02\", \"iteration\": \"10\", \"goal\": \"accuracy_max\", \"run_name\": \"StandardScalerWrapper, LightGBM\", \"run_properties\": \"<azureml.automl.runtime.shared.model_wrappers.StandardScalerWrapper object at 0x7ff256c9c0f0\", \"primary_metric\": 0.95600062, \"best_metric\": 0.96483465}, {\"run_id\": \"AutoML_7206ef54-5e1d-4499-a65d-45d3400c69c3_11\", \"run_number\": 16, \"metric\": null, \"status\": \"Completed\", \"run_type\": \"azureml.scriptrun\", \"training_percent\": \"100\", \"start_time\": \"2021-01-25T09:46:56.646034Z\", \"end_time\": \"2021-01-25T09:47:51.614139Z\", \"created_time\": \"2021-01-25T09:46:43.967038Z\", \"created_time_dt\": \"2021-01-25T09:46:43.967038Z\", \"duration\": \"0:01:07\", \"iteration\": \"11\", \"goal\": \"accuracy_max\", \"run_name\": \"SparseNormalizer, XGBoostClassifier\", \"run_properties\": \"<azureml.automl.runtime.shared.model_wrappers.SparseNormalizer object at 0x7f2095c43a58\", \"primary_metric\": 0.94729079, \"best_metric\": 0.96483465}, {\"run_id\": \"AutoML_7206ef54-5e1d-4499-a65d-45d3400c69c3_12\", \"run_number\": 17, \"metric\": null, \"status\": \"Completed\", \"run_type\": \"azureml.scriptrun\", \"training_percent\": \"100\", \"start_time\": \"2021-01-25T09:48:08.695683Z\", \"end_time\": \"2021-01-25T09:48:54.938185Z\", \"created_time\": \"2021-01-25T09:47:54.928353Z\", \"created_time_dt\": \"2021-01-25T09:47:54.928353Z\", \"duration\": \"0:01:00\", \"iteration\": \"12\", \"goal\": \"accuracy_max\", \"run_name\": \"RobustScaler, ExtremeRandomTrees\", \"run_properties\": \"copy=True, quantile_range=[25, 75], with_centering=True,\\n             with_scaling=False\", \"primary_metric\": 0.94371992, \"best_metric\": 0.96483465}, {\"run_id\": \"AutoML_7206ef54-5e1d-4499-a65d-45d3400c69c3_13\", \"run_number\": 18, \"metric\": null, \"status\": \"Completed\", \"run_type\": \"azureml.scriptrun\", \"training_percent\": \"100\", \"start_time\": \"2021-01-25T09:49:08.214022Z\", \"end_time\": \"2021-01-25T09:50:06.100985Z\", \"created_time\": \"2021-01-25T09:48:57.235959Z\", \"created_time_dt\": \"2021-01-25T09:48:57.235959Z\", \"duration\": \"0:01:08\", \"iteration\": \"13\", \"goal\": \"accuracy_max\", \"run_name\": \"SparseNormalizer, XGBoostClassifier\", \"run_properties\": \"<azureml.automl.runtime.shared.model_wrappers.SparseNormalizer object at 0x7f16a810d550\", \"primary_metric\": 0.93140817, \"best_metric\": 0.96483465}, {\"run_id\": \"AutoML_7206ef54-5e1d-4499-a65d-45d3400c69c3_14\", \"run_number\": 19, \"metric\": null, \"status\": \"Completed\", \"run_type\": \"azureml.scriptrun\", \"training_percent\": \"100\", \"start_time\": \"2021-01-25T09:50:24.001334Z\", \"end_time\": \"2021-01-25T09:51:18.765431Z\", \"created_time\": \"2021-01-25T09:50:08.478101Z\", \"created_time_dt\": \"2021-01-25T09:50:08.478101Z\", \"duration\": \"0:01:10\", \"iteration\": \"14\", \"goal\": \"accuracy_max\", \"run_name\": \"SparseNormalizer, LightGBM\", \"run_properties\": \"<azureml.automl.runtime.shared.model_wrappers.SparseNormalizer object at 0x7efe56a6c978\", \"primary_metric\": 0.95075299, \"best_metric\": 0.96483465}, {\"run_id\": \"AutoML_7206ef54-5e1d-4499-a65d-45d3400c69c3_15\", \"run_number\": 20, \"metric\": null, \"status\": \"Completed\", \"run_type\": \"azureml.scriptrun\", \"training_percent\": \"100\", \"start_time\": \"2021-01-25T09:51:31.535906Z\", \"end_time\": \"2021-01-25T09:52:16.060354Z\", \"created_time\": \"2021-01-25T09:51:20.584472Z\", \"created_time_dt\": \"2021-01-25T09:51:20.584472Z\", \"duration\": \"0:00:55\", \"iteration\": \"15\", \"goal\": \"accuracy_max\", \"run_name\": \"MinMaxScaler, LightGBM\", \"run_properties\": \"copy=True, feature_range=(0, 1\", \"primary_metric\": 0.9683279, \"best_metric\": 0.9683279}, {\"run_id\": \"AutoML_7206ef54-5e1d-4499-a65d-45d3400c69c3_16\", \"run_number\": 21, \"metric\": null, \"status\": \"Completed\", \"run_type\": \"azureml.scriptrun\", \"training_percent\": \"100\", \"start_time\": \"2021-01-25T09:52:30.09701Z\", \"end_time\": \"2021-01-25T09:54:00.923564Z\", \"created_time\": \"2021-01-25T09:52:17.599496Z\", \"created_time_dt\": \"2021-01-25T09:52:17.599496Z\", \"duration\": \"0:01:43\", \"iteration\": \"16\", \"goal\": \"accuracy_max\", \"run_name\": \"MinMaxScaler, ExtremeRandomTrees\", \"run_properties\": \"copy=True, feature_range=(0, 1\", \"primary_metric\": 0.94371992, \"best_metric\": 0.9683279}, {\"run_id\": \"AutoML_7206ef54-5e1d-4499-a65d-45d3400c69c3_17\", \"run_number\": 22, \"metric\": null, \"status\": \"Completed\", \"run_type\": \"azureml.scriptrun\", \"training_percent\": \"100\", \"start_time\": \"2021-01-25T09:54:17.766329Z\", \"end_time\": \"2021-01-25T09:55:11.406678Z\", \"created_time\": \"2021-01-25T09:54:04.310386Z\", \"created_time_dt\": \"2021-01-25T09:54:04.310386Z\", \"duration\": \"0:01:07\", \"iteration\": \"17\", \"goal\": \"accuracy_max\", \"run_name\": \"RobustScaler, KNN\", \"run_properties\": \"copy=True, quantile_range=[10, 90], with_centering=False,\\n             with_scaling=False\", \"primary_metric\": 0.92789939, \"best_metric\": 0.9683279}, {\"run_id\": \"AutoML_7206ef54-5e1d-4499-a65d-45d3400c69c3_18\", \"run_number\": 23, \"metric\": null, \"status\": \"Completed\", \"run_type\": \"azureml.scriptrun\", \"training_percent\": \"100\", \"start_time\": \"2021-01-25T09:55:26.843576Z\", \"end_time\": \"2021-01-25T09:56:12.720985Z\", \"created_time\": \"2021-01-25T09:55:13.353505Z\", \"created_time_dt\": \"2021-01-25T09:55:13.353505Z\", \"duration\": \"0:00:59\", \"iteration\": \"18\", \"goal\": \"accuracy_max\", \"run_name\": \"MaxAbsScaler, LightGBM\", \"run_properties\": \"copy=True\", \"primary_metric\": 0.95249185, \"best_metric\": 0.9683279}, {\"run_id\": \"AutoML_7206ef54-5e1d-4499-a65d-45d3400c69c3_19\", \"run_number\": 24, \"metric\": null, \"status\": \"Completed\", \"run_type\": \"azureml.scriptrun\", \"training_percent\": \"100\", \"start_time\": \"2021-01-25T09:56:28.670433Z\", \"end_time\": \"2021-01-25T09:57:17.374672Z\", \"created_time\": \"2021-01-25T09:56:15.446238Z\", \"created_time_dt\": \"2021-01-25T09:56:15.446238Z\", \"duration\": \"0:01:01\", \"iteration\": \"19\", \"goal\": \"accuracy_max\", \"run_name\": \"StandardScalerWrapper, GradientBoosting\", \"run_properties\": \"<azureml.automl.runtime.shared.model_wrappers.StandardScalerWrapper object at 0x7ff8a4fd5550\", \"primary_metric\": 0.93316255, \"best_metric\": 0.9683279}, {\"run_id\": \"AutoML_7206ef54-5e1d-4499-a65d-45d3400c69c3_20\", \"run_number\": 25, \"metric\": null, \"status\": \"Completed\", \"run_type\": \"azureml.scriptrun\", \"training_percent\": \"100\", \"start_time\": \"2021-01-25T09:57:31.154003Z\", \"end_time\": \"2021-01-25T09:58:15.866313Z\", \"created_time\": \"2021-01-25T09:57:19.443445Z\", \"created_time_dt\": \"2021-01-25T09:57:19.443445Z\", \"duration\": \"0:00:56\", \"iteration\": \"20\", \"goal\": \"accuracy_max\", \"run_name\": \"StandardScalerWrapper, ExtremeRandomTrees\", \"run_properties\": \"<azureml.automl.runtime.shared.model_wrappers.StandardScalerWrapper object at 0x7fc71da0b470\", \"primary_metric\": 0.95075299, \"best_metric\": 0.9683279}, {\"run_id\": \"AutoML_7206ef54-5e1d-4499-a65d-45d3400c69c3_21\", \"run_number\": 26, \"metric\": null, \"status\": \"Completed\", \"run_type\": \"azureml.scriptrun\", \"training_percent\": \"100\", \"start_time\": \"2021-01-25T09:58:29.183896Z\", \"end_time\": \"2021-01-25T09:59:13.917635Z\", \"created_time\": \"2021-01-25T09:58:17.856316Z\", \"created_time_dt\": \"2021-01-25T09:58:17.856316Z\", \"duration\": \"0:00:56\", \"iteration\": \"21\", \"goal\": \"accuracy_max\", \"run_name\": \"MaxAbsScaler, LightGBM\", \"run_properties\": \"copy=True\", \"primary_metric\": 0.95603167, \"best_metric\": 0.9683279}, {\"run_id\": \"AutoML_7206ef54-5e1d-4499-a65d-45d3400c69c3_22\", \"run_number\": 27, \"metric\": null, \"status\": \"Completed\", \"run_type\": \"azureml.scriptrun\", \"training_percent\": \"100\", \"start_time\": \"2021-01-25T09:59:28.491165Z\", \"end_time\": \"2021-01-25T10:00:20.11902Z\", \"created_time\": \"2021-01-25T09:59:16.121103Z\", \"created_time_dt\": \"2021-01-25T09:59:16.121103Z\", \"duration\": \"0:01:03\", \"iteration\": \"22\", \"goal\": \"accuracy_max\", \"run_name\": \"MinMaxScaler, LightGBM\", \"run_properties\": \"copy=True, feature_range=(0, 1\", \"primary_metric\": 0.96304922, \"best_metric\": 0.9683279}, {\"run_id\": \"AutoML_7206ef54-5e1d-4499-a65d-45d3400c69c3_23\", \"run_number\": 28, \"metric\": null, \"status\": \"Completed\", \"run_type\": \"azureml.scriptrun\", \"training_percent\": \"100\", \"start_time\": \"2021-01-25T10:00:34.494434Z\", \"end_time\": \"2021-01-25T10:01:25.401489Z\", \"created_time\": \"2021-01-25T10:00:22.002809Z\", \"created_time_dt\": \"2021-01-25T10:00:22.002809Z\", \"duration\": \"0:01:03\", \"iteration\": \"23\", \"goal\": \"accuracy_max\", \"run_name\": \"SparseNormalizer, XGBoostClassifier\", \"run_properties\": \"<azureml.automl.runtime.shared.model_wrappers.SparseNormalizer object at 0x7f02f7b18b00\", \"primary_metric\": 0.95607825, \"best_metric\": 0.9683279}, {\"run_id\": \"AutoML_7206ef54-5e1d-4499-a65d-45d3400c69c3_24\", \"run_number\": 29, \"metric\": null, \"status\": \"Completed\", \"run_type\": \"azureml.scriptrun\", \"training_percent\": \"100\", \"start_time\": \"2021-01-25T10:01:38.934769Z\", \"end_time\": \"2021-01-25T10:02:22.317317Z\", \"created_time\": \"2021-01-25T10:01:27.9528Z\", \"created_time_dt\": \"2021-01-25T10:01:27.9528Z\", \"duration\": \"0:00:54\", \"iteration\": \"24\", \"goal\": \"accuracy_max\", \"run_name\": \"StandardScalerWrapper, LightGBM\", \"run_properties\": \"<azureml.automl.runtime.shared.model_wrappers.StandardScalerWrapper object at 0x7f0bae7bde48\", \"primary_metric\": 0.96131036, \"best_metric\": 0.9683279}, {\"run_id\": \"AutoML_7206ef54-5e1d-4499-a65d-45d3400c69c3_25\", \"run_number\": 30, \"metric\": null, \"status\": \"Completed\", \"run_type\": \"azureml.scriptrun\", \"training_percent\": \"100\", \"start_time\": \"2021-01-25T10:02:38.94888Z\", \"end_time\": \"2021-01-25T10:03:25.604066Z\", \"created_time\": \"2021-01-25T10:02:25.485281Z\", \"created_time_dt\": \"2021-01-25T10:02:25.485281Z\", \"duration\": \"0:01:00\", \"iteration\": \"25\", \"goal\": \"accuracy_max\", \"run_name\": \"RobustScaler, LightGBM\", \"run_properties\": \"copy=True, quantile_range=[25, 75], with_centering=True,\\n             with_scaling=True\", \"primary_metric\": 0.96126378, \"best_metric\": 0.9683279}, {\"run_id\": \"AutoML_7206ef54-5e1d-4499-a65d-45d3400c69c3_26\", \"run_number\": 31, \"metric\": null, \"status\": \"Completed\", \"run_type\": \"azureml.scriptrun\", \"training_percent\": \"100\", \"start_time\": \"2021-01-25T10:03:40.177835Z\", \"end_time\": \"2021-01-25T10:04:30.350421Z\", \"created_time\": \"2021-01-25T10:03:28.240659Z\", \"created_time_dt\": \"2021-01-25T10:03:28.240659Z\", \"duration\": \"0:01:02\", \"iteration\": \"26\", \"goal\": \"accuracy_max\", \"run_name\": \"SparseNormalizer, XGBoostClassifier\", \"run_properties\": \"<azureml.automl.runtime.shared.model_wrappers.SparseNormalizer object at 0x7f92b8226e10\", \"primary_metric\": 0.9560472, \"best_metric\": 0.9683279}, {\"run_id\": \"AutoML_7206ef54-5e1d-4499-a65d-45d3400c69c3_27\", \"run_number\": 32, \"metric\": null, \"status\": \"Completed\", \"run_type\": \"azureml.scriptrun\", \"training_percent\": \"100\", \"start_time\": \"2021-01-25T10:04:43.126393Z\", \"end_time\": \"2021-01-25T10:06:01.67653Z\", \"created_time\": \"2021-01-25T10:04:31.490832Z\", \"created_time_dt\": \"2021-01-25T10:04:31.490832Z\", \"duration\": \"0:01:30\", \"iteration\": \"27\", \"goal\": \"accuracy_max\", \"run_name\": \"VotingEnsemble\", \"run_properties\": \"classification_labels=None,\\n                              estimators=[('15',\\n                                           Pipeline(memory=None,\\n                                                    steps=[('minmaxscaler',\\n                                                            MinMaxScaler(copy=True,\\n                                                                         feature_range=(0,\\n                                                                                        1\", \"primary_metric\": 0.97711535, \"best_metric\": 0.97711535}, {\"run_id\": \"AutoML_7206ef54-5e1d-4499-a65d-45d3400c69c3_28\", \"run_number\": 33, \"metric\": null, \"status\": \"Completed\", \"run_type\": \"azureml.scriptrun\", \"training_percent\": \"100\", \"start_time\": \"2021-01-25T10:06:15.224982Z\", \"end_time\": \"2021-01-25T10:07:39.978729Z\", \"created_time\": \"2021-01-25T10:06:02.605429Z\", \"created_time_dt\": \"2021-01-25T10:06:02.605429Z\", \"duration\": \"0:01:37\", \"iteration\": \"28\", \"goal\": \"accuracy_max\", \"run_name\": \"StackEnsemble\", \"run_properties\": \"base_learners=[('15',\\n                                        Pipeline(memory=None,\\n                                                 steps=[('minmaxscaler',\\n                                                         MinMaxScaler(copy=True,\\n                                                                      feature_range=(0,\\n                                                                                     1\", \"primary_metric\": 0.97359106, \"best_metric\": 0.97711535}], \"children_metrics\": {\"categories\": [0], \"series\": {\"weighted_accuracy\": [{\"categories\": [\"0\", \"1\", \"2\", \"3\", \"4\", \"5\", \"6\", \"7\", \"8\", \"9\", \"10\", \"11\", \"12\", \"13\", \"14\", \"15\", \"16\", \"17\", \"18\", \"19\", \"20\", \"21\", \"22\", \"23\", \"24\", \"25\", \"26\", \"27\", \"28\"], \"mode\": \"markers\", \"name\": \"weighted_accuracy\", \"stepped\": false, \"type\": \"scatter\", \"data\": [0.9658711288429039, 0.9626181677527021, 0.9503165780529385, 0.9412265800486889, 0.9512442014496537, 0.9681600828671275, 0.9605220066262214, 0.9456957151385911, 0.9645740159936608, 0.9618805641773317, 0.9613831345265241, 0.9527112766971891, 0.9501693233395402, 0.9379131592973546, 0.9552264207709229, 0.9729388270979207, 0.951097643327888, 0.9408186520542763, 0.9596284535041566, 0.9433621405654596, 0.9571758814173732, 0.9586000168014616, 0.9660179911238582, 0.9615244731007012, 0.9652366740577477, 0.9643960795618801, 0.9599817120030625, 0.9809788697397159, 0.9754999845398599]}, {\"categories\": [\"0\", \"1\", \"2\", \"3\", \"4\", \"5\", \"6\", \"7\", \"8\", \"9\", \"10\", \"11\", \"12\", \"13\", \"14\", \"15\", \"16\", \"17\", \"18\", \"19\", \"20\", \"21\", \"22\", \"23\", \"24\", \"25\", \"26\", \"27\", \"28\"], \"mode\": \"lines\", \"name\": \"weighted_accuracy_max\", \"stepped\": true, \"type\": \"scatter\", \"data\": [0.9658711288429039, 0.9658711288429039, 0.9658711288429039, 0.9658711288429039, 0.9658711288429039, 0.9681600828671275, 0.9681600828671275, 0.9681600828671275, 0.9681600828671275, 0.9681600828671275, 0.9681600828671275, 0.9681600828671275, 0.9681600828671275, 0.9681600828671275, 0.9681600828671275, 0.9729388270979207, 0.9729388270979207, 0.9729388270979207, 0.9729388270979207, 0.9729388270979207, 0.9729388270979207, 0.9729388270979207, 0.9729388270979207, 0.9729388270979207, 0.9729388270979207, 0.9729388270979207, 0.9729388270979207, 0.9809788697397159, 0.9809788697397159]}], \"recall_score_weighted\": [{\"categories\": [\"0\", \"1\", \"2\", \"3\", \"4\", \"5\", \"6\", \"7\", \"8\", \"9\", \"10\", \"11\", \"12\", \"13\", \"14\", \"15\", \"16\", \"17\", \"18\", \"19\", \"20\", \"21\", \"22\", \"23\", \"24\", \"25\", \"26\", \"27\", \"28\"], \"mode\": \"markers\", \"name\": \"recall_score_weighted\", \"stepped\": false, \"type\": \"scatter\", \"data\": [0.9612948299953421, 0.95954044403043, 0.947228691197019, 0.9384878124514827, 0.947228691197019, 0.9648346530041918, 0.9560316721006054, 0.943735444806707, 0.95954044403043, 0.9542307095171557, 0.9560006210215806, 0.947290793355069, 0.9437199192671943, 0.9314081664337837, 0.9507529886663562, 0.9683278993945039, 0.9437199192671943, 0.927899394503959, 0.9524918490917559, 0.9331625523986957, 0.950752988666356, 0.9560316721006054, 0.9630492159602545, 0.956078248719143, 0.9613103555348548, 0.9612637789163173, 0.956047197640118, 0.9771153547585778, 0.9735910572892408]}, {\"categories\": [\"0\", \"1\", \"2\", \"3\", \"4\", \"5\", \"6\", \"7\", \"8\", \"9\", \"10\", \"11\", \"12\", \"13\", \"14\", \"15\", \"16\", \"17\", \"18\", \"19\", \"20\", \"21\", \"22\", \"23\", \"24\", \"25\", \"26\", \"27\", \"28\"], \"mode\": \"lines\", \"name\": \"recall_score_weighted_max\", \"stepped\": true, \"type\": \"scatter\", \"data\": [0.9612948299953421, 0.9612948299953421, 0.9612948299953421, 0.9612948299953421, 0.9612948299953421, 0.9648346530041918, 0.9648346530041918, 0.9648346530041918, 0.9648346530041918, 0.9648346530041918, 0.9648346530041918, 0.9648346530041918, 0.9648346530041918, 0.9648346530041918, 0.9648346530041918, 0.9683278993945039, 0.9683278993945039, 0.9683278993945039, 0.9683278993945039, 0.9683278993945039, 0.9683278993945039, 0.9683278993945039, 0.9683278993945039, 0.9683278993945039, 0.9683278993945039, 0.9683278993945039, 0.9683278993945039, 0.9771153547585778, 0.9771153547585778]}], \"f1_score_weighted\": [{\"categories\": [\"0\", \"1\", \"2\", \"3\", \"4\", \"5\", \"6\", \"7\", \"8\", \"9\", \"10\", \"11\", \"12\", \"13\", \"14\", \"15\", \"16\", \"17\", \"18\", \"19\", \"20\", \"21\", \"22\", \"23\", \"24\", \"25\", \"26\", \"27\", \"28\"], \"mode\": \"markers\", \"name\": \"f1_score_weighted\", \"stepped\": false, \"type\": \"scatter\", \"data\": [0.9611013855539465, 0.9594339936795496, 0.9471341549231921, 0.9385257738466487, 0.9470817481372411, 0.9647447365852951, 0.9558565219213955, 0.943809882358844, 0.9593826210623503, 0.9537888697648953, 0.9557140576095915, 0.9471654384704262, 0.9434514567253572, 0.931159257794139, 0.9506571470557036, 0.9681492204695369, 0.9433407948219668, 0.9269573674783844, 0.9521096912170055, 0.932516969861332, 0.9505015429626736, 0.9559950260765202, 0.9629334344860873, 0.9559426197073512, 0.9611652460066686, 0.9611242130288996, 0.9559224827229095, 0.9769770369469768, 0.9735026170709036]}, {\"categories\": [\"0\", \"1\", \"2\", \"3\", \"4\", \"5\", \"6\", \"7\", \"8\", \"9\", \"10\", \"11\", \"12\", \"13\", \"14\", \"15\", \"16\", \"17\", \"18\", \"19\", \"20\", \"21\", \"22\", \"23\", \"24\", \"25\", \"26\", \"27\", \"28\"], \"mode\": \"lines\", \"name\": \"f1_score_weighted_max\", \"stepped\": true, \"type\": \"scatter\", \"data\": [0.9611013855539465, 0.9611013855539465, 0.9611013855539465, 0.9611013855539465, 0.9611013855539465, 0.9647447365852951, 0.9647447365852951, 0.9647447365852951, 0.9647447365852951, 0.9647447365852951, 0.9647447365852951, 0.9647447365852951, 0.9647447365852951, 0.9647447365852951, 0.9647447365852951, 0.9681492204695369, 0.9681492204695369, 0.9681492204695369, 0.9681492204695369, 0.9681492204695369, 0.9681492204695369, 0.9681492204695369, 0.9681492204695369, 0.9681492204695369, 0.9681492204695369, 0.9681492204695369, 0.9681492204695369, 0.9769770369469768, 0.9769770369469768]}], \"log_loss\": [{\"categories\": [\"0\", \"1\", \"2\", \"3\", \"4\", \"5\", \"6\", \"7\", \"8\", \"9\", \"10\", \"11\", \"12\", \"13\", \"14\", \"15\", \"16\", \"17\", \"18\", \"19\", \"20\", \"21\", \"22\", \"23\", \"24\", \"25\", \"26\", \"27\", \"28\"], \"mode\": \"markers\", \"name\": \"log_loss\", \"stepped\": false, \"type\": \"scatter\", \"data\": [0.13796001506093666, 0.10559558199506887, 0.20391075445842605, 0.21413219865952673, 0.12680606294198524, 0.09694421151949081, 0.12020683453469708, 0.20676119210405175, 0.13569419600179647, 0.1513252661568339, 0.13235650931477033, 0.11752128831125541, 0.17107290129498093, 0.3053396195964063, 0.12954786578057487, 0.09938701441275732, 0.1562886213544147, 0.49554275993240077, 0.1408700660332894, 0.18885227107581445, 0.16644117162596875, 0.10234449966411505, 0.09924542601830857, 0.10942089819876291, 0.1044016427754499, 0.09652742294484415, 0.12251842668606391, 0.09149056726676777, 0.08448844742340648]}, {\"categories\": [\"0\", \"1\", \"2\", \"3\", \"4\", \"5\", \"6\", \"7\", \"8\", \"9\", \"10\", \"11\", \"12\", \"13\", \"14\", \"15\", \"16\", \"17\", \"18\", \"19\", \"20\", \"21\", \"22\", \"23\", \"24\", \"25\", \"26\", \"27\", \"28\"], \"mode\": \"lines\", \"name\": \"log_loss_min\", \"stepped\": true, \"type\": \"scatter\", \"data\": [0.13796001506093666, 0.10559558199506887, 0.10559558199506887, 0.10559558199506887, 0.10559558199506887, 0.09694421151949081, 0.09694421151949081, 0.09694421151949081, 0.09694421151949081, 0.09694421151949081, 0.09694421151949081, 0.09694421151949081, 0.09694421151949081, 0.09694421151949081, 0.09694421151949081, 0.09694421151949081, 0.09694421151949081, 0.09694421151949081, 0.09694421151949081, 0.09694421151949081, 0.09694421151949081, 0.09694421151949081, 0.09694421151949081, 0.09694421151949081, 0.09694421151949081, 0.09652742294484415, 0.09652742294484415, 0.09149056726676777, 0.08448844742340648]}], \"f1_score_macro\": [{\"categories\": [\"0\", \"1\", \"2\", \"3\", \"4\", \"5\", \"6\", \"7\", \"8\", \"9\", \"10\", \"11\", \"12\", \"13\", \"14\", \"15\", \"16\", \"17\", \"18\", \"19\", \"20\", \"21\", \"22\", \"23\", \"24\", \"25\", \"26\", \"27\", \"28\"], \"mode\": \"markers\", \"name\": \"f1_score_macro\", \"stepped\": false, \"type\": \"scatter\", \"data\": [0.9579944606525741, 0.9564560357733798, 0.943117973635327, 0.9340618572069637, 0.9428893176357673, 0.9620511060445898, 0.9524344771299595, 0.939652362981229, 0.9563992873254066, 0.9501757710161922, 0.9522616670937178, 0.9429071623967286, 0.9389073866170117, 0.9259628254464654, 0.9466083184145294, 0.9657713667927291, 0.9385954917013667, 0.9206070218117673, 0.9481078907621449, 0.9270509844033986, 0.9464577044009903, 0.9527225283390633, 0.9601547833679446, 0.9524424094873349, 0.9580352530682863, 0.9584244819093772, 0.9523641411970228, 0.97531894228998, 0.9715855729914094]}, {\"categories\": [\"0\", \"1\", \"2\", \"3\", \"4\", \"5\", \"6\", \"7\", \"8\", \"9\", \"10\", \"11\", \"12\", \"13\", \"14\", \"15\", \"16\", \"17\", \"18\", \"19\", \"20\", \"21\", \"22\", \"23\", \"24\", \"25\", \"26\", \"27\", \"28\"], \"mode\": \"lines\", \"name\": \"f1_score_macro_max\", \"stepped\": true, \"type\": \"scatter\", \"data\": [0.9579944606525741, 0.9579944606525741, 0.9579944606525741, 0.9579944606525741, 0.9579944606525741, 0.9620511060445898, 0.9620511060445898, 0.9620511060445898, 0.9620511060445898, 0.9620511060445898, 0.9620511060445898, 0.9620511060445898, 0.9620511060445898, 0.9620511060445898, 0.9620511060445898, 0.9657713667927291, 0.9657713667927291, 0.9657713667927291, 0.9657713667927291, 0.9657713667927291, 0.9657713667927291, 0.9657713667927291, 0.9657713667927291, 0.9657713667927291, 0.9657713667927291, 0.9657713667927291, 0.9657713667927291, 0.97531894228998, 0.97531894228998]}], \"precision_score_macro\": [{\"categories\": [\"0\", \"1\", \"2\", \"3\", \"4\", \"5\", \"6\", \"7\", \"8\", \"9\", \"10\", \"11\", \"12\", \"13\", \"14\", \"15\", \"16\", \"17\", \"18\", \"19\", \"20\", \"21\", \"22\", \"23\", \"24\", \"25\", \"26\", \"27\", \"28\"], \"mode\": \"markers\", \"name\": \"precision_score_macro\", \"stepped\": false, \"type\": \"scatter\", \"data\": [0.9609835651349166, 0.9583047514221817, 0.9432704043465895, 0.9345905776730963, 0.944429781586208, 0.9638878740634927, 0.9560398485413144, 0.9394443708615388, 0.9597072711729995, 0.9577763028913331, 0.9564393274026173, 0.9461390272122925, 0.9427917802029327, 0.9302722942584527, 0.9482562755685843, 0.9697369720478713, 0.9435630649705157, 0.9342260014211234, 0.953828216725063, 0.9361255622564897, 0.9505203527650252, 0.9536738286752945, 0.9615830523580268, 0.9560634761412471, 0.9603856952725509, 0.9604044472290993, 0.9545235043301185, 0.9789346710109262, 0.9730674967914397]}, {\"categories\": [\"0\", \"1\", \"2\", \"3\", \"4\", \"5\", \"6\", \"7\", \"8\", \"9\", \"10\", \"11\", \"12\", \"13\", \"14\", \"15\", \"16\", \"17\", \"18\", \"19\", \"20\", \"21\", \"22\", \"23\", \"24\", \"25\", \"26\", \"27\", \"28\"], \"mode\": \"lines\", \"name\": \"precision_score_macro_max\", \"stepped\": true, \"type\": \"scatter\", \"data\": [0.9609835651349166, 0.9609835651349166, 0.9609835651349166, 0.9609835651349166, 0.9609835651349166, 0.9638878740634927, 0.9638878740634927, 0.9638878740634927, 0.9638878740634927, 0.9638878740634927, 0.9638878740634927, 0.9638878740634927, 0.9638878740634927, 0.9638878740634927, 0.9638878740634927, 0.9697369720478713, 0.9697369720478713, 0.9697369720478713, 0.9697369720478713, 0.9697369720478713, 0.9697369720478713, 0.9697369720478713, 0.9697369720478713, 0.9697369720478713, 0.9697369720478713, 0.9697369720478713, 0.9697369720478713, 0.9789346710109262, 0.9789346710109262]}], \"average_precision_score_weighted\": [{\"categories\": [\"0\", \"1\", \"2\", \"3\", \"4\", \"5\", \"6\", \"7\", \"8\", \"9\", \"10\", \"11\", \"12\", \"13\", \"14\", \"15\", \"16\", \"17\", \"18\", \"19\", \"20\", \"21\", \"22\", \"23\", \"24\", \"25\", \"26\", \"27\", \"28\"], \"mode\": \"markers\", \"name\": \"average_precision_score_weighted\", \"stepped\": false, \"type\": \"scatter\", \"data\": [0.9919040352668091, 0.9929758629141527, 0.9860164569133174, 0.9844435615927873, 0.9922886409352067, 0.9938669605650488, 0.9912705367514434, 0.9843817799405287, 0.9911646815227264, 0.9884723508423667, 0.9906648186702091, 0.9925412461577234, 0.9892098631924704, 0.9728796372264515, 0.9895567531012366, 0.9925215784485604, 0.9902413415792848, 0.9706945206211073, 0.9925848894735486, 0.9844329574856683, 0.9904454792912414, 0.992065778452701, 0.9931177058297773, 0.9927258142899064, 0.9928660559199474, 0.9932352664606245, 0.9917999642078479, 0.9940715221678447, 0.9943398806172592]}, {\"categories\": [\"0\", \"1\", \"2\", \"3\", \"4\", \"5\", \"6\", \"7\", \"8\", \"9\", \"10\", \"11\", \"12\", \"13\", \"14\", \"15\", \"16\", \"17\", \"18\", \"19\", \"20\", \"21\", \"22\", \"23\", \"24\", \"25\", \"26\", \"27\", \"28\"], \"mode\": \"lines\", \"name\": \"average_precision_score_weighted_max\", \"stepped\": true, \"type\": \"scatter\", \"data\": [0.9919040352668091, 0.9929758629141527, 0.9929758629141527, 0.9929758629141527, 0.9929758629141527, 0.9938669605650488, 0.9938669605650488, 0.9938669605650488, 0.9938669605650488, 0.9938669605650488, 0.9938669605650488, 0.9938669605650488, 0.9938669605650488, 0.9938669605650488, 0.9938669605650488, 0.9938669605650488, 0.9938669605650488, 0.9938669605650488, 0.9938669605650488, 0.9938669605650488, 0.9938669605650488, 0.9938669605650488, 0.9938669605650488, 0.9938669605650488, 0.9938669605650488, 0.9938669605650488, 0.9938669605650488, 0.9940715221678447, 0.9943398806172592]}], \"balanced_accuracy\": [{\"categories\": [\"0\", \"1\", \"2\", \"3\", \"4\", \"5\", \"6\", \"7\", \"8\", \"9\", \"10\", \"11\", \"12\", \"13\", \"14\", \"15\", \"16\", \"17\", \"18\", \"19\", \"20\", \"21\", \"22\", \"23\", \"24\", \"25\", \"26\", \"27\", \"28\"], \"mode\": \"markers\", \"name\": \"balanced_accuracy\", \"stepped\": false, \"type\": \"scatter\", \"data\": [0.9560546097382161, 0.9561044409869754, 0.9436565181459564, 0.9354648735095148, 0.9425625101728187, 0.9611294199572125, 0.950884920541965, 0.9416459044686526, 0.9537639566620474, 0.9453407627254524, 0.9497690154744898, 0.9411182042983249, 0.9363278273821679, 0.9240690789679944, 0.9456416526740143, 0.9631405329193055, 0.93525223809425, 0.9130206440869261, 0.9443012549641623, 0.9214618879429125, 0.9432922115524581, 0.9531822178392624, 0.9597308312706021, 0.9498101353598212, 0.9567580275235279, 0.9578245264251415, 0.9514721239729186, 0.972737146255049, 0.9716279223971303]}, {\"categories\": [\"0\", \"1\", \"2\", \"3\", \"4\", \"5\", \"6\", \"7\", \"8\", \"9\", \"10\", \"11\", \"12\", \"13\", \"14\", \"15\", \"16\", \"17\", \"18\", \"19\", \"20\", \"21\", \"22\", \"23\", \"24\", \"25\", \"26\", \"27\", \"28\"], \"mode\": \"lines\", \"name\": \"balanced_accuracy_max\", \"stepped\": true, \"type\": \"scatter\", \"data\": [0.9560546097382161, 0.9561044409869754, 0.9561044409869754, 0.9561044409869754, 0.9561044409869754, 0.9611294199572125, 0.9611294199572125, 0.9611294199572125, 0.9611294199572125, 0.9611294199572125, 0.9611294199572125, 0.9611294199572125, 0.9611294199572125, 0.9611294199572125, 0.9611294199572125, 0.9631405329193055, 0.9631405329193055, 0.9631405329193055, 0.9631405329193055, 0.9631405329193055, 0.9631405329193055, 0.9631405329193055, 0.9631405329193055, 0.9631405329193055, 0.9631405329193055, 0.9631405329193055, 0.9631405329193055, 0.972737146255049, 0.972737146255049]}], \"average_precision_score_macro\": [{\"categories\": [\"0\", \"1\", \"2\", \"3\", \"4\", \"5\", \"6\", \"7\", \"8\", \"9\", \"10\", \"11\", \"12\", \"13\", \"14\", \"15\", \"16\", \"17\", \"18\", \"19\", \"20\", \"21\", \"22\", \"23\", \"24\", \"25\", \"26\", \"27\", \"28\"], \"mode\": \"markers\", \"name\": \"average_precision_score_macro\", \"stepped\": false, \"type\": \"scatter\", \"data\": [0.9914694074261389, 0.9922286186897564, 0.9848920511146666, 0.9835038794077746, 0.9914314383081646, 0.993336660016112, 0.9905199937354784, 0.9837323828673691, 0.9902897526562713, 0.9875625534121173, 0.9902111704927222, 0.9917185577299641, 0.988021081262312, 0.9715390026766574, 0.988507172704789, 0.9921130392428351, 0.9890726687601379, 0.9689464793559827, 0.9918431216707274, 0.9832377767799285, 0.9894841222010333, 0.9916597575586195, 0.9926117824839507, 0.9920925843909684, 0.9923384611550669, 0.9929017417688577, 0.9910119111284759, 0.993784579939035, 0.9940514269532275]}, {\"categories\": [\"0\", \"1\", \"2\", \"3\", \"4\", \"5\", \"6\", \"7\", \"8\", \"9\", \"10\", \"11\", \"12\", \"13\", \"14\", \"15\", \"16\", \"17\", \"18\", \"19\", \"20\", \"21\", \"22\", \"23\", \"24\", \"25\", \"26\", \"27\", \"28\"], \"mode\": \"lines\", \"name\": \"average_precision_score_macro_max\", \"stepped\": true, \"type\": \"scatter\", \"data\": [0.9914694074261389, 0.9922286186897564, 0.9922286186897564, 0.9922286186897564, 0.9922286186897564, 0.993336660016112, 0.993336660016112, 0.993336660016112, 0.993336660016112, 0.993336660016112, 0.993336660016112, 0.993336660016112, 0.993336660016112, 0.993336660016112, 0.993336660016112, 0.993336660016112, 0.993336660016112, 0.993336660016112, 0.993336660016112, 0.993336660016112, 0.993336660016112, 0.993336660016112, 0.993336660016112, 0.993336660016112, 0.993336660016112, 0.993336660016112, 0.993336660016112, 0.993784579939035, 0.9940514269532275]}], \"matthews_correlation\": [{\"categories\": [\"0\", \"1\", \"2\", \"3\", \"4\", \"5\", \"6\", \"7\", \"8\", \"9\", \"10\", \"11\", \"12\", \"13\", \"14\", \"15\", \"16\", \"17\", \"18\", \"19\", \"20\", \"21\", \"22\", \"23\", \"24\", \"25\", \"26\", \"27\", \"28\"], \"mode\": \"markers\", \"name\": \"matthews_correlation\", \"stepped\": false, \"type\": \"scatter\", \"data\": [0.9169816240952938, 0.9143323896699798, 0.8868918814860294, 0.8699581007642735, 0.8869177521979008, 0.9249715372695231, 0.9067927151007409, 0.8809961545775664, 0.9134333585797254, 0.902905607949777, 0.9061018427509702, 0.8871685565103663, 0.8790504232887171, 0.8541883226876287, 0.8938648878028124, 0.9328079043685413, 0.87871171306285, 0.8467333091188507, 0.8980198497606526, 0.857354982086709, 0.8937432715370848, 0.9067854477427579, 0.9212638510045688, 0.9058117213425652, 0.9170816033851263, 0.9181584067263318, 0.9059179320877861, 0.9516155404804676, 0.9446124509261855]}, {\"categories\": [\"0\", \"1\", \"2\", \"3\", \"4\", \"5\", \"6\", \"7\", \"8\", \"9\", \"10\", \"11\", \"12\", \"13\", \"14\", \"15\", \"16\", \"17\", \"18\", \"19\", \"20\", \"21\", \"22\", \"23\", \"24\", \"25\", \"26\", \"27\", \"28\"], \"mode\": \"lines\", \"name\": \"matthews_correlation_max\", \"stepped\": true, \"type\": \"scatter\", \"data\": [0.9169816240952938, 0.9169816240952938, 0.9169816240952938, 0.9169816240952938, 0.9169816240952938, 0.9249715372695231, 0.9249715372695231, 0.9249715372695231, 0.9249715372695231, 0.9249715372695231, 0.9249715372695231, 0.9249715372695231, 0.9249715372695231, 0.9249715372695231, 0.9249715372695231, 0.9328079043685413, 0.9328079043685413, 0.9328079043685413, 0.9328079043685413, 0.9328079043685413, 0.9328079043685413, 0.9328079043685413, 0.9328079043685413, 0.9328079043685413, 0.9328079043685413, 0.9328079043685413, 0.9328079043685413, 0.9516155404804676, 0.9516155404804676]}], \"recall_score_macro\": [{\"categories\": [\"0\", \"1\", \"2\", \"3\", \"4\", \"5\", \"6\", \"7\", \"8\", \"9\", \"10\", \"11\", \"12\", \"13\", \"14\", \"15\", \"16\", \"17\", \"18\", \"19\", \"20\", \"21\", \"22\", \"23\", \"24\", \"25\", \"26\", \"27\", \"28\"], \"mode\": \"markers\", \"name\": \"recall_score_macro\", \"stepped\": false, \"type\": \"scatter\", \"data\": [0.9560546097382161, 0.9561044409869754, 0.9436565181459564, 0.9354648735095148, 0.9425625101728187, 0.9611294199572125, 0.950884920541965, 0.9416459044686526, 0.9537639566620474, 0.9453407627254524, 0.9497690154744898, 0.9411182042983249, 0.9363278273821679, 0.9240690789679944, 0.9456416526740143, 0.9631405329193055, 0.93525223809425, 0.9130206440869261, 0.9443012549641623, 0.9214618879429125, 0.9432922115524581, 0.9531822178392624, 0.9597308312706021, 0.9498101353598212, 0.9567580275235279, 0.9578245264251415, 0.9514721239729186, 0.972737146255049, 0.9716279223971303]}, {\"categories\": [\"0\", \"1\", \"2\", \"3\", \"4\", \"5\", \"6\", \"7\", \"8\", \"9\", \"10\", \"11\", \"12\", \"13\", \"14\", \"15\", \"16\", \"17\", \"18\", \"19\", \"20\", \"21\", \"22\", \"23\", \"24\", \"25\", \"26\", \"27\", \"28\"], \"mode\": \"lines\", \"name\": \"recall_score_macro_max\", \"stepped\": true, \"type\": \"scatter\", \"data\": [0.9560546097382161, 0.9561044409869754, 0.9561044409869754, 0.9561044409869754, 0.9561044409869754, 0.9611294199572125, 0.9611294199572125, 0.9611294199572125, 0.9611294199572125, 0.9611294199572125, 0.9611294199572125, 0.9611294199572125, 0.9611294199572125, 0.9611294199572125, 0.9611294199572125, 0.9631405329193055, 0.9631405329193055, 0.9631405329193055, 0.9631405329193055, 0.9631405329193055, 0.9631405329193055, 0.9631405329193055, 0.9631405329193055, 0.9631405329193055, 0.9631405329193055, 0.9631405329193055, 0.9631405329193055, 0.972737146255049, 0.972737146255049]}], \"recall_score_micro\": [{\"categories\": [\"0\", \"1\", \"2\", \"3\", \"4\", \"5\", \"6\", \"7\", \"8\", \"9\", \"10\", \"11\", \"12\", \"13\", \"14\", \"15\", \"16\", \"17\", \"18\", \"19\", \"20\", \"21\", \"22\", \"23\", \"24\", \"25\", \"26\", \"27\", \"28\"], \"mode\": \"markers\", \"name\": \"recall_score_micro\", \"stepped\": false, \"type\": \"scatter\", \"data\": [0.9612948299953421, 0.95954044403043, 0.947228691197019, 0.9384878124514827, 0.947228691197019, 0.9648346530041918, 0.9560316721006054, 0.943735444806707, 0.95954044403043, 0.9542307095171557, 0.9560006210215806, 0.947290793355069, 0.9437199192671943, 0.9314081664337837, 0.9507529886663562, 0.9683278993945039, 0.9437199192671943, 0.927899394503959, 0.9524918490917559, 0.9331625523986957, 0.950752988666356, 0.9560316721006054, 0.9630492159602545, 0.956078248719143, 0.9613103555348548, 0.9612637789163173, 0.956047197640118, 0.9771153547585778, 0.9735910572892408]}, {\"categories\": [\"0\", \"1\", \"2\", \"3\", \"4\", \"5\", \"6\", \"7\", \"8\", \"9\", \"10\", \"11\", \"12\", \"13\", \"14\", \"15\", \"16\", \"17\", \"18\", \"19\", \"20\", \"21\", \"22\", \"23\", \"24\", \"25\", \"26\", \"27\", \"28\"], \"mode\": \"lines\", \"name\": \"recall_score_micro_max\", \"stepped\": true, \"type\": \"scatter\", \"data\": [0.9612948299953421, 0.9612948299953421, 0.9612948299953421, 0.9612948299953421, 0.9612948299953421, 0.9648346530041918, 0.9648346530041918, 0.9648346530041918, 0.9648346530041918, 0.9648346530041918, 0.9648346530041918, 0.9648346530041918, 0.9648346530041918, 0.9648346530041918, 0.9648346530041918, 0.9683278993945039, 0.9683278993945039, 0.9683278993945039, 0.9683278993945039, 0.9683278993945039, 0.9683278993945039, 0.9683278993945039, 0.9683278993945039, 0.9683278993945039, 0.9683278993945039, 0.9683278993945039, 0.9683278993945039, 0.9771153547585778, 0.9771153547585778]}], \"AUC_weighted\": [{\"categories\": [\"0\", \"1\", \"2\", \"3\", \"4\", \"5\", \"6\", \"7\", \"8\", \"9\", \"10\", \"11\", \"12\", \"13\", \"14\", \"15\", \"16\", \"17\", \"18\", \"19\", \"20\", \"21\", \"22\", \"23\", \"24\", \"25\", \"26\", \"27\", \"28\"], \"mode\": \"markers\", \"name\": \"AUC_weighted\", \"stepped\": false, \"type\": \"scatter\", \"data\": [0.9917555794419639, 0.9924400341079688, 0.986118298150247, 0.9850456877152942, 0.991689574279874, 0.9933834541123607, 0.9904565144231199, 0.9852820259197337, 0.9902227099203997, 0.9875096991146799, 0.990378246392545, 0.9919524690834969, 0.9882908981205472, 0.9741724094178561, 0.9885666315858467, 0.9918675940659755, 0.9893140138313529, 0.9728553955044823, 0.9919739261330944, 0.9842888820757653, 0.9895648179824483, 0.991681016786948, 0.9924717152707572, 0.9921074107143459, 0.9923470062413784, 0.9929669792101723, 0.9912436277550534, 0.9936225219026303, 0.9939458653774306]}, {\"categories\": [\"0\", \"1\", \"2\", \"3\", \"4\", \"5\", \"6\", \"7\", \"8\", \"9\", \"10\", \"11\", \"12\", \"13\", \"14\", \"15\", \"16\", \"17\", \"18\", \"19\", \"20\", \"21\", \"22\", \"23\", \"24\", \"25\", \"26\", \"27\", \"28\"], \"mode\": \"lines\", \"name\": \"AUC_weighted_max\", \"stepped\": true, \"type\": \"scatter\", \"data\": [0.9917555794419639, 0.9924400341079688, 0.9924400341079688, 0.9924400341079688, 0.9924400341079688, 0.9933834541123607, 0.9933834541123607, 0.9933834541123607, 0.9933834541123607, 0.9933834541123607, 0.9933834541123607, 0.9933834541123607, 0.9933834541123607, 0.9933834541123607, 0.9933834541123607, 0.9933834541123607, 0.9933834541123607, 0.9933834541123607, 0.9933834541123607, 0.9933834541123607, 0.9933834541123607, 0.9933834541123607, 0.9933834541123607, 0.9933834541123607, 0.9933834541123607, 0.9933834541123607, 0.9933834541123607, 0.9936225219026303, 0.9939458653774306]}], \"AUC_macro\": [{\"categories\": [\"0\", \"1\", \"2\", \"3\", \"4\", \"5\", \"6\", \"7\", \"8\", \"9\", \"10\", \"11\", \"12\", \"13\", \"14\", \"15\", \"16\", \"17\", \"18\", \"19\", \"20\", \"21\", \"22\", \"23\", \"24\", \"25\", \"26\", \"27\", \"28\"], \"mode\": \"markers\", \"name\": \"AUC_macro\", \"stepped\": false, \"type\": \"scatter\", \"data\": [0.9917555794419641, 0.9924400341079688, 0.986118298150247, 0.9850456877152942, 0.991689574279874, 0.9933834541123607, 0.9904565144231199, 0.9852820259197337, 0.9902227099203997, 0.9875096991146798, 0.990378246392545, 0.9919524690834967, 0.9882908981205472, 0.9741724094178561, 0.9885666315858467, 0.9918675940659757, 0.9893140138313529, 0.9728553955044823, 0.9919739261330944, 0.9842888820757653, 0.9895648179824486, 0.991681016786948, 0.9924717152707572, 0.9921074107143459, 0.9923470062413783, 0.9929669792101723, 0.9912436277550534, 0.9936225219026303, 0.9939458653774308]}, {\"categories\": [\"0\", \"1\", \"2\", \"3\", \"4\", \"5\", \"6\", \"7\", \"8\", \"9\", \"10\", \"11\", \"12\", \"13\", \"14\", \"15\", \"16\", \"17\", \"18\", \"19\", \"20\", \"21\", \"22\", \"23\", \"24\", \"25\", \"26\", \"27\", \"28\"], \"mode\": \"lines\", \"name\": \"AUC_macro_max\", \"stepped\": true, \"type\": \"scatter\", \"data\": [0.9917555794419641, 0.9924400341079688, 0.9924400341079688, 0.9924400341079688, 0.9924400341079688, 0.9933834541123607, 0.9933834541123607, 0.9933834541123607, 0.9933834541123607, 0.9933834541123607, 0.9933834541123607, 0.9933834541123607, 0.9933834541123607, 0.9933834541123607, 0.9933834541123607, 0.9933834541123607, 0.9933834541123607, 0.9933834541123607, 0.9933834541123607, 0.9933834541123607, 0.9933834541123607, 0.9933834541123607, 0.9933834541123607, 0.9933834541123607, 0.9933834541123607, 0.9933834541123607, 0.9933834541123607, 0.9936225219026303, 0.9939458653774308]}], \"f1_score_micro\": [{\"categories\": [\"0\", \"1\", \"2\", \"3\", \"4\", \"5\", \"6\", \"7\", \"8\", \"9\", \"10\", \"11\", \"12\", \"13\", \"14\", \"15\", \"16\", \"17\", \"18\", \"19\", \"20\", \"21\", \"22\", \"23\", \"24\", \"25\", \"26\", \"27\", \"28\"], \"mode\": \"markers\", \"name\": \"f1_score_micro\", \"stepped\": false, \"type\": \"scatter\", \"data\": [0.9612948299953421, 0.95954044403043, 0.947228691197019, 0.9384878124514827, 0.947228691197019, 0.9648346530041918, 0.9560316721006054, 0.943735444806707, 0.95954044403043, 0.9542307095171557, 0.9560006210215806, 0.947290793355069, 0.9437199192671943, 0.9314081664337837, 0.9507529886663562, 0.9683278993945039, 0.9437199192671943, 0.927899394503959, 0.9524918490917559, 0.9331625523986957, 0.950752988666356, 0.9560316721006054, 0.9630492159602545, 0.956078248719143, 0.9613103555348548, 0.9612637789163173, 0.956047197640118, 0.9771153547585778, 0.9735910572892408]}, {\"categories\": [\"0\", \"1\", \"2\", \"3\", \"4\", \"5\", \"6\", \"7\", \"8\", \"9\", \"10\", \"11\", \"12\", \"13\", \"14\", \"15\", \"16\", \"17\", \"18\", \"19\", \"20\", \"21\", \"22\", \"23\", \"24\", \"25\", \"26\", \"27\", \"28\"], \"mode\": \"lines\", \"name\": \"f1_score_micro_max\", \"stepped\": true, \"type\": \"scatter\", \"data\": [0.9612948299953421, 0.9612948299953421, 0.9612948299953421, 0.9612948299953421, 0.9612948299953421, 0.9648346530041918, 0.9648346530041918, 0.9648346530041918, 0.9648346530041918, 0.9648346530041918, 0.9648346530041918, 0.9648346530041918, 0.9648346530041918, 0.9648346530041918, 0.9648346530041918, 0.9683278993945039, 0.9683278993945039, 0.9683278993945039, 0.9683278993945039, 0.9683278993945039, 0.9683278993945039, 0.9683278993945039, 0.9683278993945039, 0.9683278993945039, 0.9683278993945039, 0.9683278993945039, 0.9683278993945039, 0.9771153547585778, 0.9771153547585778]}], \"precision_score_micro\": [{\"categories\": [\"0\", \"1\", \"2\", \"3\", \"4\", \"5\", \"6\", \"7\", \"8\", \"9\", \"10\", \"11\", \"12\", \"13\", \"14\", \"15\", \"16\", \"17\", \"18\", \"19\", \"20\", \"21\", \"22\", \"23\", \"24\", \"25\", \"26\", \"27\", \"28\"], \"mode\": \"markers\", \"name\": \"precision_score_micro\", \"stepped\": false, \"type\": \"scatter\", \"data\": [0.9612948299953421, 0.95954044403043, 0.947228691197019, 0.9384878124514827, 0.947228691197019, 0.9648346530041918, 0.9560316721006054, 0.943735444806707, 0.95954044403043, 0.9542307095171557, 0.9560006210215806, 0.947290793355069, 0.9437199192671943, 0.9314081664337837, 0.9507529886663562, 0.9683278993945039, 0.9437199192671943, 0.927899394503959, 0.9524918490917559, 0.9331625523986957, 0.950752988666356, 0.9560316721006054, 0.9630492159602545, 0.956078248719143, 0.9613103555348548, 0.9612637789163173, 0.956047197640118, 0.9771153547585778, 0.9735910572892408]}, {\"categories\": [\"0\", \"1\", \"2\", \"3\", \"4\", \"5\", \"6\", \"7\", \"8\", \"9\", \"10\", \"11\", \"12\", \"13\", \"14\", \"15\", \"16\", \"17\", \"18\", \"19\", \"20\", \"21\", \"22\", \"23\", \"24\", \"25\", \"26\", \"27\", \"28\"], \"mode\": \"lines\", \"name\": \"precision_score_micro_max\", \"stepped\": true, \"type\": \"scatter\", \"data\": [0.9612948299953421, 0.9612948299953421, 0.9612948299953421, 0.9612948299953421, 0.9612948299953421, 0.9648346530041918, 0.9648346530041918, 0.9648346530041918, 0.9648346530041918, 0.9648346530041918, 0.9648346530041918, 0.9648346530041918, 0.9648346530041918, 0.9648346530041918, 0.9648346530041918, 0.9683278993945039, 0.9683278993945039, 0.9683278993945039, 0.9683278993945039, 0.9683278993945039, 0.9683278993945039, 0.9683278993945039, 0.9683278993945039, 0.9683278993945039, 0.9683278993945039, 0.9683278993945039, 0.9683278993945039, 0.9771153547585778, 0.9771153547585778]}], \"AUC_micro\": [{\"categories\": [\"0\", \"1\", \"2\", \"3\", \"4\", \"5\", \"6\", \"7\", \"8\", \"9\", \"10\", \"11\", \"12\", \"13\", \"14\", \"15\", \"16\", \"17\", \"18\", \"19\", \"20\", \"21\", \"22\", \"23\", \"24\", \"25\", \"26\", \"27\", \"28\"], \"mode\": \"markers\", \"name\": \"AUC_micro\", \"stepped\": false, \"type\": \"scatter\", \"data\": [0.9922980753658042, 0.9931659665229258, 0.9863328224922233, 0.9861308458531347, 0.9919283211800971, 0.9942196579652055, 0.9902651082891316, 0.9861013663704087, 0.9906728917306822, 0.9882580641149101, 0.9905685179709506, 0.9915357209978837, 0.9887504546360535, 0.9754205436223911, 0.9889457965837112, 0.9925396540622474, 0.989874902862935, 0.9751943530713053, 0.9916056919843358, 0.9837116397025817, 0.9898939174908568, 0.9920013003754165, 0.9931676080215144, 0.9917360561383839, 0.992163743654228, 0.9931851860368683, 0.9904664690649467, 0.9942195555221952, 0.9949903909661559]}, {\"categories\": [\"0\", \"1\", \"2\", \"3\", \"4\", \"5\", \"6\", \"7\", \"8\", \"9\", \"10\", \"11\", \"12\", \"13\", \"14\", \"15\", \"16\", \"17\", \"18\", \"19\", \"20\", \"21\", \"22\", \"23\", \"24\", \"25\", \"26\", \"27\", \"28\"], \"mode\": \"lines\", \"name\": \"AUC_micro_max\", \"stepped\": true, \"type\": \"scatter\", \"data\": [0.9922980753658042, 0.9931659665229258, 0.9931659665229258, 0.9931659665229258, 0.9931659665229258, 0.9942196579652055, 0.9942196579652055, 0.9942196579652055, 0.9942196579652055, 0.9942196579652055, 0.9942196579652055, 0.9942196579652055, 0.9942196579652055, 0.9942196579652055, 0.9942196579652055, 0.9942196579652055, 0.9942196579652055, 0.9942196579652055, 0.9942196579652055, 0.9942196579652055, 0.9942196579652055, 0.9942196579652055, 0.9942196579652055, 0.9942196579652055, 0.9942196579652055, 0.9942196579652055, 0.9942196579652055, 0.9942196579652055, 0.9949903909661559]}], \"precision_score_weighted\": [{\"categories\": [\"0\", \"1\", \"2\", \"3\", \"4\", \"5\", \"6\", \"7\", \"8\", \"9\", \"10\", \"11\", \"12\", \"13\", \"14\", \"15\", \"16\", \"17\", \"18\", \"19\", \"20\", \"21\", \"22\", \"23\", \"24\", \"25\", \"26\", \"27\", \"28\"], \"mode\": \"markers\", \"name\": \"precision_score_weighted\", \"stepped\": false, \"type\": \"scatter\", \"data\": [0.9618582213501952, 0.9606746273537625, 0.947657708277897, 0.9402717868188246, 0.947994414858942, 0.9654930652590178, 0.9574862267036011, 0.9454626120256231, 0.9598256372515992, 0.9557377843466439, 0.9569119344194037, 0.9483212026290554, 0.9443609964225985, 0.9330136552245639, 0.9511818252680561, 0.9691928048050776, 0.9443981569056261, 0.9312186016775579, 0.9534625452806129, 0.9349522354077386, 0.9510183441561907, 0.9572313159223744, 0.9637340349151154, 0.9566831505858078, 0.961972028276541, 0.9622318734685706, 0.9569156860811237, 0.9777760754159891, 0.9747969923406152]}, {\"categories\": [\"0\", \"1\", \"2\", \"3\", \"4\", \"5\", \"6\", \"7\", \"8\", \"9\", \"10\", \"11\", \"12\", \"13\", \"14\", \"15\", \"16\", \"17\", \"18\", \"19\", \"20\", \"21\", \"22\", \"23\", \"24\", \"25\", \"26\", \"27\", \"28\"], \"mode\": \"lines\", \"name\": \"precision_score_weighted_max\", \"stepped\": true, \"type\": \"scatter\", \"data\": [0.9618582213501952, 0.9618582213501952, 0.9618582213501952, 0.9618582213501952, 0.9618582213501952, 0.9654930652590178, 0.9654930652590178, 0.9654930652590178, 0.9654930652590178, 0.9654930652590178, 0.9654930652590178, 0.9654930652590178, 0.9654930652590178, 0.9654930652590178, 0.9654930652590178, 0.9691928048050776, 0.9691928048050776, 0.9691928048050776, 0.9691928048050776, 0.9691928048050776, 0.9691928048050776, 0.9691928048050776, 0.9691928048050776, 0.9691928048050776, 0.9691928048050776, 0.9691928048050776, 0.9691928048050776, 0.9777760754159891, 0.9777760754159891]}], \"average_precision_score_micro\": [{\"categories\": [\"0\", \"1\", \"2\", \"3\", \"4\", \"5\", \"6\", \"7\", \"8\", \"9\", \"10\", \"11\", \"12\", \"13\", \"14\", \"15\", \"16\", \"17\", \"18\", \"19\", \"20\", \"21\", \"22\", \"23\", \"24\", \"25\", \"26\", \"27\", \"28\"], \"mode\": \"markers\", \"name\": \"average_precision_score_micro\", \"stepped\": false, \"type\": \"scatter\", \"data\": [0.9915078722474172, 0.9933948441124126, 0.9856188624407048, 0.9843829818718047, 0.9922423496757349, 0.994387969111273, 0.9900436825902652, 0.9839431754371273, 0.9907985598742961, 0.9879679693488471, 0.9894498786259385, 0.99165614654903, 0.989017158231418, 0.9707497260859371, 0.988891560217929, 0.9922175969173814, 0.990240241731841, 0.9700988282850238, 0.9917673030001517, 0.9822902631316769, 0.9899810397472706, 0.9914497116447982, 0.9932320604043188, 0.991387805596591, 0.9920982857526692, 0.9929106971390999, 0.9903306877289522, 0.9941261516498017, 0.9951350821564743]}, {\"categories\": [\"0\", \"1\", \"2\", \"3\", \"4\", \"5\", \"6\", \"7\", \"8\", \"9\", \"10\", \"11\", \"12\", \"13\", \"14\", \"15\", \"16\", \"17\", \"18\", \"19\", \"20\", \"21\", \"22\", \"23\", \"24\", \"25\", \"26\", \"27\", \"28\"], \"mode\": \"lines\", \"name\": \"average_precision_score_micro_max\", \"stepped\": true, \"type\": \"scatter\", \"data\": [0.9915078722474172, 0.9933948441124126, 0.9933948441124126, 0.9933948441124126, 0.9933948441124126, 0.994387969111273, 0.994387969111273, 0.994387969111273, 0.994387969111273, 0.994387969111273, 0.994387969111273, 0.994387969111273, 0.994387969111273, 0.994387969111273, 0.994387969111273, 0.994387969111273, 0.994387969111273, 0.994387969111273, 0.994387969111273, 0.994387969111273, 0.994387969111273, 0.994387969111273, 0.994387969111273, 0.994387969111273, 0.994387969111273, 0.994387969111273, 0.994387969111273, 0.994387969111273, 0.9951350821564743]}], \"norm_macro_recall\": [{\"categories\": [\"0\", \"1\", \"2\", \"3\", \"4\", \"5\", \"6\", \"7\", \"8\", \"9\", \"10\", \"11\", \"12\", \"13\", \"14\", \"15\", \"16\", \"17\", \"18\", \"19\", \"20\", \"21\", \"22\", \"23\", \"24\", \"25\", \"26\", \"27\", \"28\"], \"mode\": \"markers\", \"name\": \"norm_macro_recall\", \"stepped\": false, \"type\": \"scatter\", \"data\": [0.9121092194764324, 0.9122088819739508, 0.8873130362919129, 0.8709297470190297, 0.8851250203456373, 0.922258839914425, 0.9017698410839301, 0.8832918089373052, 0.9075279133240945, 0.8906815254509048, 0.89953803094898, 0.8822364085966499, 0.8726556547643358, 0.8481381579359889, 0.8912833053480288, 0.9262810658386107, 0.8705044761884995, 0.8260412881738521, 0.8886025099283245, 0.842923775885825, 0.8865844231049163, 0.9063644356785246, 0.9194616625412042, 0.8996202707196425, 0.9135160550470559, 0.9156490528502832, 0.9029442479458369, 0.9454742925100982, 0.9432558447942604]}, {\"categories\": [\"0\", \"1\", \"2\", \"3\", \"4\", \"5\", \"6\", \"7\", \"8\", \"9\", \"10\", \"11\", \"12\", \"13\", \"14\", \"15\", \"16\", \"17\", \"18\", \"19\", \"20\", \"21\", \"22\", \"23\", \"24\", \"25\", \"26\", \"27\", \"28\"], \"mode\": \"lines\", \"name\": \"norm_macro_recall_max\", \"stepped\": true, \"type\": \"scatter\", \"data\": [0.9121092194764324, 0.9122088819739508, 0.9122088819739508, 0.9122088819739508, 0.9122088819739508, 0.922258839914425, 0.922258839914425, 0.922258839914425, 0.922258839914425, 0.922258839914425, 0.922258839914425, 0.922258839914425, 0.922258839914425, 0.922258839914425, 0.922258839914425, 0.9262810658386107, 0.9262810658386107, 0.9262810658386107, 0.9262810658386107, 0.9262810658386107, 0.9262810658386107, 0.9262810658386107, 0.9262810658386107, 0.9262810658386107, 0.9262810658386107, 0.9262810658386107, 0.9262810658386107, 0.9454742925100982, 0.9454742925100982]}], \"accuracy\": [{\"categories\": [\"0\", \"1\", \"2\", \"3\", \"4\", \"5\", \"6\", \"7\", \"8\", \"9\", \"10\", \"11\", \"12\", \"13\", \"14\", \"15\", \"16\", \"17\", \"18\", \"19\", \"20\", \"21\", \"22\", \"23\", \"24\", \"25\", \"26\", \"27\", \"28\"], \"mode\": \"markers\", \"name\": \"accuracy\", \"stepped\": false, \"type\": \"scatter\", \"data\": [0.9612948299953421, 0.95954044403043, 0.947228691197019, 0.9384878124514827, 0.947228691197019, 0.9648346530041918, 0.9560316721006054, 0.943735444806707, 0.95954044403043, 0.9542307095171557, 0.9560006210215806, 0.947290793355069, 0.9437199192671943, 0.9314081664337837, 0.9507529886663562, 0.9683278993945039, 0.9437199192671943, 0.927899394503959, 0.9524918490917559, 0.9331625523986957, 0.950752988666356, 0.9560316721006054, 0.9630492159602545, 0.956078248719143, 0.9613103555348548, 0.9612637789163173, 0.956047197640118, 0.9771153547585778, 0.9735910572892408]}, {\"categories\": [\"0\", \"1\", \"2\", \"3\", \"4\", \"5\", \"6\", \"7\", \"8\", \"9\", \"10\", \"11\", \"12\", \"13\", \"14\", \"15\", \"16\", \"17\", \"18\", \"19\", \"20\", \"21\", \"22\", \"23\", \"24\", \"25\", \"26\", \"27\", \"28\"], \"mode\": \"lines\", \"name\": \"accuracy_max\", \"stepped\": true, \"type\": \"scatter\", \"data\": [0.9612948299953421, 0.9612948299953421, 0.9612948299953421, 0.9612948299953421, 0.9612948299953421, 0.9648346530041918, 0.9648346530041918, 0.9648346530041918, 0.9648346530041918, 0.9648346530041918, 0.9648346530041918, 0.9648346530041918, 0.9648346530041918, 0.9648346530041918, 0.9648346530041918, 0.9683278993945039, 0.9683278993945039, 0.9683278993945039, 0.9683278993945039, 0.9683278993945039, 0.9683278993945039, 0.9683278993945039, 0.9683278993945039, 0.9683278993945039, 0.9683278993945039, 0.9683278993945039, 0.9683278993945039, 0.9771153547585778, 0.9771153547585778]}]}, \"metricName\": null, \"primaryMetricName\": \"accuracy\", \"showLegend\": false}, \"run_metrics\": [{\"name\": \"experiment_status\", \"run_id\": \"AutoML_7206ef54-5e1d-4499-a65d-45d3400c69c3\", \"categories\": [0, 1, 2, 3, 4, 5], \"series\": [{\"data\": [\"DatasetEvaluation\", \"FeaturesGeneration\", \"DatasetFeaturization\", \"DatasetFeaturizationCompleted\", \"DatasetCrossValidationSplit\", \"ModelSelection\"]}]}, {\"name\": \"experiment_status_description\", \"run_id\": \"AutoML_7206ef54-5e1d-4499-a65d-45d3400c69c3\", \"categories\": [0, 1, 2, 3, 4, 5], \"series\": [{\"data\": [\"Gathering dataset statistics.\", \"Generating features for the dataset.\", \"Beginning to fit featurizers and featurize the dataset.\", \"Completed fit featurizers and featurizing the dataset.\", \"Generating individually featurized CV splits.\", \"Beginning model selection.\"]}]}, {\"name\": \"average_precision_score_micro\", \"run_id\": \"AutoML_7206ef54-5e1d-4499-a65d-45d3400c69c3\", \"categories\": [0], \"series\": [{\"data\": [0.9941261516498017]}]}, {\"name\": \"recall_score_micro\", \"run_id\": \"AutoML_7206ef54-5e1d-4499-a65d-45d3400c69c3\", \"categories\": [0], \"series\": [{\"data\": [0.9771153547585778]}]}, {\"name\": \"f1_score_micro\", \"run_id\": \"AutoML_7206ef54-5e1d-4499-a65d-45d3400c69c3\", \"categories\": [0], \"series\": [{\"data\": [0.9771153547585778]}]}, {\"name\": \"f1_score_macro\", \"run_id\": \"AutoML_7206ef54-5e1d-4499-a65d-45d3400c69c3\", \"categories\": [0], \"series\": [{\"data\": [0.97531894228998]}]}, {\"name\": \"average_precision_score_macro\", \"run_id\": \"AutoML_7206ef54-5e1d-4499-a65d-45d3400c69c3\", \"categories\": [0], \"series\": [{\"data\": [0.993784579939035]}]}, {\"name\": \"f1_score_weighted\", \"run_id\": \"AutoML_7206ef54-5e1d-4499-a65d-45d3400c69c3\", \"categories\": [0], \"series\": [{\"data\": [0.9769770369469768]}]}, {\"name\": \"average_precision_score_weighted\", \"run_id\": \"AutoML_7206ef54-5e1d-4499-a65d-45d3400c69c3\", \"categories\": [0], \"series\": [{\"data\": [0.9940715221678447]}]}, {\"name\": \"precision_score_macro\", \"run_id\": \"AutoML_7206ef54-5e1d-4499-a65d-45d3400c69c3\", \"categories\": [0], \"series\": [{\"data\": [0.9789346710109262]}]}, {\"name\": \"accuracy\", \"run_id\": \"AutoML_7206ef54-5e1d-4499-a65d-45d3400c69c3\", \"categories\": [0], \"series\": [{\"data\": [0.9771153547585778]}]}, {\"name\": \"weighted_accuracy\", \"run_id\": \"AutoML_7206ef54-5e1d-4499-a65d-45d3400c69c3\", \"categories\": [0], \"series\": [{\"data\": [0.9809788697397159]}]}, {\"name\": \"AUC_micro\", \"run_id\": \"AutoML_7206ef54-5e1d-4499-a65d-45d3400c69c3\", \"categories\": [0], \"series\": [{\"data\": [0.9942195555221952]}]}, {\"name\": \"recall_score_macro\", \"run_id\": \"AutoML_7206ef54-5e1d-4499-a65d-45d3400c69c3\", \"categories\": [0], \"series\": [{\"data\": [0.972737146255049]}]}, {\"name\": \"norm_macro_recall\", \"run_id\": \"AutoML_7206ef54-5e1d-4499-a65d-45d3400c69c3\", \"categories\": [0], \"series\": [{\"data\": [0.9454742925100982]}]}, {\"name\": \"log_loss\", \"run_id\": \"AutoML_7206ef54-5e1d-4499-a65d-45d3400c69c3\", \"categories\": [0], \"series\": [{\"data\": [0.09149056726676777]}]}, {\"name\": \"precision_score_weighted\", \"run_id\": \"AutoML_7206ef54-5e1d-4499-a65d-45d3400c69c3\", \"categories\": [0], \"series\": [{\"data\": [0.9777760754159891]}]}, {\"name\": \"AUC_macro\", \"run_id\": \"AutoML_7206ef54-5e1d-4499-a65d-45d3400c69c3\", \"categories\": [0], \"series\": [{\"data\": [0.9936225219026303]}]}, {\"name\": \"balanced_accuracy\", \"run_id\": \"AutoML_7206ef54-5e1d-4499-a65d-45d3400c69c3\", \"categories\": [0], \"series\": [{\"data\": [0.972737146255049]}]}, {\"name\": \"recall_score_weighted\", \"run_id\": \"AutoML_7206ef54-5e1d-4499-a65d-45d3400c69c3\", \"categories\": [0], \"series\": [{\"data\": [0.9771153547585778]}]}, {\"name\": \"AUC_weighted\", \"run_id\": \"AutoML_7206ef54-5e1d-4499-a65d-45d3400c69c3\", \"categories\": [0], \"series\": [{\"data\": [0.9936225219026303]}]}, {\"name\": \"matthews_correlation\", \"run_id\": \"AutoML_7206ef54-5e1d-4499-a65d-45d3400c69c3\", \"categories\": [0], \"series\": [{\"data\": [0.9516155404804676]}]}, {\"name\": \"precision_score_micro\", \"run_id\": \"AutoML_7206ef54-5e1d-4499-a65d-45d3400c69c3\", \"categories\": [0], \"series\": [{\"data\": [0.9771153547585778]}]}], \"run_logs\": \"\\nRun is completed.\", \"graph\": {}, \"widget_settings\": {\"childWidgetDisplay\": \"popup\", \"send_telemetry\": false, \"log_level\": \"INFO\", \"sdk_version\": \"1.19.0\"}, \"loading\": false}"
          },
          "metadata": {}
        },
        {
          "output_type": "stream",
          "name": "stdout",
          "text": [
            "\n",
            "\n",
            "****************************************************************************************************\n",
            "DATA GUARDRAILS: \n",
            "\n",
            "TYPE:         Class balancing detection\n",
            "STATUS:       PASSED\n",
            "DESCRIPTION:  Your inputs were analyzed, and all classes are balanced in your training data.\n",
            "              Learn more about imbalanced data: https://aka.ms/AutomatedMLImbalancedData\n",
            "\n",
            "****************************************************************************************************\n",
            "\n",
            "TYPE:         Missing feature values imputation\n",
            "STATUS:       PASSED\n",
            "DESCRIPTION:  No feature missing values were detected in the training data.\n",
            "              Learn more about missing value imputation: https://aka.ms/AutomatedMLFeaturization\n",
            "\n",
            "****************************************************************************************************\n",
            "\n",
            "TYPE:         High cardinality feature detection\n",
            "STATUS:       PASSED\n",
            "DESCRIPTION:  Your inputs were analyzed, and no high cardinality features were detected.\n",
            "              Learn more about high cardinality feature handling: https://aka.ms/AutomatedMLFeaturization\n",
            "\n",
            "****************************************************************************************************\n",
            "\n",
            "****************************************************************************************************\n",
            "ITERATION: The iteration being evaluated.\n",
            "PIPELINE: A summary description of the pipeline being evaluated.\n",
            "DURATION: Time taken for the current iteration.\n",
            "METRIC: The result of computing score on the fitted pipeline.\n",
            "BEST: The best observed score thus far.\n",
            "****************************************************************************************************\n",
            "\n",
            " ITERATION   PIPELINE                                       DURATION      METRIC      BEST\n",
            "         0   MaxAbsScaler LightGBM                          0:00:40       0.9613    0.9613\n",
            "         1   MaxAbsScaler XGBoostClassifier                 0:00:47       0.9595    0.9613\n",
            "         2   MinMaxScaler RandomForest                      0:00:49       0.9472    0.9613\n",
            "         3   MinMaxScaler RandomForest                      0:00:53       0.9385    0.9613\n",
            "         4   MinMaxScaler RandomForest                      0:00:46       0.9472    0.9613\n",
            "         5   MinMaxScaler SVM                               0:00:55       0.9648    0.9648\n",
            "         6   MaxAbsScaler GradientBoosting                  0:01:12       0.9560    0.9648\n",
            "         7   StandardScalerWrapper RandomForest             0:00:53       0.9437    0.9648\n",
            "         8   SparseNormalizer LightGBM                      0:00:56       0.9595    0.9648\n",
            "         9   SparseNormalizer XGBoostClassifier             0:00:52       0.9542    0.9648\n",
            "        10   StandardScalerWrapper LightGBM                 0:00:51       0.9560    0.9648\n",
            "        11   SparseNormalizer XGBoostClassifier             0:00:55       0.9473    0.9648\n",
            "        12   RobustScaler ExtremeRandomTrees                0:00:46       0.9437    0.9648\n",
            "        13   SparseNormalizer XGBoostClassifier             0:00:58       0.9314    0.9648\n",
            "        14   SparseNormalizer LightGBM                      0:00:55       0.9508    0.9648\n",
            "        15   MinMaxScaler LightGBM                          0:00:45       0.9683    0.9683\n",
            "        16   MinMaxScaler ExtremeRandomTrees                0:01:31       0.9437    0.9683\n",
            "        17   RobustScaler KNN                               0:00:54       0.9279    0.9683\n",
            "        18   MaxAbsScaler LightGBM                          0:00:46       0.9525    0.9683\n",
            "        19   StandardScalerWrapper GradientBoosting         0:00:49       0.9332    0.9683\n",
            "        20   StandardScalerWrapper ExtremeRandomTrees       0:00:45       0.9508    0.9683\n",
            "        21   MaxAbsScaler LightGBM                          0:00:45       0.9560    0.9683\n",
            "        22   MinMaxScaler LightGBM                          0:00:52       0.9630    0.9683\n",
            "        23   SparseNormalizer XGBoostClassifier             0:00:51       0.9561    0.9683\n",
            "        24   StandardScalerWrapper LightGBM                 0:00:43       0.9613    0.9683\n",
            "        25   RobustScaler LightGBM                          0:00:47       0.9613    0.9683\n",
            "        26   SparseNormalizer XGBoostClassifier             0:00:50       0.9560    0.9683\n",
            "        27    VotingEnsemble                                0:01:19       0.9771    0.9771\n",
            "        28    StackEnsemble                                 0:01:25       0.9736    0.9771\n"
          ]
        },
        {
          "output_type": "execute_result",
          "execution_count": 8,
          "data": {
            "text/plain": "{'runId': 'AutoML_7206ef54-5e1d-4499-a65d-45d3400c69c3',\n 'target': 'cpu-cluster',\n 'status': 'Completed',\n 'startTimeUtc': '2021-01-25T09:25:11.922983Z',\n 'endTimeUtc': '2021-01-25T10:07:52.156998Z',\n 'properties': {'num_iterations': '1000',\n  'training_type': 'TrainFull',\n  'acquisition_function': 'EI',\n  'primary_metric': 'accuracy',\n  'train_split': '0',\n  'acquisition_parameter': '0',\n  'num_cross_validation': '5',\n  'target': 'cpu-cluster',\n  'AMLSettingsJsonString': '{\"path\":null,\"name\":\"capstone-project-automl\",\"subscription_id\":\"aa7cf8e8-d23f-4bce-a7b9-1f0b4e0ac8ee\",\"resource_group\":\"aml-quickstarts-135975\",\"workspace_name\":\"quick-starts-ws-135975\",\"region\":\"southcentralus\",\"compute_target\":\"cpu-cluster\",\"spark_service\":null,\"azure_service\":\"remote\",\"many_models\":false,\"pipeline_fetch_max_batch_size\":1,\"iterations\":1000,\"primary_metric\":\"accuracy\",\"task_type\":\"classification\",\"data_script\":null,\"validation_size\":0.0,\"n_cross_validations\":5,\"y_min\":null,\"y_max\":null,\"num_classes\":null,\"featurization\":\"auto\",\"_ignore_package_version_incompatibilities\":false,\"is_timeseries\":false,\"max_cores_per_iteration\":1,\"max_concurrent_iterations\":1,\"iteration_timeout_minutes\":null,\"mem_in_mb\":null,\"enforce_time_on_windows\":false,\"experiment_timeout_minutes\":30,\"experiment_exit_score\":null,\"whitelist_models\":null,\"blacklist_algos\":[\"TensorFlowLinearClassifier\",\"TensorFlowDNN\"],\"supported_models\":[\"XGBoostClassifier\",\"TensorFlowLinearClassifier\",\"KNN\",\"SVM\",\"LinearSVM\",\"LightGBM\",\"TensorFlowDNN\",\"ExtremeRandomTrees\",\"MultinomialNaiveBayes\",\"AveragedPerceptronClassifier\",\"DecisionTree\",\"RandomForest\",\"LogisticRegression\",\"GradientBoosting\",\"BernoulliNaiveBayes\",\"SGD\"],\"auto_blacklist\":true,\"blacklist_samples_reached\":false,\"exclude_nan_labels\":true,\"verbosity\":20,\"_debug_log\":\"azureml_automl.log\",\"show_warnings\":false,\"model_explainability\":true,\"service_url\":null,\"sdk_url\":null,\"sdk_packages\":null,\"enable_onnx_compatible_models\":false,\"enable_split_onnx_featurizer_estimator_models\":false,\"vm_type\":\"STANDARD_D2_V2\",\"telemetry_verbosity\":20,\"send_telemetry\":true,\"enable_dnn\":false,\"scenario\":\"SDK-1.13.0\",\"environment_label\":null,\"force_text_dnn\":false,\"enable_feature_sweeping\":true,\"enable_early_stopping\":false,\"early_stopping_n_iters\":10,\"metrics\":null,\"enable_ensembling\":true,\"enable_stack_ensembling\":true,\"ensemble_iterations\":15,\"enable_tf\":false,\"enable_subsampling\":null,\"subsample_seed\":null,\"enable_nimbusml\":false,\"enable_streaming\":false,\"force_streaming\":false,\"track_child_runs\":true,\"allowed_private_models\":[],\"label_column_name\":\"diagnosis\",\"weight_column_name\":null,\"cv_split_column_names\":null,\"enable_local_managed\":false,\"_local_managed_run_id\":null,\"cost_mode\":1,\"lag_length\":0,\"metric_operation\":\"maximize\",\"preprocess\":true}',\n  'DataPrepJsonString': '{\\\\\"training_data\\\\\": \\\\\"{\\\\\\\\\\\\\"blocks\\\\\\\\\\\\\": [{\\\\\\\\\\\\\"id\\\\\\\\\\\\\": \\\\\\\\\\\\\"6c2cb2a3-2af4-4ff2-8e59-ac926767ca77\\\\\\\\\\\\\", \\\\\\\\\\\\\"type\\\\\\\\\\\\\": \\\\\\\\\\\\\"Microsoft.DPrep.GetFilesBlock\\\\\\\\\\\\\", \\\\\\\\\\\\\"arguments\\\\\\\\\\\\\": {\\\\\\\\\\\\\"isArchive\\\\\\\\\\\\\": false, \\\\\\\\\\\\\"path\\\\\\\\\\\\\": {\\\\\\\\\\\\\"target\\\\\\\\\\\\\": 4, \\\\\\\\\\\\\"resourceDetails\\\\\\\\\\\\\": [{\\\\\\\\\\\\\"path\\\\\\\\\\\\\": \\\\\\\\\\\\\"https://raw.githubusercontent.com/JoanneJons/azure-machine-learning-capstone/main/breast-cancer-dataset.csv?token=AJ5V2OGXYLJ22BGYXN4EUODAC6P4K\\\\\\\\\\\\\"}]}}, \\\\\\\\\\\\\"localData\\\\\\\\\\\\\": {}, \\\\\\\\\\\\\"isEnabled\\\\\\\\\\\\\": true, \\\\\\\\\\\\\"name\\\\\\\\\\\\\": null, \\\\\\\\\\\\\"annotation\\\\\\\\\\\\\": null}, {\\\\\\\\\\\\\"id\\\\\\\\\\\\\": \\\\\\\\\\\\\"2db16714-d4d9-42b4-9ead-853f05021d56\\\\\\\\\\\\\", \\\\\\\\\\\\\"type\\\\\\\\\\\\\": \\\\\\\\\\\\\"Microsoft.DPrep.ParseDelimitedBlock\\\\\\\\\\\\\", \\\\\\\\\\\\\"arguments\\\\\\\\\\\\\": {\\\\\\\\\\\\\"columnHeadersMode\\\\\\\\\\\\\": 3, \\\\\\\\\\\\\"fileEncoding\\\\\\\\\\\\\": 0, \\\\\\\\\\\\\"handleQuotedLineBreaks\\\\\\\\\\\\\": false, \\\\\\\\\\\\\"preview\\\\\\\\\\\\\": false, \\\\\\\\\\\\\"separator\\\\\\\\\\\\\": \\\\\\\\\\\\\",\\\\\\\\\\\\\", \\\\\\\\\\\\\"skipRows\\\\\\\\\\\\\": 0, \\\\\\\\\\\\\"skipRowsMode\\\\\\\\\\\\\": 0}, \\\\\\\\\\\\\"localData\\\\\\\\\\\\\": {}, \\\\\\\\\\\\\"isEnabled\\\\\\\\\\\\\": true, \\\\\\\\\\\\\"name\\\\\\\\\\\\\": null, \\\\\\\\\\\\\"annotation\\\\\\\\\\\\\": null}, {\\\\\\\\\\\\\"id\\\\\\\\\\\\\": \\\\\\\\\\\\\"ab35d66d-f43f-4603-aca3-9f3ba5b1d81e\\\\\\\\\\\\\", \\\\\\\\\\\\\"type\\\\\\\\\\\\\": \\\\\\\\\\\\\"Microsoft.DPrep.DropColumnsBlock\\\\\\\\\\\\\", \\\\\\\\\\\\\"arguments\\\\\\\\\\\\\": {\\\\\\\\\\\\\"columns\\\\\\\\\\\\\": {\\\\\\\\\\\\\"type\\\\\\\\\\\\\": 0, \\\\\\\\\\\\\"details\\\\\\\\\\\\\": {\\\\\\\\\\\\\"selectedColumns\\\\\\\\\\\\\": [\\\\\\\\\\\\\"Path\\\\\\\\\\\\\"]}}}, \\\\\\\\\\\\\"localData\\\\\\\\\\\\\": {}, \\\\\\\\\\\\\"isEnabled\\\\\\\\\\\\\": true, \\\\\\\\\\\\\"name\\\\\\\\\\\\\": null, \\\\\\\\\\\\\"annotation\\\\\\\\\\\\\": null}, {\\\\\\\\\\\\\"id\\\\\\\\\\\\\": \\\\\\\\\\\\\"aef99c31-b114-4367-bc86-7f3e441b39b7\\\\\\\\\\\\\", \\\\\\\\\\\\\"type\\\\\\\\\\\\\": \\\\\\\\\\\\\"Microsoft.DPrep.SetColumnTypesBlock\\\\\\\\\\\\\", \\\\\\\\\\\\\"arguments\\\\\\\\\\\\\": {\\\\\\\\\\\\\"columnConversion\\\\\\\\\\\\\": [{\\\\\\\\\\\\\"column\\\\\\\\\\\\\": {\\\\\\\\\\\\\"type\\\\\\\\\\\\\": 2, \\\\\\\\\\\\\"details\\\\\\\\\\\\\": {\\\\\\\\\\\\\"selectedColumn\\\\\\\\\\\\\": \\\\\\\\\\\\\"Column1\\\\\\\\\\\\\"}}, \\\\\\\\\\\\\"typeProperty\\\\\\\\\\\\\": 2}, {\\\\\\\\\\\\\"column\\\\\\\\\\\\\": {\\\\\\\\\\\\\"type\\\\\\\\\\\\\": 2, \\\\\\\\\\\\\"details\\\\\\\\\\\\\": {\\\\\\\\\\\\\"selectedColumn\\\\\\\\\\\\\": \\\\\\\\\\\\\"diagnosis\\\\\\\\\\\\\"}}, \\\\\\\\\\\\\"typeProperty\\\\\\\\\\\\\": 2}, {\\\\\\\\\\\\\"column\\\\\\\\\\\\\": {\\\\\\\\\\\\\"type\\\\\\\\\\\\\": 2, \\\\\\\\\\\\\"details\\\\\\\\\\\\\": {\\\\\\\\\\\\\"selectedColumn\\\\\\\\\\\\\": \\\\\\\\\\\\\"radius_mean\\\\\\\\\\\\\"}}, \\\\\\\\\\\\\"typeProperty\\\\\\\\\\\\\": 3}, {\\\\\\\\\\\\\"column\\\\\\\\\\\\\": {\\\\\\\\\\\\\"type\\\\\\\\\\\\\": 2, \\\\\\\\\\\\\"details\\\\\\\\\\\\\": {\\\\\\\\\\\\\"selectedColumn\\\\\\\\\\\\\": \\\\\\\\\\\\\"texture_mean\\\\\\\\\\\\\"}}, \\\\\\\\\\\\\"typeProperty\\\\\\\\\\\\\": 3}, {\\\\\\\\\\\\\"column\\\\\\\\\\\\\": {\\\\\\\\\\\\\"type\\\\\\\\\\\\\": 2, \\\\\\\\\\\\\"details\\\\\\\\\\\\\": {\\\\\\\\\\\\\"selectedColumn\\\\\\\\\\\\\": \\\\\\\\\\\\\"perimeter_mean\\\\\\\\\\\\\"}}, \\\\\\\\\\\\\"typeProperty\\\\\\\\\\\\\": 3}, {\\\\\\\\\\\\\"column\\\\\\\\\\\\\": {\\\\\\\\\\\\\"type\\\\\\\\\\\\\": 2, \\\\\\\\\\\\\"details\\\\\\\\\\\\\": {\\\\\\\\\\\\\"selectedColumn\\\\\\\\\\\\\": \\\\\\\\\\\\\"area_mean\\\\\\\\\\\\\"}}, \\\\\\\\\\\\\"typeProperty\\\\\\\\\\\\\": 3}, {\\\\\\\\\\\\\"column\\\\\\\\\\\\\": {\\\\\\\\\\\\\"type\\\\\\\\\\\\\": 2, \\\\\\\\\\\\\"details\\\\\\\\\\\\\": {\\\\\\\\\\\\\"selectedColumn\\\\\\\\\\\\\": \\\\\\\\\\\\\"smoothness_mean\\\\\\\\\\\\\"}}, \\\\\\\\\\\\\"typeProperty\\\\\\\\\\\\\": 3}, {\\\\\\\\\\\\\"column\\\\\\\\\\\\\": {\\\\\\\\\\\\\"type\\\\\\\\\\\\\": 2, \\\\\\\\\\\\\"details\\\\\\\\\\\\\": {\\\\\\\\\\\\\"selectedColumn\\\\\\\\\\\\\": \\\\\\\\\\\\\"compactness_mean\\\\\\\\\\\\\"}}, \\\\\\\\\\\\\"typeProperty\\\\\\\\\\\\\": 3}, {\\\\\\\\\\\\\"column\\\\\\\\\\\\\": {\\\\\\\\\\\\\"type\\\\\\\\\\\\\": 2, \\\\\\\\\\\\\"details\\\\\\\\\\\\\": {\\\\\\\\\\\\\"selectedColumn\\\\\\\\\\\\\": \\\\\\\\\\\\\"concavity_mean\\\\\\\\\\\\\"}}, \\\\\\\\\\\\\"typeProperty\\\\\\\\\\\\\": 3}, {\\\\\\\\\\\\\"column\\\\\\\\\\\\\": {\\\\\\\\\\\\\"type\\\\\\\\\\\\\": 2, \\\\\\\\\\\\\"details\\\\\\\\\\\\\": {\\\\\\\\\\\\\"selectedColumn\\\\\\\\\\\\\": \\\\\\\\\\\\\"concave points_mean\\\\\\\\\\\\\"}}, \\\\\\\\\\\\\"typeProperty\\\\\\\\\\\\\": 3}, {\\\\\\\\\\\\\"column\\\\\\\\\\\\\": {\\\\\\\\\\\\\"type\\\\\\\\\\\\\": 2, \\\\\\\\\\\\\"details\\\\\\\\\\\\\": {\\\\\\\\\\\\\"selectedColumn\\\\\\\\\\\\\": \\\\\\\\\\\\\"symmetry_mean\\\\\\\\\\\\\"}}, \\\\\\\\\\\\\"typeProperty\\\\\\\\\\\\\": 3}, {\\\\\\\\\\\\\"column\\\\\\\\\\\\\": {\\\\\\\\\\\\\"type\\\\\\\\\\\\\": 2, \\\\\\\\\\\\\"details\\\\\\\\\\\\\": {\\\\\\\\\\\\\"selectedColumn\\\\\\\\\\\\\": \\\\\\\\\\\\\"fractal_dimension_mean\\\\\\\\\\\\\"}}, \\\\\\\\\\\\\"typeProperty\\\\\\\\\\\\\": 3}, {\\\\\\\\\\\\\"column\\\\\\\\\\\\\": {\\\\\\\\\\\\\"type\\\\\\\\\\\\\": 2, \\\\\\\\\\\\\"details\\\\\\\\\\\\\": {\\\\\\\\\\\\\"selectedColumn\\\\\\\\\\\\\": \\\\\\\\\\\\\"radius_se\\\\\\\\\\\\\"}}, \\\\\\\\\\\\\"typeProperty\\\\\\\\\\\\\": 3}, {\\\\\\\\\\\\\"column\\\\\\\\\\\\\": {\\\\\\\\\\\\\"type\\\\\\\\\\\\\": 2, \\\\\\\\\\\\\"details\\\\\\\\\\\\\": {\\\\\\\\\\\\\"selectedColumn\\\\\\\\\\\\\": \\\\\\\\\\\\\"texture_se\\\\\\\\\\\\\"}}, \\\\\\\\\\\\\"typeProperty\\\\\\\\\\\\\": 3}, {\\\\\\\\\\\\\"column\\\\\\\\\\\\\": {\\\\\\\\\\\\\"type\\\\\\\\\\\\\": 2, \\\\\\\\\\\\\"details\\\\\\\\\\\\\": {\\\\\\\\\\\\\"selectedColumn\\\\\\\\\\\\\": \\\\\\\\\\\\\"perimeter_se\\\\\\\\\\\\\"}}, \\\\\\\\\\\\\"typeProperty\\\\\\\\\\\\\": 3}, {\\\\\\\\\\\\\"column\\\\\\\\\\\\\": {\\\\\\\\\\\\\"type\\\\\\\\\\\\\": 2, \\\\\\\\\\\\\"details\\\\\\\\\\\\\": {\\\\\\\\\\\\\"selectedColumn\\\\\\\\\\\\\": \\\\\\\\\\\\\"area_se\\\\\\\\\\\\\"}}, \\\\\\\\\\\\\"typeProperty\\\\\\\\\\\\\": 3}, {\\\\\\\\\\\\\"column\\\\\\\\\\\\\": {\\\\\\\\\\\\\"type\\\\\\\\\\\\\": 2, \\\\\\\\\\\\\"details\\\\\\\\\\\\\": {\\\\\\\\\\\\\"selectedColumn\\\\\\\\\\\\\": \\\\\\\\\\\\\"smoothness_se\\\\\\\\\\\\\"}}, \\\\\\\\\\\\\"typeProperty\\\\\\\\\\\\\": 3}, {\\\\\\\\\\\\\"column\\\\\\\\\\\\\": {\\\\\\\\\\\\\"type\\\\\\\\\\\\\": 2, \\\\\\\\\\\\\"details\\\\\\\\\\\\\": {\\\\\\\\\\\\\"selectedColumn\\\\\\\\\\\\\": \\\\\\\\\\\\\"compactness_se\\\\\\\\\\\\\"}}, \\\\\\\\\\\\\"typeProperty\\\\\\\\\\\\\": 3}, {\\\\\\\\\\\\\"column\\\\\\\\\\\\\": {\\\\\\\\\\\\\"type\\\\\\\\\\\\\": 2, \\\\\\\\\\\\\"details\\\\\\\\\\\\\": {\\\\\\\\\\\\\"selectedColumn\\\\\\\\\\\\\": \\\\\\\\\\\\\"concavity_se\\\\\\\\\\\\\"}}, \\\\\\\\\\\\\"typeProperty\\\\\\\\\\\\\": 3}, {\\\\\\\\\\\\\"column\\\\\\\\\\\\\": {\\\\\\\\\\\\\"type\\\\\\\\\\\\\": 2, \\\\\\\\\\\\\"details\\\\\\\\\\\\\": {\\\\\\\\\\\\\"selectedColumn\\\\\\\\\\\\\": \\\\\\\\\\\\\"concave points_se\\\\\\\\\\\\\"}}, \\\\\\\\\\\\\"typeProperty\\\\\\\\\\\\\": 3}, {\\\\\\\\\\\\\"column\\\\\\\\\\\\\": {\\\\\\\\\\\\\"type\\\\\\\\\\\\\": 2, \\\\\\\\\\\\\"details\\\\\\\\\\\\\": {\\\\\\\\\\\\\"selectedColumn\\\\\\\\\\\\\": \\\\\\\\\\\\\"symmetry_se\\\\\\\\\\\\\"}}, \\\\\\\\\\\\\"typeProperty\\\\\\\\\\\\\": 3}, {\\\\\\\\\\\\\"column\\\\\\\\\\\\\": {\\\\\\\\\\\\\"type\\\\\\\\\\\\\": 2, \\\\\\\\\\\\\"details\\\\\\\\\\\\\": {\\\\\\\\\\\\\"selectedColumn\\\\\\\\\\\\\": \\\\\\\\\\\\\"fractal_dimension_se\\\\\\\\\\\\\"}}, \\\\\\\\\\\\\"typeProperty\\\\\\\\\\\\\": 3}, {\\\\\\\\\\\\\"column\\\\\\\\\\\\\": {\\\\\\\\\\\\\"type\\\\\\\\\\\\\": 2, \\\\\\\\\\\\\"details\\\\\\\\\\\\\": {\\\\\\\\\\\\\"selectedColumn\\\\\\\\\\\\\": \\\\\\\\\\\\\"radius_worst\\\\\\\\\\\\\"}}, \\\\\\\\\\\\\"typeProperty\\\\\\\\\\\\\": 3}, {\\\\\\\\\\\\\"column\\\\\\\\\\\\\": {\\\\\\\\\\\\\"type\\\\\\\\\\\\\": 2, \\\\\\\\\\\\\"details\\\\\\\\\\\\\": {\\\\\\\\\\\\\"selectedColumn\\\\\\\\\\\\\": \\\\\\\\\\\\\"texture_worst\\\\\\\\\\\\\"}}, \\\\\\\\\\\\\"typeProperty\\\\\\\\\\\\\": 3}, {\\\\\\\\\\\\\"column\\\\\\\\\\\\\": {\\\\\\\\\\\\\"type\\\\\\\\\\\\\": 2, \\\\\\\\\\\\\"details\\\\\\\\\\\\\": {\\\\\\\\\\\\\"selectedColumn\\\\\\\\\\\\\": \\\\\\\\\\\\\"perimeter_worst\\\\\\\\\\\\\"}}, \\\\\\\\\\\\\"typeProperty\\\\\\\\\\\\\": 3}, {\\\\\\\\\\\\\"column\\\\\\\\\\\\\": {\\\\\\\\\\\\\"type\\\\\\\\\\\\\": 2, \\\\\\\\\\\\\"details\\\\\\\\\\\\\": {\\\\\\\\\\\\\"selectedColumn\\\\\\\\\\\\\": \\\\\\\\\\\\\"area_worst\\\\\\\\\\\\\"}}, \\\\\\\\\\\\\"typeProperty\\\\\\\\\\\\\": 3}, {\\\\\\\\\\\\\"column\\\\\\\\\\\\\": {\\\\\\\\\\\\\"type\\\\\\\\\\\\\": 2, \\\\\\\\\\\\\"details\\\\\\\\\\\\\": {\\\\\\\\\\\\\"selectedColumn\\\\\\\\\\\\\": \\\\\\\\\\\\\"smoothness_worst\\\\\\\\\\\\\"}}, \\\\\\\\\\\\\"typeProperty\\\\\\\\\\\\\": 3}, {\\\\\\\\\\\\\"column\\\\\\\\\\\\\": {\\\\\\\\\\\\\"type\\\\\\\\\\\\\": 2, \\\\\\\\\\\\\"details\\\\\\\\\\\\\": {\\\\\\\\\\\\\"selectedColumn\\\\\\\\\\\\\": \\\\\\\\\\\\\"compactness_worst\\\\\\\\\\\\\"}}, \\\\\\\\\\\\\"typeProperty\\\\\\\\\\\\\": 3}, {\\\\\\\\\\\\\"column\\\\\\\\\\\\\": {\\\\\\\\\\\\\"type\\\\\\\\\\\\\": 2, \\\\\\\\\\\\\"details\\\\\\\\\\\\\": {\\\\\\\\\\\\\"selectedColumn\\\\\\\\\\\\\": \\\\\\\\\\\\\"concavity_worst\\\\\\\\\\\\\"}}, \\\\\\\\\\\\\"typeProperty\\\\\\\\\\\\\": 3}, {\\\\\\\\\\\\\"column\\\\\\\\\\\\\": {\\\\\\\\\\\\\"type\\\\\\\\\\\\\": 2, \\\\\\\\\\\\\"details\\\\\\\\\\\\\": {\\\\\\\\\\\\\"selectedColumn\\\\\\\\\\\\\": \\\\\\\\\\\\\"concave points_worst\\\\\\\\\\\\\"}}, \\\\\\\\\\\\\"typeProperty\\\\\\\\\\\\\": 3}, {\\\\\\\\\\\\\"column\\\\\\\\\\\\\": {\\\\\\\\\\\\\"type\\\\\\\\\\\\\": 2, \\\\\\\\\\\\\"details\\\\\\\\\\\\\": {\\\\\\\\\\\\\"selectedColumn\\\\\\\\\\\\\": \\\\\\\\\\\\\"symmetry_worst\\\\\\\\\\\\\"}}, \\\\\\\\\\\\\"typeProperty\\\\\\\\\\\\\": 3}, {\\\\\\\\\\\\\"column\\\\\\\\\\\\\": {\\\\\\\\\\\\\"type\\\\\\\\\\\\\": 2, \\\\\\\\\\\\\"details\\\\\\\\\\\\\": {\\\\\\\\\\\\\"selectedColumn\\\\\\\\\\\\\": \\\\\\\\\\\\\"fractal_dimension_worst\\\\\\\\\\\\\"}}, \\\\\\\\\\\\\"typeProperty\\\\\\\\\\\\\": 3}]}, \\\\\\\\\\\\\"localData\\\\\\\\\\\\\": {}, \\\\\\\\\\\\\"isEnabled\\\\\\\\\\\\\": true, \\\\\\\\\\\\\"name\\\\\\\\\\\\\": null, \\\\\\\\\\\\\"annotation\\\\\\\\\\\\\": null}], \\\\\\\\\\\\\"inspectors\\\\\\\\\\\\\": [], \\\\\\\\\\\\\"meta\\\\\\\\\\\\\": {\\\\\\\\\\\\\"savedDatasetId\\\\\\\\\\\\\": \\\\\\\\\\\\\"37a6ef3d-b0a3-46b8-93c2-e4441dfa6f06\\\\\\\\\\\\\", \\\\\\\\\\\\\"datasetType\\\\\\\\\\\\\": \\\\\\\\\\\\\"tabular\\\\\\\\\\\\\", \\\\\\\\\\\\\"subscriptionId\\\\\\\\\\\\\": \\\\\\\\\\\\\"aa7cf8e8-d23f-4bce-a7b9-1f0b4e0ac8ee\\\\\\\\\\\\\", \\\\\\\\\\\\\"workspaceId\\\\\\\\\\\\\": \\\\\\\\\\\\\"517ec88b-ae94-4957-a617-efb1f5c27bfd\\\\\\\\\\\\\", \\\\\\\\\\\\\"workspaceLocation\\\\\\\\\\\\\": \\\\\\\\\\\\\"southcentralus\\\\\\\\\\\\\"}}\\\\\", \\\\\"activities\\\\\": 0}',\n  'EnableSubsampling': None,\n  'runTemplate': 'AutoML',\n  'azureml.runsource': 'automl',\n  'display_task_type': 'classification',\n  'dependencies_versions': '{\"azureml-widgets\": \"1.19.0\", \"azureml-train\": \"1.19.0\", \"azureml-train-restclients-hyperdrive\": \"1.19.0\", \"azureml-train-core\": \"1.19.0\", \"azureml-train-automl\": \"1.19.0\", \"azureml-train-automl-runtime\": \"1.19.0\", \"azureml-train-automl-client\": \"1.19.0\", \"azureml-tensorboard\": \"1.19.0\", \"azureml-telemetry\": \"1.19.0\", \"azureml-sdk\": \"1.19.0\", \"azureml-samples\": \"0+unknown\", \"azureml-pipeline\": \"1.19.0\", \"azureml-pipeline-steps\": \"1.19.0\", \"azureml-pipeline-core\": \"1.19.0\", \"azureml-opendatasets\": \"1.19.0\", \"azureml-model-management-sdk\": \"1.0.1b6.post1\", \"azureml-mlflow\": \"1.19.0\", \"azureml-interpret\": \"1.19.0\", \"azureml-explain-model\": \"1.19.0\", \"azureml-defaults\": \"1.19.0\", \"azureml-dataset-runtime\": \"1.19.0.post1\", \"azureml-dataprep\": \"2.6.1\", \"azureml-dataprep-rslex\": \"1.4.0\", \"azureml-dataprep-native\": \"26.0.0\", \"azureml-datadrift\": \"1.19.0\", \"azureml-core\": \"1.19.0\", \"azureml-contrib-services\": \"1.19.0\", \"azureml-contrib-server\": \"1.19.0\", \"azureml-contrib-reinforcementlearning\": \"1.19.0\", \"azureml-contrib-pipeline-steps\": \"1.19.0\", \"azureml-contrib-notebook\": \"1.19.0\", \"azureml-contrib-interpret\": \"1.19.0\", \"azureml-contrib-gbdt\": \"1.19.0\", \"azureml-contrib-fairness\": \"1.19.0\", \"azureml-contrib-dataset\": \"1.19.0\", \"azureml-cli-common\": \"1.19.0\", \"azureml-automl-runtime\": \"1.19.0\", \"azureml-automl-core\": \"1.19.0\", \"azureml-accel-models\": \"1.19.0\"}',\n  '_aml_system_scenario_identification': 'Remote.Parent',\n  'ClientType': 'SDK',\n  'environment_cpu_name': 'AzureML-AutoML',\n  'environment_cpu_label': 'prod',\n  'environment_gpu_name': 'AzureML-AutoML-GPU',\n  'environment_gpu_label': 'prod',\n  'root_attribution': 'automl',\n  'attribution': 'AutoML',\n  'Orchestrator': 'AutoML',\n  'CancelUri': 'https://southcentralus.experiments.azureml.net/jasmine/v1.0/subscriptions/aa7cf8e8-d23f-4bce-a7b9-1f0b4e0ac8ee/resourceGroups/aml-quickstarts-135975/providers/Microsoft.MachineLearningServices/workspaces/quick-starts-ws-135975/experimentids/d8ff262b-b9c1-450b-88c5-445ecc1166d2/cancel/AutoML_7206ef54-5e1d-4499-a65d-45d3400c69c3',\n  'ClientSdkVersion': '1.20.0',\n  'snapshotId': '00000000-0000-0000-0000-000000000000',\n  'SetupRunId': 'AutoML_7206ef54-5e1d-4499-a65d-45d3400c69c3_setup',\n  'SetupRunContainerId': 'dcid.AutoML_7206ef54-5e1d-4499-a65d-45d3400c69c3_setup',\n  'FeaturizationRunJsonPath': 'featurizer_container.json',\n  'FeaturizationRunId': 'AutoML_7206ef54-5e1d-4499-a65d-45d3400c69c3_featurize',\n  'ProblemInfoJsonString': '{\"dataset_num_categorical\": 0, \"is_sparse\": false, \"subsampling\": false, \"dataset_classes\": 2, \"dataset_features\": 31, \"dataset_samples\": 569, \"single_frequency_class_detected\": false}',\n  'ModelExplainRunId': 'AutoML_7206ef54-5e1d-4499-a65d-45d3400c69c3_ModelExplain'},\n 'inputDatasets': [{'dataset': {'id': '37a6ef3d-b0a3-46b8-93c2-e4441dfa6f06'}, 'consumptionDetails': {'type': 'RunInput', 'inputName': 'training_data', 'mechanism': 'Direct'}}],\n 'outputDatasets': [],\n 'logFiles': {}}"
          },
          "metadata": {}
        }
      ],
      "execution_count": 8,
      "metadata": {
        "gather": {
          "logged": 1611569627728
        },
        "jupyter": {
          "outputs_hidden": false,
          "source_hidden": false
        },
        "nteract": {
          "transient": {
            "deleting": false
          }
        }
      }
    },
    {
      "cell_type": "markdown",
      "source": [
        "## Run Details\n",
        "\n",
        "OPTIONAL: Write about the different models trained and their performance. Why do you think some models did better than others?\n",
        "\n",
        "TODO: In the cell below, use the `RunDetails` widget to show the different experiments."
      ],
      "metadata": {}
    },
    {
      "cell_type": "code",
      "source": [],
      "outputs": [],
      "execution_count": null,
      "metadata": {
        "gather": {
          "logged": 1598431121770
        },
        "jupyter": {
          "outputs_hidden": false,
          "source_hidden": false
        },
        "nteract": {
          "transient": {
            "deleting": false
          }
        }
      }
    },
    {
      "cell_type": "markdown",
      "source": [
        "## Best Model\n",
        "\n",
        "TODO: In the cell below, get the best model from the automl experiments and display all the properties of the model.\n",
        "\n"
      ],
      "metadata": {}
    },
    {
      "cell_type": "code",
      "source": [
        "best_run, fitted_model = remote_run.get_output()\n",
        "\n",
        "print(best_run)"
      ],
      "outputs": [
        {
          "output_type": "stream",
          "name": "stderr",
          "text": [
            "WARNING:root:The version of the SDK does not match the version the model was trained on.\n",
            "WARNING:root:The consistency in the result may not be guaranteed.\n",
            "WARNING:root:Package:azureml-automl-core, training version:1.20.0, current version:1.19.0\n",
            "Package:azureml-automl-runtime, training version:1.20.0, current version:1.19.0\n",
            "Package:azureml-core, training version:1.20.0, current version:1.19.0\n",
            "Package:azureml-dataprep, training version:2.7.2, current version:2.6.1\n",
            "Package:azureml-dataprep-native, training version:27.0.0, current version:26.0.0\n",
            "Package:azureml-dataprep-rslex, training version:1.5.0, current version:1.4.0\n",
            "Package:azureml-dataset-runtime, training version:1.20.0, current version:1.19.0.post1\n",
            "Package:azureml-defaults, training version:1.20.0, current version:1.19.0\n",
            "Package:azureml-interpret, training version:1.20.0, current version:1.19.0\n",
            "Package:azureml-pipeline-core, training version:1.20.0, current version:1.19.0\n",
            "Package:azureml-telemetry, training version:1.20.0, current version:1.19.0\n",
            "Package:azureml-train-automl-client, training version:1.20.0, current version:1.19.0\n",
            "Package:azureml-train-automl-runtime, training version:1.20.0, current version:1.19.0\n",
            "WARNING:root:Please ensure the version of your local conda dependencies match the version on which your model was trained in order to properly retrieve your model.\n"
          ]
        },
        {
          "output_type": "stream",
          "name": "stdout",
          "text": [
            "Run(Experiment: capstone-project-automl,\n",
            "Id: AutoML_7206ef54-5e1d-4499-a65d-45d3400c69c3_27,\n",
            "Type: azureml.scriptrun,\n",
            "Status: Completed)\n"
          ]
        }
      ],
      "execution_count": 10,
      "metadata": {
        "gather": {
          "logged": 1611569688471
        },
        "jupyter": {
          "outputs_hidden": false,
          "source_hidden": false
        },
        "nteract": {
          "transient": {
            "deleting": false
          }
        }
      }
    },
    {
      "cell_type": "code",
      "source": [
        "print(fitted_model)"
      ],
      "outputs": [
        {
          "output_type": "stream",
          "name": "stdout",
          "text": [
            "Pipeline(memory=None,\n",
            "         steps=[('datatransformer',\n",
            "                 DataTransformer(enable_dnn=None, enable_feature_sweeping=None,\n",
            "                                 feature_sweeping_config=None,\n",
            "                                 feature_sweeping_timeout=None,\n",
            "                                 featurization_config=None, force_text_dnn=None,\n",
            "                                 is_cross_validation=None,\n",
            "                                 is_onnx_compatible=None, logger=None,\n",
            "                                 observer=None, task=None, working_dir=None)),\n",
            "                ('prefittedsoftvotingclassifier',...\n",
            "                                                                                               objective='reg:logistic',\n",
            "                                                                                               random_state=0,\n",
            "                                                                                               reg_alpha=0,\n",
            "                                                                                               reg_lambda=0.5208333333333334,\n",
            "                                                                                               scale_pos_weight=1,\n",
            "                                                                                               seed=None,\n",
            "                                                                                               silent=None,\n",
            "                                                                                               subsample=0.6,\n",
            "                                                                                               tree_method='auto',\n",
            "                                                                                               verbose=-10,\n",
            "                                                                                               verbosity=0))],\n",
            "                                                                     verbose=False))],\n",
            "                                               flatten_transform=None,\n",
            "                                               weights=[0.4166666666666667,\n",
            "                                                        0.25,\n",
            "                                                        0.08333333333333333,\n",
            "                                                        0.08333333333333333,\n",
            "                                                        0.08333333333333333,\n",
            "                                                        0.08333333333333333]))],\n",
            "         verbose=False)\n"
          ]
        }
      ],
      "execution_count": 11,
      "metadata": {
        "collapsed": true,
        "jupyter": {
          "source_hidden": false,
          "outputs_hidden": false
        },
        "nteract": {
          "transient": {
            "deleting": false
          }
        },
        "gather": {
          "logged": 1611569699342
        }
      }
    },
    {
      "cell_type": "code",
      "source": [
        "best_run.get_tags()"
      ],
      "outputs": [
        {
          "output_type": "execute_result",
          "execution_count": 12,
          "data": {
            "text/plain": "{'_aml_system_azureml.automlComponent': 'AutoML',\n '_aml_system_ComputeTargetStatus': '{\"AllocationState\":\"steady\",\"PreparingNodeCount\":0,\"RunningNodeCount\":0,\"CurrentNodeCount\":1}',\n 'ensembled_iterations': '[15, 5, 22, 24, 0, 9]',\n 'ensembled_algorithms': \"['LightGBM', 'SVM', 'LightGBM', 'LightGBM', 'LightGBM', 'XGBoostClassifier']\",\n 'ensemble_weights': '[0.4166666666666667, 0.25, 0.08333333333333333, 0.08333333333333333, 0.08333333333333333, 0.08333333333333333]',\n 'best_individual_pipeline_score': '0.9683278993945039',\n 'best_individual_iteration': '15',\n '_aml_system_automl_is_child_run_end_telemetry_event_logged': 'True'}"
          },
          "metadata": {}
        }
      ],
      "execution_count": 12,
      "metadata": {
        "collapsed": true,
        "jupyter": {
          "source_hidden": false,
          "outputs_hidden": false
        },
        "nteract": {
          "transient": {
            "deleting": false
          }
        },
        "gather": {
          "logged": 1611569748161
        }
      }
    },
    {
      "cell_type": "code",
      "source": [
        "metrics = best_run.get_metrics()\n",
        "metrics['accuracy']"
      ],
      "outputs": [
        {
          "output_type": "execute_result",
          "execution_count": 15,
          "data": {
            "text/plain": "0.9771153547585778"
          },
          "metadata": {}
        }
      ],
      "execution_count": 15,
      "metadata": {
        "collapsed": true,
        "jupyter": {
          "source_hidden": false,
          "outputs_hidden": false
        },
        "nteract": {
          "transient": {
            "deleting": false
          }
        },
        "gather": {
          "logged": 1611570256345
        }
      }
    },
    {
      "cell_type": "code",
      "source": [
        "model_name = best_run.properties['model_name']\n",
        "model_name"
      ],
      "outputs": [
        {
          "output_type": "execute_result",
          "execution_count": 26,
          "data": {
            "text/plain": "'AutoML7206ef54527'"
          },
          "metadata": {}
        }
      ],
      "execution_count": 26,
      "metadata": {
        "collapsed": true,
        "jupyter": {
          "source_hidden": false,
          "outputs_hidden": false
        },
        "nteract": {
          "transient": {
            "deleting": false
          }
        },
        "gather": {
          "logged": 1611572670783
        }
      }
    },
    {
      "cell_type": "code",
      "source": [
        "#TODO: Save the best model\n",
        "automl_model = best_run.register_model(model_path='./outputs/model.pkl', model_name='breast-cancer-automl-best-model')"
      ],
      "outputs": [],
      "execution_count": 31,
      "metadata": {
        "gather": {
          "logged": 1611573497152
        },
        "jupyter": {
          "outputs_hidden": false,
          "source_hidden": false
        },
        "nteract": {
          "transient": {
            "deleting": false
          }
        }
      }
    },
    {
      "cell_type": "markdown",
      "source": [
        "## Model Deployment\n",
        "\n",
        "Remember you have to deploy only one of the two models you trained.. Perform the steps in the rest of this notebook only if you wish to deploy this model.\n",
        "\n",
        "TODO: In the cell below, register the model, create an inference config and deploy the model as a web service."
      ],
      "metadata": {}
    },
    {
      "cell_type": "code",
      "source": [
        "from azureml.core.model import InferenceConfig\n",
        "from azureml.core.webservice import AciWebservice\n",
        "from azureml.core.webservice import Webservice\n",
        "from azureml.core.model import Model\n",
        "\n",
        "script_file_name = 'score.py'\n",
        "best_run.download_file('outputs/scoring_file_v_1_0_0.py', script_file_name)\n",
        "\n",
        "inference_config = InferenceConfig(entry_script=script_file_name)\n",
        "aci_config = AciWebservice.deploy_configuration(cpu_cores=1, memory_gb=1, enable_app_insights=True)\n",
        "aci_service_name = 'breast-cancer-automl-model'\n",
        "\n",
        "aci_service = Model.deploy(ws, aci_service_name, [automl_model], inference_config, aci_config)\n",
        "aci_service.wait_for_deployment(True)\n",
        "print(aci_service.state)\n",
        "\n"
      ],
      "outputs": [
        {
          "output_type": "error",
          "ename": "WebserviceException",
          "evalue": "WebserviceException:\n\tMessage: Service breast-cancer-automl-model with the same name already exists, please use a different service name or delete the existing service.\n\tInnerException None\n\tErrorResponse \n{\n    \"error\": {\n        \"message\": \"Service breast-cancer-automl-model with the same name already exists, please use a different service name or delete the existing service.\"\n    }\n}",
          "traceback": [
            "\u001b[0;31m---------------------------------------------------------------------------\u001b[0m",
            "\u001b[0;31mWebserviceException\u001b[0m                       Traceback (most recent call last)",
            "\u001b[0;32m<ipython-input-32-cce71227e9e5>\u001b[0m in \u001b[0;36m<module>\u001b[0;34m\u001b[0m\n\u001b[1;32m     11\u001b[0m \u001b[0maci_service_name\u001b[0m \u001b[0;34m=\u001b[0m \u001b[0;34m'breast-cancer-automl-model'\u001b[0m\u001b[0;34m\u001b[0m\u001b[0;34m\u001b[0m\u001b[0m\n\u001b[1;32m     12\u001b[0m \u001b[0;34m\u001b[0m\u001b[0m\n\u001b[0;32m---> 13\u001b[0;31m \u001b[0maci_service\u001b[0m \u001b[0;34m=\u001b[0m \u001b[0mModel\u001b[0m\u001b[0;34m.\u001b[0m\u001b[0mdeploy\u001b[0m\u001b[0;34m(\u001b[0m\u001b[0mws\u001b[0m\u001b[0;34m,\u001b[0m \u001b[0maci_service_name\u001b[0m\u001b[0;34m,\u001b[0m \u001b[0;34m[\u001b[0m\u001b[0mautoml_model\u001b[0m\u001b[0;34m]\u001b[0m\u001b[0;34m,\u001b[0m \u001b[0minference_config\u001b[0m\u001b[0;34m,\u001b[0m \u001b[0maci_config\u001b[0m\u001b[0;34m)\u001b[0m\u001b[0;34m\u001b[0m\u001b[0;34m\u001b[0m\u001b[0m\n\u001b[0m\u001b[1;32m     14\u001b[0m \u001b[0maci_service\u001b[0m\u001b[0;34m.\u001b[0m\u001b[0mwait_for_deployment\u001b[0m\u001b[0;34m(\u001b[0m\u001b[0;32mTrue\u001b[0m\u001b[0;34m)\u001b[0m\u001b[0;34m\u001b[0m\u001b[0;34m\u001b[0m\u001b[0m\n\u001b[1;32m     15\u001b[0m \u001b[0mprint\u001b[0m\u001b[0;34m(\u001b[0m\u001b[0maci_service\u001b[0m\u001b[0;34m.\u001b[0m\u001b[0mstate\u001b[0m\u001b[0;34m)\u001b[0m\u001b[0;34m\u001b[0m\u001b[0;34m\u001b[0m\u001b[0m\n",
            "\u001b[0;32m/anaconda/envs/azureml_py36/lib/python3.6/site-packages/azureml/core/model.py\u001b[0m in \u001b[0;36mdeploy\u001b[0;34m(workspace, name, models, inference_config, deployment_config, deployment_target, overwrite)\u001b[0m\n\u001b[1;32m   1609\u001b[0m         \u001b[0;32mif\u001b[0m \u001b[0muse_env_path\u001b[0m\u001b[0;34m:\u001b[0m\u001b[0;34m\u001b[0m\u001b[0;34m\u001b[0m\u001b[0m\n\u001b[1;32m   1610\u001b[0m             return Model._deploy_with_environment(workspace, name, models, inference_config, deployment_config,\n\u001b[0;32m-> 1611\u001b[0;31m                                                   deployment_target, overwrite)\n\u001b[0m\u001b[1;32m   1612\u001b[0m \u001b[0;34m\u001b[0m\u001b[0m\n\u001b[1;32m   1613\u001b[0m         \u001b[0;31m# ContainerImage-based webservice.\u001b[0m\u001b[0;34m\u001b[0m\u001b[0;34m\u001b[0m\u001b[0;34m\u001b[0m\u001b[0m\n",
            "\u001b[0;32m/anaconda/envs/azureml_py36/lib/python3.6/site-packages/azureml/core/model.py\u001b[0m in \u001b[0;36m_deploy_with_environment\u001b[0;34m(workspace, name, models, inference_config, deployment_config, deployment_target, overwrite)\u001b[0m\n\u001b[1;32m   1809\u001b[0m \u001b[0;34m\u001b[0m\u001b[0m\n\u001b[1;32m   1810\u001b[0m         return Model._deploy_with_environment_image_request(workspace, name, environment_image_request,\n\u001b[0;32m-> 1811\u001b[0;31m                                                             deployment_config, deployment_target, overwrite)\n\u001b[0m\u001b[1;32m   1812\u001b[0m \u001b[0;34m\u001b[0m\u001b[0m\n\u001b[1;32m   1813\u001b[0m     \u001b[0;34m@\u001b[0m\u001b[0mstaticmethod\u001b[0m\u001b[0;34m\u001b[0m\u001b[0;34m\u001b[0m\u001b[0m\n",
            "\u001b[0;32m/anaconda/envs/azureml_py36/lib/python3.6/site-packages/azureml/core/model.py\u001b[0m in \u001b[0;36m_deploy_with_environment_image_request\u001b[0;34m(workspace, name, environment_image_request, deployment_config, deployment_target, overwrite)\u001b[0m\n\u001b[1;32m   1853\u001b[0m             \u001b[0mwebservice_payload\u001b[0m\u001b[0;34m[\u001b[0m\u001b[0;34m'computeName'\u001b[0m\u001b[0;34m]\u001b[0m \u001b[0;34m=\u001b[0m \u001b[0mdeployment_target\u001b[0m\u001b[0;34m.\u001b[0m\u001b[0mname\u001b[0m\u001b[0;34m\u001b[0m\u001b[0;34m\u001b[0m\u001b[0m\n\u001b[1;32m   1854\u001b[0m \u001b[0;34m\u001b[0m\u001b[0m\n\u001b[0;32m-> 1855\u001b[0;31m         \u001b[0;32mreturn\u001b[0m \u001b[0mWebservice\u001b[0m\u001b[0;34m.\u001b[0m\u001b[0m_deploy_webservice\u001b[0m\u001b[0;34m(\u001b[0m\u001b[0mworkspace\u001b[0m\u001b[0;34m,\u001b[0m \u001b[0mname\u001b[0m\u001b[0;34m,\u001b[0m \u001b[0mwebservice_payload\u001b[0m\u001b[0;34m,\u001b[0m \u001b[0moverwrite\u001b[0m\u001b[0;34m,\u001b[0m \u001b[0mwebservice_class\u001b[0m\u001b[0;34m)\u001b[0m\u001b[0;34m\u001b[0m\u001b[0;34m\u001b[0m\u001b[0m\n\u001b[0m\u001b[1;32m   1856\u001b[0m \u001b[0;34m\u001b[0m\u001b[0m\n\u001b[1;32m   1857\u001b[0m     \u001b[0;32mdef\u001b[0m \u001b[0mget_sas_urls\u001b[0m\u001b[0;34m(\u001b[0m\u001b[0mself\u001b[0m\u001b[0;34m)\u001b[0m\u001b[0;34m:\u001b[0m\u001b[0;34m\u001b[0m\u001b[0;34m\u001b[0m\u001b[0m\n",
            "\u001b[0;32m/anaconda/envs/azureml_py36/lib/python3.6/site-packages/azureml/core/webservice/webservice.py\u001b[0m in \u001b[0;36m_deploy_webservice\u001b[0;34m(workspace, name, webservice_payload, overwrite, webservice_class)\u001b[0m\n\u001b[1;32m    822\u001b[0m         \"\"\"\n\u001b[1;32m    823\u001b[0m         \u001b[0;31m# TODO Remove check_for_existing_webservice() later, this check has already included in common validation.\u001b[0m\u001b[0;34m\u001b[0m\u001b[0;34m\u001b[0m\u001b[0;34m\u001b[0m\u001b[0m\n\u001b[0;32m--> 824\u001b[0;31m         \u001b[0mWebservice\u001b[0m\u001b[0;34m.\u001b[0m\u001b[0mcheck_for_existing_webservice\u001b[0m\u001b[0;34m(\u001b[0m\u001b[0mworkspace\u001b[0m\u001b[0;34m,\u001b[0m \u001b[0mname\u001b[0m\u001b[0;34m,\u001b[0m \u001b[0moverwrite\u001b[0m\u001b[0;34m)\u001b[0m\u001b[0;34m\u001b[0m\u001b[0;34m\u001b[0m\u001b[0m\n\u001b[0m\u001b[1;32m    825\u001b[0m         Webservice._check_for_webservice(workspace, name, Webservice._get_deploy_compute_type(webservice_payload),\n\u001b[1;32m    826\u001b[0m                                          webservice_payload, SERVICE_REQUEST_OPERATION_CREATE)\n",
            "\u001b[0;32m/anaconda/envs/azureml_py36/lib/python3.6/site-packages/azureml/core/webservice/webservice.py\u001b[0m in \u001b[0;36mcheck_for_existing_webservice\u001b[0;34m(workspace, name, overwrite, request_func, check_func)\u001b[0m\n\u001b[1;32m    665\u001b[0m                 \u001b[0;32mreturn\u001b[0m \u001b[0mWebservice\u001b[0m\u001b[0;34m.\u001b[0m\u001b[0m_check_validate_error\u001b[0m\u001b[0;34m(\u001b[0m\u001b[0mcontent\u001b[0m\u001b[0;34m)\u001b[0m\u001b[0;34m\u001b[0m\u001b[0;34m\u001b[0m\u001b[0m\n\u001b[1;32m    666\u001b[0m \u001b[0;34m\u001b[0m\u001b[0m\n\u001b[0;32m--> 667\u001b[0;31m         \u001b[0mWebservice\u001b[0m\u001b[0;34m.\u001b[0m\u001b[0m_run_validate_framework\u001b[0m\u001b[0;34m(\u001b[0m\u001b[0mrequest_func\u001b[0m\u001b[0;34m,\u001b[0m \u001b[0mcheck_func\u001b[0m\u001b[0;34m)\u001b[0m\u001b[0;34m\u001b[0m\u001b[0;34m\u001b[0m\u001b[0m\n\u001b[0m\u001b[1;32m    668\u001b[0m \u001b[0;34m\u001b[0m\u001b[0m\n\u001b[1;32m    669\u001b[0m     \u001b[0;34m@\u001b[0m\u001b[0mstaticmethod\u001b[0m\u001b[0;34m\u001b[0m\u001b[0;34m\u001b[0m\u001b[0m\n",
            "\u001b[0;32m/anaconda/envs/azureml_py36/lib/python3.6/site-packages/azureml/core/webservice/webservice.py\u001b[0m in \u001b[0;36m_run_validate_framework\u001b[0;34m(request_func, check_func)\u001b[0m\n\u001b[1;32m    636\u001b[0m             \u001b[0;32mreturn\u001b[0m\u001b[0;34m\u001b[0m\u001b[0;34m\u001b[0m\u001b[0m\n\u001b[1;32m    637\u001b[0m \u001b[0;34m\u001b[0m\u001b[0m\n\u001b[0;32m--> 638\u001b[0;31m         \u001b[0;32mraise\u001b[0m \u001b[0mWebserviceException\u001b[0m\u001b[0;34m(\u001b[0m\u001b[0merror\u001b[0m\u001b[0;34m)\u001b[0m\u001b[0;34m\u001b[0m\u001b[0;34m\u001b[0m\u001b[0m\n\u001b[0m\u001b[1;32m    639\u001b[0m \u001b[0;34m\u001b[0m\u001b[0m\n\u001b[1;32m    640\u001b[0m     \u001b[0;34m@\u001b[0m\u001b[0mstaticmethod\u001b[0m\u001b[0;34m\u001b[0m\u001b[0;34m\u001b[0m\u001b[0m\n",
            "\u001b[0;31mWebserviceException\u001b[0m: WebserviceException:\n\tMessage: Service breast-cancer-automl-model with the same name already exists, please use a different service name or delete the existing service.\n\tInnerException None\n\tErrorResponse \n{\n    \"error\": {\n        \"message\": \"Service breast-cancer-automl-model with the same name already exists, please use a different service name or delete the existing service.\"\n    }\n}"
          ]
        }
      ],
      "execution_count": 32,
      "metadata": {
        "gather": {
          "logged": 1598431435189
        },
        "jupyter": {
          "outputs_hidden": false,
          "source_hidden": false
        },
        "nteract": {
          "transient": {
            "deleting": false
          }
        }
      }
    },
    {
      "cell_type": "markdown",
      "source": [
        "TODO: In the cell below, send a request to the web service you deployed to test it."
      ],
      "metadata": {
        "collapsed": true,
        "gather": {
          "logged": 1598431657736
        },
        "jupyter": {
          "outputs_hidden": false,
          "source_hidden": false
        },
        "nteract": {
          "transient": {
            "deleting": false
          }
        }
      }
    },
    {
      "cell_type": "code",
      "source": [],
      "outputs": [],
      "execution_count": null,
      "metadata": {
        "gather": {
          "logged": 1598432707604
        },
        "jupyter": {
          "outputs_hidden": false,
          "source_hidden": false
        },
        "nteract": {
          "transient": {
            "deleting": false
          }
        }
      }
    },
    {
      "cell_type": "markdown",
      "source": [
        "TODO: In the cell below, print the logs of the web service and delete the service"
      ],
      "metadata": {
        "collapsed": true,
        "gather": {
          "logged": 1598432765711
        },
        "jupyter": {
          "outputs_hidden": false,
          "source_hidden": false
        },
        "nteract": {
          "transient": {
            "deleting": false
          }
        }
      }
    },
    {
      "cell_type": "code",
      "source": [],
      "outputs": [],
      "execution_count": null,
      "metadata": {
        "jupyter": {
          "outputs_hidden": false,
          "source_hidden": false
        },
        "nteract": {
          "transient": {
            "deleting": false
          }
        }
      }
    }
  ],
  "metadata": {
    "kernel_info": {
      "name": "python3"
    },
    "kernelspec": {
      "name": "python3",
      "language": "python",
      "display_name": "Python 3"
    },
    "language_info": {
      "name": "python",
      "version": "3.6.9",
      "mimetype": "text/x-python",
      "codemirror_mode": {
        "name": "ipython",
        "version": 3
      },
      "pygments_lexer": "ipython3",
      "nbconvert_exporter": "python",
      "file_extension": ".py"
    },
    "nteract": {
      "version": "nteract-front-end@1.0.0"
    }
  },
  "nbformat": 4,
  "nbformat_minor": 2
}