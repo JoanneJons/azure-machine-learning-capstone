{
 "cells": [
  {
   "cell_type": "markdown",
   "metadata": {},
   "source": [
    "# Automated ML\n",
    "\n",
    "TODO: Import Dependencies. In the cell below, import all the dependencies that you will need to complete the project."
   ]
  },
  {
   "cell_type": "code",
   "execution_count": 1,
   "metadata": {
    "gather": {
     "logged": 1611671748887
    },
    "jupyter": {
     "outputs_hidden": false,
     "source_hidden": false
    },
    "nteract": {
     "transient": {
      "deleting": false
     }
    }
   },
   "outputs": [],
   "source": [
    "from azureml.core import Workspace, Experiment\n",
    "from azureml.widgets import RunDetails\n",
    "from azureml.train.sklearn import SKLearn\n",
    "from azureml.data.dataset_factory import TabularDatasetFactory\n",
    "from train import split_data\n",
    "from sklearn.model_selection import train_test_split\n",
    "from azureml.core import ScriptRunConfig \n",
    "import os"
   ]
  },
  {
   "cell_type": "markdown",
   "metadata": {},
   "source": [
    "## Dataset\n",
    "\n",
    "### Overview\n",
    "For this project, the dataset chosen is the **[Winconsin Breast Cancer](https://www.kaggle.com/uciml/breast-cancer-wisconsin-data)** dataset from Kaggle. There are a total of 32 columns which includes,<br>\n",
    "Attribute information:\n",
    "<ul>\n",
    "    <li>ID Number</li>\n",
    "    <li>Diagnosis (M = malignant, B = benign)</li>\n",
    "</ul>\n",
    "and real-valued features computed from digitized image of a Fine Needle Aspirate of a breast mass and describes the characteristics of the cell nuclei present in the image,\n",
    "<ul>\n",
    "    <li>radius (mean of distances from center to points on the perimeter)</li>\n",
    "    <li>texture (standard deviation of gray-scale values)</li>\n",
    "    <li>perimeter</li>\n",
    "    <li>area</li>\n",
    "    <li>smoothness (local variation in radius lengths) </li>\n",
    "    <li>compactness (perimeter^2 / area - 1.0) </li>\n",
    "    <li>concavity (severity of concave portions of the contour) </li>\n",
    "    <li>concave points (number of concave portions of the contour)</li>\n",
    "    <li>symmetry</li>\n",
    "    <li>fractal dimension (\"coastline approximation\" - 1)</li>\n",
    "</ul>\n",
    "The mean, standard error and \"worst\" or largest (mean of the three\n",
    "largest values) of these features were computed for each image,\n",
    "resulting in 30 features.\n",
    "\n",
    "The task here to classify the given details of the FNA image as malignant or benign and thus a **binary classification** algorithm is required. All the features except the *ID Number* is being used for training the model and the column *diagnosis* is considered as the taget variable. \n",
    "\n",
    "\n",
    "The dataset is accessed from the workspace through this [URL](https://raw.githubusercontent.com/JoanneJons/azure-machine-learning-capstone/main/breast-cancer-dataset.csv?token=AJ5V2OGXYLJ22BGYXN4EUODAC6P4K)"
   ]
  },
  {
   "cell_type": "code",
   "execution_count": 2,
   "metadata": {
    "gather": {
     "logged": 1611671783353
    },
    "jupyter": {
     "outputs_hidden": false,
     "source_hidden": false
    },
    "nteract": {
     "transient": {
      "deleting": false
     }
    }
   },
   "outputs": [
    {
     "name": "stdout",
     "output_type": "stream",
     "text": [
      "Performing interactive authentication. Please follow the instructions on the terminal.\n",
      "To sign in, use a web browser to open the page https://microsoft.com/devicelogin and enter the code F2ZE8NUFZ to authenticate.\n",
      "You have logged in. Now let us find all the subscriptions to which you have access...\n",
      "Interactive authentication successfully completed.\n",
      "Workspace name: quick-starts-ws-136132\n",
      "Azure region: southcentralus\n",
      "Subscription id: 9e65f93e-bdd8-437b-b1e8-0647cd6098f7\n",
      "Resource group: aml-quickstarts-136132\n"
     ]
    }
   ],
   "source": [
    "ws = Workspace.from_config()\n",
    "\n",
    "# choose a name for experiment\n",
    "experiment_name = 'capstone-project-automl'\n",
    "\n",
    "experiment=Experiment(ws, experiment_name)\n",
    "\n",
    "print('Workspace name: ' + ws.name, \n",
    "      'Azure region: ' + ws.location, \n",
    "      'Subscription id: ' + ws.subscription_id, \n",
    "      'Resource group: ' + ws.resource_group, sep = '\\n')\n",
    "\n",
    "web_path = \"https://raw.githubusercontent.com/JoanneJons/azure-machine-learning-capstone/main/breast-cancer-dataset.csv?token=AJ5V2OGXYLJ22BGYXN4EUODAC6P4K\"\n",
    "dataset = TabularDatasetFactory.from_delimited_files(path=web_path)"
   ]
  },
  {
   "cell_type": "code",
   "execution_count": 3,
   "metadata": {
    "collapsed": true,
    "gather": {
     "logged": 1611671825271
    },
    "jupyter": {
     "outputs_hidden": false,
     "source_hidden": false
    },
    "nteract": {
     "transient": {
      "deleting": false
     }
    }
   },
   "outputs": [
    {
     "name": "stdout",
     "output_type": "stream",
     "text": [
      "Creating\n",
      "Succeeded\n",
      "AmlCompute wait for completion finished\n",
      "\n",
      "Minimum number of nodes requested have been provisioned\n"
     ]
    }
   ],
   "source": [
    "from azureml.core.compute import ComputeTarget, AmlCompute\n",
    "from azureml.core.compute_target import ComputeTargetException\n",
    "\n",
    "cpu_cluster_name = \"cpucluster\"\n",
    "try:\n",
    "    cpu_cluster = ComputeTarget(workspace=ws, name=cpu_cluster_name)\n",
    "except ComputeTargetException:\n",
    "    compute_config = AmlCompute.provisioning_configuration(vm_size='STANDARD_D2_V2', max_nodes=4)\n",
    "    cpu_cluster = ComputeTarget.create(ws, cpu_cluster_name, compute_config)\n",
    "cpu_cluster.wait_for_completion(show_output=True)"
   ]
  },
  {
   "cell_type": "code",
   "execution_count": 4,
   "metadata": {
    "collapsed": true,
    "gather": {
     "logged": 1611671837508
    },
    "jupyter": {
     "outputs_hidden": false,
     "source_hidden": false
    },
    "nteract": {
     "transient": {
      "deleting": false
     }
    }
   },
   "outputs": [
    {
     "name": "stderr",
     "output_type": "stream",
     "text": [
      "/anaconda/envs/azureml_py36/lib/python3.6/site-packages/ipykernel_launcher.py:12: SettingWithCopyWarning: \n",
      "A value is trying to be set on a copy of a slice from a DataFrame.\n",
      "Try using .loc[row_indexer,col_indexer] = value instead\n",
      "\n",
      "See the caveats in the documentation: http://pandas.pydata.org/pandas-docs/stable/user_guide/indexing.html#returning-a-view-versus-a-copy\n",
      "  if sys.path[0] == '':\n",
      "/anaconda/envs/azureml_py36/lib/python3.6/site-packages/ipykernel_launcher.py:18: SettingWithCopyWarning: \n",
      "A value is trying to be set on a copy of a slice from a DataFrame.\n",
      "Try using .loc[row_indexer,col_indexer] = value instead\n",
      "\n",
      "See the caveats in the documentation: http://pandas.pydata.org/pandas-docs/stable/user_guide/indexing.html#returning-a-view-versus-a-copy\n"
     ]
    },
    {
     "name": "stdout",
     "output_type": "stream",
     "text": [
      "Uploading an estimated of 2 files\n",
      "Uploading data/test-data.csv\n",
      "Uploaded data/test-data.csv, 1 files out of an estimated total of 2\n",
      "Uploading data/train-data.csv\n",
      "Uploaded data/train-data.csv, 2 files out of an estimated total of 2\n",
      "Uploaded 2 files\n"
     ]
    },
    {
     "data": {
      "text/plain": [
       "$AZUREML_DATAREFERENCE_d915dbd50a414905bda133a94e1bf0c7"
      ]
     },
     "execution_count": 4,
     "metadata": {},
     "output_type": "execute_result"
    }
   ],
   "source": [
    "import pandas as pd\n",
    "x, y = split_data(dataset)\n",
    "\n",
    "X_train, X_test, y_train, y_test = train_test_split(x, y, test_size=0.1, random_state=42)\n",
    "\n",
    "try:\n",
    "    os.makedirs('./data', exist_ok=True)\n",
    "except OSError as error:\n",
    "    print('New directory cannot be created')\n",
    "\n",
    "train_df = X_train\n",
    "train_df['diagnosis'] = y_train\n",
    "\n",
    "train_path = 'data/train-data.csv'\n",
    "train_df.to_csv(train_path)\n",
    "\n",
    "test_df = X_test\n",
    "test_df['diagnosis'] = y_test\n",
    "\n",
    "test_path = 'data/test-data.csv'\n",
    "test_df.to_csv(test_path)\n",
    "\n",
    "datastore = ws.get_default_datastore()\n",
    "datastore.upload(src_dir='data', target_path='data')"
   ]
  },
  {
   "cell_type": "code",
   "execution_count": 5,
   "metadata": {
    "collapsed": true,
    "gather": {
     "logged": 1611671845338
    },
    "jupyter": {
     "outputs_hidden": false,
     "source_hidden": false
    },
    "nteract": {
     "transient": {
      "deleting": false
     }
    }
   },
   "outputs": [],
   "source": [
    "train_data = TabularDatasetFactory.from_delimited_files(path=[(datastore, ('data/train-data.csv'))])\n",
    "test_data = TabularDatasetFactory.from_delimited_files(path=[(datastore, ('data/test-data.csv'))])"
   ]
  },
  {
   "cell_type": "code",
   "execution_count": 6,
   "metadata": {
    "collapsed": true,
    "gather": {
     "logged": 1611671846964
    },
    "jupyter": {
     "outputs_hidden": false,
     "source_hidden": false
    },
    "nteract": {
     "transient": {
      "deleting": false
     }
    }
   },
   "outputs": [
    {
     "data": {
      "text/plain": [
       "{\n",
       "  \"source\": [\n",
       "    \"('workspaceblobstore', 'data/train-data.csv')\"\n",
       "  ],\n",
       "  \"definition\": [\n",
       "    \"GetDatastoreFiles\",\n",
       "    \"ParseDelimited\",\n",
       "    \"DropColumns\",\n",
       "    \"SetColumnTypes\"\n",
       "  ]\n",
       "}"
      ]
     },
     "execution_count": 6,
     "metadata": {},
     "output_type": "execute_result"
    }
   ],
   "source": [
    "train_data"
   ]
  },
  {
   "cell_type": "markdown",
   "metadata": {},
   "source": [
    "## AutoML Configuration\n",
    "\n",
    "For this project, AutoML was configured using an instance of the  `AutoMLConfig` object. The following parameters were set:<br>\n",
    "1. `experiment_timeout_minutes = 30`<br>\n",
    "*Maximum amount of time in minutes that all iterations combined can take before the experiment terminates.*<br>\n",
    "For this project, this has been set as 30 because of the time restrictions of Udacity labs.<br><br>\n",
    "2. `task = 'classification'`<br>\n",
    "*The type of task to run depending on the automated ML problem to solve.*<br>\n",
    "This project handles a binary classification task.<br><br>\n",
    "3. `compute_target=cpu_cluster`<br>\n",
    "*The Azure Machine Learning compute target to run the AutoML experiment on.*<br>For this experiment, a compute cluster called `cpu_cluster` is created before configuring AutoML. This computer cluser is *STANDARD_D2_V2* with a maximum of 4 nodes.<br><br>\n",
    "4. `training_data = train_data`<br>\n",
    "*The training data to be used within the experiment.*<br>Here `train_data` is a TabularDataset loaded from a CSV file.<br><br>\n",
    "5. `primary_metric = 'accuracy'`<br>\n",
    "*The metric that AutoML will optimize for model selection.*<br><br>\n",
    "6. `label_column_name = 'diagnosis'`<br>\n",
    "*The name of the label column.*<br>Here the target column is 'diagnosis' which specifies whether the instance is malignant (1) or benign (0).<br><br>\n",
    "7. `n_cross_validations = 5`<br>\n",
    "*The number of cross validations to perform when user validation data is not specified.*<br><br>"
   ]
  },
  {
   "cell_type": "code",
   "execution_count": 7,
   "metadata": {
    "gather": {
     "logged": 1611671849906
    },
    "jupyter": {
     "outputs_hidden": false,
     "source_hidden": false
    },
    "nteract": {
     "transient": {
      "deleting": false
     }
    }
   },
   "outputs": [],
   "source": [
    "from azureml.train.automl import AutoMLConfig\n",
    "\n",
    "# Define Automl config \n",
    "automl_config = AutoMLConfig(\n",
    "    experiment_timeout_minutes=30,\n",
    "    task='classification',\n",
    "    primary_metric='accuracy',\n",
    "    training_data=train_data,\n",
    "    label_column_name='diagnosis',\n",
    "    n_cross_validations=5,\n",
    "    compute_target=cpu_cluster\n",
    ")"
   ]
  },
  {
   "cell_type": "code",
   "execution_count": 8,
   "metadata": {
    "gather": {
     "logged": 1611674853432
    },
    "jupyter": {
     "outputs_hidden": false,
     "source_hidden": false
    },
    "nteract": {
     "transient": {
      "deleting": false
     }
    }
   },
   "outputs": [
    {
     "name": "stdout",
     "output_type": "stream",
     "text": [
      "Running on remote.\n",
      "No run_configuration provided, running on cpucluster with default configuration\n",
      "Running on remote compute: cpucluster\n",
      "Parent Run ID: AutoML_306a6b47-7940-4c6b-afd5-bcf5eedce08e\n",
      "\n",
      "Current status: FeaturesGeneration. Generating features for the dataset.\n",
      "Current status: DatasetCrossValidationSplit. Generating individually featurized CV splits.\n",
      "Current status: ModelSelection. Beginning model selection.\n",
      "\n",
      "****************************************************************************************************\n",
      "DATA GUARDRAILS: \n",
      "\n",
      "TYPE:         Class balancing detection\n",
      "STATUS:       PASSED\n",
      "DESCRIPTION:  Your inputs were analyzed, and all classes are balanced in your training data.\n",
      "              Learn more about imbalanced data: https://aka.ms/AutomatedMLImbalancedData\n",
      "\n",
      "****************************************************************************************************\n",
      "\n",
      "TYPE:         Missing feature values imputation\n",
      "STATUS:       PASSED\n",
      "DESCRIPTION:  No feature missing values were detected in the training data.\n",
      "              Learn more about missing value imputation: https://aka.ms/AutomatedMLFeaturization\n",
      "\n",
      "****************************************************************************************************\n",
      "\n",
      "TYPE:         High cardinality feature detection\n",
      "STATUS:       PASSED\n",
      "DESCRIPTION:  Your inputs were analyzed, and no high cardinality features were detected.\n",
      "              Learn more about high cardinality feature handling: https://aka.ms/AutomatedMLFeaturization\n",
      "\n",
      "****************************************************************************************************\n",
      "\n",
      "****************************************************************************************************\n",
      "ITERATION: The iteration being evaluated.\n",
      "PIPELINE: A summary description of the pipeline being evaluated.\n",
      "DURATION: Time taken for the current iteration.\n",
      "METRIC: The result of computing score on the fitted pipeline.\n",
      "BEST: The best observed score thus far.\n",
      "****************************************************************************************************\n",
      "\n",
      " ITERATION   PIPELINE                                       DURATION      METRIC      BEST\n",
      "         0   MaxAbsScaler LightGBM                          0:00:46       0.9609    0.9609\n",
      "         1   MaxAbsScaler XGBoostClassifier                 0:00:40       0.9570    0.9609\n",
      "         2   MinMaxScaler RandomForest                      0:01:22       0.9414    0.9609\n",
      "         3   MinMaxScaler RandomForest                      0:01:30       0.9355    0.9609\n",
      "         4   MinMaxScaler RandomForest                      0:01:19       0.9472    0.9609\n",
      "         5   MinMaxScaler SVM                               0:00:45       0.9630    0.9630\n",
      "         6   MaxAbsScaler GradientBoosting                  0:01:24       0.9550    0.9630\n",
      "         7   StandardScalerWrapper RandomForest             0:00:48       0.9375    0.9630\n",
      "         8   SparseNormalizer LightGBM                      0:00:40       0.9493    0.9630\n",
      "         9   SparseNormalizer XGBoostClassifier             0:00:43       0.9434    0.9630\n",
      "        10   StandardScalerWrapper LightGBM                 0:00:42       0.9590    0.9630\n",
      "        11   SparseNormalizer XGBoostClassifier             0:00:50       0.9551    0.9630\n",
      "        12   RobustScaler ExtremeRandomTrees                0:00:49       0.9434    0.9630\n",
      "        13   SparseNormalizer XGBoostClassifier             0:00:50       0.9356    0.9630\n",
      "        14   SparseNormalizer LightGBM                      0:00:42       0.9375    0.9630\n",
      "        15   MinMaxScaler LightGBM                          0:00:46       0.9609    0.9630\n",
      "        16   StandardScalerWrapper XGBoostClassifier        0:00:42       0.9434    0.9630\n",
      "        17   MinMaxScaler ExtremeRandomTrees                0:00:45       0.9414    0.9630\n",
      "        18   RobustScaler LightGBM                          0:00:43       0.9590    0.9630\n",
      "        19   StandardScalerWrapper ExtremeRandomTrees       0:00:50       0.9434    0.9630\n",
      "        20   RobustScaler KNN                               0:00:43       0.9316    0.9630\n",
      "        21   SparseNormalizer RandomForest                  0:00:45       0.9414    0.9630\n",
      "        22   StandardScalerWrapper LogisticRegression       0:00:41       0.9766    0.9766\n",
      "        23   StandardScalerWrapper XGBoostClassifier        0:00:44       0.9609    0.9766\n",
      "        24   SparseNormalizer XGBoostClassifier             0:00:45       0.9649    0.9766\n",
      "        25   TruncatedSVDWrapper LogisticRegression         0:00:42       0.9004    0.9766\n",
      "        26   SparseNormalizer XGBoostClassifier             0:01:01       0.9414    0.9766\n",
      "        27   StandardScalerWrapper RandomForest             0:00:52       0.9453    0.9766\n",
      "        28    VotingEnsemble                                0:01:20       0.9766    0.9766\n",
      "        29    StackEnsemble                                 0:00:36       0.9629    0.9766\n",
      "ERROR: {\n",
      "    \"additional_properties\": {},\n",
      "    \"error\": {\n",
      "        \"additional_properties\": {\n",
      "            \"debugInfo\": null\n",
      "        },\n",
      "        \"code\": \"UserError\",\n",
      "        \"severity\": null,\n",
      "        \"message\": \"There was an error during inter-pod communication\",\n",
      "        \"message_format\": null,\n",
      "        \"message_parameters\": null,\n",
      "        \"reference_code\": null,\n",
      "        \"details_uri\": null,\n",
      "        \"target\": null,\n",
      "        \"details\": [],\n",
      "        \"inner_error\": null\n",
      "    },\n",
      "    \"correlation\": {\n",
      "        \"operation\": null,\n",
      "        \"request\": \"b6a508d6abe4df40\"\n",
      "    },\n",
      "    \"environment\": \"southcentralus\",\n",
      "    \"location\": \"southcentralus\",\n",
      "    \"time\": {},\n",
      "    \"component_name\": \"execution-worker\"\n",
      "}\n"
     ]
    },
    {
     "data": {
      "application/vnd.jupyter.widget-view+json": {
       "model_id": "324cc894cf3e4bbf9ef00ba25a40dbdb",
       "version_major": 2,
       "version_minor": 0
      },
      "text/plain": [
       "_AutoMLWidget(widget_settings={'childWidgetDisplay': 'popup', 'send_telemetry': False, 'log_level': 'INFO', 's…"
      ]
     },
     "metadata": {},
     "output_type": "display_data"
    },
    {
     "data": {
      "application/aml.mini.widget.v1": "{\"status\": \"Completed\", \"workbench_run_details_uri\": \"https://ml.azure.com/experiments/capstone-project-automl/runs/AutoML_306a6b47-7940-4c6b-afd5-bcf5eedce08e?wsid=/subscriptions/9e65f93e-bdd8-437b-b1e8-0647cd6098f7/resourcegroups/aml-quickstarts-136132/workspaces/quick-starts-ws-136132\", \"run_id\": \"AutoML_306a6b47-7940-4c6b-afd5-bcf5eedce08e\", \"run_properties\": {\"run_id\": \"AutoML_306a6b47-7940-4c6b-afd5-bcf5eedce08e\", \"created_utc\": \"2021-01-26T14:37:42.806196Z\", \"properties\": {\"num_iterations\": \"1000\", \"training_type\": \"TrainFull\", \"acquisition_function\": \"EI\", \"primary_metric\": \"accuracy\", \"train_split\": \"0\", \"acquisition_parameter\": \"0\", \"num_cross_validation\": \"5\", \"target\": \"cpucluster\", \"AMLSettingsJsonString\": \"{\\\"path\\\":null,\\\"name\\\":\\\"capstone-project-automl\\\",\\\"subscription_id\\\":\\\"9e65f93e-bdd8-437b-b1e8-0647cd6098f7\\\",\\\"resource_group\\\":\\\"aml-quickstarts-136132\\\",\\\"workspace_name\\\":\\\"quick-starts-ws-136132\\\",\\\"region\\\":\\\"southcentralus\\\",\\\"compute_target\\\":\\\"cpucluster\\\",\\\"spark_service\\\":null,\\\"azure_service\\\":\\\"remote\\\",\\\"many_models\\\":false,\\\"pipeline_fetch_max_batch_size\\\":1,\\\"iterations\\\":1000,\\\"primary_metric\\\":\\\"accuracy\\\",\\\"task_type\\\":\\\"classification\\\",\\\"data_script\\\":null,\\\"validation_size\\\":0.0,\\\"n_cross_validations\\\":5,\\\"y_min\\\":null,\\\"y_max\\\":null,\\\"num_classes\\\":null,\\\"featurization\\\":\\\"auto\\\",\\\"_ignore_package_version_incompatibilities\\\":false,\\\"is_timeseries\\\":false,\\\"max_cores_per_iteration\\\":1,\\\"max_concurrent_iterations\\\":1,\\\"iteration_timeout_minutes\\\":null,\\\"mem_in_mb\\\":null,\\\"enforce_time_on_windows\\\":false,\\\"experiment_timeout_minutes\\\":30,\\\"experiment_exit_score\\\":null,\\\"whitelist_models\\\":null,\\\"blacklist_algos\\\":[\\\"TensorFlowLinearClassifier\\\",\\\"TensorFlowDNN\\\"],\\\"supported_models\\\":[\\\"KNN\\\",\\\"LinearSVM\\\",\\\"DecisionTree\\\",\\\"LogisticRegression\\\",\\\"GradientBoosting\\\",\\\"TensorFlowDNN\\\",\\\"RandomForest\\\",\\\"TensorFlowLinearClassifier\\\",\\\"MultinomialNaiveBayes\\\",\\\"BernoulliNaiveBayes\\\",\\\"XGBoostClassifier\\\",\\\"LightGBM\\\",\\\"AveragedPerceptronClassifier\\\",\\\"ExtremeRandomTrees\\\",\\\"SVM\\\",\\\"SGD\\\"],\\\"auto_blacklist\\\":true,\\\"blacklist_samples_reached\\\":false,\\\"exclude_nan_labels\\\":true,\\\"verbosity\\\":20,\\\"_debug_log\\\":\\\"azureml_automl.log\\\",\\\"show_warnings\\\":false,\\\"model_explainability\\\":true,\\\"service_url\\\":null,\\\"sdk_url\\\":null,\\\"sdk_packages\\\":null,\\\"enable_onnx_compatible_models\\\":false,\\\"enable_split_onnx_featurizer_estimator_models\\\":false,\\\"vm_type\\\":\\\"STANDARD_D2_V2\\\",\\\"telemetry_verbosity\\\":20,\\\"send_telemetry\\\":true,\\\"enable_dnn\\\":false,\\\"scenario\\\":\\\"SDK-1.13.0\\\",\\\"environment_label\\\":null,\\\"force_text_dnn\\\":false,\\\"enable_feature_sweeping\\\":true,\\\"enable_early_stopping\\\":false,\\\"early_stopping_n_iters\\\":10,\\\"metrics\\\":null,\\\"enable_ensembling\\\":true,\\\"enable_stack_ensembling\\\":true,\\\"ensemble_iterations\\\":15,\\\"enable_tf\\\":false,\\\"enable_subsampling\\\":null,\\\"subsample_seed\\\":null,\\\"enable_nimbusml\\\":false,\\\"enable_streaming\\\":false,\\\"force_streaming\\\":false,\\\"track_child_runs\\\":true,\\\"allowed_private_models\\\":[],\\\"label_column_name\\\":\\\"diagnosis\\\",\\\"weight_column_name\\\":null,\\\"cv_split_column_names\\\":null,\\\"enable_local_managed\\\":false,\\\"_local_managed_run_id\\\":null,\\\"cost_mode\\\":1,\\\"lag_length\\\":0,\\\"metric_operation\\\":\\\"maximize\\\",\\\"preprocess\\\":true}\", \"DataPrepJsonString\": \"{\\\\\\\"training_data\\\\\\\": \\\\\\\"{\\\\\\\\\\\\\\\"blocks\\\\\\\\\\\\\\\": [{\\\\\\\\\\\\\\\"id\\\\\\\\\\\\\\\": \\\\\\\\\\\\\\\"8cba299f-f23c-4199-9b28-684537d33036\\\\\\\\\\\\\\\", \\\\\\\\\\\\\\\"type\\\\\\\\\\\\\\\": \\\\\\\\\\\\\\\"Microsoft.DPrep.GetDatastoreFilesBlock\\\\\\\\\\\\\\\", \\\\\\\\\\\\\\\"arguments\\\\\\\\\\\\\\\": {\\\\\\\\\\\\\\\"datastores\\\\\\\\\\\\\\\": [{\\\\\\\\\\\\\\\"datastoreName\\\\\\\\\\\\\\\": \\\\\\\\\\\\\\\"workspaceblobstore\\\\\\\\\\\\\\\", \\\\\\\\\\\\\\\"path\\\\\\\\\\\\\\\": \\\\\\\\\\\\\\\"data/train-data.csv\\\\\\\\\\\\\\\", \\\\\\\\\\\\\\\"resourceGroup\\\\\\\\\\\\\\\": \\\\\\\\\\\\\\\"aml-quickstarts-136132\\\\\\\\\\\\\\\", \\\\\\\\\\\\\\\"subscription\\\\\\\\\\\\\\\": \\\\\\\\\\\\\\\"9e65f93e-bdd8-437b-b1e8-0647cd6098f7\\\\\\\\\\\\\\\", \\\\\\\\\\\\\\\"workspaceName\\\\\\\\\\\\\\\": \\\\\\\\\\\\\\\"quick-starts-ws-136132\\\\\\\\\\\\\\\"}]}, \\\\\\\\\\\\\\\"localData\\\\\\\\\\\\\\\": {}, \\\\\\\\\\\\\\\"isEnabled\\\\\\\\\\\\\\\": true, \\\\\\\\\\\\\\\"name\\\\\\\\\\\\\\\": null, \\\\\\\\\\\\\\\"annotation\\\\\\\\\\\\\\\": null}, {\\\\\\\\\\\\\\\"id\\\\\\\\\\\\\\\": \\\\\\\\\\\\\\\"79dad8ed-fe0a-4d10-b817-041ef10b5cc7\\\\\\\\\\\\\\\", \\\\\\\\\\\\\\\"type\\\\\\\\\\\\\\\": \\\\\\\\\\\\\\\"Microsoft.DPrep.ParseDelimitedBlock\\\\\\\\\\\\\\\", \\\\\\\\\\\\\\\"arguments\\\\\\\\\\\\\\\": {\\\\\\\\\\\\\\\"columnHeadersMode\\\\\\\\\\\\\\\": 3, \\\\\\\\\\\\\\\"fileEncoding\\\\\\\\\\\\\\\": 0, \\\\\\\\\\\\\\\"handleQuotedLineBreaks\\\\\\\\\\\\\\\": false, \\\\\\\\\\\\\\\"preview\\\\\\\\\\\\\\\": false, \\\\\\\\\\\\\\\"separator\\\\\\\\\\\\\\\": \\\\\\\\\\\\\\\",\\\\\\\\\\\\\\\", \\\\\\\\\\\\\\\"skipRows\\\\\\\\\\\\\\\": 0, \\\\\\\\\\\\\\\"skipRowsMode\\\\\\\\\\\\\\\": 0}, \\\\\\\\\\\\\\\"localData\\\\\\\\\\\\\\\": {}, \\\\\\\\\\\\\\\"isEnabled\\\\\\\\\\\\\\\": true, \\\\\\\\\\\\\\\"name\\\\\\\\\\\\\\\": null, \\\\\\\\\\\\\\\"annotation\\\\\\\\\\\\\\\": null}, {\\\\\\\\\\\\\\\"id\\\\\\\\\\\\\\\": \\\\\\\\\\\\\\\"ccf0c05b-75a6-48db-a006-7939f1180497\\\\\\\\\\\\\\\", \\\\\\\\\\\\\\\"type\\\\\\\\\\\\\\\": \\\\\\\\\\\\\\\"Microsoft.DPrep.DropColumnsBlock\\\\\\\\\\\\\\\", \\\\\\\\\\\\\\\"arguments\\\\\\\\\\\\\\\": {\\\\\\\\\\\\\\\"columns\\\\\\\\\\\\\\\": {\\\\\\\\\\\\\\\"type\\\\\\\\\\\\\\\": 0, \\\\\\\\\\\\\\\"details\\\\\\\\\\\\\\\": {\\\\\\\\\\\\\\\"selectedColumns\\\\\\\\\\\\\\\": [\\\\\\\\\\\\\\\"Path\\\\\\\\\\\\\\\"]}}}, \\\\\\\\\\\\\\\"localData\\\\\\\\\\\\\\\": {}, \\\\\\\\\\\\\\\"isEnabled\\\\\\\\\\\\\\\": true, \\\\\\\\\\\\\\\"name\\\\\\\\\\\\\\\": null, \\\\\\\\\\\\\\\"annotation\\\\\\\\\\\\\\\": null}, {\\\\\\\\\\\\\\\"id\\\\\\\\\\\\\\\": \\\\\\\\\\\\\\\"42104931-c6f9-4b0b-9d8d-1ceeff96db49\\\\\\\\\\\\\\\", \\\\\\\\\\\\\\\"type\\\\\\\\\\\\\\\": \\\\\\\\\\\\\\\"Microsoft.DPrep.SetColumnTypesBlock\\\\\\\\\\\\\\\", \\\\\\\\\\\\\\\"arguments\\\\\\\\\\\\\\\": {\\\\\\\\\\\\\\\"columnConversion\\\\\\\\\\\\\\\": [{\\\\\\\\\\\\\\\"column\\\\\\\\\\\\\\\": {\\\\\\\\\\\\\\\"type\\\\\\\\\\\\\\\": 2, \\\\\\\\\\\\\\\"details\\\\\\\\\\\\\\\": {\\\\\\\\\\\\\\\"selectedColumn\\\\\\\\\\\\\\\": \\\\\\\\\\\\\\\"Column1\\\\\\\\\\\\\\\"}}, \\\\\\\\\\\\\\\"typeProperty\\\\\\\\\\\\\\\": 2}, {\\\\\\\\\\\\\\\"column\\\\\\\\\\\\\\\": {\\\\\\\\\\\\\\\"type\\\\\\\\\\\\\\\": 2, \\\\\\\\\\\\\\\"details\\\\\\\\\\\\\\\": {\\\\\\\\\\\\\\\"selectedColumn\\\\\\\\\\\\\\\": \\\\\\\\\\\\\\\"Column1_1\\\\\\\\\\\\\\\"}}, \\\\\\\\\\\\\\\"typeProperty\\\\\\\\\\\\\\\": 2}, {\\\\\\\\\\\\\\\"column\\\\\\\\\\\\\\\": {\\\\\\\\\\\\\\\"type\\\\\\\\\\\\\\\": 2, \\\\\\\\\\\\\\\"details\\\\\\\\\\\\\\\": {\\\\\\\\\\\\\\\"selectedColumn\\\\\\\\\\\\\\\": \\\\\\\\\\\\\\\"radius_mean\\\\\\\\\\\\\\\"}}, \\\\\\\\\\\\\\\"typeProperty\\\\\\\\\\\\\\\": 3}, {\\\\\\\\\\\\\\\"column\\\\\\\\\\\\\\\": {\\\\\\\\\\\\\\\"type\\\\\\\\\\\\\\\": 2, \\\\\\\\\\\\\\\"details\\\\\\\\\\\\\\\": {\\\\\\\\\\\\\\\"selectedColumn\\\\\\\\\\\\\\\": \\\\\\\\\\\\\\\"texture_mean\\\\\\\\\\\\\\\"}}, \\\\\\\\\\\\\\\"typeProperty\\\\\\\\\\\\\\\": 3}, {\\\\\\\\\\\\\\\"column\\\\\\\\\\\\\\\": {\\\\\\\\\\\\\\\"type\\\\\\\\\\\\\\\": 2, \\\\\\\\\\\\\\\"details\\\\\\\\\\\\\\\": {\\\\\\\\\\\\\\\"selectedColumn\\\\\\\\\\\\\\\": \\\\\\\\\\\\\\\"perimeter_mean\\\\\\\\\\\\\\\"}}, \\\\\\\\\\\\\\\"typeProperty\\\\\\\\\\\\\\\": 3}, {\\\\\\\\\\\\\\\"column\\\\\\\\\\\\\\\": {\\\\\\\\\\\\\\\"type\\\\\\\\\\\\\\\": 2, \\\\\\\\\\\\\\\"details\\\\\\\\\\\\\\\": {\\\\\\\\\\\\\\\"selectedColumn\\\\\\\\\\\\\\\": \\\\\\\\\\\\\\\"area_mean\\\\\\\\\\\\\\\"}}, \\\\\\\\\\\\\\\"typeProperty\\\\\\\\\\\\\\\": 3}, {\\\\\\\\\\\\\\\"column\\\\\\\\\\\\\\\": {\\\\\\\\\\\\\\\"type\\\\\\\\\\\\\\\": 2, \\\\\\\\\\\\\\\"details\\\\\\\\\\\\\\\": {\\\\\\\\\\\\\\\"selectedColumn\\\\\\\\\\\\\\\": \\\\\\\\\\\\\\\"smoothness_mean\\\\\\\\\\\\\\\"}}, \\\\\\\\\\\\\\\"typeProperty\\\\\\\\\\\\\\\": 3}, {\\\\\\\\\\\\\\\"column\\\\\\\\\\\\\\\": {\\\\\\\\\\\\\\\"type\\\\\\\\\\\\\\\": 2, \\\\\\\\\\\\\\\"details\\\\\\\\\\\\\\\": {\\\\\\\\\\\\\\\"selectedColumn\\\\\\\\\\\\\\\": \\\\\\\\\\\\\\\"compactness_mean\\\\\\\\\\\\\\\"}}, \\\\\\\\\\\\\\\"typeProperty\\\\\\\\\\\\\\\": 3}, {\\\\\\\\\\\\\\\"column\\\\\\\\\\\\\\\": {\\\\\\\\\\\\\\\"type\\\\\\\\\\\\\\\": 2, \\\\\\\\\\\\\\\"details\\\\\\\\\\\\\\\": {\\\\\\\\\\\\\\\"selectedColumn\\\\\\\\\\\\\\\": \\\\\\\\\\\\\\\"concavity_mean\\\\\\\\\\\\\\\"}}, \\\\\\\\\\\\\\\"typeProperty\\\\\\\\\\\\\\\": 3}, {\\\\\\\\\\\\\\\"column\\\\\\\\\\\\\\\": {\\\\\\\\\\\\\\\"type\\\\\\\\\\\\\\\": 2, \\\\\\\\\\\\\\\"details\\\\\\\\\\\\\\\": {\\\\\\\\\\\\\\\"selectedColumn\\\\\\\\\\\\\\\": \\\\\\\\\\\\\\\"concave points_mean\\\\\\\\\\\\\\\"}}, \\\\\\\\\\\\\\\"typeProperty\\\\\\\\\\\\\\\": 3}, {\\\\\\\\\\\\\\\"column\\\\\\\\\\\\\\\": {\\\\\\\\\\\\\\\"type\\\\\\\\\\\\\\\": 2, \\\\\\\\\\\\\\\"details\\\\\\\\\\\\\\\": {\\\\\\\\\\\\\\\"selectedColumn\\\\\\\\\\\\\\\": \\\\\\\\\\\\\\\"symmetry_mean\\\\\\\\\\\\\\\"}}, \\\\\\\\\\\\\\\"typeProperty\\\\\\\\\\\\\\\": 3}, {\\\\\\\\\\\\\\\"column\\\\\\\\\\\\\\\": {\\\\\\\\\\\\\\\"type\\\\\\\\\\\\\\\": 2, \\\\\\\\\\\\\\\"details\\\\\\\\\\\\\\\": {\\\\\\\\\\\\\\\"selectedColumn\\\\\\\\\\\\\\\": \\\\\\\\\\\\\\\"fractal_dimension_mean\\\\\\\\\\\\\\\"}}, \\\\\\\\\\\\\\\"typeProperty\\\\\\\\\\\\\\\": 3}, {\\\\\\\\\\\\\\\"column\\\\\\\\\\\\\\\": {\\\\\\\\\\\\\\\"type\\\\\\\\\\\\\\\": 2, \\\\\\\\\\\\\\\"details\\\\\\\\\\\\\\\": {\\\\\\\\\\\\\\\"selectedColumn\\\\\\\\\\\\\\\": \\\\\\\\\\\\\\\"radius_se\\\\\\\\\\\\\\\"}}, \\\\\\\\\\\\\\\"typeProperty\\\\\\\\\\\\\\\": 3}, {\\\\\\\\\\\\\\\"column\\\\\\\\\\\\\\\": {\\\\\\\\\\\\\\\"type\\\\\\\\\\\\\\\": 2, \\\\\\\\\\\\\\\"details\\\\\\\\\\\\\\\": {\\\\\\\\\\\\\\\"selectedColumn\\\\\\\\\\\\\\\": \\\\\\\\\\\\\\\"texture_se\\\\\\\\\\\\\\\"}}, \\\\\\\\\\\\\\\"typeProperty\\\\\\\\\\\\\\\": 3}, {\\\\\\\\\\\\\\\"column\\\\\\\\\\\\\\\": {\\\\\\\\\\\\\\\"type\\\\\\\\\\\\\\\": 2, \\\\\\\\\\\\\\\"details\\\\\\\\\\\\\\\": {\\\\\\\\\\\\\\\"selectedColumn\\\\\\\\\\\\\\\": \\\\\\\\\\\\\\\"perimeter_se\\\\\\\\\\\\\\\"}}, \\\\\\\\\\\\\\\"typeProperty\\\\\\\\\\\\\\\": 3}, {\\\\\\\\\\\\\\\"column\\\\\\\\\\\\\\\": {\\\\\\\\\\\\\\\"type\\\\\\\\\\\\\\\": 2, \\\\\\\\\\\\\\\"details\\\\\\\\\\\\\\\": {\\\\\\\\\\\\\\\"selectedColumn\\\\\\\\\\\\\\\": \\\\\\\\\\\\\\\"area_se\\\\\\\\\\\\\\\"}}, \\\\\\\\\\\\\\\"typeProperty\\\\\\\\\\\\\\\": 3}, {\\\\\\\\\\\\\\\"column\\\\\\\\\\\\\\\": {\\\\\\\\\\\\\\\"type\\\\\\\\\\\\\\\": 2, \\\\\\\\\\\\\\\"details\\\\\\\\\\\\\\\": {\\\\\\\\\\\\\\\"selectedColumn\\\\\\\\\\\\\\\": \\\\\\\\\\\\\\\"smoothness_se\\\\\\\\\\\\\\\"}}, \\\\\\\\\\\\\\\"typeProperty\\\\\\\\\\\\\\\": 3}, {\\\\\\\\\\\\\\\"column\\\\\\\\\\\\\\\": {\\\\\\\\\\\\\\\"type\\\\\\\\\\\\\\\": 2, \\\\\\\\\\\\\\\"details\\\\\\\\\\\\\\\": {\\\\\\\\\\\\\\\"selectedColumn\\\\\\\\\\\\\\\": \\\\\\\\\\\\\\\"compactness_se\\\\\\\\\\\\\\\"}}, \\\\\\\\\\\\\\\"typeProperty\\\\\\\\\\\\\\\": 3}, {\\\\\\\\\\\\\\\"column\\\\\\\\\\\\\\\": {\\\\\\\\\\\\\\\"type\\\\\\\\\\\\\\\": 2, \\\\\\\\\\\\\\\"details\\\\\\\\\\\\\\\": {\\\\\\\\\\\\\\\"selectedColumn\\\\\\\\\\\\\\\": \\\\\\\\\\\\\\\"concavity_se\\\\\\\\\\\\\\\"}}, \\\\\\\\\\\\\\\"typeProperty\\\\\\\\\\\\\\\": 3}, {\\\\\\\\\\\\\\\"column\\\\\\\\\\\\\\\": {\\\\\\\\\\\\\\\"type\\\\\\\\\\\\\\\": 2, \\\\\\\\\\\\\\\"details\\\\\\\\\\\\\\\": {\\\\\\\\\\\\\\\"selectedColumn\\\\\\\\\\\\\\\": \\\\\\\\\\\\\\\"concave points_se\\\\\\\\\\\\\\\"}}, \\\\\\\\\\\\\\\"typeProperty\\\\\\\\\\\\\\\": 3}, {\\\\\\\\\\\\\\\"column\\\\\\\\\\\\\\\": {\\\\\\\\\\\\\\\"type\\\\\\\\\\\\\\\": 2, \\\\\\\\\\\\\\\"details\\\\\\\\\\\\\\\": {\\\\\\\\\\\\\\\"selectedColumn\\\\\\\\\\\\\\\": \\\\\\\\\\\\\\\"symmetry_se\\\\\\\\\\\\\\\"}}, \\\\\\\\\\\\\\\"typeProperty\\\\\\\\\\\\\\\": 3}, {\\\\\\\\\\\\\\\"column\\\\\\\\\\\\\\\": {\\\\\\\\\\\\\\\"type\\\\\\\\\\\\\\\": 2, \\\\\\\\\\\\\\\"details\\\\\\\\\\\\\\\": {\\\\\\\\\\\\\\\"selectedColumn\\\\\\\\\\\\\\\": \\\\\\\\\\\\\\\"fractal_dimension_se\\\\\\\\\\\\\\\"}}, \\\\\\\\\\\\\\\"typeProperty\\\\\\\\\\\\\\\": 3}, {\\\\\\\\\\\\\\\"column\\\\\\\\\\\\\\\": {\\\\\\\\\\\\\\\"type\\\\\\\\\\\\\\\": 2, \\\\\\\\\\\\\\\"details\\\\\\\\\\\\\\\": {\\\\\\\\\\\\\\\"selectedColumn\\\\\\\\\\\\\\\": \\\\\\\\\\\\\\\"radius_worst\\\\\\\\\\\\\\\"}}, \\\\\\\\\\\\\\\"typeProperty\\\\\\\\\\\\\\\": 3}, {\\\\\\\\\\\\\\\"column\\\\\\\\\\\\\\\": {\\\\\\\\\\\\\\\"type\\\\\\\\\\\\\\\": 2, \\\\\\\\\\\\\\\"details\\\\\\\\\\\\\\\": {\\\\\\\\\\\\\\\"selectedColumn\\\\\\\\\\\\\\\": \\\\\\\\\\\\\\\"texture_worst\\\\\\\\\\\\\\\"}}, \\\\\\\\\\\\\\\"typeProperty\\\\\\\\\\\\\\\": 3}, {\\\\\\\\\\\\\\\"column\\\\\\\\\\\\\\\": {\\\\\\\\\\\\\\\"type\\\\\\\\\\\\\\\": 2, \\\\\\\\\\\\\\\"details\\\\\\\\\\\\\\\": {\\\\\\\\\\\\\\\"selectedColumn\\\\\\\\\\\\\\\": \\\\\\\\\\\\\\\"perimeter_worst\\\\\\\\\\\\\\\"}}, \\\\\\\\\\\\\\\"typeProperty\\\\\\\\\\\\\\\": 3}, {\\\\\\\\\\\\\\\"column\\\\\\\\\\\\\\\": {\\\\\\\\\\\\\\\"type\\\\\\\\\\\\\\\": 2, \\\\\\\\\\\\\\\"details\\\\\\\\\\\\\\\": {\\\\\\\\\\\\\\\"selectedColumn\\\\\\\\\\\\\\\": \\\\\\\\\\\\\\\"area_worst\\\\\\\\\\\\\\\"}}, \\\\\\\\\\\\\\\"typeProperty\\\\\\\\\\\\\\\": 3}, {\\\\\\\\\\\\\\\"column\\\\\\\\\\\\\\\": {\\\\\\\\\\\\\\\"type\\\\\\\\\\\\\\\": 2, \\\\\\\\\\\\\\\"details\\\\\\\\\\\\\\\": {\\\\\\\\\\\\\\\"selectedColumn\\\\\\\\\\\\\\\": \\\\\\\\\\\\\\\"smoothness_worst\\\\\\\\\\\\\\\"}}, \\\\\\\\\\\\\\\"typeProperty\\\\\\\\\\\\\\\": 3}, {\\\\\\\\\\\\\\\"column\\\\\\\\\\\\\\\": {\\\\\\\\\\\\\\\"type\\\\\\\\\\\\\\\": 2, \\\\\\\\\\\\\\\"details\\\\\\\\\\\\\\\": {\\\\\\\\\\\\\\\"selectedColumn\\\\\\\\\\\\\\\": \\\\\\\\\\\\\\\"compactness_worst\\\\\\\\\\\\\\\"}}, \\\\\\\\\\\\\\\"typeProperty\\\\\\\\\\\\\\\": 3}, {\\\\\\\\\\\\\\\"column\\\\\\\\\\\\\\\": {\\\\\\\\\\\\\\\"type\\\\\\\\\\\\\\\": 2, \\\\\\\\\\\\\\\"details\\\\\\\\\\\\\\\": {\\\\\\\\\\\\\\\"selectedColumn\\\\\\\\\\\\\\\": \\\\\\\\\\\\\\\"concavity_worst\\\\\\\\\\\\\\\"}}, \\\\\\\\\\\\\\\"typeProperty\\\\\\\\\\\\\\\": 3}, {\\\\\\\\\\\\\\\"column\\\\\\\\\\\\\\\": {\\\\\\\\\\\\\\\"type\\\\\\\\\\\\\\\": 2, \\\\\\\\\\\\\\\"details\\\\\\\\\\\\\\\": {\\\\\\\\\\\\\\\"selectedColumn\\\\\\\\\\\\\\\": \\\\\\\\\\\\\\\"concave points_worst\\\\\\\\\\\\\\\"}}, \\\\\\\\\\\\\\\"typeProperty\\\\\\\\\\\\\\\": 3}, {\\\\\\\\\\\\\\\"column\\\\\\\\\\\\\\\": {\\\\\\\\\\\\\\\"type\\\\\\\\\\\\\\\": 2, \\\\\\\\\\\\\\\"details\\\\\\\\\\\\\\\": {\\\\\\\\\\\\\\\"selectedColumn\\\\\\\\\\\\\\\": \\\\\\\\\\\\\\\"symmetry_worst\\\\\\\\\\\\\\\"}}, \\\\\\\\\\\\\\\"typeProperty\\\\\\\\\\\\\\\": 3}, {\\\\\\\\\\\\\\\"column\\\\\\\\\\\\\\\": {\\\\\\\\\\\\\\\"type\\\\\\\\\\\\\\\": 2, \\\\\\\\\\\\\\\"details\\\\\\\\\\\\\\\": {\\\\\\\\\\\\\\\"selectedColumn\\\\\\\\\\\\\\\": \\\\\\\\\\\\\\\"fractal_dimension_worst\\\\\\\\\\\\\\\"}}, \\\\\\\\\\\\\\\"typeProperty\\\\\\\\\\\\\\\": 3}, {\\\\\\\\\\\\\\\"column\\\\\\\\\\\\\\\": {\\\\\\\\\\\\\\\"type\\\\\\\\\\\\\\\": 2, \\\\\\\\\\\\\\\"details\\\\\\\\\\\\\\\": {\\\\\\\\\\\\\\\"selectedColumn\\\\\\\\\\\\\\\": \\\\\\\\\\\\\\\"diagnosis\\\\\\\\\\\\\\\"}}, \\\\\\\\\\\\\\\"typeProperty\\\\\\\\\\\\\\\": 2}]}, \\\\\\\\\\\\\\\"localData\\\\\\\\\\\\\\\": {}, \\\\\\\\\\\\\\\"isEnabled\\\\\\\\\\\\\\\": true, \\\\\\\\\\\\\\\"name\\\\\\\\\\\\\\\": null, \\\\\\\\\\\\\\\"annotation\\\\\\\\\\\\\\\": null}], \\\\\\\\\\\\\\\"inspectors\\\\\\\\\\\\\\\": [], \\\\\\\\\\\\\\\"meta\\\\\\\\\\\\\\\": {\\\\\\\\\\\\\\\"savedDatasetId\\\\\\\\\\\\\\\": \\\\\\\\\\\\\\\"baecebd1-a2c9-4614-9346-949f95fdc704\\\\\\\\\\\\\\\", \\\\\\\\\\\\\\\"datasetType\\\\\\\\\\\\\\\": \\\\\\\\\\\\\\\"tabular\\\\\\\\\\\\\\\", \\\\\\\\\\\\\\\"subscriptionId\\\\\\\\\\\\\\\": \\\\\\\\\\\\\\\"9e65f93e-bdd8-437b-b1e8-0647cd6098f7\\\\\\\\\\\\\\\", \\\\\\\\\\\\\\\"workspaceId\\\\\\\\\\\\\\\": \\\\\\\\\\\\\\\"7deddde9-bb9d-4521-a868-96a81920add3\\\\\\\\\\\\\\\", \\\\\\\\\\\\\\\"workspaceLocation\\\\\\\\\\\\\\\": \\\\\\\\\\\\\\\"southcentralus\\\\\\\\\\\\\\\"}}\\\\\\\", \\\\\\\"activities\\\\\\\": 0}\", \"EnableSubsampling\": null, \"runTemplate\": \"AutoML\", \"azureml.runsource\": \"automl\", \"display_task_type\": \"classification\", \"dependencies_versions\": \"{\\\"azureml-widgets\\\": \\\"1.20.0\\\", \\\"azureml-train\\\": \\\"1.20.0\\\", \\\"azureml-train-restclients-hyperdrive\\\": \\\"1.20.0\\\", \\\"azureml-train-core\\\": \\\"1.20.0\\\", \\\"azureml-train-automl\\\": \\\"1.20.0\\\", \\\"azureml-train-automl-runtime\\\": \\\"1.20.0\\\", \\\"azureml-train-automl-client\\\": \\\"1.20.0\\\", \\\"azureml-tensorboard\\\": \\\"1.20.0\\\", \\\"azureml-telemetry\\\": \\\"1.20.0\\\", \\\"azureml-sdk\\\": \\\"1.20.0\\\", \\\"azureml-samples\\\": \\\"0+unknown\\\", \\\"azureml-pipeline\\\": \\\"1.20.0\\\", \\\"azureml-pipeline-steps\\\": \\\"1.20.0\\\", \\\"azureml-pipeline-core\\\": \\\"1.20.0\\\", \\\"azureml-opendatasets\\\": \\\"1.20.0\\\", \\\"azureml-model-management-sdk\\\": \\\"1.0.1b6.post1\\\", \\\"azureml-mlflow\\\": \\\"1.20.0.post1\\\", \\\"azureml-interpret\\\": \\\"1.20.0\\\", \\\"azureml-explain-model\\\": \\\"1.20.0\\\", \\\"azureml-defaults\\\": \\\"1.20.0\\\", \\\"azureml-dataset-runtime\\\": \\\"1.20.0\\\", \\\"azureml-dataprep\\\": \\\"2.7.3\\\", \\\"azureml-dataprep-rslex\\\": \\\"1.5.0\\\", \\\"azureml-dataprep-native\\\": \\\"27.0.0\\\", \\\"azureml-datadrift\\\": \\\"1.20.0\\\", \\\"azureml-core\\\": \\\"1.20.0\\\", \\\"azureml-contrib-services\\\": \\\"1.20.0\\\", \\\"azureml-contrib-server\\\": \\\"1.20.0\\\", \\\"azureml-contrib-reinforcementlearning\\\": \\\"1.20.0\\\", \\\"azureml-contrib-pipeline-steps\\\": \\\"1.20.0\\\", \\\"azureml-contrib-notebook\\\": \\\"1.20.0\\\", \\\"azureml-contrib-interpret\\\": \\\"1.20.0\\\", \\\"azureml-contrib-gbdt\\\": \\\"1.20.0\\\", \\\"azureml-contrib-fairness\\\": \\\"1.20.0\\\", \\\"azureml-contrib-dataset\\\": \\\"1.20.0\\\", \\\"azureml-cli-common\\\": \\\"1.20.0\\\", \\\"azureml-automl-runtime\\\": \\\"1.20.0\\\", \\\"azureml-automl-core\\\": \\\"1.20.0\\\", \\\"azureml-accel-models\\\": \\\"1.20.0\\\"}\", \"_aml_system_scenario_identification\": \"Remote.Parent\", \"ClientType\": \"SDK\", \"environment_cpu_name\": \"AzureML-AutoML\", \"environment_cpu_label\": \"prod\", \"environment_gpu_name\": \"AzureML-AutoML-GPU\", \"environment_gpu_label\": \"prod\", \"root_attribution\": \"automl\", \"attribution\": \"AutoML\", \"Orchestrator\": \"AutoML\", \"CancelUri\": \"https://southcentralus.experiments.azureml.net/jasmine/v1.0/subscriptions/9e65f93e-bdd8-437b-b1e8-0647cd6098f7/resourceGroups/aml-quickstarts-136132/providers/Microsoft.MachineLearningServices/workspaces/quick-starts-ws-136132/experimentids/b097e271-8d50-41f3-9c9c-d61a9463de7c/cancel/AutoML_306a6b47-7940-4c6b-afd5-bcf5eedce08e\", \"ClientSdkVersion\": \"1.20.0.post1\", \"snapshotId\": \"00000000-0000-0000-0000-000000000000\", \"SetupRunId\": \"AutoML_306a6b47-7940-4c6b-afd5-bcf5eedce08e_setup\", \"SetupRunContainerId\": \"dcid.AutoML_306a6b47-7940-4c6b-afd5-bcf5eedce08e_setup\", \"FeaturizationRunJsonPath\": \"featurizer_container.json\", \"FeaturizationRunId\": \"AutoML_306a6b47-7940-4c6b-afd5-bcf5eedce08e_featurize\", \"ProblemInfoJsonString\": \"{\\\"dataset_num_categorical\\\": 0, \\\"is_sparse\\\": false, \\\"subsampling\\\": false, \\\"dataset_classes\\\": 2, \\\"dataset_features\\\": 32, \\\"dataset_samples\\\": 512, \\\"single_frequency_class_detected\\\": false}\", \"ModelExplainRunId\": \"AutoML_306a6b47-7940-4c6b-afd5-bcf5eedce08e_ModelExplain\"}, \"tags\": {\"model_explain_run\": \"best_run\", \"_aml_system_azureml.automlComponent\": \"AutoML\", \"pipeline_id\": \"\", \"score\": \"\", \"predicted_cost\": \"\", \"fit_time\": \"\", \"training_percent\": \"\", \"iteration\": \"\", \"run_preprocessor\": \"\", \"run_algorithm\": \"\", \"dynamic_whitelisting_iterations\": \"<25>;\", \"automl_best_child_run_id\": \"AutoML_306a6b47-7940-4c6b-afd5-bcf5eedce08e_22\", \"model_explain_best_run_child_id\": \"AutoML_306a6b47-7940-4c6b-afd5-bcf5eedce08e_22\"}, \"end_time_utc\": \"2021-01-26T15:20:11.24408Z\", \"status\": \"Completed\", \"log_files\": {}, \"log_groups\": [], \"run_duration\": \"0:42:28\"}, \"child_runs\": [{\"run_id\": \"AutoML_306a6b47-7940-4c6b-afd5-bcf5eedce08e_0\", \"run_number\": 5, \"metric\": null, \"status\": \"Completed\", \"run_type\": \"azureml.scriptrun\", \"training_percent\": \"100\", \"start_time\": \"2021-01-26T14:46:45.041693Z\", \"end_time\": \"2021-01-26T14:47:30.976476Z\", \"created_time\": \"2021-01-26T14:46:29.878271Z\", \"created_time_dt\": \"2021-01-26T14:46:29.878271Z\", \"duration\": \"0:01:01\", \"iteration\": \"0\", \"goal\": \"accuracy_max\", \"run_name\": \"MaxAbsScaler, LightGBM\", \"run_properties\": \"copy=True\", \"primary_metric\": 0.96093661, \"best_metric\": 0.96093661}, {\"run_id\": \"AutoML_306a6b47-7940-4c6b-afd5-bcf5eedce08e_1\", \"run_number\": 6, \"metric\": null, \"status\": \"Completed\", \"run_type\": \"azureml.scriptrun\", \"training_percent\": \"100\", \"start_time\": \"2021-01-26T14:47:51.776981Z\", \"end_time\": \"2021-01-26T14:48:31.645537Z\", \"created_time\": \"2021-01-26T14:47:32.413464Z\", \"created_time_dt\": \"2021-01-26T14:47:32.413464Z\", \"duration\": \"0:00:59\", \"iteration\": \"1\", \"goal\": \"accuracy_max\", \"run_name\": \"MaxAbsScaler, XGBoostClassifier\", \"run_properties\": \"copy=True\", \"primary_metric\": 0.956996, \"best_metric\": 0.96093661}, {\"run_id\": \"AutoML_306a6b47-7940-4c6b-afd5-bcf5eedce08e_2\", \"run_number\": 7, \"metric\": null, \"status\": \"Completed\", \"run_type\": \"azureml.scriptrun\", \"training_percent\": \"100\", \"start_time\": \"2021-01-26T14:48:46.599358Z\", \"end_time\": \"2021-01-26T14:50:08.375642Z\", \"created_time\": \"2021-01-26T14:48:33.306181Z\", \"created_time_dt\": \"2021-01-26T14:48:33.306181Z\", \"duration\": \"0:01:35\", \"iteration\": \"2\", \"goal\": \"accuracy_max\", \"run_name\": \"MinMaxScaler, RandomForest\", \"run_properties\": \"copy=True, feature_range=(0, 1\", \"primary_metric\": 0.94142395, \"best_metric\": 0.96093661}, {\"run_id\": \"AutoML_306a6b47-7940-4c6b-afd5-bcf5eedce08e_3\", \"run_number\": 8, \"metric\": null, \"status\": \"Completed\", \"run_type\": \"azureml.scriptrun\", \"training_percent\": \"100\", \"start_time\": \"2021-01-26T14:50:25.194979Z\", \"end_time\": \"2021-01-26T14:51:54.853981Z\", \"created_time\": \"2021-01-26T14:50:11.391556Z\", \"created_time_dt\": \"2021-01-26T14:50:11.391556Z\", \"duration\": \"0:01:43\", \"iteration\": \"3\", \"goal\": \"accuracy_max\", \"run_name\": \"MinMaxScaler, RandomForest\", \"run_properties\": \"copy=True, feature_range=(0, 1\", \"primary_metric\": 0.93548449, \"best_metric\": 0.96093661}, {\"run_id\": \"AutoML_306a6b47-7940-4c6b-afd5-bcf5eedce08e_4\", \"run_number\": 9, \"metric\": null, \"status\": \"Completed\", \"run_type\": \"azureml.scriptrun\", \"training_percent\": \"100\", \"start_time\": \"2021-01-26T14:52:10.510118Z\", \"end_time\": \"2021-01-26T14:53:29.772254Z\", \"created_time\": \"2021-01-26T14:51:58.050106Z\", \"created_time_dt\": \"2021-01-26T14:51:58.050106Z\", \"duration\": \"0:01:31\", \"iteration\": \"4\", \"goal\": \"accuracy_max\", \"run_name\": \"MinMaxScaler, RandomForest\", \"run_properties\": \"copy=True, feature_range=(0, 1\", \"primary_metric\": 0.94723015, \"best_metric\": 0.96093661}, {\"run_id\": \"AutoML_306a6b47-7940-4c6b-afd5-bcf5eedce08e_5\", \"run_number\": 10, \"metric\": null, \"status\": \"Completed\", \"run_type\": \"azureml.scriptrun\", \"training_percent\": \"100\", \"start_time\": \"2021-01-26T14:53:44.856996Z\", \"end_time\": \"2021-01-26T14:54:30.135435Z\", \"created_time\": \"2021-01-26T14:53:33.036758Z\", \"created_time_dt\": \"2021-01-26T14:53:33.036758Z\", \"duration\": \"0:00:57\", \"iteration\": \"5\", \"goal\": \"accuracy_max\", \"run_name\": \"MinMaxScaler, SVM\", \"run_properties\": \"copy=True, feature_range=(0, 1\", \"primary_metric\": 0.9629545, \"best_metric\": 0.9629545}, {\"run_id\": \"AutoML_306a6b47-7940-4c6b-afd5-bcf5eedce08e_6\", \"run_number\": 11, \"metric\": null, \"status\": \"Completed\", \"run_type\": \"azureml.scriptrun\", \"training_percent\": \"100\", \"start_time\": \"2021-01-26T14:54:45.66804Z\", \"end_time\": \"2021-01-26T14:56:09.708364Z\", \"created_time\": \"2021-01-26T14:54:32.989348Z\", \"created_time_dt\": \"2021-01-26T14:54:32.989348Z\", \"duration\": \"0:01:36\", \"iteration\": \"6\", \"goal\": \"accuracy_max\", \"run_name\": \"MaxAbsScaler, GradientBoosting\", \"run_properties\": \"copy=True\", \"primary_metric\": 0.95501618, \"best_metric\": 0.9629545}, {\"run_id\": \"AutoML_306a6b47-7940-4c6b-afd5-bcf5eedce08e_7\", \"run_number\": 12, \"metric\": null, \"status\": \"Completed\", \"run_type\": \"azureml.scriptrun\", \"training_percent\": \"100\", \"start_time\": \"2021-01-26T14:56:24.293377Z\", \"end_time\": \"2021-01-26T14:57:12.469235Z\", \"created_time\": \"2021-01-26T14:56:11.804223Z\", \"created_time_dt\": \"2021-01-26T14:56:11.804223Z\", \"duration\": \"0:01:00\", \"iteration\": \"7\", \"goal\": \"accuracy_max\", \"run_name\": \"StandardScalerWrapper, RandomForest\", \"run_properties\": \"<azureml.automl.runtime.shared.model_wrappers.StandardScalerWrapper object at 0x7fc4042319b0\", \"primary_metric\": 0.93746431, \"best_metric\": 0.9629545}, {\"run_id\": \"AutoML_306a6b47-7940-4c6b-afd5-bcf5eedce08e_8\", \"run_number\": 13, \"metric\": null, \"status\": \"Completed\", \"run_type\": \"azureml.scriptrun\", \"training_percent\": \"100\", \"start_time\": \"2021-01-26T14:57:27.59143Z\", \"end_time\": \"2021-01-26T14:58:07.102922Z\", \"created_time\": \"2021-01-26T14:57:15.200259Z\", \"created_time_dt\": \"2021-01-26T14:57:15.200259Z\", \"duration\": \"0:00:51\", \"iteration\": \"8\", \"goal\": \"accuracy_max\", \"run_name\": \"SparseNormalizer, LightGBM\", \"run_properties\": \"<azureml.automl.runtime.shared.model_wrappers.SparseNormalizer object at 0x7f5d4bd5f5c0\", \"primary_metric\": 0.94928612, \"best_metric\": 0.9629545}, {\"run_id\": \"AutoML_306a6b47-7940-4c6b-afd5-bcf5eedce08e_9\", \"run_number\": 14, \"metric\": null, \"status\": \"Completed\", \"run_type\": \"azureml.scriptrun\", \"training_percent\": \"100\", \"start_time\": \"2021-01-26T14:58:22.392753Z\", \"end_time\": \"2021-01-26T14:59:05.167626Z\", \"created_time\": \"2021-01-26T14:58:09.615721Z\", \"created_time_dt\": \"2021-01-26T14:58:09.615721Z\", \"duration\": \"0:00:55\", \"iteration\": \"9\", \"goal\": \"accuracy_max\", \"run_name\": \"SparseNormalizer, XGBoostClassifier\", \"run_properties\": \"<azureml.automl.runtime.shared.model_wrappers.SparseNormalizer object at 0x7f891b081e80\", \"primary_metric\": 0.9433657, \"best_metric\": 0.9629545}, {\"run_id\": \"AutoML_306a6b47-7940-4c6b-afd5-bcf5eedce08e_10\", \"run_number\": 15, \"metric\": null, \"status\": \"Completed\", \"run_type\": \"azureml.scriptrun\", \"training_percent\": \"100\", \"start_time\": \"2021-01-26T14:59:17.734306Z\", \"end_time\": \"2021-01-26T14:59:59.461417Z\", \"created_time\": \"2021-01-26T14:59:07.017753Z\", \"created_time_dt\": \"2021-01-26T14:59:07.017753Z\", \"duration\": \"0:00:52\", \"iteration\": \"10\", \"goal\": \"accuracy_max\", \"run_name\": \"StandardScalerWrapper, LightGBM\", \"run_properties\": \"<azureml.automl.runtime.shared.model_wrappers.StandardScalerWrapper object at 0x7fedb21e64a8\", \"primary_metric\": 0.95895679, \"best_metric\": 0.9629545}, {\"run_id\": \"AutoML_306a6b47-7940-4c6b-afd5-bcf5eedce08e_11\", \"run_number\": 16, \"metric\": null, \"status\": \"Completed\", \"run_type\": \"azureml.scriptrun\", \"training_percent\": \"100\", \"start_time\": \"2021-01-26T15:00:13.427006Z\", \"end_time\": \"2021-01-26T15:01:03.679824Z\", \"created_time\": \"2021-01-26T15:00:01.538628Z\", \"created_time_dt\": \"2021-01-26T15:00:01.538628Z\", \"duration\": \"0:01:02\", \"iteration\": \"11\", \"goal\": \"accuracy_max\", \"run_name\": \"SparseNormalizer, XGBoostClassifier\", \"run_properties\": \"<azureml.automl.runtime.shared.model_wrappers.SparseNormalizer object at 0x7f382776fd30\", \"primary_metric\": 0.95509233, \"best_metric\": 0.9629545}, {\"run_id\": \"AutoML_306a6b47-7940-4c6b-afd5-bcf5eedce08e_12\", \"run_number\": 17, \"metric\": null, \"status\": \"Completed\", \"run_type\": \"azureml.scriptrun\", \"training_percent\": \"100\", \"start_time\": \"2021-01-26T15:01:18.143066Z\", \"end_time\": \"2021-01-26T15:02:07.015422Z\", \"created_time\": \"2021-01-26T15:01:05.742764Z\", \"created_time_dt\": \"2021-01-26T15:01:05.742764Z\", \"duration\": \"0:01:01\", \"iteration\": \"12\", \"goal\": \"accuracy_max\", \"run_name\": \"RobustScaler, ExtremeRandomTrees\", \"run_properties\": \"copy=True, quantile_range=[25, 75], with_centering=True,\\n             with_scaling=False\", \"primary_metric\": 0.94338473, \"best_metric\": 0.9629545}, {\"run_id\": \"AutoML_306a6b47-7940-4c6b-afd5-bcf5eedce08e_13\", \"run_number\": 18, \"metric\": null, \"status\": \"Completed\", \"run_type\": \"azureml.scriptrun\", \"training_percent\": \"100\", \"start_time\": \"2021-01-26T15:02:20.976649Z\", \"end_time\": \"2021-01-26T15:03:11.270847Z\", \"created_time\": \"2021-01-26T15:02:08.973206Z\", \"created_time_dt\": \"2021-01-26T15:02:08.973206Z\", \"duration\": \"0:01:02\", \"iteration\": \"13\", \"goal\": \"accuracy_max\", \"run_name\": \"SparseNormalizer, XGBoostClassifier\", \"run_properties\": \"<azureml.automl.runtime.shared.model_wrappers.SparseNormalizer object at 0x7f133378cf28\", \"primary_metric\": 0.93561774, \"best_metric\": 0.9629545}, {\"run_id\": \"AutoML_306a6b47-7940-4c6b-afd5-bcf5eedce08e_14\", \"run_number\": 19, \"metric\": null, \"status\": \"Completed\", \"run_type\": \"azureml.scriptrun\", \"training_percent\": \"100\", \"start_time\": \"2021-01-26T15:03:23.591112Z\", \"end_time\": \"2021-01-26T15:04:05.302958Z\", \"created_time\": \"2021-01-26T15:03:13.219738Z\", \"created_time_dt\": \"2021-01-26T15:03:13.219738Z\", \"duration\": \"0:00:52\", \"iteration\": \"14\", \"goal\": \"accuracy_max\", \"run_name\": \"SparseNormalizer, LightGBM\", \"run_properties\": \"<azureml.automl.runtime.shared.model_wrappers.SparseNormalizer object at 0x7f7c782a49b0\", \"primary_metric\": 0.93750238, \"best_metric\": 0.9629545}, {\"run_id\": \"AutoML_306a6b47-7940-4c6b-afd5-bcf5eedce08e_15\", \"run_number\": 20, \"metric\": null, \"status\": \"Completed\", \"run_type\": \"azureml.scriptrun\", \"training_percent\": \"100\", \"start_time\": \"2021-01-26T15:04:20.505898Z\", \"end_time\": \"2021-01-26T15:05:06.554631Z\", \"created_time\": \"2021-01-26T15:04:07.856094Z\", \"created_time_dt\": \"2021-01-26T15:04:07.856094Z\", \"duration\": \"0:00:58\", \"iteration\": \"15\", \"goal\": \"accuracy_max\", \"run_name\": \"MinMaxScaler, LightGBM\", \"run_properties\": \"copy=True, feature_range=(0, 1\", \"primary_metric\": 0.96089853, \"best_metric\": 0.9629545}, {\"run_id\": \"AutoML_306a6b47-7940-4c6b-afd5-bcf5eedce08e_16\", \"run_number\": 21, \"metric\": null, \"status\": \"Completed\", \"run_type\": \"azureml.scriptrun\", \"training_percent\": \"100\", \"start_time\": \"2021-01-26T15:05:19.551857Z\", \"end_time\": \"2021-01-26T15:06:01.306791Z\", \"created_time\": \"2021-01-26T15:05:08.899371Z\", \"created_time_dt\": \"2021-01-26T15:05:08.899371Z\", \"duration\": \"0:00:52\", \"iteration\": \"16\", \"goal\": \"accuracy_max\", \"run_name\": \"StandardScalerWrapper, XGBoostClassifier\", \"run_properties\": \"<azureml.automl.runtime.shared.model_wrappers.StandardScalerWrapper object at 0x7f514c196080\", \"primary_metric\": 0.9433657, \"best_metric\": 0.9629545}, {\"run_id\": \"AutoML_306a6b47-7940-4c6b-afd5-bcf5eedce08e_17\", \"run_number\": 22, \"metric\": null, \"status\": \"Completed\", \"run_type\": \"azureml.scriptrun\", \"training_percent\": \"100\", \"start_time\": \"2021-01-26T15:06:14.570006Z\", \"end_time\": \"2021-01-26T15:06:59.558776Z\", \"created_time\": \"2021-01-26T15:06:03.859247Z\", \"created_time_dt\": \"2021-01-26T15:06:03.859247Z\", \"duration\": \"0:00:55\", \"iteration\": \"17\", \"goal\": \"accuracy_max\", \"run_name\": \"MinMaxScaler, ExtremeRandomTrees\", \"run_properties\": \"copy=True, feature_range=(0, 1\", \"primary_metric\": 0.94142395, \"best_metric\": 0.9629545}, {\"run_id\": \"AutoML_306a6b47-7940-4c6b-afd5-bcf5eedce08e_18\", \"run_number\": 23, \"metric\": null, \"status\": \"Completed\", \"run_type\": \"azureml.scriptrun\", \"training_percent\": \"100\", \"start_time\": \"2021-01-26T15:07:13.62395Z\", \"end_time\": \"2021-01-26T15:07:56.270813Z\", \"created_time\": \"2021-01-26T15:07:01.977661Z\", \"created_time_dt\": \"2021-01-26T15:07:01.977661Z\", \"duration\": \"0:00:54\", \"iteration\": \"18\", \"goal\": \"accuracy_max\", \"run_name\": \"RobustScaler, LightGBM\", \"run_properties\": \"copy=True, quantile_range=[25, 75], with_centering=True,\\n             with_scaling=False\", \"primary_metric\": 0.95897582, \"best_metric\": 0.9629545}, {\"run_id\": \"AutoML_306a6b47-7940-4c6b-afd5-bcf5eedce08e_19\", \"run_number\": 24, \"metric\": null, \"status\": \"Completed\", \"run_type\": \"azureml.scriptrun\", \"training_percent\": \"100\", \"start_time\": \"2021-01-26T15:08:41.782777Z\", \"end_time\": \"2021-01-26T15:09:32.224388Z\", \"created_time\": \"2021-01-26T15:07:58.513441Z\", \"created_time_dt\": \"2021-01-26T15:07:58.513441Z\", \"duration\": \"0:01:33\", \"iteration\": \"19\", \"goal\": \"accuracy_max\", \"run_name\": \"StandardScalerWrapper, ExtremeRandomTrees\", \"run_properties\": \"<azureml.automl.runtime.shared.model_wrappers.StandardScalerWrapper object at 0x7fc5047102e8\", \"primary_metric\": 0.9433657, \"best_metric\": 0.9629545}, {\"run_id\": \"AutoML_306a6b47-7940-4c6b-afd5-bcf5eedce08e_20\", \"run_number\": 25, \"metric\": null, \"status\": \"Completed\", \"run_type\": \"azureml.scriptrun\", \"training_percent\": \"100\", \"start_time\": \"2021-01-26T15:09:45.73366Z\", \"end_time\": \"2021-01-26T15:10:29.175161Z\", \"created_time\": \"2021-01-26T15:09:34.079847Z\", \"created_time_dt\": \"2021-01-26T15:09:34.079847Z\", \"duration\": \"0:00:55\", \"iteration\": \"20\", \"goal\": \"accuracy_max\", \"run_name\": \"RobustScaler, KNN\", \"run_properties\": \"copy=True, quantile_range=[25, 75], with_centering=True,\\n             with_scaling=False\", \"primary_metric\": 0.93162003, \"best_metric\": 0.9629545}, {\"run_id\": \"AutoML_306a6b47-7940-4c6b-afd5-bcf5eedce08e_21\", \"run_number\": 26, \"metric\": null, \"status\": \"Completed\", \"run_type\": \"azureml.scriptrun\", \"training_percent\": \"100\", \"start_time\": \"2021-01-26T15:10:40.851406Z\", \"end_time\": \"2021-01-26T15:11:25.439534Z\", \"created_time\": \"2021-01-26T15:10:30.907207Z\", \"created_time_dt\": \"2021-01-26T15:10:30.907207Z\", \"duration\": \"0:00:54\", \"iteration\": \"21\", \"goal\": \"accuracy_max\", \"run_name\": \"SparseNormalizer, RandomForest\", \"run_properties\": \"<azureml.automl.runtime.shared.model_wrappers.SparseNormalizer object at 0x7f1ea34b5278\", \"primary_metric\": 0.94140491, \"best_metric\": 0.9629545}, {\"run_id\": \"AutoML_306a6b47-7940-4c6b-afd5-bcf5eedce08e_22\", \"run_number\": 27, \"metric\": null, \"status\": \"Completed\", \"run_type\": \"azureml.scriptrun\", \"training_percent\": \"100\", \"start_time\": \"2021-01-26T15:11:40.196635Z\", \"end_time\": \"2021-01-26T15:12:20.785367Z\", \"created_time\": \"2021-01-26T15:11:28.128603Z\", \"created_time_dt\": \"2021-01-26T15:11:28.128603Z\", \"duration\": \"0:00:52\", \"iteration\": \"22\", \"goal\": \"accuracy_max\", \"run_name\": \"StandardScalerWrapper, LogisticRegression\", \"run_properties\": \"<azureml.automl.runtime.shared.model_wrappers.StandardScalerWrapper object at 0x7f70386d5898\", \"primary_metric\": 0.97660385, \"best_metric\": 0.97660385}, {\"run_id\": \"AutoML_306a6b47-7940-4c6b-afd5-bcf5eedce08e_23\", \"run_number\": 28, \"metric\": null, \"status\": \"Completed\", \"run_type\": \"azureml.scriptrun\", \"training_percent\": \"100\", \"start_time\": \"2021-01-26T15:12:36.196151Z\", \"end_time\": \"2021-01-26T15:13:20.493642Z\", \"created_time\": \"2021-01-26T15:12:22.947948Z\", \"created_time_dt\": \"2021-01-26T15:12:22.947948Z\", \"duration\": \"0:00:57\", \"iteration\": \"23\", \"goal\": \"accuracy_max\", \"run_name\": \"StandardScalerWrapper, XGBoostClassifier\", \"run_properties\": \"<azureml.automl.runtime.shared.model_wrappers.StandardScalerWrapper object at 0x7f4d82a611d0\", \"primary_metric\": 0.96091757, \"best_metric\": 0.97660385}, {\"run_id\": \"AutoML_306a6b47-7940-4c6b-afd5-bcf5eedce08e_24\", \"run_number\": 29, \"metric\": null, \"status\": \"Completed\", \"run_type\": \"azureml.scriptrun\", \"training_percent\": \"100\", \"start_time\": \"2021-01-26T15:13:33.800132Z\", \"end_time\": \"2021-01-26T15:14:18.475331Z\", \"created_time\": \"2021-01-26T15:13:22.798381Z\", \"created_time_dt\": \"2021-01-26T15:13:22.798381Z\", \"duration\": \"0:00:55\", \"iteration\": \"24\", \"goal\": \"accuracy_max\", \"run_name\": \"SparseNormalizer, XGBoostClassifier\", \"run_properties\": \"<azureml.automl.runtime.shared.model_wrappers.SparseNormalizer object at 0x7fdd69568b38\", \"primary_metric\": 0.96487721, \"best_metric\": 0.97660385}, {\"run_id\": \"AutoML_306a6b47-7940-4c6b-afd5-bcf5eedce08e_25\", \"run_number\": 30, \"metric\": null, \"status\": \"Completed\", \"run_type\": \"azureml.scriptrun\", \"training_percent\": \"100\", \"start_time\": \"2021-01-26T15:14:32.295957Z\", \"end_time\": \"2021-01-26T15:15:14.092107Z\", \"created_time\": \"2021-01-26T15:14:21.298065Z\", \"created_time_dt\": \"2021-01-26T15:14:21.298065Z\", \"duration\": \"0:00:52\", \"iteration\": \"25\", \"goal\": \"accuracy_max\", \"run_name\": \"TruncatedSVDWrapper, LogisticRegression\", \"run_properties\": \"n_components=0.8510526315789474, random_state=None\", \"primary_metric\": 0.90038073, \"best_metric\": 0.97660385}, {\"run_id\": \"AutoML_306a6b47-7940-4c6b-afd5-bcf5eedce08e_26\", \"run_number\": 31, \"metric\": null, \"status\": \"Completed\", \"run_type\": \"azureml.scriptrun\", \"training_percent\": \"100\", \"start_time\": \"2021-01-26T15:15:25.643094Z\", \"end_time\": \"2021-01-26T15:16:26.431048Z\", \"created_time\": \"2021-01-26T15:15:15.788451Z\", \"created_time_dt\": \"2021-01-26T15:15:15.788451Z\", \"duration\": \"0:01:10\", \"iteration\": \"26\", \"goal\": \"accuracy_max\", \"run_name\": \"SparseNormalizer, XGBoostClassifier\", \"run_properties\": \"<azureml.automl.runtime.shared.model_wrappers.SparseNormalizer object at 0x7f492df677b8\", \"primary_metric\": 0.94138587, \"best_metric\": 0.97660385}, {\"run_id\": \"AutoML_306a6b47-7940-4c6b-afd5-bcf5eedce08e_27\", \"run_number\": 32, \"metric\": null, \"status\": \"Completed\", \"run_type\": \"azureml.scriptrun\", \"training_percent\": \"100\", \"start_time\": \"2021-01-26T15:16:41.803131Z\", \"end_time\": \"2021-01-26T15:17:33.630745Z\", \"created_time\": \"2021-01-26T15:16:28.714854Z\", \"created_time_dt\": \"2021-01-26T15:16:28.714854Z\", \"duration\": \"0:01:04\", \"iteration\": \"27\", \"goal\": \"accuracy_max\", \"run_name\": \"StandardScalerWrapper, RandomForest\", \"run_properties\": \"<azureml.automl.runtime.shared.model_wrappers.StandardScalerWrapper object at 0x7facc70fb940\", \"primary_metric\": 0.94526937, \"best_metric\": 0.97660385}, {\"run_id\": \"AutoML_306a6b47-7940-4c6b-afd5-bcf5eedce08e_28\", \"run_number\": 33, \"metric\": null, \"status\": \"Completed\", \"run_type\": \"azureml.scriptrun\", \"training_percent\": \"100\", \"start_time\": \"2021-01-26T15:17:50.992259Z\", \"end_time\": \"2021-01-26T15:19:10.988043Z\", \"created_time\": \"2021-01-26T15:17:36.866292Z\", \"created_time_dt\": \"2021-01-26T15:17:36.866292Z\", \"duration\": \"0:01:34\", \"iteration\": \"28\", \"goal\": \"accuracy_max\", \"run_name\": \"VotingEnsemble\", \"run_properties\": \"classification_labels=None,\\n                              estimators=[('22',\\n                                           Pipeline(memory=None,\\n                                                    steps=[('standardscalerwrapper',\\n                                                            <azureml.automl.runtime.shared.model_wrappers.StandardScalerWrapper object at 0x7f90981c2470>\", \"primary_metric\": 0.97658481, \"best_metric\": 0.97660385}, {\"run_id\": \"AutoML_306a6b47-7940-4c6b-afd5-bcf5eedce08e_29\", \"run_number\": 34, \"metric\": null, \"status\": \"Failed\", \"run_type\": \"azureml.scriptrun\", \"training_percent\": \"100\", \"start_time\": \"2021-01-26T15:19:26.89156Z\", \"end_time\": \"2021-01-26T15:20:03.27378Z\", \"created_time\": \"2021-01-26T15:19:12.718412Z\", \"created_time_dt\": \"2021-01-26T15:19:12.718412Z\", \"duration\": \"0:00:50\", \"iteration\": \"29\", \"goal\": \"accuracy_max\", \"run_name\": \"StackEnsemble\", \"run_properties\": \"base_learners=[('22',\\n                                        Pipeline(memory=None,\\n                                                 steps=[('standardscalerwrapper',\\n                                                         <azureml.automl.runtime.shared.model_wrappers.StandardScalerWrapper object at 0x7f041750e470>\", \"primary_metric\": 0.96291643, \"best_metric\": 0.97660385}], \"children_metrics\": {\"categories\": [0], \"series\": {\"f1_score_micro\": [{\"categories\": [\"0\", \"1\", \"2\", \"3\", \"4\", \"5\", \"6\", \"7\", \"8\", \"9\", \"10\", \"11\", \"12\", \"13\", \"14\", \"15\", \"16\", \"17\", \"18\", \"19\", \"20\", \"21\", \"22\", \"23\", \"24\", \"25\", \"26\", \"27\", \"28\", \"29\"], \"mode\": \"markers\", \"name\": \"f1_score_micro\", \"stepped\": false, \"type\": \"scatter\", \"data\": [0.9609366076527699, 0.956996002284409, 0.9414239482200648, 0.9354844850561583, 0.9472301541976014, 0.9629545021892252, 0.9550161812297736, 0.9374643061107939, 0.9492861222158767, 0.9433656957928802, 0.9589567865981344, 0.9550923281934132, 0.9433847325337903, 0.9356177422425281, 0.9375023795926138, 0.9608985341709501, 0.9433656957928804, 0.9414239482200648, 0.9589758233390444, 0.9433656957928804, 0.9316200266514372, 0.9414049114791547, 0.9766038454216638, 0.9609175709118599, 0.9648772130211307, 0.9003807348181991, 0.9413858747382449, 0.9452693698838758, 0.9765848086807539, 0.9629164287074052]}, {\"categories\": [\"0\", \"1\", \"2\", \"3\", \"4\", \"5\", \"6\", \"7\", \"8\", \"9\", \"10\", \"11\", \"12\", \"13\", \"14\", \"15\", \"16\", \"17\", \"18\", \"19\", \"20\", \"21\", \"22\", \"23\", \"24\", \"25\", \"26\", \"27\", \"28\", \"29\"], \"mode\": \"lines\", \"name\": \"f1_score_micro_max\", \"stepped\": true, \"type\": \"scatter\", \"data\": [0.9609366076527699, 0.9609366076527699, 0.9609366076527699, 0.9609366076527699, 0.9609366076527699, 0.9629545021892252, 0.9629545021892252, 0.9629545021892252, 0.9629545021892252, 0.9629545021892252, 0.9629545021892252, 0.9629545021892252, 0.9629545021892252, 0.9629545021892252, 0.9629545021892252, 0.9629545021892252, 0.9629545021892252, 0.9629545021892252, 0.9629545021892252, 0.9629545021892252, 0.9629545021892252, 0.9629545021892252, 0.9766038454216638, 0.9766038454216638, 0.9766038454216638, 0.9766038454216638, 0.9766038454216638, 0.9766038454216638, 0.9766038454216638, 0.9766038454216638]}], \"f1_score_macro\": [{\"categories\": [\"0\", \"1\", \"2\", \"3\", \"4\", \"5\", \"6\", \"7\", \"8\", \"9\", \"10\", \"11\", \"12\", \"13\", \"14\", \"15\", \"16\", \"17\", \"18\", \"19\", \"20\", \"21\", \"22\", \"23\", \"24\", \"25\", \"26\", \"27\", \"28\", \"29\"], \"mode\": \"markers\", \"name\": \"f1_score_macro\", \"stepped\": false, \"type\": \"scatter\", \"data\": [0.958307137324991, 0.9539374484913745, 0.9363991456216455, 0.9305353487785777, 0.9425079768643572, 0.9599703308686494, 0.9512695208057584, 0.9327250824392191, 0.9452524994804306, 0.9391177295480251, 0.9555586572863403, 0.951817145192124, 0.9392669589136192, 0.9320427358101157, 0.9330026353203639, 0.9581970215516881, 0.9390960774346642, 0.9360562035528996, 0.9558872086757344, 0.9388389321475122, 0.9262018642261707, 0.9380303387485359, 0.9750841082075062, 0.9578108603916021, 0.9621257138887751, 0.8937848316745771, 0.9357192992502409, 0.9410470062798966, 0.9751750161967208, 0.960212356386475]}, {\"categories\": [\"0\", \"1\", \"2\", \"3\", \"4\", \"5\", \"6\", \"7\", \"8\", \"9\", \"10\", \"11\", \"12\", \"13\", \"14\", \"15\", \"16\", \"17\", \"18\", \"19\", \"20\", \"21\", \"22\", \"23\", \"24\", \"25\", \"26\", \"27\", \"28\", \"29\"], \"mode\": \"lines\", \"name\": \"f1_score_macro_max\", \"stepped\": true, \"type\": \"scatter\", \"data\": [0.958307137324991, 0.958307137324991, 0.958307137324991, 0.958307137324991, 0.958307137324991, 0.9599703308686494, 0.9599703308686494, 0.9599703308686494, 0.9599703308686494, 0.9599703308686494, 0.9599703308686494, 0.9599703308686494, 0.9599703308686494, 0.9599703308686494, 0.9599703308686494, 0.9599703308686494, 0.9599703308686494, 0.9599703308686494, 0.9599703308686494, 0.9599703308686494, 0.9599703308686494, 0.9599703308686494, 0.9750841082075062, 0.9750841082075062, 0.9750841082075062, 0.9750841082075062, 0.9750841082075062, 0.9750841082075062, 0.9751750161967208, 0.9751750161967208]}], \"norm_macro_recall\": [{\"categories\": [\"0\", \"1\", \"2\", \"3\", \"4\", \"5\", \"6\", \"7\", \"8\", \"9\", \"10\", \"11\", \"12\", \"13\", \"14\", \"15\", \"16\", \"17\", \"18\", \"19\", \"20\", \"21\", \"22\", \"23\", \"24\", \"25\", \"26\", \"27\", \"28\", \"29\"], \"mode\": \"markers\", \"name\": \"norm_macro_recall\", \"stepped\": false, \"type\": \"scatter\", \"data\": [0.9104547975308872, 0.9023519588344332, 0.8681783265560238, 0.8587746185191378, 0.8861342301588829, 0.9193317803713457, 0.9033992936778891, 0.866266146050075, 0.8848051753113773, 0.874377112131776, 0.9032018417738332, 0.8991088683333015, 0.8758075011766919, 0.8626193287780669, 0.8670970157505355, 0.9226508128613652, 0.8770699293284387, 0.8690819094817936, 0.9106738699238728, 0.8763434370436383, 0.8421328983791678, 0.8735682671226879, 0.9464467381706086, 0.9113138491185773, 0.919540781646852, 0.7907620248887021, 0.8588668544347502, 0.8840777872975594, 0.944217083767041, 0.9186178100417258]}, {\"categories\": [\"0\", \"1\", \"2\", \"3\", \"4\", \"5\", \"6\", \"7\", \"8\", \"9\", \"10\", \"11\", \"12\", \"13\", \"14\", \"15\", \"16\", \"17\", \"18\", \"19\", \"20\", \"21\", \"22\", \"23\", \"24\", \"25\", \"26\", \"27\", \"28\", \"29\"], \"mode\": \"lines\", \"name\": \"norm_macro_recall_max\", \"stepped\": true, \"type\": \"scatter\", \"data\": [0.9104547975308872, 0.9104547975308872, 0.9104547975308872, 0.9104547975308872, 0.9104547975308872, 0.9193317803713457, 0.9193317803713457, 0.9193317803713457, 0.9193317803713457, 0.9193317803713457, 0.9193317803713457, 0.9193317803713457, 0.9193317803713457, 0.9193317803713457, 0.9193317803713457, 0.9226508128613652, 0.9226508128613652, 0.9226508128613652, 0.9226508128613652, 0.9226508128613652, 0.9226508128613652, 0.9226508128613652, 0.9464467381706086, 0.9464467381706086, 0.9464467381706086, 0.9464467381706086, 0.9464467381706086, 0.9464467381706086, 0.9464467381706086, 0.9464467381706086]}], \"weighted_accuracy\": [{\"categories\": [\"0\", \"1\", \"2\", \"3\", \"4\", \"5\", \"6\", \"7\", \"8\", \"9\", \"10\", \"11\", \"12\", \"13\", \"14\", \"15\", \"16\", \"17\", \"18\", \"19\", \"20\", \"21\", \"22\", \"23\", \"24\", \"25\", \"26\", \"27\", \"28\", \"29\"], \"mode\": \"markers\", \"name\": \"weighted_accuracy\", \"stepped\": false, \"type\": \"scatter\", \"data\": [0.9658939322784346, 0.9620815878189631, 0.9475293273622561, 0.940695717206312, 0.9507942150601991, 0.9658464661432309, 0.9581123743418472, 0.9415228902174206, 0.9548680501703366, 0.9484967900413894, 0.9653191914943756, 0.959659339674932, 0.9480206101309276, 0.9391846882434549, 0.9406974781269335, 0.9608298723490918, 0.9475918385457062, 0.9473454811710825, 0.962287118823544, 0.9479056438548795, 0.9405267159413743, 0.9452206939998188, 0.9793635870968995, 0.9655569245798356, 0.9692583444843856, 0.9046443517700276, 0.9511374649496952, 0.9482423520570205, 0.9802750850406774, 0.9661021570040067]}, {\"categories\": [\"0\", \"1\", \"2\", \"3\", \"4\", \"5\", \"6\", \"7\", \"8\", \"9\", \"10\", \"11\", \"12\", \"13\", \"14\", \"15\", \"16\", \"17\", \"18\", \"19\", \"20\", \"21\", \"22\", \"23\", \"24\", \"25\", \"26\", \"27\", \"28\", \"29\"], \"mode\": \"lines\", \"name\": \"weighted_accuracy_max\", \"stepped\": true, \"type\": \"scatter\", \"data\": [0.9658939322784346, 0.9658939322784346, 0.9658939322784346, 0.9658939322784346, 0.9658939322784346, 0.9658939322784346, 0.9658939322784346, 0.9658939322784346, 0.9658939322784346, 0.9658939322784346, 0.9658939322784346, 0.9658939322784346, 0.9658939322784346, 0.9658939322784346, 0.9658939322784346, 0.9658939322784346, 0.9658939322784346, 0.9658939322784346, 0.9658939322784346, 0.9658939322784346, 0.9658939322784346, 0.9658939322784346, 0.9793635870968995, 0.9793635870968995, 0.9793635870968995, 0.9793635870968995, 0.9793635870968995, 0.9793635870968995, 0.9802750850406774, 0.9802750850406774]}], \"accuracy\": [{\"categories\": [\"0\", \"1\", \"2\", \"3\", \"4\", \"5\", \"6\", \"7\", \"8\", \"9\", \"10\", \"11\", \"12\", \"13\", \"14\", \"15\", \"16\", \"17\", \"18\", \"19\", \"20\", \"21\", \"22\", \"23\", \"24\", \"25\", \"26\", \"27\", \"28\", \"29\"], \"mode\": \"markers\", \"name\": \"accuracy\", \"stepped\": false, \"type\": \"scatter\", \"data\": [0.9609366076527699, 0.956996002284409, 0.9414239482200648, 0.9354844850561583, 0.9472301541976014, 0.9629545021892252, 0.9550161812297736, 0.9374643061107939, 0.9492861222158767, 0.9433656957928802, 0.9589567865981344, 0.9550923281934132, 0.9433847325337903, 0.9356177422425281, 0.9375023795926138, 0.9608985341709501, 0.9433656957928804, 0.9414239482200648, 0.9589758233390444, 0.9433656957928804, 0.9316200266514372, 0.9414049114791547, 0.9766038454216638, 0.9609175709118599, 0.9648772130211307, 0.9003807348181991, 0.9413858747382449, 0.9452693698838759, 0.9765848086807539, 0.9629164287074052]}, {\"categories\": [\"0\", \"1\", \"2\", \"3\", \"4\", \"5\", \"6\", \"7\", \"8\", \"9\", \"10\", \"11\", \"12\", \"13\", \"14\", \"15\", \"16\", \"17\", \"18\", \"19\", \"20\", \"21\", \"22\", \"23\", \"24\", \"25\", \"26\", \"27\", \"28\", \"29\"], \"mode\": \"lines\", \"name\": \"accuracy_max\", \"stepped\": true, \"type\": \"scatter\", \"data\": [0.9609366076527699, 0.9609366076527699, 0.9609366076527699, 0.9609366076527699, 0.9609366076527699, 0.9629545021892252, 0.9629545021892252, 0.9629545021892252, 0.9629545021892252, 0.9629545021892252, 0.9629545021892252, 0.9629545021892252, 0.9629545021892252, 0.9629545021892252, 0.9629545021892252, 0.9629545021892252, 0.9629545021892252, 0.9629545021892252, 0.9629545021892252, 0.9629545021892252, 0.9629545021892252, 0.9629545021892252, 0.9766038454216638, 0.9766038454216638, 0.9766038454216638, 0.9766038454216638, 0.9766038454216638, 0.9766038454216638, 0.9766038454216638, 0.9766038454216638]}], \"AUC_micro\": [{\"categories\": [\"0\", \"1\", \"2\", \"3\", \"4\", \"5\", \"6\", \"7\", \"8\", \"9\", \"10\", \"11\", \"12\", \"13\", \"14\", \"15\", \"16\", \"17\", \"18\", \"19\", \"20\", \"21\", \"22\", \"23\", \"24\", \"25\", \"26\", \"27\", \"28\", \"29\"], \"mode\": \"markers\", \"name\": \"AUC_micro\", \"stepped\": false, \"type\": \"scatter\", \"data\": [0.9936016799878555, 0.9914919376158788, 0.9849786007897583, 0.9853817816033908, 0.9892007337534754, 0.9927379272797948, 0.9902450184023641, 0.9870515226692866, 0.9856760755568356, 0.9862459981802573, 0.9900243672458032, 0.9882378000963905, 0.985793180686431, 0.9842924563806585, 0.9872704089500008, 0.9910693948095762, 0.9821415746439743, 0.9869546628762788, 0.9915581512639211, 0.9888588914354562, 0.9688741005339241, 0.9836398835703793, 0.9951805969911802, 0.9921854649681385, 0.9890603192163923, 0.9554913767695009, 0.9785434602851655, 0.9867062448229251, 0.9942914927656942, 0.9920546159131861]}, {\"categories\": [\"0\", \"1\", \"2\", \"3\", \"4\", \"5\", \"6\", \"7\", \"8\", \"9\", \"10\", \"11\", \"12\", \"13\", \"14\", \"15\", \"16\", \"17\", \"18\", \"19\", \"20\", \"21\", \"22\", \"23\", \"24\", \"25\", \"26\", \"27\", \"28\", \"29\"], \"mode\": \"lines\", \"name\": \"AUC_micro_max\", \"stepped\": true, \"type\": \"scatter\", \"data\": [0.9936016799878555, 0.9936016799878555, 0.9936016799878555, 0.9936016799878555, 0.9936016799878555, 0.9936016799878555, 0.9936016799878555, 0.9936016799878555, 0.9936016799878555, 0.9936016799878555, 0.9936016799878555, 0.9936016799878555, 0.9936016799878555, 0.9936016799878555, 0.9936016799878555, 0.9936016799878555, 0.9936016799878555, 0.9936016799878555, 0.9936016799878555, 0.9936016799878555, 0.9936016799878555, 0.9936016799878555, 0.9951805969911802, 0.9951805969911802, 0.9951805969911802, 0.9951805969911802, 0.9951805969911802, 0.9951805969911802, 0.9951805969911802, 0.9951805969911802]}], \"average_precision_score_micro\": [{\"categories\": [\"0\", \"1\", \"2\", \"3\", \"4\", \"5\", \"6\", \"7\", \"8\", \"9\", \"10\", \"11\", \"12\", \"13\", \"14\", \"15\", \"16\", \"17\", \"18\", \"19\", \"20\", \"21\", \"22\", \"23\", \"24\", \"25\", \"26\", \"27\", \"28\", \"29\"], \"mode\": \"markers\", \"name\": \"average_precision_score_micro\", \"stepped\": false, \"type\": \"scatter\", \"data\": [0.9935588817841822, 0.9909562288831083, 0.985323068559594, 0.9859645697674184, 0.9881167197669273, 0.9926229384246181, 0.9896387600621355, 0.9873244492740243, 0.9851140367398129, 0.985009554677785, 0.9896028046084702, 0.9877318900925355, 0.9853584081181245, 0.9831872626147854, 0.9863152504961599, 0.9903365524418384, 0.9783064448007245, 0.9862766505959024, 0.9915169907911213, 0.9891775158446876, 0.9604055296400066, 0.9839360745805145, 0.9951002603938296, 0.9920543219054456, 0.9891775114373269, 0.9559970514754502, 0.9735368601540056, 0.9870152737944295, 0.9935176594095472, 0.9907845265627359]}, {\"categories\": [\"0\", \"1\", \"2\", \"3\", \"4\", \"5\", \"6\", \"7\", \"8\", \"9\", \"10\", \"11\", \"12\", \"13\", \"14\", \"15\", \"16\", \"17\", \"18\", \"19\", \"20\", \"21\", \"22\", \"23\", \"24\", \"25\", \"26\", \"27\", \"28\", \"29\"], \"mode\": \"lines\", \"name\": \"average_precision_score_micro_max\", \"stepped\": true, \"type\": \"scatter\", \"data\": [0.9935588817841822, 0.9935588817841822, 0.9935588817841822, 0.9935588817841822, 0.9935588817841822, 0.9935588817841822, 0.9935588817841822, 0.9935588817841822, 0.9935588817841822, 0.9935588817841822, 0.9935588817841822, 0.9935588817841822, 0.9935588817841822, 0.9935588817841822, 0.9935588817841822, 0.9935588817841822, 0.9935588817841822, 0.9935588817841822, 0.9935588817841822, 0.9935588817841822, 0.9935588817841822, 0.9935588817841822, 0.9951002603938296, 0.9951002603938296, 0.9951002603938296, 0.9951002603938296, 0.9951002603938296, 0.9951002603938296, 0.9951002603938296, 0.9951002603938296]}], \"precision_score_macro\": [{\"categories\": [\"0\", \"1\", \"2\", \"3\", \"4\", \"5\", \"6\", \"7\", \"8\", \"9\", \"10\", \"11\", \"12\", \"13\", \"14\", \"15\", \"16\", \"17\", \"18\", \"19\", \"20\", \"21\", \"22\", \"23\", \"24\", \"25\", \"26\", \"27\", \"28\", \"29\"], \"mode\": \"markers\", \"name\": \"precision_score_macro\", \"stepped\": false, \"type\": \"scatter\", \"data\": [0.963021446360079, 0.9582914961473442, 0.9394473381863995, 0.9327134071971315, 0.9431463372407276, 0.9620335546806136, 0.9529703908700654, 0.9349934563585458, 0.9495344266013582, 0.9417748269729336, 0.9620401140023382, 0.954802135588426, 0.9412791798901565, 0.9336109004863093, 0.9332110376176246, 0.9565364692750842, 0.9412176143124332, 0.9405543825964168, 0.9583327048764895, 0.9421115402902875, 0.9340886489257574, 0.93937892489799, 0.9776508143791128, 0.9618493555006211, 0.9655042306139032, 0.8938274208789452, 0.9438405047107912, 0.9418614162419928, 0.9791588588581079, 0.9623190058857322]}, {\"categories\": [\"0\", \"1\", \"2\", \"3\", \"4\", \"5\", \"6\", \"7\", \"8\", \"9\", \"10\", \"11\", \"12\", \"13\", \"14\", \"15\", \"16\", \"17\", \"18\", \"19\", \"20\", \"21\", \"22\", \"23\", \"24\", \"25\", \"26\", \"27\", \"28\", \"29\"], \"mode\": \"lines\", \"name\": \"precision_score_macro_max\", \"stepped\": true, \"type\": \"scatter\", \"data\": [0.963021446360079, 0.963021446360079, 0.963021446360079, 0.963021446360079, 0.963021446360079, 0.963021446360079, 0.963021446360079, 0.963021446360079, 0.963021446360079, 0.963021446360079, 0.963021446360079, 0.963021446360079, 0.963021446360079, 0.963021446360079, 0.963021446360079, 0.963021446360079, 0.963021446360079, 0.963021446360079, 0.963021446360079, 0.963021446360079, 0.963021446360079, 0.963021446360079, 0.9776508143791128, 0.9776508143791128, 0.9776508143791128, 0.9776508143791128, 0.9776508143791128, 0.9776508143791128, 0.9791588588581079, 0.9791588588581079]}], \"average_precision_score_weighted\": [{\"categories\": [\"0\", \"1\", \"2\", \"3\", \"4\", \"5\", \"6\", \"7\", \"8\", \"9\", \"10\", \"11\", \"12\", \"13\", \"14\", \"15\", \"16\", \"17\", \"18\", \"19\", \"20\", \"21\", \"22\", \"23\", \"24\", \"25\", \"26\", \"27\", \"28\", \"29\"], \"mode\": \"markers\", \"name\": \"average_precision_score_weighted\", \"stepped\": false, \"type\": \"scatter\", \"data\": [0.9935355693911253, 0.9913205972464152, 0.9846390291047602, 0.986777253363529, 0.9886126520567142, 0.992139391797475, 0.9904877360607159, 0.9876684574288787, 0.9858673203471875, 0.9845121908689233, 0.9913559397318972, 0.9885075747597385, 0.9869179869950127, 0.9843139272065897, 0.9870951789270134, 0.9910340791776214, 0.9789828430139398, 0.9877315305811841, 0.9915939574330173, 0.9896663583621945, 0.9596269312430976, 0.9835449637390999, 0.9947365932279706, 0.9920912676995334, 0.9887768728624273, 0.951077368289144, 0.9748807584126078, 0.9867681503814382, 0.9938336476990616, 0.9936804857047352]}, {\"categories\": [\"0\", \"1\", \"2\", \"3\", \"4\", \"5\", \"6\", \"7\", \"8\", \"9\", \"10\", \"11\", \"12\", \"13\", \"14\", \"15\", \"16\", \"17\", \"18\", \"19\", \"20\", \"21\", \"22\", \"23\", \"24\", \"25\", \"26\", \"27\", \"28\", \"29\"], \"mode\": \"lines\", \"name\": \"average_precision_score_weighted_max\", \"stepped\": true, \"type\": \"scatter\", \"data\": [0.9935355693911253, 0.9935355693911253, 0.9935355693911253, 0.9935355693911253, 0.9935355693911253, 0.9935355693911253, 0.9935355693911253, 0.9935355693911253, 0.9935355693911253, 0.9935355693911253, 0.9935355693911253, 0.9935355693911253, 0.9935355693911253, 0.9935355693911253, 0.9935355693911253, 0.9935355693911253, 0.9935355693911253, 0.9935355693911253, 0.9935355693911253, 0.9935355693911253, 0.9935355693911253, 0.9935355693911253, 0.9947365932279706, 0.9947365932279706, 0.9947365932279706, 0.9947365932279706, 0.9947365932279706, 0.9947365932279706, 0.9947365932279706, 0.9947365932279706]}], \"log_loss\": [{\"categories\": [\"0\", \"1\", \"2\", \"3\", \"4\", \"5\", \"6\", \"7\", \"8\", \"9\", \"10\", \"11\", \"12\", \"13\", \"14\", \"15\", \"16\", \"17\", \"18\", \"19\", \"20\", \"21\", \"22\", \"23\", \"24\", \"25\", \"26\", \"27\", \"28\", \"29\"], \"mode\": \"markers\", \"name\": \"log_loss\", \"stepped\": false, \"type\": \"scatter\", \"data\": [0.11545582367750254, 0.10819314486342432, 0.16094363218849908, 0.17399015214910868, 0.20086870989335717, 0.10857904679060396, 0.12041278837472022, 0.15442988002937186, 0.15764306623185975, 0.16431235589750395, 0.13635802123336802, 0.13158334771156874, 0.18559642886522307, 0.30069425330274707, 0.14655599181191697, 0.11152471402181323, 0.29480577486173276, 0.17021409326102652, 0.10928369459530932, 0.17623996710818685, 0.7286664831739278, 0.1860018840256729, 0.0814750340989632, 0.10219263033775854, 0.13755054519601706, 0.2827055751050214, 0.3154024341722826, 0.1531994552021274, 0.08259720777412954, 0.1376414014501396]}, {\"categories\": [\"0\", \"1\", \"2\", \"3\", \"4\", \"5\", \"6\", \"7\", \"8\", \"9\", \"10\", \"11\", \"12\", \"13\", \"14\", \"15\", \"16\", \"17\", \"18\", \"19\", \"20\", \"21\", \"22\", \"23\", \"24\", \"25\", \"26\", \"27\", \"28\", \"29\"], \"mode\": \"lines\", \"name\": \"log_loss_min\", \"stepped\": true, \"type\": \"scatter\", \"data\": [0.11545582367750254, 0.10819314486342432, 0.10819314486342432, 0.10819314486342432, 0.10819314486342432, 0.10819314486342432, 0.10819314486342432, 0.10819314486342432, 0.10819314486342432, 0.10819314486342432, 0.10819314486342432, 0.10819314486342432, 0.10819314486342432, 0.10819314486342432, 0.10819314486342432, 0.10819314486342432, 0.10819314486342432, 0.10819314486342432, 0.10819314486342432, 0.10819314486342432, 0.10819314486342432, 0.10819314486342432, 0.0814750340989632, 0.0814750340989632, 0.0814750340989632, 0.0814750340989632, 0.0814750340989632, 0.0814750340989632, 0.0814750340989632, 0.0814750340989632]}], \"matthews_correlation\": [{\"categories\": [\"0\", \"1\", \"2\", \"3\", \"4\", \"5\", \"6\", \"7\", \"8\", \"9\", \"10\", \"11\", \"12\", \"13\", \"14\", \"15\", \"16\", \"17\", \"18\", \"19\", \"20\", \"21\", \"22\", \"23\", \"24\", \"25\", \"26\", \"27\", \"28\", \"29\"], \"mode\": \"markers\", \"name\": \"matthews_correlation\", \"stepped\": false, \"type\": \"scatter\", \"data\": [0.9181622831293854, 0.9093946164452806, 0.8734816863842253, 0.8620276315993178, 0.8861087315110503, 0.9216499101115779, 0.9045445121486854, 0.867942689749053, 0.8918303116374483, 0.878895856725217, 0.9135118960486563, 0.9042926321291814, 0.8791458772611167, 0.8648403784988984, 0.866741398568832, 0.9177834170370934, 0.8796249026245228, 0.8748837989786604, 0.9135810955076311, 0.8801412135733979, 0.8549369218256697, 0.8761534236384151, 0.9508567247437453, 0.9174348503791243, 0.9252229284978796, 0.7891677632137307, 0.8731093151627298, 0.8837663518675664, 0.9512284020474577, 0.921600839623068]}, {\"categories\": [\"0\", \"1\", \"2\", \"3\", \"4\", \"5\", \"6\", \"7\", \"8\", \"9\", \"10\", \"11\", \"12\", \"13\", \"14\", \"15\", \"16\", \"17\", \"18\", \"19\", \"20\", \"21\", \"22\", \"23\", \"24\", \"25\", \"26\", \"27\", \"28\", \"29\"], \"mode\": \"lines\", \"name\": \"matthews_correlation_max\", \"stepped\": true, \"type\": \"scatter\", \"data\": [0.9181622831293854, 0.9181622831293854, 0.9181622831293854, 0.9181622831293854, 0.9181622831293854, 0.9216499101115779, 0.9216499101115779, 0.9216499101115779, 0.9216499101115779, 0.9216499101115779, 0.9216499101115779, 0.9216499101115779, 0.9216499101115779, 0.9216499101115779, 0.9216499101115779, 0.9216499101115779, 0.9216499101115779, 0.9216499101115779, 0.9216499101115779, 0.9216499101115779, 0.9216499101115779, 0.9216499101115779, 0.9508567247437453, 0.9508567247437453, 0.9508567247437453, 0.9508567247437453, 0.9508567247437453, 0.9508567247437453, 0.9512284020474577, 0.9512284020474577]}], \"recall_score_micro\": [{\"categories\": [\"0\", \"1\", \"2\", \"3\", \"4\", \"5\", \"6\", \"7\", \"8\", \"9\", \"10\", \"11\", \"12\", \"13\", \"14\", \"15\", \"16\", \"17\", \"18\", \"19\", \"20\", \"21\", \"22\", \"23\", \"24\", \"25\", \"26\", \"27\", \"28\", \"29\"], \"mode\": \"markers\", \"name\": \"recall_score_micro\", \"stepped\": false, \"type\": \"scatter\", \"data\": [0.9609366076527699, 0.956996002284409, 0.9414239482200648, 0.9354844850561583, 0.9472301541976014, 0.9629545021892252, 0.9550161812297736, 0.9374643061107939, 0.9492861222158767, 0.9433656957928802, 0.9589567865981344, 0.9550923281934132, 0.9433847325337903, 0.9356177422425281, 0.9375023795926138, 0.9608985341709501, 0.9433656957928804, 0.9414239482200648, 0.9589758233390444, 0.9433656957928804, 0.9316200266514372, 0.9414049114791547, 0.9766038454216638, 0.9609175709118599, 0.9648772130211307, 0.9003807348181991, 0.9413858747382449, 0.9452693698838759, 0.9765848086807539, 0.9629164287074052]}, {\"categories\": [\"0\", \"1\", \"2\", \"3\", \"4\", \"5\", \"6\", \"7\", \"8\", \"9\", \"10\", \"11\", \"12\", \"13\", \"14\", \"15\", \"16\", \"17\", \"18\", \"19\", \"20\", \"21\", \"22\", \"23\", \"24\", \"25\", \"26\", \"27\", \"28\", \"29\"], \"mode\": \"lines\", \"name\": \"recall_score_micro_max\", \"stepped\": true, \"type\": \"scatter\", \"data\": [0.9609366076527699, 0.9609366076527699, 0.9609366076527699, 0.9609366076527699, 0.9609366076527699, 0.9629545021892252, 0.9629545021892252, 0.9629545021892252, 0.9629545021892252, 0.9629545021892252, 0.9629545021892252, 0.9629545021892252, 0.9629545021892252, 0.9629545021892252, 0.9629545021892252, 0.9629545021892252, 0.9629545021892252, 0.9629545021892252, 0.9629545021892252, 0.9629545021892252, 0.9629545021892252, 0.9629545021892252, 0.9766038454216638, 0.9766038454216638, 0.9766038454216638, 0.9766038454216638, 0.9766038454216638, 0.9766038454216638, 0.9766038454216638, 0.9766038454216638]}], \"average_precision_score_macro\": [{\"categories\": [\"0\", \"1\", \"2\", \"3\", \"4\", \"5\", \"6\", \"7\", \"8\", \"9\", \"10\", \"11\", \"12\", \"13\", \"14\", \"15\", \"16\", \"17\", \"18\", \"19\", \"20\", \"21\", \"22\", \"23\", \"24\", \"25\", \"26\", \"27\", \"28\", \"29\"], \"mode\": \"markers\", \"name\": \"average_precision_score_macro\", \"stepped\": false, \"type\": \"scatter\", \"data\": [0.9931680896958175, 0.9909567459320673, 0.9831860383700122, 0.9853450801177764, 0.9879823949646042, 0.9918266864563101, 0.9899192854499145, 0.9865085724410407, 0.9849529914646744, 0.9836274067031991, 0.9909338528273036, 0.9877018711534568, 0.9860505231646828, 0.9833078718167718, 0.9863364770015586, 0.9908118056283751, 0.9784344486299256, 0.9869184053135273, 0.9911266958010359, 0.988657192586927, 0.9576652526262857, 0.9823290276289797, 0.9946068256418524, 0.991571494799216, 0.9878669792926182, 0.9492025393567468, 0.9741776857028375, 0.9855979644389297, 0.9937314038894322, 0.9935053221941079]}, {\"categories\": [\"0\", \"1\", \"2\", \"3\", \"4\", \"5\", \"6\", \"7\", \"8\", \"9\", \"10\", \"11\", \"12\", \"13\", \"14\", \"15\", \"16\", \"17\", \"18\", \"19\", \"20\", \"21\", \"22\", \"23\", \"24\", \"25\", \"26\", \"27\", \"28\", \"29\"], \"mode\": \"lines\", \"name\": \"average_precision_score_macro_max\", \"stepped\": true, \"type\": \"scatter\", \"data\": [0.9931680896958175, 0.9931680896958175, 0.9931680896958175, 0.9931680896958175, 0.9931680896958175, 0.9931680896958175, 0.9931680896958175, 0.9931680896958175, 0.9931680896958175, 0.9931680896958175, 0.9931680896958175, 0.9931680896958175, 0.9931680896958175, 0.9931680896958175, 0.9931680896958175, 0.9931680896958175, 0.9931680896958175, 0.9931680896958175, 0.9931680896958175, 0.9931680896958175, 0.9931680896958175, 0.9931680896958175, 0.9946068256418524, 0.9946068256418524, 0.9946068256418524, 0.9946068256418524, 0.9946068256418524, 0.9946068256418524, 0.9946068256418524, 0.9946068256418524]}], \"AUC_weighted\": [{\"categories\": [\"0\", \"1\", \"2\", \"3\", \"4\", \"5\", \"6\", \"7\", \"8\", \"9\", \"10\", \"11\", \"12\", \"13\", \"14\", \"15\", \"16\", \"17\", \"18\", \"19\", \"20\", \"21\", \"22\", \"23\", \"24\", \"25\", \"26\", \"27\", \"28\", \"29\"], \"mode\": \"markers\", \"name\": \"AUC_weighted\", \"stepped\": false, \"type\": \"scatter\", \"data\": [0.9926974127750643, 0.9906537586866527, 0.9830496378361955, 0.9855708055827632, 0.9879062398300859, 0.9921369601568895, 0.9894643452362946, 0.9861633392010173, 0.984751401661525, 0.9841157470132946, 0.9903738231691019, 0.9873585093665476, 0.985496116294466, 0.9838972017217686, 0.9862157293100872, 0.9903402149012199, 0.9801584407923144, 0.9868984737333731, 0.9907328096692748, 0.9884924310958384, 0.9628677400412242, 0.9816312070215656, 0.994360114016942, 0.9911844184321306, 0.9876184916541872, 0.9469939818285502, 0.9759882064333638, 0.9850384927651146, 0.9936755839194944, 0.9934727456082963]}, {\"categories\": [\"0\", \"1\", \"2\", \"3\", \"4\", \"5\", \"6\", \"7\", \"8\", \"9\", \"10\", \"11\", \"12\", \"13\", \"14\", \"15\", \"16\", \"17\", \"18\", \"19\", \"20\", \"21\", \"22\", \"23\", \"24\", \"25\", \"26\", \"27\", \"28\", \"29\"], \"mode\": \"lines\", \"name\": \"AUC_weighted_max\", \"stepped\": true, \"type\": \"scatter\", \"data\": [0.9926974127750643, 0.9926974127750643, 0.9926974127750643, 0.9926974127750643, 0.9926974127750643, 0.9926974127750643, 0.9926974127750643, 0.9926974127750643, 0.9926974127750643, 0.9926974127750643, 0.9926974127750643, 0.9926974127750643, 0.9926974127750643, 0.9926974127750643, 0.9926974127750643, 0.9926974127750643, 0.9926974127750643, 0.9926974127750643, 0.9926974127750643, 0.9926974127750643, 0.9926974127750643, 0.9926974127750643, 0.994360114016942, 0.994360114016942, 0.994360114016942, 0.994360114016942, 0.994360114016942, 0.994360114016942, 0.994360114016942, 0.994360114016942]}], \"precision_score_micro\": [{\"categories\": [\"0\", \"1\", \"2\", \"3\", \"4\", \"5\", \"6\", \"7\", \"8\", \"9\", \"10\", \"11\", \"12\", \"13\", \"14\", \"15\", \"16\", \"17\", \"18\", \"19\", \"20\", \"21\", \"22\", \"23\", \"24\", \"25\", \"26\", \"27\", \"28\", \"29\"], \"mode\": \"markers\", \"name\": \"precision_score_micro\", \"stepped\": false, \"type\": \"scatter\", \"data\": [0.9609366076527699, 0.956996002284409, 0.9414239482200648, 0.9354844850561583, 0.9472301541976014, 0.9629545021892252, 0.9550161812297736, 0.9374643061107939, 0.9492861222158767, 0.9433656957928802, 0.9589567865981344, 0.9550923281934132, 0.9433847325337903, 0.9356177422425281, 0.9375023795926138, 0.9608985341709501, 0.9433656957928804, 0.9414239482200648, 0.9589758233390444, 0.9433656957928804, 0.9316200266514372, 0.9414049114791547, 0.9766038454216638, 0.9609175709118599, 0.9648772130211307, 0.9003807348181991, 0.9413858747382449, 0.9452693698838759, 0.9765848086807539, 0.9629164287074052]}, {\"categories\": [\"0\", \"1\", \"2\", \"3\", \"4\", \"5\", \"6\", \"7\", \"8\", \"9\", \"10\", \"11\", \"12\", \"13\", \"14\", \"15\", \"16\", \"17\", \"18\", \"19\", \"20\", \"21\", \"22\", \"23\", \"24\", \"25\", \"26\", \"27\", \"28\", \"29\"], \"mode\": \"lines\", \"name\": \"precision_score_micro_max\", \"stepped\": true, \"type\": \"scatter\", \"data\": [0.9609366076527699, 0.9609366076527699, 0.9609366076527699, 0.9609366076527699, 0.9609366076527699, 0.9629545021892252, 0.9629545021892252, 0.9629545021892252, 0.9629545021892252, 0.9629545021892252, 0.9629545021892252, 0.9629545021892252, 0.9629545021892252, 0.9629545021892252, 0.9629545021892252, 0.9629545021892252, 0.9629545021892252, 0.9629545021892252, 0.9629545021892252, 0.9629545021892252, 0.9629545021892252, 0.9629545021892252, 0.9766038454216638, 0.9766038454216638, 0.9766038454216638, 0.9766038454216638, 0.9766038454216638, 0.9766038454216638, 0.9766038454216638, 0.9766038454216638]}], \"f1_score_weighted\": [{\"categories\": [\"0\", \"1\", \"2\", \"3\", \"4\", \"5\", \"6\", \"7\", \"8\", \"9\", \"10\", \"11\", \"12\", \"13\", \"14\", \"15\", \"16\", \"17\", \"18\", \"19\", \"20\", \"21\", \"22\", \"23\", \"24\", \"25\", \"26\", \"27\", \"28\", \"29\"], \"mode\": \"markers\", \"name\": \"f1_score_weighted\", \"stepped\": false, \"type\": \"scatter\", \"data\": [0.9607777793808723, 0.956845311729008, 0.9412763944914138, 0.9353795452725411, 0.9473222995595487, 0.9628708700035183, 0.9550709345143588, 0.9375116562233294, 0.9490330181753974, 0.9431903976817276, 0.9587362002909217, 0.954910179748723, 0.9432846780242142, 0.9356022458473878, 0.9375150270773739, 0.9609725657856714, 0.943417305679221, 0.9412970687506, 0.958949349271202, 0.9432903992559304, 0.9311225867107741, 0.9413640473187712, 0.9765461600697941, 0.9607854261554495, 0.964743486384171, 0.9003656882982514, 0.9408764246588894, 0.9454166852205865, 0.9765135268520808, 0.9628526985147612]}, {\"categories\": [\"0\", \"1\", \"2\", \"3\", \"4\", \"5\", \"6\", \"7\", \"8\", \"9\", \"10\", \"11\", \"12\", \"13\", \"14\", \"15\", \"16\", \"17\", \"18\", \"19\", \"20\", \"21\", \"22\", \"23\", \"24\", \"25\", \"26\", \"27\", \"28\", \"29\"], \"mode\": \"lines\", \"name\": \"f1_score_weighted_max\", \"stepped\": true, \"type\": \"scatter\", \"data\": [0.9607777793808723, 0.9607777793808723, 0.9607777793808723, 0.9607777793808723, 0.9607777793808723, 0.9628708700035183, 0.9628708700035183, 0.9628708700035183, 0.9628708700035183, 0.9628708700035183, 0.9628708700035183, 0.9628708700035183, 0.9628708700035183, 0.9628708700035183, 0.9628708700035183, 0.9628708700035183, 0.9628708700035183, 0.9628708700035183, 0.9628708700035183, 0.9628708700035183, 0.9628708700035183, 0.9628708700035183, 0.9765461600697941, 0.9765461600697941, 0.9765461600697941, 0.9765461600697941, 0.9765461600697941, 0.9765461600697941, 0.9765461600697941, 0.9765461600697941]}], \"precision_score_weighted\": [{\"categories\": [\"0\", \"1\", \"2\", \"3\", \"4\", \"5\", \"6\", \"7\", \"8\", \"9\", \"10\", \"11\", \"12\", \"13\", \"14\", \"15\", \"16\", \"17\", \"18\", \"19\", \"20\", \"21\", \"22\", \"23\", \"24\", \"25\", \"26\", \"27\", \"28\", \"29\"], \"mode\": \"markers\", \"name\": \"precision_score_weighted\", \"stepped\": false, \"type\": \"scatter\", \"data\": [0.962098472920465, 0.9581582580723678, 0.9417622413390753, 0.9361638777956631, 0.9483809059885306, 0.9644596257708093, 0.9569968050627594, 0.9398493437285556, 0.9500174903616572, 0.9436139574659119, 0.9608174389217561, 0.955329039230957, 0.9437636529225081, 0.9362655011334399, 0.9382477386064334, 0.9623487070621792, 0.9447572424978696, 0.9437400205003467, 0.9606439251196537, 0.945558224656517, 0.9329948960659097, 0.9414065686558111, 0.977163754271525, 0.9624161994203915, 0.9655360021945405, 0.9019144171748241, 0.9418938453206309, 0.9470643487074973, 0.977288111348431, 0.9639471224463827]}, {\"categories\": [\"0\", \"1\", \"2\", \"3\", \"4\", \"5\", \"6\", \"7\", \"8\", \"9\", \"10\", \"11\", \"12\", \"13\", \"14\", \"15\", \"16\", \"17\", \"18\", \"19\", \"20\", \"21\", \"22\", \"23\", \"24\", \"25\", \"26\", \"27\", \"28\", \"29\"], \"mode\": \"lines\", \"name\": \"precision_score_weighted_max\", \"stepped\": true, \"type\": \"scatter\", \"data\": [0.962098472920465, 0.962098472920465, 0.962098472920465, 0.962098472920465, 0.962098472920465, 0.9644596257708093, 0.9644596257708093, 0.9644596257708093, 0.9644596257708093, 0.9644596257708093, 0.9644596257708093, 0.9644596257708093, 0.9644596257708093, 0.9644596257708093, 0.9644596257708093, 0.9644596257708093, 0.9644596257708093, 0.9644596257708093, 0.9644596257708093, 0.9644596257708093, 0.9644596257708093, 0.9644596257708093, 0.977163754271525, 0.977163754271525, 0.977163754271525, 0.977163754271525, 0.977163754271525, 0.977163754271525, 0.977288111348431, 0.977288111348431]}], \"recall_score_weighted\": [{\"categories\": [\"0\", \"1\", \"2\", \"3\", \"4\", \"5\", \"6\", \"7\", \"8\", \"9\", \"10\", \"11\", \"12\", \"13\", \"14\", \"15\", \"16\", \"17\", \"18\", \"19\", \"20\", \"21\", \"22\", \"23\", \"24\", \"25\", \"26\", \"27\", \"28\", \"29\"], \"mode\": \"markers\", \"name\": \"recall_score_weighted\", \"stepped\": false, \"type\": \"scatter\", \"data\": [0.9609366076527699, 0.956996002284409, 0.9414239482200648, 0.9354844850561583, 0.9472301541976014, 0.9629545021892252, 0.9550161812297736, 0.9374643061107939, 0.9492861222158767, 0.9433656957928802, 0.9589567865981344, 0.9550923281934132, 0.9433847325337903, 0.9356177422425281, 0.9375023795926138, 0.9608985341709501, 0.9433656957928804, 0.9414239482200648, 0.9589758233390444, 0.9433656957928804, 0.9316200266514372, 0.9414049114791547, 0.9766038454216638, 0.9609175709118599, 0.9648772130211307, 0.9003807348181991, 0.9413858747382449, 0.9452693698838759, 0.9765848086807539, 0.9629164287074052]}, {\"categories\": [\"0\", \"1\", \"2\", \"3\", \"4\", \"5\", \"6\", \"7\", \"8\", \"9\", \"10\", \"11\", \"12\", \"13\", \"14\", \"15\", \"16\", \"17\", \"18\", \"19\", \"20\", \"21\", \"22\", \"23\", \"24\", \"25\", \"26\", \"27\", \"28\", \"29\"], \"mode\": \"lines\", \"name\": \"recall_score_weighted_max\", \"stepped\": true, \"type\": \"scatter\", \"data\": [0.9609366076527699, 0.9609366076527699, 0.9609366076527699, 0.9609366076527699, 0.9609366076527699, 0.9629545021892252, 0.9629545021892252, 0.9629545021892252, 0.9629545021892252, 0.9629545021892252, 0.9629545021892252, 0.9629545021892252, 0.9629545021892252, 0.9629545021892252, 0.9629545021892252, 0.9629545021892252, 0.9629545021892252, 0.9629545021892252, 0.9629545021892252, 0.9629545021892252, 0.9629545021892252, 0.9629545021892252, 0.9766038454216638, 0.9766038454216638, 0.9766038454216638, 0.9766038454216638, 0.9766038454216638, 0.9766038454216638, 0.9766038454216638, 0.9766038454216638]}], \"recall_score_macro\": [{\"categories\": [\"0\", \"1\", \"2\", \"3\", \"4\", \"5\", \"6\", \"7\", \"8\", \"9\", \"10\", \"11\", \"12\", \"13\", \"14\", \"15\", \"16\", \"17\", \"18\", \"19\", \"20\", \"21\", \"22\", \"23\", \"24\", \"25\", \"26\", \"27\", \"28\", \"29\"], \"mode\": \"markers\", \"name\": \"recall_score_macro\", \"stepped\": false, \"type\": \"scatter\", \"data\": [0.9552273987654436, 0.9511759794172165, 0.934089163278012, 0.9293873092595689, 0.9430671150794415, 0.9596658901856727, 0.9516996468389447, 0.9331330730250376, 0.9424025876556886, 0.937188556065888, 0.9516009208869167, 0.9495544341666508, 0.9379037505883459, 0.9313096643890335, 0.9335485078752678, 0.9613254064306826, 0.9385349646642194, 0.9345409547408969, 0.9553369349619365, 0.9381717185218189, 0.9210664491895839, 0.9367841335613439, 0.9732233690853043, 0.9556569245592886, 0.9597703908234261, 0.8953810124443511, 0.9294334272173751, 0.9420388936487797, 0.9721085418835205, 0.959308905020863]}, {\"categories\": [\"0\", \"1\", \"2\", \"3\", \"4\", \"5\", \"6\", \"7\", \"8\", \"9\", \"10\", \"11\", \"12\", \"13\", \"14\", \"15\", \"16\", \"17\", \"18\", \"19\", \"20\", \"21\", \"22\", \"23\", \"24\", \"25\", \"26\", \"27\", \"28\", \"29\"], \"mode\": \"lines\", \"name\": \"recall_score_macro_max\", \"stepped\": true, \"type\": \"scatter\", \"data\": [0.9552273987654436, 0.9552273987654436, 0.9552273987654436, 0.9552273987654436, 0.9552273987654436, 0.9596658901856727, 0.9596658901856727, 0.9596658901856727, 0.9596658901856727, 0.9596658901856727, 0.9596658901856727, 0.9596658901856727, 0.9596658901856727, 0.9596658901856727, 0.9596658901856727, 0.9613254064306826, 0.9613254064306826, 0.9613254064306826, 0.9613254064306826, 0.9613254064306826, 0.9613254064306826, 0.9613254064306826, 0.9732233690853043, 0.9732233690853043, 0.9732233690853043, 0.9732233690853043, 0.9732233690853043, 0.9732233690853043, 0.9732233690853043, 0.9732233690853043]}], \"balanced_accuracy\": [{\"categories\": [\"0\", \"1\", \"2\", \"3\", \"4\", \"5\", \"6\", \"7\", \"8\", \"9\", \"10\", \"11\", \"12\", \"13\", \"14\", \"15\", \"16\", \"17\", \"18\", \"19\", \"20\", \"21\", \"22\", \"23\", \"24\", \"25\", \"26\", \"27\", \"28\", \"29\"], \"mode\": \"markers\", \"name\": \"balanced_accuracy\", \"stepped\": false, \"type\": \"scatter\", \"data\": [0.9552273987654436, 0.9511759794172165, 0.934089163278012, 0.9293873092595689, 0.9430671150794415, 0.9596658901856727, 0.9516996468389447, 0.9331330730250376, 0.9424025876556886, 0.937188556065888, 0.9516009208869167, 0.9495544341666508, 0.9379037505883459, 0.9313096643890335, 0.9335485078752678, 0.9613254064306826, 0.9385349646642194, 0.9345409547408969, 0.9553369349619365, 0.9381717185218189, 0.9210664491895839, 0.9367841335613439, 0.9732233690853043, 0.9556569245592886, 0.9597703908234261, 0.8953810124443511, 0.9294334272173751, 0.9420388936487797, 0.9721085418835205, 0.959308905020863]}, {\"categories\": [\"0\", \"1\", \"2\", \"3\", \"4\", \"5\", \"6\", \"7\", \"8\", \"9\", \"10\", \"11\", \"12\", \"13\", \"14\", \"15\", \"16\", \"17\", \"18\", \"19\", \"20\", \"21\", \"22\", \"23\", \"24\", \"25\", \"26\", \"27\", \"28\", \"29\"], \"mode\": \"lines\", \"name\": \"balanced_accuracy_max\", \"stepped\": true, \"type\": \"scatter\", \"data\": [0.9552273987654436, 0.9552273987654436, 0.9552273987654436, 0.9552273987654436, 0.9552273987654436, 0.9596658901856727, 0.9596658901856727, 0.9596658901856727, 0.9596658901856727, 0.9596658901856727, 0.9596658901856727, 0.9596658901856727, 0.9596658901856727, 0.9596658901856727, 0.9596658901856727, 0.9613254064306826, 0.9613254064306826, 0.9613254064306826, 0.9613254064306826, 0.9613254064306826, 0.9613254064306826, 0.9613254064306826, 0.9732233690853043, 0.9732233690853043, 0.9732233690853043, 0.9732233690853043, 0.9732233690853043, 0.9732233690853043, 0.9732233690853043, 0.9732233690853043]}], \"AUC_macro\": [{\"categories\": [\"0\", \"1\", \"2\", \"3\", \"4\", \"5\", \"6\", \"7\", \"8\", \"9\", \"10\", \"11\", \"12\", \"13\", \"14\", \"15\", \"16\", \"17\", \"18\", \"19\", \"20\", \"21\", \"22\", \"23\", \"24\", \"25\", \"26\", \"27\", \"28\", \"29\"], \"mode\": \"markers\", \"name\": \"AUC_macro\", \"stepped\": false, \"type\": \"scatter\", \"data\": [0.9926974127750643, 0.9906537586866527, 0.9830413220098648, 0.9855708055827632, 0.9879062398300856, 0.9921369601568895, 0.9894643452362946, 0.9861633392010172, 0.9847514016615249, 0.9841157470132945, 0.9903738231691019, 0.9873585093665476, 0.985496116294466, 0.9838972017217686, 0.9862157293100872, 0.9903402149012199, 0.9801584407923146, 0.9868984737333729, 0.9907328096692748, 0.9884924310958384, 0.9628677400412242, 0.9816312070215654, 0.994360114016942, 0.9911844184321306, 0.9876184916541872, 0.9469939818285503, 0.9759882064333638, 0.9850384927651146, 0.9936755839194944, 0.9934727456082963]}, {\"categories\": [\"0\", \"1\", \"2\", \"3\", \"4\", \"5\", \"6\", \"7\", \"8\", \"9\", \"10\", \"11\", \"12\", \"13\", \"14\", \"15\", \"16\", \"17\", \"18\", \"19\", \"20\", \"21\", \"22\", \"23\", \"24\", \"25\", \"26\", \"27\", \"28\", \"29\"], \"mode\": \"lines\", \"name\": \"AUC_macro_max\", \"stepped\": true, \"type\": \"scatter\", \"data\": [0.9926974127750643, 0.9926974127750643, 0.9926974127750643, 0.9926974127750643, 0.9926974127750643, 0.9926974127750643, 0.9926974127750643, 0.9926974127750643, 0.9926974127750643, 0.9926974127750643, 0.9926974127750643, 0.9926974127750643, 0.9926974127750643, 0.9926974127750643, 0.9926974127750643, 0.9926974127750643, 0.9926974127750643, 0.9926974127750643, 0.9926974127750643, 0.9926974127750643, 0.9926974127750643, 0.9926974127750643, 0.994360114016942, 0.994360114016942, 0.994360114016942, 0.994360114016942, 0.994360114016942, 0.994360114016942, 0.994360114016942, 0.994360114016942]}]}, \"metricName\": null, \"primaryMetricName\": \"accuracy\", \"showLegend\": false}, \"run_metrics\": [{\"name\": \"experiment_status\", \"run_id\": \"AutoML_306a6b47-7940-4c6b-afd5-bcf5eedce08e\", \"categories\": [0, 1, 2, 3, 4, 5, 6, 7, 8, 9, 10, 11, 12, 13], \"series\": [{\"data\": [\"DatasetEvaluation\", \"FeaturesGeneration\", \"DatasetFeaturization\", \"DatasetFeaturizationCompleted\", \"DatasetCrossValidationSplit\", \"ModelSelection\", \"BestRunExplainModel\", \"ModelExplanationDataSetSetup\", \"PickSurrogateModel\", \"EngineeredFeatureExplanations\", \"EngineeredFeatureExplanations\", \"RawFeaturesExplanations\", \"RawFeaturesExplanations\", \"BestRunExplainModel\"]}]}, {\"name\": \"experiment_status_description\", \"run_id\": \"AutoML_306a6b47-7940-4c6b-afd5-bcf5eedce08e\", \"categories\": [0, 1, 2, 3, 4, 5, 6, 7, 8, 9, 10, 11, 12, 13], \"series\": [{\"data\": [\"Gathering dataset statistics.\", \"Generating features for the dataset.\", \"Beginning to fit featurizers and featurize the dataset.\", \"Completed fit featurizers and featurizing the dataset.\", \"Generating individually featurized CV splits.\", \"Beginning model selection.\", \"Best run model explanations started\", \"Model explanations data setup completed\", \"Choosing LightGBM as the surrogate model for explanations\", \"Computation of engineered features started\", \"Computation of engineered features completed\", \"Computation of raw features started\", \"Computation of raw features completed\", \"Best run model explanations completed\"]}]}, {\"name\": \"AUC_weighted\", \"run_id\": \"AutoML_306a6b47-7940-4c6b-afd5-bcf5eedce08e\", \"categories\": [0], \"series\": [{\"data\": [0.994360114016942]}]}, {\"name\": \"precision_score_micro\", \"run_id\": \"AutoML_306a6b47-7940-4c6b-afd5-bcf5eedce08e\", \"categories\": [0], \"series\": [{\"data\": [0.9766038454216638]}]}, {\"name\": \"recall_score_weighted\", \"run_id\": \"AutoML_306a6b47-7940-4c6b-afd5-bcf5eedce08e\", \"categories\": [0], \"series\": [{\"data\": [0.9766038454216638]}]}, {\"name\": \"log_loss\", \"run_id\": \"AutoML_306a6b47-7940-4c6b-afd5-bcf5eedce08e\", \"categories\": [0], \"series\": [{\"data\": [0.0814750340989632]}]}, {\"name\": \"precision_score_weighted\", \"run_id\": \"AutoML_306a6b47-7940-4c6b-afd5-bcf5eedce08e\", \"categories\": [0], \"series\": [{\"data\": [0.977163754271525]}]}, {\"name\": \"f1_score_micro\", \"run_id\": \"AutoML_306a6b47-7940-4c6b-afd5-bcf5eedce08e\", \"categories\": [0], \"series\": [{\"data\": [0.9766038454216638]}]}, {\"name\": \"average_precision_score_macro\", \"run_id\": \"AutoML_306a6b47-7940-4c6b-afd5-bcf5eedce08e\", \"categories\": [0], \"series\": [{\"data\": [0.9946068256418524]}]}, {\"name\": \"matthews_correlation\", \"run_id\": \"AutoML_306a6b47-7940-4c6b-afd5-bcf5eedce08e\", \"categories\": [0], \"series\": [{\"data\": [0.9508567247437453]}]}, {\"name\": \"precision_score_macro\", \"run_id\": \"AutoML_306a6b47-7940-4c6b-afd5-bcf5eedce08e\", \"categories\": [0], \"series\": [{\"data\": [0.9776508143791128]}]}, {\"name\": \"average_precision_score_weighted\", \"run_id\": \"AutoML_306a6b47-7940-4c6b-afd5-bcf5eedce08e\", \"categories\": [0], \"series\": [{\"data\": [0.9947365932279706]}]}, {\"name\": \"accuracy\", \"run_id\": \"AutoML_306a6b47-7940-4c6b-afd5-bcf5eedce08e\", \"categories\": [0], \"series\": [{\"data\": [0.9766038454216638]}]}, {\"name\": \"average_precision_score_micro\", \"run_id\": \"AutoML_306a6b47-7940-4c6b-afd5-bcf5eedce08e\", \"categories\": [0], \"series\": [{\"data\": [0.9951002603938296]}]}, {\"name\": \"f1_score_macro\", \"run_id\": \"AutoML_306a6b47-7940-4c6b-afd5-bcf5eedce08e\", \"categories\": [0], \"series\": [{\"data\": [0.9750841082075062]}]}, {\"name\": \"AUC_micro\", \"run_id\": \"AutoML_306a6b47-7940-4c6b-afd5-bcf5eedce08e\", \"categories\": [0], \"series\": [{\"data\": [0.9951805969911802]}]}, {\"name\": \"recall_score_macro\", \"run_id\": \"AutoML_306a6b47-7940-4c6b-afd5-bcf5eedce08e\", \"categories\": [0], \"series\": [{\"data\": [0.9732233690853043]}]}, {\"name\": \"norm_macro_recall\", \"run_id\": \"AutoML_306a6b47-7940-4c6b-afd5-bcf5eedce08e\", \"categories\": [0], \"series\": [{\"data\": [0.9464467381706086]}]}, {\"name\": \"recall_score_micro\", \"run_id\": \"AutoML_306a6b47-7940-4c6b-afd5-bcf5eedce08e\", \"categories\": [0], \"series\": [{\"data\": [0.9766038454216638]}]}, {\"name\": \"f1_score_weighted\", \"run_id\": \"AutoML_306a6b47-7940-4c6b-afd5-bcf5eedce08e\", \"categories\": [0], \"series\": [{\"data\": [0.9765461600697941]}]}, {\"name\": \"AUC_macro\", \"run_id\": \"AutoML_306a6b47-7940-4c6b-afd5-bcf5eedce08e\", \"categories\": [0], \"series\": [{\"data\": [0.994360114016942]}]}, {\"name\": \"weighted_accuracy\", \"run_id\": \"AutoML_306a6b47-7940-4c6b-afd5-bcf5eedce08e\", \"categories\": [0], \"series\": [{\"data\": [0.9793635870968995]}]}, {\"name\": \"balanced_accuracy\", \"run_id\": \"AutoML_306a6b47-7940-4c6b-afd5-bcf5eedce08e\", \"categories\": [0], \"series\": [{\"data\": [0.9732233690853043]}]}], \"run_logs\": \"\\nRun is completed.\", \"graph\": {}, \"widget_settings\": {\"childWidgetDisplay\": \"popup\", \"send_telemetry\": false, \"log_level\": \"INFO\", \"sdk_version\": \"1.20.0\"}, \"loading\": false}"
     },
     "metadata": {},
     "output_type": "display_data"
    },
    {
     "name": "stdout",
     "output_type": "stream",
     "text": [
      "\n",
      "\n",
      "****************************************************************************************************\n",
      "DATA GUARDRAILS: \n",
      "\n",
      "TYPE:         Class balancing detection\n",
      "STATUS:       PASSED\n",
      "DESCRIPTION:  Your inputs were analyzed, and all classes are balanced in your training data.\n",
      "              Learn more about imbalanced data: https://aka.ms/AutomatedMLImbalancedData\n",
      "\n",
      "****************************************************************************************************\n",
      "\n",
      "TYPE:         Missing feature values imputation\n",
      "STATUS:       PASSED\n",
      "DESCRIPTION:  No feature missing values were detected in the training data.\n",
      "              Learn more about missing value imputation: https://aka.ms/AutomatedMLFeaturization\n",
      "\n",
      "****************************************************************************************************\n",
      "\n",
      "TYPE:         High cardinality feature detection\n",
      "STATUS:       PASSED\n",
      "DESCRIPTION:  Your inputs were analyzed, and no high cardinality features were detected.\n",
      "              Learn more about high cardinality feature handling: https://aka.ms/AutomatedMLFeaturization\n",
      "\n",
      "****************************************************************************************************\n",
      "\n",
      "****************************************************************************************************\n",
      "ITERATION: The iteration being evaluated.\n",
      "PIPELINE: A summary description of the pipeline being evaluated.\n",
      "DURATION: Time taken for the current iteration.\n",
      "METRIC: The result of computing score on the fitted pipeline.\n",
      "BEST: The best observed score thus far.\n",
      "****************************************************************************************************\n",
      "\n",
      " ITERATION   PIPELINE                                       DURATION      METRIC      BEST\n",
      "         0   MaxAbsScaler LightGBM                          0:00:46       0.9609    0.9609\n",
      "         1   MaxAbsScaler XGBoostClassifier                 0:00:40       0.9570    0.9609\n",
      "         2   MinMaxScaler RandomForest                      0:01:22       0.9414    0.9609\n",
      "         3   MinMaxScaler RandomForest                      0:01:30       0.9355    0.9609\n",
      "         4   MinMaxScaler RandomForest                      0:01:19       0.9472    0.9609\n",
      "         5   MinMaxScaler SVM                               0:00:45       0.9630    0.9630\n",
      "         6   MaxAbsScaler GradientBoosting                  0:01:24       0.9550    0.9630\n",
      "         7   StandardScalerWrapper RandomForest             0:00:48       0.9375    0.9630\n",
      "         8   SparseNormalizer LightGBM                      0:00:40       0.9493    0.9630\n",
      "         9   SparseNormalizer XGBoostClassifier             0:00:43       0.9434    0.9630\n",
      "        10   StandardScalerWrapper LightGBM                 0:00:42       0.9590    0.9630\n",
      "        11   SparseNormalizer XGBoostClassifier             0:00:50       0.9551    0.9630\n",
      "        12   RobustScaler ExtremeRandomTrees                0:00:49       0.9434    0.9630\n",
      "        13   SparseNormalizer XGBoostClassifier             0:00:50       0.9356    0.9630\n",
      "        14   SparseNormalizer LightGBM                      0:00:42       0.9375    0.9630\n",
      "        15   MinMaxScaler LightGBM                          0:00:46       0.9609    0.9630\n",
      "        16   StandardScalerWrapper XGBoostClassifier        0:00:42       0.9434    0.9630\n",
      "        17   MinMaxScaler ExtremeRandomTrees                0:00:45       0.9414    0.9630\n",
      "        18   RobustScaler LightGBM                          0:00:43       0.9590    0.9630\n",
      "        19   StandardScalerWrapper ExtremeRandomTrees       0:00:50       0.9434    0.9630\n",
      "        20   RobustScaler KNN                               0:00:43       0.9316    0.9630\n",
      "        21   SparseNormalizer RandomForest                  0:00:45       0.9414    0.9630\n",
      "        22   StandardScalerWrapper LogisticRegression       0:00:41       0.9766    0.9766\n",
      "        23   StandardScalerWrapper XGBoostClassifier        0:00:44       0.9609    0.9766\n",
      "        24   SparseNormalizer XGBoostClassifier             0:00:45       0.9649    0.9766\n",
      "        25   TruncatedSVDWrapper LogisticRegression         0:00:42       0.9004    0.9766\n",
      "        26   SparseNormalizer XGBoostClassifier             0:01:01       0.9414    0.9766\n",
      "        27   StandardScalerWrapper RandomForest             0:00:52       0.9453    0.9766\n",
      "        28    VotingEnsemble                                0:01:20       0.9766    0.9766\n",
      "        29    StackEnsemble                                 0:00:36       0.9629    0.9766\n",
      "ERROR: {\n",
      "    \"additional_properties\": {},\n",
      "    \"error\": {\n",
      "        \"additional_properties\": {\n",
      "            \"debugInfo\": null\n",
      "        },\n",
      "        \"code\": \"UserError\",\n",
      "        \"severity\": null,\n",
      "        \"message\": \"There was an error during inter-pod communication\",\n",
      "        \"message_format\": null,\n",
      "        \"message_parameters\": null,\n",
      "        \"reference_code\": null,\n",
      "        \"details_uri\": null,\n",
      "        \"target\": null,\n",
      "        \"details\": [],\n",
      "        \"inner_error\": null\n",
      "    },\n",
      "    \"correlation\": {\n",
      "        \"operation\": null,\n",
      "        \"request\": \"b6a508d6abe4df40\"\n",
      "    },\n",
      "    \"environment\": \"southcentralus\",\n",
      "    \"location\": \"southcentralus\",\n",
      "    \"time\": {},\n",
      "    \"component_name\": \"execution-worker\"\n",
      "}\n"
     ]
    },
    {
     "data": {
      "text/plain": [
       "{'runId': 'AutoML_306a6b47-7940-4c6b-afd5-bcf5eedce08e',\n",
       " 'target': 'cpucluster',\n",
       " 'status': 'Completed',\n",
       " 'startTimeUtc': '2021-01-26T14:38:00.83882Z',\n",
       " 'endTimeUtc': '2021-01-26T15:20:11.24408Z',\n",
       " 'properties': {'num_iterations': '1000',\n",
       "  'training_type': 'TrainFull',\n",
       "  'acquisition_function': 'EI',\n",
       "  'primary_metric': 'accuracy',\n",
       "  'train_split': '0',\n",
       "  'acquisition_parameter': '0',\n",
       "  'num_cross_validation': '5',\n",
       "  'target': 'cpucluster',\n",
       "  'AMLSettingsJsonString': '{\"path\":null,\"name\":\"capstone-project-automl\",\"subscription_id\":\"9e65f93e-bdd8-437b-b1e8-0647cd6098f7\",\"resource_group\":\"aml-quickstarts-136132\",\"workspace_name\":\"quick-starts-ws-136132\",\"region\":\"southcentralus\",\"compute_target\":\"cpucluster\",\"spark_service\":null,\"azure_service\":\"remote\",\"many_models\":false,\"pipeline_fetch_max_batch_size\":1,\"iterations\":1000,\"primary_metric\":\"accuracy\",\"task_type\":\"classification\",\"data_script\":null,\"validation_size\":0.0,\"n_cross_validations\":5,\"y_min\":null,\"y_max\":null,\"num_classes\":null,\"featurization\":\"auto\",\"_ignore_package_version_incompatibilities\":false,\"is_timeseries\":false,\"max_cores_per_iteration\":1,\"max_concurrent_iterations\":1,\"iteration_timeout_minutes\":null,\"mem_in_mb\":null,\"enforce_time_on_windows\":false,\"experiment_timeout_minutes\":30,\"experiment_exit_score\":null,\"whitelist_models\":null,\"blacklist_algos\":[\"TensorFlowLinearClassifier\",\"TensorFlowDNN\"],\"supported_models\":[\"KNN\",\"LinearSVM\",\"DecisionTree\",\"LogisticRegression\",\"GradientBoosting\",\"TensorFlowDNN\",\"RandomForest\",\"TensorFlowLinearClassifier\",\"MultinomialNaiveBayes\",\"BernoulliNaiveBayes\",\"XGBoostClassifier\",\"LightGBM\",\"AveragedPerceptronClassifier\",\"ExtremeRandomTrees\",\"SVM\",\"SGD\"],\"auto_blacklist\":true,\"blacklist_samples_reached\":false,\"exclude_nan_labels\":true,\"verbosity\":20,\"_debug_log\":\"azureml_automl.log\",\"show_warnings\":false,\"model_explainability\":true,\"service_url\":null,\"sdk_url\":null,\"sdk_packages\":null,\"enable_onnx_compatible_models\":false,\"enable_split_onnx_featurizer_estimator_models\":false,\"vm_type\":\"STANDARD_D2_V2\",\"telemetry_verbosity\":20,\"send_telemetry\":true,\"enable_dnn\":false,\"scenario\":\"SDK-1.13.0\",\"environment_label\":null,\"force_text_dnn\":false,\"enable_feature_sweeping\":true,\"enable_early_stopping\":false,\"early_stopping_n_iters\":10,\"metrics\":null,\"enable_ensembling\":true,\"enable_stack_ensembling\":true,\"ensemble_iterations\":15,\"enable_tf\":false,\"enable_subsampling\":null,\"subsample_seed\":null,\"enable_nimbusml\":false,\"enable_streaming\":false,\"force_streaming\":false,\"track_child_runs\":true,\"allowed_private_models\":[],\"label_column_name\":\"diagnosis\",\"weight_column_name\":null,\"cv_split_column_names\":null,\"enable_local_managed\":false,\"_local_managed_run_id\":null,\"cost_mode\":1,\"lag_length\":0,\"metric_operation\":\"maximize\",\"preprocess\":true}',\n",
       "  'DataPrepJsonString': '{\\\\\"training_data\\\\\": \\\\\"{\\\\\\\\\\\\\"blocks\\\\\\\\\\\\\": [{\\\\\\\\\\\\\"id\\\\\\\\\\\\\": \\\\\\\\\\\\\"8cba299f-f23c-4199-9b28-684537d33036\\\\\\\\\\\\\", \\\\\\\\\\\\\"type\\\\\\\\\\\\\": \\\\\\\\\\\\\"Microsoft.DPrep.GetDatastoreFilesBlock\\\\\\\\\\\\\", \\\\\\\\\\\\\"arguments\\\\\\\\\\\\\": {\\\\\\\\\\\\\"datastores\\\\\\\\\\\\\": [{\\\\\\\\\\\\\"datastoreName\\\\\\\\\\\\\": \\\\\\\\\\\\\"workspaceblobstore\\\\\\\\\\\\\", \\\\\\\\\\\\\"path\\\\\\\\\\\\\": \\\\\\\\\\\\\"data/train-data.csv\\\\\\\\\\\\\", \\\\\\\\\\\\\"resourceGroup\\\\\\\\\\\\\": \\\\\\\\\\\\\"aml-quickstarts-136132\\\\\\\\\\\\\", \\\\\\\\\\\\\"subscription\\\\\\\\\\\\\": \\\\\\\\\\\\\"9e65f93e-bdd8-437b-b1e8-0647cd6098f7\\\\\\\\\\\\\", \\\\\\\\\\\\\"workspaceName\\\\\\\\\\\\\": \\\\\\\\\\\\\"quick-starts-ws-136132\\\\\\\\\\\\\"}]}, \\\\\\\\\\\\\"localData\\\\\\\\\\\\\": {}, \\\\\\\\\\\\\"isEnabled\\\\\\\\\\\\\": true, \\\\\\\\\\\\\"name\\\\\\\\\\\\\": null, \\\\\\\\\\\\\"annotation\\\\\\\\\\\\\": null}, {\\\\\\\\\\\\\"id\\\\\\\\\\\\\": \\\\\\\\\\\\\"79dad8ed-fe0a-4d10-b817-041ef10b5cc7\\\\\\\\\\\\\", \\\\\\\\\\\\\"type\\\\\\\\\\\\\": \\\\\\\\\\\\\"Microsoft.DPrep.ParseDelimitedBlock\\\\\\\\\\\\\", \\\\\\\\\\\\\"arguments\\\\\\\\\\\\\": {\\\\\\\\\\\\\"columnHeadersMode\\\\\\\\\\\\\": 3, \\\\\\\\\\\\\"fileEncoding\\\\\\\\\\\\\": 0, \\\\\\\\\\\\\"handleQuotedLineBreaks\\\\\\\\\\\\\": false, \\\\\\\\\\\\\"preview\\\\\\\\\\\\\": false, \\\\\\\\\\\\\"separator\\\\\\\\\\\\\": \\\\\\\\\\\\\",\\\\\\\\\\\\\", \\\\\\\\\\\\\"skipRows\\\\\\\\\\\\\": 0, \\\\\\\\\\\\\"skipRowsMode\\\\\\\\\\\\\": 0}, \\\\\\\\\\\\\"localData\\\\\\\\\\\\\": {}, \\\\\\\\\\\\\"isEnabled\\\\\\\\\\\\\": true, \\\\\\\\\\\\\"name\\\\\\\\\\\\\": null, \\\\\\\\\\\\\"annotation\\\\\\\\\\\\\": null}, {\\\\\\\\\\\\\"id\\\\\\\\\\\\\": \\\\\\\\\\\\\"ccf0c05b-75a6-48db-a006-7939f1180497\\\\\\\\\\\\\", \\\\\\\\\\\\\"type\\\\\\\\\\\\\": \\\\\\\\\\\\\"Microsoft.DPrep.DropColumnsBlock\\\\\\\\\\\\\", \\\\\\\\\\\\\"arguments\\\\\\\\\\\\\": {\\\\\\\\\\\\\"columns\\\\\\\\\\\\\": {\\\\\\\\\\\\\"type\\\\\\\\\\\\\": 0, \\\\\\\\\\\\\"details\\\\\\\\\\\\\": {\\\\\\\\\\\\\"selectedColumns\\\\\\\\\\\\\": [\\\\\\\\\\\\\"Path\\\\\\\\\\\\\"]}}}, \\\\\\\\\\\\\"localData\\\\\\\\\\\\\": {}, \\\\\\\\\\\\\"isEnabled\\\\\\\\\\\\\": true, \\\\\\\\\\\\\"name\\\\\\\\\\\\\": null, \\\\\\\\\\\\\"annotation\\\\\\\\\\\\\": null}, {\\\\\\\\\\\\\"id\\\\\\\\\\\\\": \\\\\\\\\\\\\"42104931-c6f9-4b0b-9d8d-1ceeff96db49\\\\\\\\\\\\\", \\\\\\\\\\\\\"type\\\\\\\\\\\\\": \\\\\\\\\\\\\"Microsoft.DPrep.SetColumnTypesBlock\\\\\\\\\\\\\", \\\\\\\\\\\\\"arguments\\\\\\\\\\\\\": {\\\\\\\\\\\\\"columnConversion\\\\\\\\\\\\\": [{\\\\\\\\\\\\\"column\\\\\\\\\\\\\": {\\\\\\\\\\\\\"type\\\\\\\\\\\\\": 2, \\\\\\\\\\\\\"details\\\\\\\\\\\\\": {\\\\\\\\\\\\\"selectedColumn\\\\\\\\\\\\\": \\\\\\\\\\\\\"Column1\\\\\\\\\\\\\"}}, \\\\\\\\\\\\\"typeProperty\\\\\\\\\\\\\": 2}, {\\\\\\\\\\\\\"column\\\\\\\\\\\\\": {\\\\\\\\\\\\\"type\\\\\\\\\\\\\": 2, \\\\\\\\\\\\\"details\\\\\\\\\\\\\": {\\\\\\\\\\\\\"selectedColumn\\\\\\\\\\\\\": \\\\\\\\\\\\\"Column1_1\\\\\\\\\\\\\"}}, \\\\\\\\\\\\\"typeProperty\\\\\\\\\\\\\": 2}, {\\\\\\\\\\\\\"column\\\\\\\\\\\\\": {\\\\\\\\\\\\\"type\\\\\\\\\\\\\": 2, \\\\\\\\\\\\\"details\\\\\\\\\\\\\": {\\\\\\\\\\\\\"selectedColumn\\\\\\\\\\\\\": \\\\\\\\\\\\\"radius_mean\\\\\\\\\\\\\"}}, \\\\\\\\\\\\\"typeProperty\\\\\\\\\\\\\": 3}, {\\\\\\\\\\\\\"column\\\\\\\\\\\\\": {\\\\\\\\\\\\\"type\\\\\\\\\\\\\": 2, \\\\\\\\\\\\\"details\\\\\\\\\\\\\": {\\\\\\\\\\\\\"selectedColumn\\\\\\\\\\\\\": \\\\\\\\\\\\\"texture_mean\\\\\\\\\\\\\"}}, \\\\\\\\\\\\\"typeProperty\\\\\\\\\\\\\": 3}, {\\\\\\\\\\\\\"column\\\\\\\\\\\\\": {\\\\\\\\\\\\\"type\\\\\\\\\\\\\": 2, \\\\\\\\\\\\\"details\\\\\\\\\\\\\": {\\\\\\\\\\\\\"selectedColumn\\\\\\\\\\\\\": \\\\\\\\\\\\\"perimeter_mean\\\\\\\\\\\\\"}}, \\\\\\\\\\\\\"typeProperty\\\\\\\\\\\\\": 3}, {\\\\\\\\\\\\\"column\\\\\\\\\\\\\": {\\\\\\\\\\\\\"type\\\\\\\\\\\\\": 2, \\\\\\\\\\\\\"details\\\\\\\\\\\\\": {\\\\\\\\\\\\\"selectedColumn\\\\\\\\\\\\\": \\\\\\\\\\\\\"area_mean\\\\\\\\\\\\\"}}, \\\\\\\\\\\\\"typeProperty\\\\\\\\\\\\\": 3}, {\\\\\\\\\\\\\"column\\\\\\\\\\\\\": {\\\\\\\\\\\\\"type\\\\\\\\\\\\\": 2, \\\\\\\\\\\\\"details\\\\\\\\\\\\\": {\\\\\\\\\\\\\"selectedColumn\\\\\\\\\\\\\": \\\\\\\\\\\\\"smoothness_mean\\\\\\\\\\\\\"}}, \\\\\\\\\\\\\"typeProperty\\\\\\\\\\\\\": 3}, {\\\\\\\\\\\\\"column\\\\\\\\\\\\\": {\\\\\\\\\\\\\"type\\\\\\\\\\\\\": 2, \\\\\\\\\\\\\"details\\\\\\\\\\\\\": {\\\\\\\\\\\\\"selectedColumn\\\\\\\\\\\\\": \\\\\\\\\\\\\"compactness_mean\\\\\\\\\\\\\"}}, \\\\\\\\\\\\\"typeProperty\\\\\\\\\\\\\": 3}, {\\\\\\\\\\\\\"column\\\\\\\\\\\\\": {\\\\\\\\\\\\\"type\\\\\\\\\\\\\": 2, \\\\\\\\\\\\\"details\\\\\\\\\\\\\": {\\\\\\\\\\\\\"selectedColumn\\\\\\\\\\\\\": \\\\\\\\\\\\\"concavity_mean\\\\\\\\\\\\\"}}, \\\\\\\\\\\\\"typeProperty\\\\\\\\\\\\\": 3}, {\\\\\\\\\\\\\"column\\\\\\\\\\\\\": {\\\\\\\\\\\\\"type\\\\\\\\\\\\\": 2, \\\\\\\\\\\\\"details\\\\\\\\\\\\\": {\\\\\\\\\\\\\"selectedColumn\\\\\\\\\\\\\": \\\\\\\\\\\\\"concave points_mean\\\\\\\\\\\\\"}}, \\\\\\\\\\\\\"typeProperty\\\\\\\\\\\\\": 3}, {\\\\\\\\\\\\\"column\\\\\\\\\\\\\": {\\\\\\\\\\\\\"type\\\\\\\\\\\\\": 2, \\\\\\\\\\\\\"details\\\\\\\\\\\\\": {\\\\\\\\\\\\\"selectedColumn\\\\\\\\\\\\\": \\\\\\\\\\\\\"symmetry_mean\\\\\\\\\\\\\"}}, \\\\\\\\\\\\\"typeProperty\\\\\\\\\\\\\": 3}, {\\\\\\\\\\\\\"column\\\\\\\\\\\\\": {\\\\\\\\\\\\\"type\\\\\\\\\\\\\": 2, \\\\\\\\\\\\\"details\\\\\\\\\\\\\": {\\\\\\\\\\\\\"selectedColumn\\\\\\\\\\\\\": \\\\\\\\\\\\\"fractal_dimension_mean\\\\\\\\\\\\\"}}, \\\\\\\\\\\\\"typeProperty\\\\\\\\\\\\\": 3}, {\\\\\\\\\\\\\"column\\\\\\\\\\\\\": {\\\\\\\\\\\\\"type\\\\\\\\\\\\\": 2, \\\\\\\\\\\\\"details\\\\\\\\\\\\\": {\\\\\\\\\\\\\"selectedColumn\\\\\\\\\\\\\": \\\\\\\\\\\\\"radius_se\\\\\\\\\\\\\"}}, \\\\\\\\\\\\\"typeProperty\\\\\\\\\\\\\": 3}, {\\\\\\\\\\\\\"column\\\\\\\\\\\\\": {\\\\\\\\\\\\\"type\\\\\\\\\\\\\": 2, \\\\\\\\\\\\\"details\\\\\\\\\\\\\": {\\\\\\\\\\\\\"selectedColumn\\\\\\\\\\\\\": \\\\\\\\\\\\\"texture_se\\\\\\\\\\\\\"}}, \\\\\\\\\\\\\"typeProperty\\\\\\\\\\\\\": 3}, {\\\\\\\\\\\\\"column\\\\\\\\\\\\\": {\\\\\\\\\\\\\"type\\\\\\\\\\\\\": 2, \\\\\\\\\\\\\"details\\\\\\\\\\\\\": {\\\\\\\\\\\\\"selectedColumn\\\\\\\\\\\\\": \\\\\\\\\\\\\"perimeter_se\\\\\\\\\\\\\"}}, \\\\\\\\\\\\\"typeProperty\\\\\\\\\\\\\": 3}, {\\\\\\\\\\\\\"column\\\\\\\\\\\\\": {\\\\\\\\\\\\\"type\\\\\\\\\\\\\": 2, \\\\\\\\\\\\\"details\\\\\\\\\\\\\": {\\\\\\\\\\\\\"selectedColumn\\\\\\\\\\\\\": \\\\\\\\\\\\\"area_se\\\\\\\\\\\\\"}}, \\\\\\\\\\\\\"typeProperty\\\\\\\\\\\\\": 3}, {\\\\\\\\\\\\\"column\\\\\\\\\\\\\": {\\\\\\\\\\\\\"type\\\\\\\\\\\\\": 2, \\\\\\\\\\\\\"details\\\\\\\\\\\\\": {\\\\\\\\\\\\\"selectedColumn\\\\\\\\\\\\\": \\\\\\\\\\\\\"smoothness_se\\\\\\\\\\\\\"}}, \\\\\\\\\\\\\"typeProperty\\\\\\\\\\\\\": 3}, {\\\\\\\\\\\\\"column\\\\\\\\\\\\\": {\\\\\\\\\\\\\"type\\\\\\\\\\\\\": 2, \\\\\\\\\\\\\"details\\\\\\\\\\\\\": {\\\\\\\\\\\\\"selectedColumn\\\\\\\\\\\\\": \\\\\\\\\\\\\"compactness_se\\\\\\\\\\\\\"}}, \\\\\\\\\\\\\"typeProperty\\\\\\\\\\\\\": 3}, {\\\\\\\\\\\\\"column\\\\\\\\\\\\\": {\\\\\\\\\\\\\"type\\\\\\\\\\\\\": 2, \\\\\\\\\\\\\"details\\\\\\\\\\\\\": {\\\\\\\\\\\\\"selectedColumn\\\\\\\\\\\\\": \\\\\\\\\\\\\"concavity_se\\\\\\\\\\\\\"}}, \\\\\\\\\\\\\"typeProperty\\\\\\\\\\\\\": 3}, {\\\\\\\\\\\\\"column\\\\\\\\\\\\\": {\\\\\\\\\\\\\"type\\\\\\\\\\\\\": 2, \\\\\\\\\\\\\"details\\\\\\\\\\\\\": {\\\\\\\\\\\\\"selectedColumn\\\\\\\\\\\\\": \\\\\\\\\\\\\"concave points_se\\\\\\\\\\\\\"}}, \\\\\\\\\\\\\"typeProperty\\\\\\\\\\\\\": 3}, {\\\\\\\\\\\\\"column\\\\\\\\\\\\\": {\\\\\\\\\\\\\"type\\\\\\\\\\\\\": 2, \\\\\\\\\\\\\"details\\\\\\\\\\\\\": {\\\\\\\\\\\\\"selectedColumn\\\\\\\\\\\\\": \\\\\\\\\\\\\"symmetry_se\\\\\\\\\\\\\"}}, \\\\\\\\\\\\\"typeProperty\\\\\\\\\\\\\": 3}, {\\\\\\\\\\\\\"column\\\\\\\\\\\\\": {\\\\\\\\\\\\\"type\\\\\\\\\\\\\": 2, \\\\\\\\\\\\\"details\\\\\\\\\\\\\": {\\\\\\\\\\\\\"selectedColumn\\\\\\\\\\\\\": \\\\\\\\\\\\\"fractal_dimension_se\\\\\\\\\\\\\"}}, \\\\\\\\\\\\\"typeProperty\\\\\\\\\\\\\": 3}, {\\\\\\\\\\\\\"column\\\\\\\\\\\\\": {\\\\\\\\\\\\\"type\\\\\\\\\\\\\": 2, \\\\\\\\\\\\\"details\\\\\\\\\\\\\": {\\\\\\\\\\\\\"selectedColumn\\\\\\\\\\\\\": \\\\\\\\\\\\\"radius_worst\\\\\\\\\\\\\"}}, \\\\\\\\\\\\\"typeProperty\\\\\\\\\\\\\": 3}, {\\\\\\\\\\\\\"column\\\\\\\\\\\\\": {\\\\\\\\\\\\\"type\\\\\\\\\\\\\": 2, \\\\\\\\\\\\\"details\\\\\\\\\\\\\": {\\\\\\\\\\\\\"selectedColumn\\\\\\\\\\\\\": \\\\\\\\\\\\\"texture_worst\\\\\\\\\\\\\"}}, \\\\\\\\\\\\\"typeProperty\\\\\\\\\\\\\": 3}, {\\\\\\\\\\\\\"column\\\\\\\\\\\\\": {\\\\\\\\\\\\\"type\\\\\\\\\\\\\": 2, \\\\\\\\\\\\\"details\\\\\\\\\\\\\": {\\\\\\\\\\\\\"selectedColumn\\\\\\\\\\\\\": \\\\\\\\\\\\\"perimeter_worst\\\\\\\\\\\\\"}}, \\\\\\\\\\\\\"typeProperty\\\\\\\\\\\\\": 3}, {\\\\\\\\\\\\\"column\\\\\\\\\\\\\": {\\\\\\\\\\\\\"type\\\\\\\\\\\\\": 2, \\\\\\\\\\\\\"details\\\\\\\\\\\\\": {\\\\\\\\\\\\\"selectedColumn\\\\\\\\\\\\\": \\\\\\\\\\\\\"area_worst\\\\\\\\\\\\\"}}, \\\\\\\\\\\\\"typeProperty\\\\\\\\\\\\\": 3}, {\\\\\\\\\\\\\"column\\\\\\\\\\\\\": {\\\\\\\\\\\\\"type\\\\\\\\\\\\\": 2, \\\\\\\\\\\\\"details\\\\\\\\\\\\\": {\\\\\\\\\\\\\"selectedColumn\\\\\\\\\\\\\": \\\\\\\\\\\\\"smoothness_worst\\\\\\\\\\\\\"}}, \\\\\\\\\\\\\"typeProperty\\\\\\\\\\\\\": 3}, {\\\\\\\\\\\\\"column\\\\\\\\\\\\\": {\\\\\\\\\\\\\"type\\\\\\\\\\\\\": 2, \\\\\\\\\\\\\"details\\\\\\\\\\\\\": {\\\\\\\\\\\\\"selectedColumn\\\\\\\\\\\\\": \\\\\\\\\\\\\"compactness_worst\\\\\\\\\\\\\"}}, \\\\\\\\\\\\\"typeProperty\\\\\\\\\\\\\": 3}, {\\\\\\\\\\\\\"column\\\\\\\\\\\\\": {\\\\\\\\\\\\\"type\\\\\\\\\\\\\": 2, \\\\\\\\\\\\\"details\\\\\\\\\\\\\": {\\\\\\\\\\\\\"selectedColumn\\\\\\\\\\\\\": \\\\\\\\\\\\\"concavity_worst\\\\\\\\\\\\\"}}, \\\\\\\\\\\\\"typeProperty\\\\\\\\\\\\\": 3}, {\\\\\\\\\\\\\"column\\\\\\\\\\\\\": {\\\\\\\\\\\\\"type\\\\\\\\\\\\\": 2, \\\\\\\\\\\\\"details\\\\\\\\\\\\\": {\\\\\\\\\\\\\"selectedColumn\\\\\\\\\\\\\": \\\\\\\\\\\\\"concave points_worst\\\\\\\\\\\\\"}}, \\\\\\\\\\\\\"typeProperty\\\\\\\\\\\\\": 3}, {\\\\\\\\\\\\\"column\\\\\\\\\\\\\": {\\\\\\\\\\\\\"type\\\\\\\\\\\\\": 2, \\\\\\\\\\\\\"details\\\\\\\\\\\\\": {\\\\\\\\\\\\\"selectedColumn\\\\\\\\\\\\\": \\\\\\\\\\\\\"symmetry_worst\\\\\\\\\\\\\"}}, \\\\\\\\\\\\\"typeProperty\\\\\\\\\\\\\": 3}, {\\\\\\\\\\\\\"column\\\\\\\\\\\\\": {\\\\\\\\\\\\\"type\\\\\\\\\\\\\": 2, \\\\\\\\\\\\\"details\\\\\\\\\\\\\": {\\\\\\\\\\\\\"selectedColumn\\\\\\\\\\\\\": \\\\\\\\\\\\\"fractal_dimension_worst\\\\\\\\\\\\\"}}, \\\\\\\\\\\\\"typeProperty\\\\\\\\\\\\\": 3}, {\\\\\\\\\\\\\"column\\\\\\\\\\\\\": {\\\\\\\\\\\\\"type\\\\\\\\\\\\\": 2, \\\\\\\\\\\\\"details\\\\\\\\\\\\\": {\\\\\\\\\\\\\"selectedColumn\\\\\\\\\\\\\": \\\\\\\\\\\\\"diagnosis\\\\\\\\\\\\\"}}, \\\\\\\\\\\\\"typeProperty\\\\\\\\\\\\\": 2}]}, \\\\\\\\\\\\\"localData\\\\\\\\\\\\\": {}, \\\\\\\\\\\\\"isEnabled\\\\\\\\\\\\\": true, \\\\\\\\\\\\\"name\\\\\\\\\\\\\": null, \\\\\\\\\\\\\"annotation\\\\\\\\\\\\\": null}], \\\\\\\\\\\\\"inspectors\\\\\\\\\\\\\": [], \\\\\\\\\\\\\"meta\\\\\\\\\\\\\": {\\\\\\\\\\\\\"savedDatasetId\\\\\\\\\\\\\": \\\\\\\\\\\\\"baecebd1-a2c9-4614-9346-949f95fdc704\\\\\\\\\\\\\", \\\\\\\\\\\\\"datasetType\\\\\\\\\\\\\": \\\\\\\\\\\\\"tabular\\\\\\\\\\\\\", \\\\\\\\\\\\\"subscriptionId\\\\\\\\\\\\\": \\\\\\\\\\\\\"9e65f93e-bdd8-437b-b1e8-0647cd6098f7\\\\\\\\\\\\\", \\\\\\\\\\\\\"workspaceId\\\\\\\\\\\\\": \\\\\\\\\\\\\"7deddde9-bb9d-4521-a868-96a81920add3\\\\\\\\\\\\\", \\\\\\\\\\\\\"workspaceLocation\\\\\\\\\\\\\": \\\\\\\\\\\\\"southcentralus\\\\\\\\\\\\\"}}\\\\\", \\\\\"activities\\\\\": 0}',\n",
       "  'EnableSubsampling': None,\n",
       "  'runTemplate': 'AutoML',\n",
       "  'azureml.runsource': 'automl',\n",
       "  'display_task_type': 'classification',\n",
       "  'dependencies_versions': '{\"azureml-widgets\": \"1.20.0\", \"azureml-train\": \"1.20.0\", \"azureml-train-restclients-hyperdrive\": \"1.20.0\", \"azureml-train-core\": \"1.20.0\", \"azureml-train-automl\": \"1.20.0\", \"azureml-train-automl-runtime\": \"1.20.0\", \"azureml-train-automl-client\": \"1.20.0\", \"azureml-tensorboard\": \"1.20.0\", \"azureml-telemetry\": \"1.20.0\", \"azureml-sdk\": \"1.20.0\", \"azureml-samples\": \"0+unknown\", \"azureml-pipeline\": \"1.20.0\", \"azureml-pipeline-steps\": \"1.20.0\", \"azureml-pipeline-core\": \"1.20.0\", \"azureml-opendatasets\": \"1.20.0\", \"azureml-model-management-sdk\": \"1.0.1b6.post1\", \"azureml-mlflow\": \"1.20.0.post1\", \"azureml-interpret\": \"1.20.0\", \"azureml-explain-model\": \"1.20.0\", \"azureml-defaults\": \"1.20.0\", \"azureml-dataset-runtime\": \"1.20.0\", \"azureml-dataprep\": \"2.7.3\", \"azureml-dataprep-rslex\": \"1.5.0\", \"azureml-dataprep-native\": \"27.0.0\", \"azureml-datadrift\": \"1.20.0\", \"azureml-core\": \"1.20.0\", \"azureml-contrib-services\": \"1.20.0\", \"azureml-contrib-server\": \"1.20.0\", \"azureml-contrib-reinforcementlearning\": \"1.20.0\", \"azureml-contrib-pipeline-steps\": \"1.20.0\", \"azureml-contrib-notebook\": \"1.20.0\", \"azureml-contrib-interpret\": \"1.20.0\", \"azureml-contrib-gbdt\": \"1.20.0\", \"azureml-contrib-fairness\": \"1.20.0\", \"azureml-contrib-dataset\": \"1.20.0\", \"azureml-cli-common\": \"1.20.0\", \"azureml-automl-runtime\": \"1.20.0\", \"azureml-automl-core\": \"1.20.0\", \"azureml-accel-models\": \"1.20.0\"}',\n",
       "  '_aml_system_scenario_identification': 'Remote.Parent',\n",
       "  'ClientType': 'SDK',\n",
       "  'environment_cpu_name': 'AzureML-AutoML',\n",
       "  'environment_cpu_label': 'prod',\n",
       "  'environment_gpu_name': 'AzureML-AutoML-GPU',\n",
       "  'environment_gpu_label': 'prod',\n",
       "  'root_attribution': 'automl',\n",
       "  'attribution': 'AutoML',\n",
       "  'Orchestrator': 'AutoML',\n",
       "  'CancelUri': 'https://southcentralus.experiments.azureml.net/jasmine/v1.0/subscriptions/9e65f93e-bdd8-437b-b1e8-0647cd6098f7/resourceGroups/aml-quickstarts-136132/providers/Microsoft.MachineLearningServices/workspaces/quick-starts-ws-136132/experimentids/b097e271-8d50-41f3-9c9c-d61a9463de7c/cancel/AutoML_306a6b47-7940-4c6b-afd5-bcf5eedce08e',\n",
       "  'ClientSdkVersion': '1.20.0.post1',\n",
       "  'snapshotId': '00000000-0000-0000-0000-000000000000',\n",
       "  'SetupRunId': 'AutoML_306a6b47-7940-4c6b-afd5-bcf5eedce08e_setup',\n",
       "  'SetupRunContainerId': 'dcid.AutoML_306a6b47-7940-4c6b-afd5-bcf5eedce08e_setup',\n",
       "  'FeaturizationRunJsonPath': 'featurizer_container.json',\n",
       "  'FeaturizationRunId': 'AutoML_306a6b47-7940-4c6b-afd5-bcf5eedce08e_featurize',\n",
       "  'ProblemInfoJsonString': '{\"dataset_num_categorical\": 0, \"is_sparse\": false, \"subsampling\": false, \"dataset_classes\": 2, \"dataset_features\": 32, \"dataset_samples\": 512, \"single_frequency_class_detected\": false}',\n",
       "  'ModelExplainRunId': 'AutoML_306a6b47-7940-4c6b-afd5-bcf5eedce08e_ModelExplain'},\n",
       " 'inputDatasets': [{'dataset': {'id': 'baecebd1-a2c9-4614-9346-949f95fdc704'}, 'consumptionDetails': {'type': 'RunInput', 'inputName': 'training_data', 'mechanism': 'Direct'}}],\n",
       " 'outputDatasets': [],\n",
       " 'logFiles': {},\n",
       " 'submittedBy': 'ODL_User 136132'}"
      ]
     },
     "execution_count": 8,
     "metadata": {},
     "output_type": "execute_result"
    }
   ],
   "source": [
    "# Submit your experiment\n",
    "remote_run = experiment.submit(automl_config, show_output=True)\n",
    "RunDetails(remote_run).show()\n",
    "remote_run.wait_for_completion(show_output=True)"
   ]
  },
  {
   "cell_type": "markdown",
   "metadata": {},
   "source": [
    "## Best Model"
   ]
  },
  {
   "cell_type": "code",
   "execution_count": 12,
   "metadata": {
    "gather": {
     "logged": 1611674948289
    },
    "jupyter": {
     "outputs_hidden": false,
     "source_hidden": false
    },
    "nteract": {
     "transient": {
      "deleting": false
     }
    }
   },
   "outputs": [
    {
     "name": "stdout",
     "output_type": "stream",
     "text": [
      "Run(Experiment: capstone-project-automl,\n",
      "Id: AutoML_306a6b47-7940-4c6b-afd5-bcf5eedce08e_22,\n",
      "Type: azureml.scriptrun,\n",
      "Status: Completed)\n"
     ]
    }
   ],
   "source": [
    "best_run, fitted_model = remote_run.get_output()\n",
    "\n",
    "print(best_run)"
   ]
  },
  {
   "cell_type": "code",
   "execution_count": 13,
   "metadata": {
    "gather": {
     "logged": 1611674951216
    },
    "jupyter": {
     "outputs_hidden": false,
     "source_hidden": false
    },
    "nteract": {
     "transient": {
      "deleting": false
     }
    }
   },
   "outputs": [
    {
     "name": "stdout",
     "output_type": "stream",
     "text": [
      "Pipeline(memory=None,\n",
      "         steps=[('datatransformer',\n",
      "                 DataTransformer(enable_dnn=None, enable_feature_sweeping=None,\n",
      "                                 feature_sweeping_config=None,\n",
      "                                 feature_sweeping_timeout=None,\n",
      "                                 featurization_config=None, force_text_dnn=None,\n",
      "                                 is_cross_validation=None,\n",
      "                                 is_onnx_compatible=None, logger=None,\n",
      "                                 observer=None, task=None, working_dir=None)),\n",
      "                ('StandardScalerWrapper',\n",
      "                 <azureml...el_wrappers.StandardScalerWrapper object at 0x7fb25c463080>),\n",
      "                ('LogisticRegression',\n",
      "                 LogisticRegression(C=0.8286427728546842, class_weight=None,\n",
      "                                    dual=False, fit_intercept=True,\n",
      "                                    intercept_scaling=1, l1_ratio=None,\n",
      "                                    max_iter=100, multi_class='multinomial',\n",
      "                                    n_jobs=1, penalty='l1', random_state=None,\n",
      "                                    solver='saga', tol=0.0001, verbose=0,\n",
      "                                    warm_start=False))],\n",
      "         verbose=False)\n"
     ]
    }
   ],
   "source": [
    "print(fitted_model)"
   ]
  },
  {
   "cell_type": "code",
   "execution_count": 14,
   "metadata": {
    "gather": {
     "logged": 1611674958357
    },
    "jupyter": {
     "outputs_hidden": false,
     "source_hidden": false
    },
    "nteract": {
     "transient": {
      "deleting": false
     }
    }
   },
   "outputs": [
    {
     "data": {
      "text/plain": [
       "{'_aml_system_azureml.automlComponent': 'AutoML',\n",
       " '_aml_system_ComputeTargetStatus': '{\"AllocationState\":\"steady\",\"PreparingNodeCount\":0,\"RunningNodeCount\":0,\"CurrentNodeCount\":1}',\n",
       " '_aml_system_automl_is_child_run_end_telemetry_event_logged': 'True'}"
      ]
     },
     "execution_count": 14,
     "metadata": {},
     "output_type": "execute_result"
    }
   ],
   "source": [
    "best_run.get_tags()"
   ]
  },
  {
   "cell_type": "code",
   "execution_count": 15,
   "metadata": {
    "collapsed": true,
    "gather": {
     "logged": 1611674973328
    },
    "jupyter": {
     "outputs_hidden": false,
     "source_hidden": false
    },
    "nteract": {
     "transient": {
      "deleting": false
     }
    }
   },
   "outputs": [
    {
     "data": {
      "text/plain": [
       "0.9766038454216638"
      ]
     },
     "execution_count": 15,
     "metadata": {},
     "output_type": "execute_result"
    }
   ],
   "source": [
    "metrics = best_run.get_metrics()\n",
    "metrics['accuracy']"
   ]
  },
  {
   "cell_type": "code",
   "execution_count": 16,
   "metadata": {
    "gather": {
     "logged": 1611675165650
    },
    "jupyter": {
     "outputs_hidden": false,
     "source_hidden": false
    },
    "nteract": {
     "transient": {
      "deleting": false
     }
    }
   },
   "outputs": [],
   "source": [
    "Save the best model\n",
    "import joblib\n",
    "from azureml.core.model import Model\n",
    "\n",
    "description = \"AutoML model trained on Wisoconsin Breast Cancer dataset\"\n",
    "\n",
    "os.makedirs('outputs', exist_ok=True)\n",
    "joblib.dump(fitted_model, filename=\"outputs/automl-model.pkl\")\n",
    "automl_model = remote_run.register_model(model_name='automl-breast-cancer', description=description)"
   ]
  },
  {
   "cell_type": "markdown",
   "metadata": {},
   "source": [
    "## Model Deployment"
   ]
  },
  {
   "cell_type": "code",
   "execution_count": 17,
   "metadata": {
    "collapsed": true,
    "gather": {
     "logged": 1611675171359
    },
    "jupyter": {
     "outputs_hidden": false,
     "source_hidden": false
    },
    "nteract": {
     "transient": {
      "deleting": false
     }
    }
   },
   "outputs": [],
   "source": [
    "from azureml.core.webservice import AciWebservice\n",
    "\n",
    "aci_config = AciWebservice.deploy_configuration(\n",
    "    cpu_cores=1,\n",
    "    memory_gb=1,\n",
    "    description='Predict tumor as Malignant(1) or Benign(0)',\n",
    "    auth_enabled=True\n",
    ")"
   ]
  },
  {
   "cell_type": "code",
   "execution_count": 19,
   "metadata": {
    "collapsed": true,
    "gather": {
     "logged": 1611675441358
    },
    "jupyter": {
     "outputs_hidden": false,
     "source_hidden": false
    },
    "nteract": {
     "transient": {
      "deleting": false
     }
    }
   },
   "outputs": [
    {
     "name": "stdout",
     "output_type": "stream",
     "text": [
      "Tips: You can try get_logs(): https://aka.ms/debugimage#dockerlog or local deployment: https://aka.ms/debugimage#debug-locally to debug if deployment takes longer than 10 minutes.\n",
      "Running.....................................\n",
      "Succeeded\n",
      "ACI service creation operation finished, operation \"Succeeded\"\n"
     ]
    }
   ],
   "source": [
    "from azureml.core.webservice import Webservice\n",
    "from azureml.core.model import InferenceConfig\n",
    "from azureml.core.environment import Environment\n",
    "from azureml.core import Workspace\n",
    "from azureml.core.model import Model\n",
    "from azureml.automl.core.shared import constants\n",
    "\n",
    "model = Model(ws, 'automl-breast-cancer')\n",
    "\n",
    "\n",
    "myenv = best_run.get_environment()\n",
    "entry_script = 'score.py'\n",
    "best_run.download_file('outputs/scoring_file_v_1_0_0.py', entry_script)\n",
    "best_run.download_file(constants.CONDA_ENV_FILE_PATH, 'myenv.yml')\n",
    "\n",
    "inference_config = InferenceConfig(entry_script=entry_script, environment=myenv)\n",
    "\n",
    "service = Model.deploy(workspace=ws, \n",
    "                       name='automl-breast-cancer', \n",
    "                       models=[model], \n",
    "                       inference_config=inference_config, \n",
    "                       deployment_config=aci_config)\n",
    "\n",
    "service.wait_for_deployment(show_output=True)"
   ]
  },
  {
   "cell_type": "code",
   "execution_count": 20,
   "metadata": {
    "gather": {
     "logged": 1611675661465
    },
    "jupyter": {
     "outputs_hidden": false,
     "source_hidden": false
    },
    "nteract": {
     "transient": {
      "deleting": false
     }
    }
   },
   "outputs": [],
   "source": [
    "service.update(enable_app_insights=True)"
   ]
  },
  {
   "cell_type": "code",
   "execution_count": 21,
   "metadata": {
    "gather": {
     "logged": 1611675665895
    },
    "jupyter": {
     "outputs_hidden": false,
     "source_hidden": false
    },
    "nteract": {
     "transient": {
      "deleting": false
     }
    }
   },
   "outputs": [
    {
     "name": "stdout",
     "output_type": "stream",
     "text": [
      "State Healthy\n",
      "Key wLNKqhKi4Fr2f0vsmMfMxnPoCPMgzrQz\n",
      "Swagger URI http://a6d9f881-3dba-4b47-a901-a13f96fef301.southcentralus.azurecontainer.io/swagger.json\n",
      "Scoring URI http://a6d9f881-3dba-4b47-a901-a13f96fef301.southcentralus.azurecontainer.io/score\n"
     ]
    }
   ],
   "source": [
    "print(\"State \"+ service.state)\n",
    "print(\"Key \" + service.get_keys()[0])\n",
    "print(\"Swagger URI \" + service.swagger_uri)\n",
    "print(\"Scoring URI \" + service.scoring_uri)"
   ]
  },
  {
   "cell_type": "code",
   "execution_count": 22,
   "metadata": {
    "gather": {
     "logged": 1611675956746
    },
    "jupyter": {
     "outputs_hidden": false,
     "source_hidden": false
    },
    "nteract": {
     "transient": {
      "deleting": false
     }
    }
   },
   "outputs": [
    {
     "name": "stdout",
     "output_type": "stream",
     "text": [
      "{\"result\": [0, 1]}\n"
     ]
    }
   ],
   "source": [
    "# Model endpoint is consumed using a script which contains 2 datapoints\n",
    "# Expected result [0, 1]\n",
    "%run endpoint.py"
   ]
  },
  {
   "cell_type": "markdown",
   "metadata": {
    "collapsed": true,
    "gather": {
     "logged": 1598432765711
    },
    "jupyter": {
     "outputs_hidden": false,
     "source_hidden": false
    },
    "nteract": {
     "transient": {
      "deleting": false
     }
    }
   },
   "source": [
    "## Print Logs and Delete Resources"
   ]
  },
  {
   "cell_type": "code",
   "execution_count": 23,
   "metadata": {
    "gather": {
     "logged": 1611675961249
    },
    "jupyter": {
     "outputs_hidden": false,
     "source_hidden": false
    },
    "nteract": {
     "transient": {
      "deleting": false
     }
    },
    "scrolled": true
   },
   "outputs": [
    {
     "name": "stdout",
     "output_type": "stream",
     "text": [
      "2021-01-26T15:41:07,083143717+00:00 - gunicorn/run \n",
      "2021-01-26T15:41:07,082865008+00:00 - rsyslog/run \n",
      "2021-01-26T15:41:07,085280586+00:00 - nginx/run \n",
      "/usr/sbin/nginx: /azureml-envs/azureml_265db83b0c6014ce472c5de2f0b97e04/lib/libcrypto.so.1.0.0: no version information available (required by /usr/sbin/nginx)\n",
      "/usr/sbin/nginx: /azureml-envs/azureml_265db83b0c6014ce472c5de2f0b97e04/lib/libcrypto.so.1.0.0: no version information available (required by /usr/sbin/nginx)\n",
      "/usr/sbin/nginx: /azureml-envs/azureml_265db83b0c6014ce472c5de2f0b97e04/lib/libssl.so.1.0.0: no version information available (required by /usr/sbin/nginx)\n",
      "/usr/sbin/nginx: /azureml-envs/azureml_265db83b0c6014ce472c5de2f0b97e04/lib/libssl.so.1.0.0: no version information available (required by /usr/sbin/nginx)\n",
      "/usr/sbin/nginx: /azureml-envs/azureml_265db83b0c6014ce472c5de2f0b97e04/lib/libssl.so.1.0.0: no version information available (required by /usr/sbin/nginx)\n",
      "2021-01-26T15:41:07,083662834+00:00 - iot-server/run \n",
      "rsyslogd: /azureml-envs/azureml_265db83b0c6014ce472c5de2f0b97e04/lib/libuuid.so.1: no version information available (required by rsyslogd)\n",
      "EdgeHubConnectionString and IOTEDGE_IOTHUBHOSTNAME are not set. Exiting...\n",
      "2021-01-26T15:41:07,226332106+00:00 - iot-server/finish 1 0\n",
      "2021-01-26T15:41:07,227621147+00:00 - Exit code 1 is normal. Not restarting iot-server.\n",
      "Starting gunicorn 19.9.0\n",
      "Listening at: http://127.0.0.1:31311 (14)\n",
      "Using worker: sync\n",
      "worker timeout is set to 300\n",
      "Booting worker with pid: 42\n",
      "SPARK_HOME not set. Skipping PySpark Initialization.\n",
      "Generating new fontManager, this may take some time...\n",
      "Initializing logger\n",
      "2021-01-26 15:41:08,613 | root | INFO | Starting up app insights client\n",
      "2021-01-26 15:41:08,614 | root | INFO | Starting up request id generator\n",
      "2021-01-26 15:41:08,614 | root | INFO | Starting up app insight hooks\n",
      "2021-01-26 15:41:08,614 | root | INFO | Invoking user's init function\n",
      "2021-01-26 15:41:11,090 | azureml.core | WARNING | Failure while loading azureml_run_type_providers. Failed to load entrypoint automl = azureml.train.automl.run:AutoMLRun._from_run_dto with exception cannot import name 'RunType'.\n",
      "Failure while loading azureml_run_type_providers. Failed to load entrypoint automl = azureml.train.automl.run:AutoMLRun._from_run_dto with exception cannot import name 'RunType'.\n",
      "2021-01-26 15:41:11,150 | root | INFO | Users's init has completed successfully\n",
      "2021-01-26 15:41:11,153 | root | INFO | Skipping middleware: dbg_model_info as it's not enabled.\n",
      "2021-01-26 15:41:11,153 | root | INFO | Skipping middleware: dbg_resource_usage as it's not enabled.\n",
      "2021-01-26 15:41:11,155 | root | INFO | Scoring timeout is found from os.environ: 60000 ms\n",
      "2021-01-26 15:41:13,889 | root | INFO | 200\n",
      "127.0.0.1 - - [26/Jan/2021:15:41:13 +0000] \"GET /swagger.json HTTP/1.0\" 200 4550 \"-\" \"Go-http-client/1.1\"\n",
      "2021-01-26 15:41:18,609 | root | INFO | 200\n",
      "127.0.0.1 - - [26/Jan/2021:15:41:18 +0000] \"GET /swagger.json HTTP/1.0\" 200 4550 \"-\" \"Mozilla/5.0 (X11; Ubuntu; Linux x86_64; rv:84.0) Gecko/20100101 Firefox/84.0\"\n",
      "2021-01-26 15:45:38,826 | root | INFO | 200\n",
      "127.0.0.1 - - [26/Jan/2021:15:45:38 +0000] \"GET /swagger.json HTTP/1.0\" 200 4550 \"-\" \"Go-http-client/1.1\"\n",
      "2021-01-26 15:45:39,595 | root | INFO | 200\n",
      "127.0.0.1 - - [26/Jan/2021:15:45:39 +0000] \"GET /swagger.json HTTP/1.0\" 200 4550 \"-\" \"Go-http-client/1.1\"\n",
      "2021-01-26 15:45:55,783 | root | INFO | Validation Request Content-Type\n",
      "2021-01-26 15:45:55,784 | root | INFO | Scoring Timer is set to 60.0 seconds\n",
      "2021-01-26 15:45:55,904 | root | INFO | 200\n",
      "127.0.0.1 - - [26/Jan/2021:15:45:55 +0000] \"POST /score HTTP/1.0\" 200 22 \"-\" \"python-requests/2.25.1\"\n",
      "\n"
     ]
    }
   ],
   "source": [
    "print(service.get_logs())\n"
   ]
  },
  {
   "cell_type": "code",
   "execution_count": 47,
   "metadata": {
    "collapsed": true,
    "gather": {
     "logged": 1611658034741
    },
    "jupyter": {
     "outputs_hidden": false,
     "source_hidden": false
    },
    "nteract": {
     "transient": {
      "deleting": false
     }
    }
   },
   "outputs": [
    {
     "name": "stdout",
     "output_type": "stream",
     "text": [
      "No service with name automl-breast-cancer found to delete.\n",
      "Current provisioning state of AmlCompute is \"Deleting\"\n",
      "\n"
     ]
    }
   ],
   "source": [
    "service.delete()\n",
    "cpu_cluster.delete()"
   ]
  },
  {
   "cell_type": "code",
   "execution_count": null,
   "metadata": {
    "collapsed": true,
    "jupyter": {
     "outputs_hidden": false,
     "source_hidden": false
    },
    "nteract": {
     "transient": {
      "deleting": false
     }
    }
   },
   "outputs": [],
   "source": []
  }
 ],
 "metadata": {
  "kernel_info": {
   "name": "python3"
  },
  "kernelspec": {
   "display_name": "Python 3",
   "language": "python",
   "name": "python3"
  },
  "language_info": {
   "codemirror_mode": {
    "name": "ipython",
    "version": 3
   },
   "file_extension": ".py",
   "mimetype": "text/x-python",
   "name": "python",
   "nbconvert_exporter": "python",
   "pygments_lexer": "ipython3",
   "version": "3.8.5"
  },
  "nteract": {
   "version": "nteract-front-end@1.0.0"
  }
 },
 "nbformat": 4,
 "nbformat_minor": 2
}
