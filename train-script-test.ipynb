{
  "cells": [
    {
      "cell_type": "code",
      "source": [
        "!python train.py --n_estimators=100 --min_samples_split=2 --max_features='auto' --bootstrap=True"
      ],
      "outputs": [
        {
          "output_type": "stream",
          "name": "stdout",
          "text": [
            "Attempted to log scalar metric No of Estimators::\n",
            "100\n",
            "Attempted to log scalar metric Min No of Samples to Split::\n",
            "2\n",
            "Attempted to log scalar metric No of Features Considered::\n",
            "auto\n",
            "Attempted to log scalar metric Bootstrap::\n",
            "True\n",
            "Attempted to log scalar metric Accuracy:\n",
            "0.9649122807017544\n"
          ]
        }
      ],
      "execution_count": 5,
      "metadata": {}
    },
    {
      "cell_type": "code",
      "source": [],
      "outputs": [],
      "execution_count": null,
      "metadata": {
        "collapsed": true,
        "jupyter": {
          "source_hidden": false,
          "outputs_hidden": false
        },
        "nteract": {
          "transient": {
            "deleting": false
          }
        }
      }
    }
  ],
  "metadata": {
    "kernelspec": {
      "name": "python3-azureml",
      "language": "python",
      "display_name": "Python 3.6 - AzureML"
    },
    "language_info": {
      "name": "python",
      "version": "3.6.9",
      "mimetype": "text/x-python",
      "codemirror_mode": {
        "name": "ipython",
        "version": 3
      },
      "pygments_lexer": "ipython3",
      "nbconvert_exporter": "python",
      "file_extension": ".py"
    },
    "kernel_info": {
      "name": "python3-azureml"
    },
    "nteract": {
      "version": "nteract-front-end@1.0.0"
    }
  },
  "nbformat": 4,
  "nbformat_minor": 2
}